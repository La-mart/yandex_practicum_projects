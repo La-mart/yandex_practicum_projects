{
 "cells": [
  {
   "cell_type": "markdown",
   "metadata": {},
   "source": [
    "# Исследование воронки продаж и результата A/A/B теста для приложения доставки продуктов питания\n",
    "\n",
    "\n",
    "\n",
    "**Цель исследования:**  \n",
    "\n",
    "Изучить воронку продаж, определить проблемные шаги воронки с низкой конверсией. Изучить результаты A/A/B теста по изменению дизайна приложения (шрифтов), определить целесообразность данного изменения для всех пользователей.\n",
    "\n",
    "---\n",
    "\n",
    "**План исследования:**\n",
    "\n",
    "1. Обработка и изучение исходных данных\n",
    "2. Изучение воронки событий (частотность событий, конверсия, пошаговая конверсия)\n",
    "3. Проверка статистической значимости различий в конверсиях между группами теста\n",
    "4. Итоговый вывод по результатам A/B теста\n",
    "\n",
    "---"
   ]
  },
  {
   "cell_type": "markdown",
   "metadata": {},
   "source": [
    "## Обработка исходных данных"
   ]
  },
  {
   "cell_type": "code",
   "execution_count": 43,
   "metadata": {},
   "outputs": [],
   "source": [
    "import pandas as pd\n",
    "import matplotlib.pyplot as plt\n",
    "from scipy import stats as st\n",
    "import plotly.express as px\n",
    "import math as mth\n",
    "import numpy as np"
   ]
  },
  {
   "cell_type": "code",
   "execution_count": 44,
   "metadata": {},
   "outputs": [],
   "source": [
    "data = pd.read_csv('/datasets/logs_exp.csv', sep='\\t')"
   ]
  },
  {
   "cell_type": "code",
   "execution_count": 45,
   "metadata": {},
   "outputs": [
    {
     "data": {
      "text/html": [
       "<div>\n",
       "<style scoped>\n",
       "    .dataframe tbody tr th:only-of-type {\n",
       "        vertical-align: middle;\n",
       "    }\n",
       "\n",
       "    .dataframe tbody tr th {\n",
       "        vertical-align: top;\n",
       "    }\n",
       "\n",
       "    .dataframe thead th {\n",
       "        text-align: right;\n",
       "    }\n",
       "</style>\n",
       "<table border=\"1\" class=\"dataframe\">\n",
       "  <thead>\n",
       "    <tr style=\"text-align: right;\">\n",
       "      <th></th>\n",
       "      <th>EventName</th>\n",
       "      <th>DeviceIDHash</th>\n",
       "      <th>EventTimestamp</th>\n",
       "      <th>ExpId</th>\n",
       "    </tr>\n",
       "  </thead>\n",
       "  <tbody>\n",
       "    <tr>\n",
       "      <th>0</th>\n",
       "      <td>MainScreenAppear</td>\n",
       "      <td>4575588528974610257</td>\n",
       "      <td>1564029816</td>\n",
       "      <td>246</td>\n",
       "    </tr>\n",
       "    <tr>\n",
       "      <th>1</th>\n",
       "      <td>MainScreenAppear</td>\n",
       "      <td>7416695313311560658</td>\n",
       "      <td>1564053102</td>\n",
       "      <td>246</td>\n",
       "    </tr>\n",
       "    <tr>\n",
       "      <th>2</th>\n",
       "      <td>PaymentScreenSuccessful</td>\n",
       "      <td>3518123091307005509</td>\n",
       "      <td>1564054127</td>\n",
       "      <td>248</td>\n",
       "    </tr>\n",
       "    <tr>\n",
       "      <th>3</th>\n",
       "      <td>CartScreenAppear</td>\n",
       "      <td>3518123091307005509</td>\n",
       "      <td>1564054127</td>\n",
       "      <td>248</td>\n",
       "    </tr>\n",
       "    <tr>\n",
       "      <th>4</th>\n",
       "      <td>PaymentScreenSuccessful</td>\n",
       "      <td>6217807653094995999</td>\n",
       "      <td>1564055322</td>\n",
       "      <td>248</td>\n",
       "    </tr>\n",
       "  </tbody>\n",
       "</table>\n",
       "</div>"
      ],
      "text/plain": [
       "                 EventName         DeviceIDHash  EventTimestamp  ExpId\n",
       "0         MainScreenAppear  4575588528974610257      1564029816    246\n",
       "1         MainScreenAppear  7416695313311560658      1564053102    246\n",
       "2  PaymentScreenSuccessful  3518123091307005509      1564054127    248\n",
       "3         CartScreenAppear  3518123091307005509      1564054127    248\n",
       "4  PaymentScreenSuccessful  6217807653094995999      1564055322    248"
      ]
     },
     "execution_count": 45,
     "metadata": {},
     "output_type": "execute_result"
    }
   ],
   "source": [
    "data.head()"
   ]
  },
  {
   "cell_type": "markdown",
   "metadata": {},
   "source": [
    "**Описание данных**  \n",
    "Каждая запись в логе — это действие пользователя, или событие.\n",
    "\n",
    "`EventName` — название события;  \n",
    "`DeviceIDHash` — уникальный идентификатор пользователя;  \n",
    "`EventTimestamp` — время события;  \n",
    "`ExpId` — номер эксперимента: 246 и 247 — контрольные группы, а 248 — экспериментальная."
   ]
  },
  {
   "cell_type": "code",
   "execution_count": 46,
   "metadata": {},
   "outputs": [],
   "source": [
    "# форматирование названий столбцов\n",
    "data.columns = ['event_name', 'user_id', 'event_timestamp', 'exp_id']"
   ]
  },
  {
   "cell_type": "code",
   "execution_count": 47,
   "metadata": {
    "scrolled": false
   },
   "outputs": [
    {
     "name": "stdout",
     "output_type": "stream",
     "text": [
      "<class 'pandas.core.frame.DataFrame'>\n",
      "RangeIndex: 244126 entries, 0 to 244125\n",
      "Data columns (total 4 columns):\n",
      " #   Column           Non-Null Count   Dtype \n",
      "---  ------           --------------   ----- \n",
      " 0   event_name       244126 non-null  object\n",
      " 1   user_id          244126 non-null  int64 \n",
      " 2   event_timestamp  244126 non-null  int64 \n",
      " 3   exp_id           244126 non-null  int64 \n",
      "dtypes: int64(3), object(1)\n",
      "memory usage: 7.5+ MB\n"
     ]
    }
   ],
   "source": [
    "# проверка пропусков и типов данных\n",
    "data.info()"
   ]
  },
  {
   "cell_type": "markdown",
   "metadata": {},
   "source": [
    "- Пропуски отстутствуют\n",
    "- Cтолбец event_timestamp следует перевести в тип datetime"
   ]
  },
  {
   "cell_type": "code",
   "execution_count": 48,
   "metadata": {
    "scrolled": true
   },
   "outputs": [
    {
     "data": {
      "text/html": [
       "<div>\n",
       "<style scoped>\n",
       "    .dataframe tbody tr th:only-of-type {\n",
       "        vertical-align: middle;\n",
       "    }\n",
       "\n",
       "    .dataframe tbody tr th {\n",
       "        vertical-align: top;\n",
       "    }\n",
       "\n",
       "    .dataframe thead th {\n",
       "        text-align: right;\n",
       "    }\n",
       "</style>\n",
       "<table border=\"1\" class=\"dataframe\">\n",
       "  <thead>\n",
       "    <tr style=\"text-align: right;\">\n",
       "      <th></th>\n",
       "      <th>event_name</th>\n",
       "      <th>user_id</th>\n",
       "      <th>event_timestamp</th>\n",
       "      <th>exp_id</th>\n",
       "    </tr>\n",
       "  </thead>\n",
       "  <tbody>\n",
       "    <tr>\n",
       "      <th>0</th>\n",
       "      <td>MainScreenAppear</td>\n",
       "      <td>4575588528974610257</td>\n",
       "      <td>2019-07-25 04:43:36</td>\n",
       "      <td>246</td>\n",
       "    </tr>\n",
       "    <tr>\n",
       "      <th>1</th>\n",
       "      <td>MainScreenAppear</td>\n",
       "      <td>7416695313311560658</td>\n",
       "      <td>2019-07-25 11:11:42</td>\n",
       "      <td>246</td>\n",
       "    </tr>\n",
       "  </tbody>\n",
       "</table>\n",
       "</div>"
      ],
      "text/plain": [
       "         event_name              user_id     event_timestamp  exp_id\n",
       "0  MainScreenAppear  4575588528974610257 2019-07-25 04:43:36     246\n",
       "1  MainScreenAppear  7416695313311560658 2019-07-25 11:11:42     246"
      ]
     },
     "execution_count": 48,
     "metadata": {},
     "output_type": "execute_result"
    }
   ],
   "source": [
    "# перевод формата времени unix в datetime\n",
    "data['event_timestamp'] = pd.to_datetime(data['event_timestamp'], unit='s')\n",
    "data.head(2)"
   ]
  },
  {
   "cell_type": "code",
   "execution_count": 49,
   "metadata": {},
   "outputs": [
    {
     "data": {
      "text/html": [
       "<div>\n",
       "<style scoped>\n",
       "    .dataframe tbody tr th:only-of-type {\n",
       "        vertical-align: middle;\n",
       "    }\n",
       "\n",
       "    .dataframe tbody tr th {\n",
       "        vertical-align: top;\n",
       "    }\n",
       "\n",
       "    .dataframe thead th {\n",
       "        text-align: right;\n",
       "    }\n",
       "</style>\n",
       "<table border=\"1\" class=\"dataframe\">\n",
       "  <thead>\n",
       "    <tr style=\"text-align: right;\">\n",
       "      <th></th>\n",
       "      <th>event_name</th>\n",
       "      <th>user_id</th>\n",
       "      <th>event_timestamp</th>\n",
       "      <th>exp_id</th>\n",
       "      <th>event_date</th>\n",
       "    </tr>\n",
       "  </thead>\n",
       "  <tbody>\n",
       "    <tr>\n",
       "      <th>0</th>\n",
       "      <td>MainScreenAppear</td>\n",
       "      <td>4575588528974610257</td>\n",
       "      <td>2019-07-25 04:43:36</td>\n",
       "      <td>246</td>\n",
       "      <td>2019-07-25</td>\n",
       "    </tr>\n",
       "    <tr>\n",
       "      <th>1</th>\n",
       "      <td>MainScreenAppear</td>\n",
       "      <td>7416695313311560658</td>\n",
       "      <td>2019-07-25 11:11:42</td>\n",
       "      <td>246</td>\n",
       "      <td>2019-07-25</td>\n",
       "    </tr>\n",
       "  </tbody>\n",
       "</table>\n",
       "</div>"
      ],
      "text/plain": [
       "         event_name              user_id     event_timestamp  exp_id  \\\n",
       "0  MainScreenAppear  4575588528974610257 2019-07-25 04:43:36     246   \n",
       "1  MainScreenAppear  7416695313311560658 2019-07-25 11:11:42     246   \n",
       "\n",
       "  event_date  \n",
       "0 2019-07-25  \n",
       "1 2019-07-25  "
      ]
     },
     "execution_count": 49,
     "metadata": {},
     "output_type": "execute_result"
    }
   ],
   "source": [
    "# добавление столбца только с датой для последующих операций\n",
    "data['event_date'] = data['event_timestamp'].dt.normalize()\n",
    "data.head(2)"
   ]
  },
  {
   "cell_type": "code",
   "execution_count": 50,
   "metadata": {
    "scrolled": true
   },
   "outputs": [
    {
     "name": "stdout",
     "output_type": "stream",
     "text": [
      "Полных дубликатов: 413 Доля дубликатов: 0.0017\n"
     ]
    }
   ],
   "source": [
    "# проверка на полные дубликаты\n",
    "print('Полных дубликатов:', data.duplicated().sum(), 'Доля дубликатов:', round((data.duplicated().sum()/len(data)), 4))"
   ]
  },
  {
   "cell_type": "code",
   "execution_count": 51,
   "metadata": {},
   "outputs": [],
   "source": [
    "#удаление полных дубликатов\n",
    "data = data.drop_duplicates().reset_index(drop=True)"
   ]
  },
  {
   "cell_type": "code",
   "execution_count": 52,
   "metadata": {
    "scrolled": true
   },
   "outputs": [
    {
     "name": "stdout",
     "output_type": "stream",
     "text": [
      "<class 'pandas.core.frame.DataFrame'>\n",
      "RangeIndex: 243713 entries, 0 to 243712\n",
      "Data columns (total 5 columns):\n",
      " #   Column           Non-Null Count   Dtype         \n",
      "---  ------           --------------   -----         \n",
      " 0   event_name       243713 non-null  object        \n",
      " 1   user_id          243713 non-null  int64         \n",
      " 2   event_timestamp  243713 non-null  datetime64[ns]\n",
      " 3   exp_id           243713 non-null  int64         \n",
      " 4   event_date       243713 non-null  datetime64[ns]\n",
      "dtypes: datetime64[ns](2), int64(2), object(1)\n",
      "memory usage: 9.3+ MB\n"
     ]
    }
   ],
   "source": [
    "data.info()"
   ]
  },
  {
   "cell_type": "markdown",
   "metadata": {},
   "source": [
    "**Результаты обработки данных:**\n",
    "- Cтолбец event_timestamp переведен в тип datetime\n",
    "- Добавлен столбец event_date с датой (без времени) для последующих операций\n",
    "- Удалены полные дубликаты\n",
    "- Пропуски отсутствуют"
   ]
  },
  {
   "cell_type": "markdown",
   "metadata": {},
   "source": [
    "## Изучение исходных данных"
   ]
  },
  {
   "cell_type": "code",
   "execution_count": 53,
   "metadata": {},
   "outputs": [
    {
     "name": "stdout",
     "output_type": "stream",
     "text": [
      "['MainScreenAppear' 'PaymentScreenSuccessful' 'CartScreenAppear'\n",
      " 'OffersScreenAppear' 'Tutorial']\n"
     ]
    }
   ],
   "source": [
    "# виды событий\n",
    "print(data['event_name'].unique())"
   ]
  },
  {
   "cell_type": "markdown",
   "metadata": {},
   "source": [
    "Всего 243 713 событий, имеющие 5 уникальных видов."
   ]
  },
  {
   "cell_type": "code",
   "execution_count": 54,
   "metadata": {
    "scrolled": true
   },
   "outputs": [
    {
     "name": "stdout",
     "output_type": "stream",
     "text": [
      "Уникальных пользователей: 7551\n"
     ]
    }
   ],
   "source": [
    "print('Уникальных пользователей:', data['user_id'].nunique())"
   ]
  },
  {
   "cell_type": "code",
   "execution_count": 55,
   "metadata": {},
   "outputs": [
    {
     "name": "stdout",
     "output_type": "stream",
     "text": [
      "Среднее количество событий на одного пользователя: 32.0\n"
     ]
    }
   ],
   "source": [
    "print('Среднее количество событий на одного пользователя:', round(len(data)/data['user_id'].nunique(),0))"
   ]
  },
  {
   "cell_type": "code",
   "execution_count": 56,
   "metadata": {},
   "outputs": [
    {
     "name": "stdout",
     "output_type": "stream",
     "text": [
      "count    7551.000000\n",
      "mean       32.275593\n",
      "std        65.154219\n",
      "min         1.000000\n",
      "25%         9.000000\n",
      "50%        20.000000\n",
      "75%        37.000000\n",
      "max      2307.000000\n",
      "Name: event_name, dtype: float64\n"
     ]
    }
   ],
   "source": [
    "avg_events_per_user = data.groupby('user_id')['event_name'].count()\n",
    "print(avg_events_per_user.describe())"
   ]
  },
  {
   "cell_type": "code",
   "execution_count": 57,
   "metadata": {
    "scrolled": true
   },
   "outputs": [
    {
     "name": "stdout",
     "output_type": "stream",
     "text": [
      "Среднее количество событий на одного пользователя (90, 95, 99 процентели): [ 64.   89.  200.5]\n"
     ]
    }
   ],
   "source": [
    "print('Среднее количество событий на одного пользователя (90, 95, 99 процентели):', np.percentile(avg_events_per_user,[90,95,99]))"
   ]
  },
  {
   "cell_type": "code",
   "execution_count": 58,
   "metadata": {},
   "outputs": [
    {
     "data": {
      "text/plain": [
       "25"
      ]
     },
     "execution_count": 58,
     "metadata": {},
     "output_type": "execute_result"
    }
   ],
   "source": [
    "# можно принять за аномальных пользователей с более 100 событий\n",
    "# расчитать среднее по очищенной выборке\n",
    "round(avg_events_per_user[avg_events_per_user < 100].mean())"
   ]
  },
  {
   "cell_type": "markdown",
   "metadata": {},
   "source": [
    "**Вывод:** в метрике наблюдаются значительные выбросы, которые искажают понимание среднего количества событий на одного пользователя. Поэтому можно использовать **медиану, которая равна 20 событий на одного пользователя**, либо исключив аномальных пользователей(более 100 событий на человека) расчитать **среднее, которое равно 25 событий на пользователя**."
   ]
  },
  {
   "cell_type": "code",
   "execution_count": 59,
   "metadata": {
    "scrolled": true
   },
   "outputs": [
    {
     "name": "stdout",
     "output_type": "stream",
     "text": [
      "Данные за период: с 2019-07-25 по 2019-08-07\n"
     ]
    }
   ],
   "source": [
    "print('Данные за период: с', data['event_timestamp'].dt.date.min(), 'по', data['event_timestamp'].dt.date.max())"
   ]
  },
  {
   "cell_type": "code",
   "execution_count": 60,
   "metadata": {
    "scrolled": false
   },
   "outputs": [
    {
     "data": {
      "image/png": "[encoded data removed]",
      "text/plain": [
       "<Figure size 1008x360 with 1 Axes>"
      ]
     },
     "metadata": {
      "needs_background": "light"
     },
     "output_type": "display_data"
    }
   ],
   "source": [
    "data['event_timestamp'].hist(figsize=(14,5), xrot=45, bins=500);\n",
    "plt.title('Активность пользователей')\n",
    "plt.ylabel('Количество событий')\n",
    "plt.show()"
   ]
  },
  {
   "cell_type": "markdown",
   "metadata": {},
   "source": [
    "Исходя из гистограммы можно сделать вывод, что в первую неделю в логе практически отсутствуют записанные события.  \n",
    "Только начиная со второй недели идут полноценно собранные данные, однородные по своей природе.  \n",
    "**Поэтому для корректного исследования следует взять данные только с 1 по 7 августа(включительно).**"
   ]
  },
  {
   "cell_type": "code",
   "execution_count": 61,
   "metadata": {},
   "outputs": [],
   "source": [
    "data_aug = data.query('event_date >= \"2019-08-01\"')"
   ]
  },
  {
   "cell_type": "code",
   "execution_count": 62,
   "metadata": {},
   "outputs": [
    {
     "name": "stdout",
     "output_type": "stream",
     "text": [
      "Количество событий за первую неполную неделю: 2826 | Доля от всех данных: 0.012\n",
      "Количество уникальных пользователей за первую неполную неделю: 1451 | Доля от всех данных: 0.192\n"
     ]
    }
   ],
   "source": [
    "# проверка кол-ва отсеченных событий и пользователей\n",
    "data_jul = data.query('event_date < \"2019-08-01\"')\n",
    "print('Количество событий за первую неполную неделю:',len(data_jul), \n",
    "      '| Доля от всех данных:', round(len(data_jul)/len(data),3))\n",
    "\n",
    "print('Количество уникальных пользователей за первую неполную неделю:', data_jul['user_id'].nunique(), \n",
    "      '| Доля от всех данных:', round(data_jul['user_id'].nunique()/data['user_id'].nunique(),3))\n"
   ]
  },
  {
   "cell_type": "code",
   "execution_count": 63,
   "metadata": {},
   "outputs": [
    {
     "name": "stdout",
     "output_type": "stream",
     "text": [
      "Потеряно уникальных пользователей: 17\n"
     ]
    }
   ],
   "source": [
    "# проверка сколько уникальных пользвателей было в отсеченном периоде,\n",
    "# которые потом не появились в актуальном периоде\n",
    "jul_users = list(data_jul['user_id'].unique())\n",
    "aug_users = list(data_aug['user_id'].unique())\n",
    "\n",
    "lost_users_count = 0\n",
    "for x in jul_users:\n",
    "    if x not in aug_users:\n",
    "        lost_users_count +=1\n",
    "print('Потеряно уникальных пользователей:', lost_users_count)"
   ]
  },
  {
   "cell_type": "markdown",
   "metadata": {},
   "source": [
    "Доля отсеченных событий незначительна 1.2%.  \n",
    "Количество уникалных пользователей в отсеченную неделю составило 1451(доля от всех 19.2%), но только 17 из них больше не появились в следующую неделю.  \n",
    "**Из этого следует, что удаление первой неполной недели не исказит данные.**"
   ]
  },
  {
   "cell_type": "code",
   "execution_count": 64,
   "metadata": {
    "scrolled": true
   },
   "outputs": [
    {
     "data": {
      "text/plain": [
       "exp_id\n",
       "246    2484\n",
       "247    2513\n",
       "248    2537\n",
       "Name: user_id, dtype: int64"
      ]
     },
     "execution_count": 64,
     "metadata": {},
     "output_type": "execute_result"
    }
   ],
   "source": [
    "# проверка на распределение пользователей по группам эксперемента\n",
    "data_aug.groupby('exp_id')['user_id'].nunique()"
   ]
  },
  {
   "cell_type": "code",
   "execution_count": 65,
   "metadata": {},
   "outputs": [
    {
     "data": {
      "text/plain": [
       "0"
      ]
     },
     "execution_count": 65,
     "metadata": {},
     "output_type": "execute_result"
    }
   ],
   "source": [
    "# проверка на пересечение пользователей по группам эксперемента\n",
    "(data_aug.groupby('user_id')['exp_id'].nunique() > 1).sum()"
   ]
  },
  {
   "cell_type": "markdown",
   "metadata": {},
   "source": [
    "**Пользователи распредены по эксперементальным группам равномерно, пересечения отсутствуют.**"
   ]
  },
  {
   "cell_type": "code",
   "execution_count": 66,
   "metadata": {
    "scrolled": true
   },
   "outputs": [],
   "source": [
    "# очищенные данные для дальнейшего исследования\n",
    "data = data_aug.reset_index(drop=True)"
   ]
  },
  {
   "cell_type": "markdown",
   "metadata": {},
   "source": [
    "**Вывод:**\n",
    "- Всего в логе 243 713 событий, имеющие 5 уникальных видов.\n",
    "- Уникальных пользователей: 7551. Среднее значение событий на пользователя равно 32, но в данных найдены аномальные пользователи, которые искажают понимание среднего значения метрики, поэтому лучше использовать медиану **(20 событий)**, либо среднее очищенных от аномальных данных **(25 событий)**\n",
    "- Для корректного исследования были взяты данные только с 1 по 7 августа(включительно). Т.к. данные за предыдущие дни были неполными.\n",
    "- Пользователи распредены по эксперементальным группам равномерно, пересечения отсутствуют."
   ]
  },
  {
   "cell_type": "markdown",
   "metadata": {},
   "source": [
    "## Изучение воронки событий"
   ]
  },
  {
   "cell_type": "markdown",
   "metadata": {},
   "source": [
    "### Частотность событий"
   ]
  },
  {
   "cell_type": "code",
   "execution_count": 67,
   "metadata": {},
   "outputs": [
    {
     "data": {
      "text/html": [
       "<div>\n",
       "<style scoped>\n",
       "    .dataframe tbody tr th:only-of-type {\n",
       "        vertical-align: middle;\n",
       "    }\n",
       "\n",
       "    .dataframe tbody tr th {\n",
       "        vertical-align: top;\n",
       "    }\n",
       "\n",
       "    .dataframe thead th {\n",
       "        text-align: right;\n",
       "    }\n",
       "</style>\n",
       "<table border=\"1\" class=\"dataframe\">\n",
       "  <thead>\n",
       "    <tr style=\"text-align: right;\">\n",
       "      <th></th>\n",
       "      <th>frequency</th>\n",
       "      <th>share</th>\n",
       "    </tr>\n",
       "  </thead>\n",
       "  <tbody>\n",
       "    <tr>\n",
       "      <th>MainScreenAppear</th>\n",
       "      <td>117328</td>\n",
       "      <td>0.487</td>\n",
       "    </tr>\n",
       "    <tr>\n",
       "      <th>OffersScreenAppear</th>\n",
       "      <td>46333</td>\n",
       "      <td>0.192</td>\n",
       "    </tr>\n",
       "    <tr>\n",
       "      <th>CartScreenAppear</th>\n",
       "      <td>42303</td>\n",
       "      <td>0.176</td>\n",
       "    </tr>\n",
       "    <tr>\n",
       "      <th>PaymentScreenSuccessful</th>\n",
       "      <td>33918</td>\n",
       "      <td>0.141</td>\n",
       "    </tr>\n",
       "    <tr>\n",
       "      <th>Tutorial</th>\n",
       "      <td>1005</td>\n",
       "      <td>0.004</td>\n",
       "    </tr>\n",
       "  </tbody>\n",
       "</table>\n",
       "</div>"
      ],
      "text/plain": [
       "                         frequency  share\n",
       "MainScreenAppear            117328  0.487\n",
       "OffersScreenAppear           46333  0.192\n",
       "CartScreenAppear             42303  0.176\n",
       "PaymentScreenSuccessful      33918  0.141\n",
       "Tutorial                      1005  0.004"
      ]
     },
     "execution_count": 67,
     "metadata": {},
     "output_type": "execute_result"
    }
   ],
   "source": [
    "# таблица с частоностью событий и их долей \n",
    "absolute = data['event_name'].value_counts()\n",
    "normalized = round(data['event_name'].value_counts(normalize=True),3)\n",
    "events_table = pd.concat([absolute, normalized], axis=1, keys =['frequency', 'share'])\n",
    "events_table"
   ]
  },
  {
   "cell_type": "code",
   "execution_count": 68,
   "metadata": {
    "scrolled": true
   },
   "outputs": [
    {
     "data": {
      "image/png": "[encoded data removed]",
      "text/plain": [
       "<Figure size 432x288 with 1 Axes>"
      ]
     },
     "metadata": {
      "needs_background": "light"
     },
     "output_type": "display_data"
    }
   ],
   "source": [
    "events_table['frequency'].sort_values().plot(kind='barh', title='Частотность событий');"
   ]
  },
  {
   "cell_type": "markdown",
   "metadata": {},
   "source": [
    "**Вывод:**  \n",
    "- Наиболее частотное событие - переход на главную страницу (MainScreenAppear) около 49% от всех событий.\n",
    "- Переход на карточку товара - 19%, переход в корзину - 18%, совершили оплату - 14%. Прослеживается логическая цепочка в поведении пользователей.\n",
    "- Очень мало переходов на страницу обучения. Скорее всего это можно объяснить тем, что обучение в основном проходят один раз, а остальные действия совершают по многу раз."
   ]
  },
  {
   "cell_type": "markdown",
   "metadata": {},
   "source": [
    "### Пользователи - события"
   ]
  },
  {
   "cell_type": "code",
   "execution_count": 69,
   "metadata": {
    "scrolled": true
   },
   "outputs": [
    {
     "data": {
      "text/html": [
       "<div>\n",
       "<style scoped>\n",
       "    .dataframe tbody tr th:only-of-type {\n",
       "        vertical-align: middle;\n",
       "    }\n",
       "\n",
       "    .dataframe tbody tr th {\n",
       "        vertical-align: top;\n",
       "    }\n",
       "\n",
       "    .dataframe thead th {\n",
       "        text-align: right;\n",
       "    }\n",
       "</style>\n",
       "<table border=\"1\" class=\"dataframe\">\n",
       "  <thead>\n",
       "    <tr style=\"text-align: right;\">\n",
       "      <th></th>\n",
       "      <th>event_name</th>\n",
       "      <th>user_id</th>\n",
       "      <th>share</th>\n",
       "    </tr>\n",
       "  </thead>\n",
       "  <tbody>\n",
       "    <tr>\n",
       "      <th>0</th>\n",
       "      <td>MainScreenAppear</td>\n",
       "      <td>7419</td>\n",
       "      <td>0.985</td>\n",
       "    </tr>\n",
       "    <tr>\n",
       "      <th>1</th>\n",
       "      <td>OffersScreenAppear</td>\n",
       "      <td>4593</td>\n",
       "      <td>0.610</td>\n",
       "    </tr>\n",
       "    <tr>\n",
       "      <th>2</th>\n",
       "      <td>CartScreenAppear</td>\n",
       "      <td>3734</td>\n",
       "      <td>0.496</td>\n",
       "    </tr>\n",
       "    <tr>\n",
       "      <th>3</th>\n",
       "      <td>PaymentScreenSuccessful</td>\n",
       "      <td>3539</td>\n",
       "      <td>0.470</td>\n",
       "    </tr>\n",
       "    <tr>\n",
       "      <th>4</th>\n",
       "      <td>Tutorial</td>\n",
       "      <td>840</td>\n",
       "      <td>0.111</td>\n",
       "    </tr>\n",
       "  </tbody>\n",
       "</table>\n",
       "</div>"
      ],
      "text/plain": [
       "                event_name  user_id  share\n",
       "0         MainScreenAppear     7419  0.985\n",
       "1       OffersScreenAppear     4593  0.610\n",
       "2         CartScreenAppear     3734  0.496\n",
       "3  PaymentScreenSuccessful     3539  0.470\n",
       "4                 Tutorial      840  0.111"
      ]
     },
     "execution_count": 69,
     "metadata": {},
     "output_type": "execute_result"
    }
   ],
   "source": [
    "users_events = data.groupby('event_name', as_index=False).agg({'user_id' : 'nunique'})\n",
    "users_events.sort_values(by='user_id', ascending=False, inplace=True)\n",
    "users_events['share'] = round(users_events['user_id'] / data['user_id'].nunique(), 3)\n",
    "users_events.reset_index(drop=True, inplace=True)\n",
    "users_events"
   ]
  },
  {
   "cell_type": "code",
   "execution_count": 70,
   "metadata": {
    "scrolled": false
   },
   "outputs": [
    {
     "data": {
      "application/vnd.plotly.v1+json": {
       "config": {
        "plotlyServerURL": "https://plot.ly"
       },
       "data": [
        {
         "hovertemplate": "user_id=%{x}<br>event_name=%{y}<br>share=%{text}<extra></extra>",
         "legendgroup": "",
         "marker": {
          "color": "#636efa"
         },
         "name": "",
         "orientation": "h",
         "showlegend": false,
         "text": [
          0.985,
          0.61,
          0.496,
          0.47
         ],
         "type": "funnel",
         "x": [
          7419,
          4593,
          3734,
          3539
         ],
         "xaxis": "x",
         "y": [
          "MainScreenAppear",
          "OffersScreenAppear",
          "CartScreenAppear",
          "PaymentScreenSuccessful"
         ],
         "yaxis": "y"
        }
       ],
       "layout": {
        "legend": {
         "tracegroupgap": 0
        },
        "template": {
         "data": {
          "bar": [
           {
            "error_x": {
             "color": "#2a3f5f"
            },
            "error_y": {
             "color": "#2a3f5f"
            },
            "marker": {
             "line": {
              "color": "#E5ECF6",
              "width": 0.5
             },
             "pattern": {
              "fillmode": "overlay",
              "size": 10,
              "solidity": 0.2
             }
            },
            "type": "bar"
           }
          ],
          "barpolar": [
           {
            "marker": {
             "line": {
              "color": "#E5ECF6",
              "width": 0.5
             },
             "pattern": {
              "fillmode": "overlay",
              "size": 10,
              "solidity": 0.2
             }
            },
            "type": "barpolar"
           }
          ],
          "carpet": [
           {
            "aaxis": {
             "endlinecolor": "#2a3f5f",
             "gridcolor": "white",
             "linecolor": "white",
             "minorgridcolor": "white",
             "startlinecolor": "#2a3f5f"
            },
            "baxis": {
             "endlinecolor": "#2a3f5f",
             "gridcolor": "white",
             "linecolor": "white",
             "minorgridcolor": "white",
             "startlinecolor": "#2a3f5f"
            },
            "type": "carpet"
           }
          ],
          "choropleth": [
           {
            "colorbar": {
             "outlinewidth": 0,
             "ticks": ""
            },
            "type": "choropleth"
           }
          ],
          "contour": [
           {
            "colorbar": {
             "outlinewidth": 0,
             "ticks": ""
            },
            "colorscale": [
             [
              0,
              "#0d0887"
             ],
             [
              0.1111111111111111,
              "#46039f"
             ],
             [
              0.2222222222222222,
              "#7201a8"
             ],
             [
              0.3333333333333333,
              "#9c179e"
             ],
             [
              0.4444444444444444,
              "#bd3786"
             ],
             [
              0.5555555555555556,
              "#d8576b"
             ],
             [
              0.6666666666666666,
              "#ed7953"
             ],
             [
              0.7777777777777778,
              "#fb9f3a"
             ],
             [
              0.8888888888888888,
              "#fdca26"
             ],
             [
              1,
              "#f0f921"
             ]
            ],
            "type": "contour"
           }
          ],
          "contourcarpet": [
           {
            "colorbar": {
             "outlinewidth": 0,
             "ticks": ""
            },
            "type": "contourcarpet"
           }
          ],
          "heatmap": [
           {
            "colorbar": {
             "outlinewidth": 0,
             "ticks": ""
            },
            "colorscale": [
             [
              0,
              "#0d0887"
             ],
             [
              0.1111111111111111,
              "#46039f"
             ],
             [
              0.2222222222222222,
              "#7201a8"
             ],
             [
              0.3333333333333333,
              "#9c179e"
             ],
             [
              0.4444444444444444,
              "#bd3786"
             ],
             [
              0.5555555555555556,
              "#d8576b"
             ],
             [
              0.6666666666666666,
              "#ed7953"
             ],
             [
              0.7777777777777778,
              "#fb9f3a"
             ],
             [
              0.8888888888888888,
              "#fdca26"
             ],
             [
              1,
              "#f0f921"
             ]
            ],
            "type": "heatmap"
           }
          ],
          "heatmapgl": [
           {
            "colorbar": {
             "outlinewidth": 0,
             "ticks": ""
            },
            "colorscale": [
             [
              0,
              "#0d0887"
             ],
             [
              0.1111111111111111,
              "#46039f"
             ],
             [
              0.2222222222222222,
              "#7201a8"
             ],
             [
              0.3333333333333333,
              "#9c179e"
             ],
             [
              0.4444444444444444,
              "#bd3786"
             ],
             [
              0.5555555555555556,
              "#d8576b"
             ],
             [
              0.6666666666666666,
              "#ed7953"
             ],
             [
              0.7777777777777778,
              "#fb9f3a"
             ],
             [
              0.8888888888888888,
              "#fdca26"
             ],
             [
              1,
              "#f0f921"
             ]
            ],
            "type": "heatmapgl"
           }
          ],
          "histogram": [
           {
            "marker": {
             "pattern": {
              "fillmode": "overlay",
              "size": 10,
              "solidity": 0.2
             }
            },
            "type": "histogram"
           }
          ],
          "histogram2d": [
           {
            "colorbar": {
             "outlinewidth": 0,
             "ticks": ""
            },
            "colorscale": [
             [
              0,
              "#0d0887"
             ],
             [
              0.1111111111111111,
              "#46039f"
             ],
             [
              0.2222222222222222,
              "#7201a8"
             ],
             [
              0.3333333333333333,
              "#9c179e"
             ],
             [
              0.4444444444444444,
              "#bd3786"
             ],
             [
              0.5555555555555556,
              "#d8576b"
             ],
             [
              0.6666666666666666,
              "#ed7953"
             ],
             [
              0.7777777777777778,
              "#fb9f3a"
             ],
             [
              0.8888888888888888,
              "#fdca26"
             ],
             [
              1,
              "#f0f921"
             ]
            ],
            "type": "histogram2d"
           }
          ],
          "histogram2dcontour": [
           {
            "colorbar": {
             "outlinewidth": 0,
             "ticks": ""
            },
            "colorscale": [
             [
              0,
              "#0d0887"
             ],
             [
              0.1111111111111111,
              "#46039f"
             ],
             [
              0.2222222222222222,
              "#7201a8"
             ],
             [
              0.3333333333333333,
              "#9c179e"
             ],
             [
              0.4444444444444444,
              "#bd3786"
             ],
             [
              0.5555555555555556,
              "#d8576b"
             ],
             [
              0.6666666666666666,
              "#ed7953"
             ],
             [
              0.7777777777777778,
              "#fb9f3a"
             ],
             [
              0.8888888888888888,
              "#fdca26"
             ],
             [
              1,
              "#f0f921"
             ]
            ],
            "type": "histogram2dcontour"
           }
          ],
          "mesh3d": [
           {
            "colorbar": {
             "outlinewidth": 0,
             "ticks": ""
            },
            "type": "mesh3d"
           }
          ],
          "parcoords": [
           {
            "line": {
             "colorbar": {
              "outlinewidth": 0,
              "ticks": ""
             }
            },
            "type": "parcoords"
           }
          ],
          "pie": [
           {
            "automargin": true,
            "type": "pie"
           }
          ],
          "scatter": [
           {
            "marker": {
             "colorbar": {
              "outlinewidth": 0,
              "ticks": ""
             }
            },
            "type": "scatter"
           }
          ],
          "scatter3d": [
           {
            "line": {
             "colorbar": {
              "outlinewidth": 0,
              "ticks": ""
             }
            },
            "marker": {
             "colorbar": {
              "outlinewidth": 0,
              "ticks": ""
             }
            },
            "type": "scatter3d"
           }
          ],
          "scattercarpet": [
           {
            "marker": {
             "colorbar": {
              "outlinewidth": 0,
              "ticks": ""
             }
            },
            "type": "scattercarpet"
           }
          ],
          "scattergeo": [
           {
            "marker": {
             "colorbar": {
              "outlinewidth": 0,
              "ticks": ""
             }
            },
            "type": "scattergeo"
           }
          ],
          "scattergl": [
           {
            "marker": {
             "colorbar": {
              "outlinewidth": 0,
              "ticks": ""
             }
            },
            "type": "scattergl"
           }
          ],
          "scattermapbox": [
           {
            "marker": {
             "colorbar": {
              "outlinewidth": 0,
              "ticks": ""
             }
            },
            "type": "scattermapbox"
           }
          ],
          "scatterpolar": [
           {
            "marker": {
             "colorbar": {
              "outlinewidth": 0,
              "ticks": ""
             }
            },
            "type": "scatterpolar"
           }
          ],
          "scatterpolargl": [
           {
            "marker": {
             "colorbar": {
              "outlinewidth": 0,
              "ticks": ""
             }
            },
            "type": "scatterpolargl"
           }
          ],
          "scatterternary": [
           {
            "marker": {
             "colorbar": {
              "outlinewidth": 0,
              "ticks": ""
             }
            },
            "type": "scatterternary"
           }
          ],
          "surface": [
           {
            "colorbar": {
             "outlinewidth": 0,
             "ticks": ""
            },
            "colorscale": [
             [
              0,
              "#0d0887"
             ],
             [
              0.1111111111111111,
              "#46039f"
             ],
             [
              0.2222222222222222,
              "#7201a8"
             ],
             [
              0.3333333333333333,
              "#9c179e"
             ],
             [
              0.4444444444444444,
              "#bd3786"
             ],
             [
              0.5555555555555556,
              "#d8576b"
             ],
             [
              0.6666666666666666,
              "#ed7953"
             ],
             [
              0.7777777777777778,
              "#fb9f3a"
             ],
             [
              0.8888888888888888,
              "#fdca26"
             ],
             [
              1,
              "#f0f921"
             ]
            ],
            "type": "surface"
           }
          ],
          "table": [
           {
            "cells": {
             "fill": {
              "color": "#EBF0F8"
             },
             "line": {
              "color": "white"
             }
            },
            "header": {
             "fill": {
              "color": "#C8D4E3"
             },
             "line": {
              "color": "white"
             }
            },
            "type": "table"
           }
          ]
         },
         "layout": {
          "annotationdefaults": {
           "arrowcolor": "#2a3f5f",
           "arrowhead": 0,
           "arrowwidth": 1
          },
          "autotypenumbers": "strict",
          "coloraxis": {
           "colorbar": {
            "outlinewidth": 0,
            "ticks": ""
           }
          },
          "colorscale": {
           "diverging": [
            [
             0,
             "#8e0152"
            ],
            [
             0.1,
             "#c51b7d"
            ],
            [
             0.2,
             "#de77ae"
            ],
            [
             0.3,
             "#f1b6da"
            ],
            [
             0.4,
             "#fde0ef"
            ],
            [
             0.5,
             "#f7f7f7"
            ],
            [
             0.6,
             "#e6f5d0"
            ],
            [
             0.7,
             "#b8e186"
            ],
            [
             0.8,
             "#7fbc41"
            ],
            [
             0.9,
             "#4d9221"
            ],
            [
             1,
             "#276419"
            ]
           ],
           "sequential": [
            [
             0,
             "#0d0887"
            ],
            [
             0.1111111111111111,
             "#46039f"
            ],
            [
             0.2222222222222222,
             "#7201a8"
            ],
            [
             0.3333333333333333,
             "#9c179e"
            ],
            [
             0.4444444444444444,
             "#bd3786"
            ],
            [
             0.5555555555555556,
             "#d8576b"
            ],
            [
             0.6666666666666666,
             "#ed7953"
            ],
            [
             0.7777777777777778,
             "#fb9f3a"
            ],
            [
             0.8888888888888888,
             "#fdca26"
            ],
            [
             1,
             "#f0f921"
            ]
           ],
           "sequentialminus": [
            [
             0,
             "#0d0887"
            ],
            [
             0.1111111111111111,
             "#46039f"
            ],
            [
             0.2222222222222222,
             "#7201a8"
            ],
            [
             0.3333333333333333,
             "#9c179e"
            ],
            [
             0.4444444444444444,
             "#bd3786"
            ],
            [
             0.5555555555555556,
             "#d8576b"
            ],
            [
             0.6666666666666666,
             "#ed7953"
            ],
            [
             0.7777777777777778,
             "#fb9f3a"
            ],
            [
             0.8888888888888888,
             "#fdca26"
            ],
            [
             1,
             "#f0f921"
            ]
           ]
          },
          "colorway": [
           "#636efa",
           "#EF553B",
           "#00cc96",
           "#ab63fa",
           "#FFA15A",
           "#19d3f3",
           "#FF6692",
           "#B6E880",
           "#FF97FF",
           "#FECB52"
          ],
          "font": {
           "color": "#2a3f5f"
          },
          "geo": {
           "bgcolor": "white",
           "lakecolor": "white",
           "landcolor": "#E5ECF6",
           "showlakes": true,
           "showland": true,
           "subunitcolor": "white"
          },
          "hoverlabel": {
           "align": "left"
          },
          "hovermode": "closest",
          "mapbox": {
           "style": "light"
          },
          "paper_bgcolor": "white",
          "plot_bgcolor": "#E5ECF6",
          "polar": {
           "angularaxis": {
            "gridcolor": "white",
            "linecolor": "white",
            "ticks": ""
           },
           "bgcolor": "#E5ECF6",
           "radialaxis": {
            "gridcolor": "white",
            "linecolor": "white",
            "ticks": ""
           }
          },
          "scene": {
           "xaxis": {
            "backgroundcolor": "#E5ECF6",
            "gridcolor": "white",
            "gridwidth": 2,
            "linecolor": "white",
            "showbackground": true,
            "ticks": "",
            "zerolinecolor": "white"
           },
           "yaxis": {
            "backgroundcolor": "#E5ECF6",
            "gridcolor": "white",
            "gridwidth": 2,
            "linecolor": "white",
            "showbackground": true,
            "ticks": "",
            "zerolinecolor": "white"
           },
           "zaxis": {
            "backgroundcolor": "#E5ECF6",
            "gridcolor": "white",
            "gridwidth": 2,
            "linecolor": "white",
            "showbackground": true,
            "ticks": "",
            "zerolinecolor": "white"
           }
          },
          "shapedefaults": {
           "line": {
            "color": "#2a3f5f"
           }
          },
          "ternary": {
           "aaxis": {
            "gridcolor": "white",
            "linecolor": "white",
            "ticks": ""
           },
           "baxis": {
            "gridcolor": "white",
            "linecolor": "white",
            "ticks": ""
           },
           "bgcolor": "#E5ECF6",
           "caxis": {
            "gridcolor": "white",
            "linecolor": "white",
            "ticks": ""
           }
          },
          "title": {
           "x": 0.05
          },
          "xaxis": {
           "automargin": true,
           "gridcolor": "white",
           "linecolor": "white",
           "ticks": "",
           "title": {
            "standoff": 15
           },
           "zerolinecolor": "white",
           "zerolinewidth": 2
          },
          "yaxis": {
           "automargin": true,
           "gridcolor": "white",
           "linecolor": "white",
           "ticks": "",
           "title": {
            "standoff": 15
           },
           "zerolinecolor": "white",
           "zerolinewidth": 2
          }
         }
        },
        "title": {
         "text": "Воронка событий приложения доставки продуктов питания"
        },
        "xaxis": {
         "anchor": "y",
         "domain": [
          0,
          1
         ],
         "title": {
          "text": "user_id"
         }
        },
        "yaxis": {
         "anchor": "x",
         "domain": [
          0,
          1
         ],
         "title": {
          "text": "event_name"
         }
        }
       }
      },
      "text/html": [
       "<div>                            <div id=\"d9d76ac1-b457-4882-9de6-b27a052df0c3\" class=\"plotly-graph-div\" style=\"height:525px; width:100%;\"></div>            <script type=\"text/javascript\">                require([\"plotly\"], function(Plotly) {                    window.PLOTLYENV=window.PLOTLYENV || {};                                    if (document.getElementById(\"d9d76ac1-b457-4882-9de6-b27a052df0c3\")) {                    Plotly.newPlot(                        \"d9d76ac1-b457-4882-9de6-b27a052df0c3\",                        [{\"hovertemplate\":\"user_id=%{x}<br>event_name=%{y}<br>share=%{text}<extra></extra>\",\"legendgroup\":\"\",\"marker\":{\"color\":\"#636efa\"},\"name\":\"\",\"orientation\":\"h\",\"showlegend\":false,\"text\":[0.985,0.61,0.496,0.47],\"x\":[7419,4593,3734,3539],\"xaxis\":\"x\",\"y\":[\"MainScreenAppear\",\"OffersScreenAppear\",\"CartScreenAppear\",\"PaymentScreenSuccessful\"],\"yaxis\":\"y\",\"type\":\"funnel\"}],                        {\"template\":{\"data\":{\"bar\":[{\"error_x\":{\"color\":\"#2a3f5f\"},\"error_y\":{\"color\":\"#2a3f5f\"},\"marker\":{\"line\":{\"color\":\"#E5ECF6\",\"width\":0.5},\"pattern\":{\"fillmode\":\"overlay\",\"size\":10,\"solidity\":0.2}},\"type\":\"bar\"}],\"barpolar\":[{\"marker\":{\"line\":{\"color\":\"#E5ECF6\",\"width\":0.5},\"pattern\":{\"fillmode\":\"overlay\",\"size\":10,\"solidity\":0.2}},\"type\":\"barpolar\"}],\"carpet\":[{\"aaxis\":{\"endlinecolor\":\"#2a3f5f\",\"gridcolor\":\"white\",\"linecolor\":\"white\",\"minorgridcolor\":\"white\",\"startlinecolor\":\"#2a3f5f\"},\"baxis\":{\"endlinecolor\":\"#2a3f5f\",\"gridcolor\":\"white\",\"linecolor\":\"white\",\"minorgridcolor\":\"white\",\"startlinecolor\":\"#2a3f5f\"},\"type\":\"carpet\"}],\"choropleth\":[{\"colorbar\":{\"outlinewidth\":0,\"ticks\":\"\"},\"type\":\"choropleth\"}],\"contour\":[{\"colorbar\":{\"outlinewidth\":0,\"ticks\":\"\"},\"colorscale\":[[0.0,\"#0d0887\"],[0.1111111111111111,\"#46039f\"],[0.2222222222222222,\"#7201a8\"],[0.3333333333333333,\"#9c179e\"],[0.4444444444444444,\"#bd3786\"],[0.5555555555555556,\"#d8576b\"],[0.6666666666666666,\"#ed7953\"],[0.7777777777777778,\"#fb9f3a\"],[0.8888888888888888,\"#fdca26\"],[1.0,\"#f0f921\"]],\"type\":\"contour\"}],\"contourcarpet\":[{\"colorbar\":{\"outlinewidth\":0,\"ticks\":\"\"},\"type\":\"contourcarpet\"}],\"heatmap\":[{\"colorbar\":{\"outlinewidth\":0,\"ticks\":\"\"},\"colorscale\":[[0.0,\"#0d0887\"],[0.1111111111111111,\"#46039f\"],[0.2222222222222222,\"#7201a8\"],[0.3333333333333333,\"#9c179e\"],[0.4444444444444444,\"#bd3786\"],[0.5555555555555556,\"#d8576b\"],[0.6666666666666666,\"#ed7953\"],[0.7777777777777778,\"#fb9f3a\"],[0.8888888888888888,\"#fdca26\"],[1.0,\"#f0f921\"]],\"type\":\"heatmap\"}],\"heatmapgl\":[{\"colorbar\":{\"outlinewidth\":0,\"ticks\":\"\"},\"colorscale\":[[0.0,\"#0d0887\"],[0.1111111111111111,\"#46039f\"],[0.2222222222222222,\"#7201a8\"],[0.3333333333333333,\"#9c179e\"],[0.4444444444444444,\"#bd3786\"],[0.5555555555555556,\"#d8576b\"],[0.6666666666666666,\"#ed7953\"],[0.7777777777777778,\"#fb9f3a\"],[0.8888888888888888,\"#fdca26\"],[1.0,\"#f0f921\"]],\"type\":\"heatmapgl\"}],\"histogram\":[{\"marker\":{\"pattern\":{\"fillmode\":\"overlay\",\"size\":10,\"solidity\":0.2}},\"type\":\"histogram\"}],\"histogram2d\":[{\"colorbar\":{\"outlinewidth\":0,\"ticks\":\"\"},\"colorscale\":[[0.0,\"#0d0887\"],[0.1111111111111111,\"#46039f\"],[0.2222222222222222,\"#7201a8\"],[0.3333333333333333,\"#9c179e\"],[0.4444444444444444,\"#bd3786\"],[0.5555555555555556,\"#d8576b\"],[0.6666666666666666,\"#ed7953\"],[0.7777777777777778,\"#fb9f3a\"],[0.8888888888888888,\"#fdca26\"],[1.0,\"#f0f921\"]],\"type\":\"histogram2d\"}],\"histogram2dcontour\":[{\"colorbar\":{\"outlinewidth\":0,\"ticks\":\"\"},\"colorscale\":[[0.0,\"#0d0887\"],[0.1111111111111111,\"#46039f\"],[0.2222222222222222,\"#7201a8\"],[0.3333333333333333,\"#9c179e\"],[0.4444444444444444,\"#bd3786\"],[0.5555555555555556,\"#d8576b\"],[0.6666666666666666,\"#ed7953\"],[0.7777777777777778,\"#fb9f3a\"],[0.8888888888888888,\"#fdca26\"],[1.0,\"#f0f921\"]],\"type\":\"histogram2dcontour\"}],\"mesh3d\":[{\"colorbar\":{\"outlinewidth\":0,\"ticks\":\"\"},\"type\":\"mesh3d\"}],\"parcoords\":[{\"line\":{\"colorbar\":{\"outlinewidth\":0,\"ticks\":\"\"}},\"type\":\"parcoords\"}],\"pie\":[{\"automargin\":true,\"type\":\"pie\"}],\"scatter\":[{\"marker\":{\"colorbar\":{\"outlinewidth\":0,\"ticks\":\"\"}},\"type\":\"scatter\"}],\"scatter3d\":[{\"line\":{\"colorbar\":{\"outlinewidth\":0,\"ticks\":\"\"}},\"marker\":{\"colorbar\":{\"outlinewidth\":0,\"ticks\":\"\"}},\"type\":\"scatter3d\"}],\"scattercarpet\":[{\"marker\":{\"colorbar\":{\"outlinewidth\":0,\"ticks\":\"\"}},\"type\":\"scattercarpet\"}],\"scattergeo\":[{\"marker\":{\"colorbar\":{\"outlinewidth\":0,\"ticks\":\"\"}},\"type\":\"scattergeo\"}],\"scattergl\":[{\"marker\":{\"colorbar\":{\"outlinewidth\":0,\"ticks\":\"\"}},\"type\":\"scattergl\"}],\"scattermapbox\":[{\"marker\":{\"colorbar\":{\"outlinewidth\":0,\"ticks\":\"\"}},\"type\":\"scattermapbox\"}],\"scatterpolar\":[{\"marker\":{\"colorbar\":{\"outlinewidth\":0,\"ticks\":\"\"}},\"type\":\"scatterpolar\"}],\"scatterpolargl\":[{\"marker\":{\"colorbar\":{\"outlinewidth\":0,\"ticks\":\"\"}},\"type\":\"scatterpolargl\"}],\"scatterternary\":[{\"marker\":{\"colorbar\":{\"outlinewidth\":0,\"ticks\":\"\"}},\"type\":\"scatterternary\"}],\"surface\":[{\"colorbar\":{\"outlinewidth\":0,\"ticks\":\"\"},\"colorscale\":[[0.0,\"#0d0887\"],[0.1111111111111111,\"#46039f\"],[0.2222222222222222,\"#7201a8\"],[0.3333333333333333,\"#9c179e\"],[0.4444444444444444,\"#bd3786\"],[0.5555555555555556,\"#d8576b\"],[0.6666666666666666,\"#ed7953\"],[0.7777777777777778,\"#fb9f3a\"],[0.8888888888888888,\"#fdca26\"],[1.0,\"#f0f921\"]],\"type\":\"surface\"}],\"table\":[{\"cells\":{\"fill\":{\"color\":\"#EBF0F8\"},\"line\":{\"color\":\"white\"}},\"header\":{\"fill\":{\"color\":\"#C8D4E3\"},\"line\":{\"color\":\"white\"}},\"type\":\"table\"}]},\"layout\":{\"annotationdefaults\":{\"arrowcolor\":\"#2a3f5f\",\"arrowhead\":0,\"arrowwidth\":1},\"autotypenumbers\":\"strict\",\"coloraxis\":{\"colorbar\":{\"outlinewidth\":0,\"ticks\":\"\"}},\"colorscale\":{\"diverging\":[[0,\"#8e0152\"],[0.1,\"#c51b7d\"],[0.2,\"#de77ae\"],[0.3,\"#f1b6da\"],[0.4,\"#fde0ef\"],[0.5,\"#f7f7f7\"],[0.6,\"#e6f5d0\"],[0.7,\"#b8e186\"],[0.8,\"#7fbc41\"],[0.9,\"#4d9221\"],[1,\"#276419\"]],\"sequential\":[[0.0,\"#0d0887\"],[0.1111111111111111,\"#46039f\"],[0.2222222222222222,\"#7201a8\"],[0.3333333333333333,\"#9c179e\"],[0.4444444444444444,\"#bd3786\"],[0.5555555555555556,\"#d8576b\"],[0.6666666666666666,\"#ed7953\"],[0.7777777777777778,\"#fb9f3a\"],[0.8888888888888888,\"#fdca26\"],[1.0,\"#f0f921\"]],\"sequentialminus\":[[0.0,\"#0d0887\"],[0.1111111111111111,\"#46039f\"],[0.2222222222222222,\"#7201a8\"],[0.3333333333333333,\"#9c179e\"],[0.4444444444444444,\"#bd3786\"],[0.5555555555555556,\"#d8576b\"],[0.6666666666666666,\"#ed7953\"],[0.7777777777777778,\"#fb9f3a\"],[0.8888888888888888,\"#fdca26\"],[1.0,\"#f0f921\"]]},\"colorway\":[\"#636efa\",\"#EF553B\",\"#00cc96\",\"#ab63fa\",\"#FFA15A\",\"#19d3f3\",\"#FF6692\",\"#B6E880\",\"#FF97FF\",\"#FECB52\"],\"font\":{\"color\":\"#2a3f5f\"},\"geo\":{\"bgcolor\":\"white\",\"lakecolor\":\"white\",\"landcolor\":\"#E5ECF6\",\"showlakes\":true,\"showland\":true,\"subunitcolor\":\"white\"},\"hoverlabel\":{\"align\":\"left\"},\"hovermode\":\"closest\",\"mapbox\":{\"style\":\"light\"},\"paper_bgcolor\":\"white\",\"plot_bgcolor\":\"#E5ECF6\",\"polar\":{\"angularaxis\":{\"gridcolor\":\"white\",\"linecolor\":\"white\",\"ticks\":\"\"},\"bgcolor\":\"#E5ECF6\",\"radialaxis\":{\"gridcolor\":\"white\",\"linecolor\":\"white\",\"ticks\":\"\"}},\"scene\":{\"xaxis\":{\"backgroundcolor\":\"#E5ECF6\",\"gridcolor\":\"white\",\"gridwidth\":2,\"linecolor\":\"white\",\"showbackground\":true,\"ticks\":\"\",\"zerolinecolor\":\"white\"},\"yaxis\":{\"backgroundcolor\":\"#E5ECF6\",\"gridcolor\":\"white\",\"gridwidth\":2,\"linecolor\":\"white\",\"showbackground\":true,\"ticks\":\"\",\"zerolinecolor\":\"white\"},\"zaxis\":{\"backgroundcolor\":\"#E5ECF6\",\"gridcolor\":\"white\",\"gridwidth\":2,\"linecolor\":\"white\",\"showbackground\":true,\"ticks\":\"\",\"zerolinecolor\":\"white\"}},\"shapedefaults\":{\"line\":{\"color\":\"#2a3f5f\"}},\"ternary\":{\"aaxis\":{\"gridcolor\":\"white\",\"linecolor\":\"white\",\"ticks\":\"\"},\"baxis\":{\"gridcolor\":\"white\",\"linecolor\":\"white\",\"ticks\":\"\"},\"bgcolor\":\"#E5ECF6\",\"caxis\":{\"gridcolor\":\"white\",\"linecolor\":\"white\",\"ticks\":\"\"}},\"title\":{\"x\":0.05},\"xaxis\":{\"automargin\":true,\"gridcolor\":\"white\",\"linecolor\":\"white\",\"ticks\":\"\",\"title\":{\"standoff\":15},\"zerolinecolor\":\"white\",\"zerolinewidth\":2},\"yaxis\":{\"automargin\":true,\"gridcolor\":\"white\",\"linecolor\":\"white\",\"ticks\":\"\",\"title\":{\"standoff\":15},\"zerolinecolor\":\"white\",\"zerolinewidth\":2}}},\"xaxis\":{\"anchor\":\"y\",\"domain\":[0.0,1.0],\"title\":{\"text\":\"user_id\"}},\"yaxis\":{\"anchor\":\"x\",\"domain\":[0.0,1.0],\"title\":{\"text\":\"event_name\"}},\"legend\":{\"tracegroupgap\":0},\"title\":{\"text\":\"\\u0412\\u043e\\u0440\\u043e\\u043d\\u043a\\u0430 \\u0441\\u043e\\u0431\\u044b\\u0442\\u0438\\u0439 \\u043f\\u0440\\u0438\\u043b\\u043e\\u0436\\u0435\\u043d\\u0438\\u044f \\u0434\\u043e\\u0441\\u0442\\u0430\\u0432\\u043a\\u0438 \\u043f\\u0440\\u043e\\u0434\\u0443\\u043a\\u0442\\u043e\\u0432 \\u043f\\u0438\\u0442\\u0430\\u043d\\u0438\\u044f\"}},                        {\"responsive\": true}                    ).then(function(){\n",
       "                            \n",
       "var gd = document.getElementById('d9d76ac1-b457-4882-9de6-b27a052df0c3');\n",
       "var x = new MutationObserver(function (mutations, observer) {{\n",
       "        var display = window.getComputedStyle(gd).display;\n",
       "        if (!display || display === 'none') {{\n",
       "            console.log([gd, 'removed!']);\n",
       "            Plotly.purge(gd);\n",
       "            observer.disconnect();\n",
       "        }}\n",
       "}});\n",
       "\n",
       "// Listen for the removal of the full notebook cells\n",
       "var notebookContainer = gd.closest('#notebook-container');\n",
       "if (notebookContainer) {{\n",
       "    x.observe(notebookContainer, {childList: true});\n",
       "}}\n",
       "\n",
       "// Listen for the clearing of the current output cell\n",
       "var outputEl = gd.closest('.output');\n",
       "if (outputEl) {{\n",
       "    x.observe(outputEl, {childList: true});\n",
       "}}\n",
       "\n",
       "                        })                };                });            </script>        </div>"
      ]
     },
     "metadata": {},
     "output_type": "display_data"
    }
   ],
   "source": [
    "px.funnel(users_events[:-1], x='user_id' , y='event_name', text = 'share', title= 'Воронка событий приложения доставки продуктов питания')"
   ]
  },
  {
   "cell_type": "markdown",
   "metadata": {},
   "source": [
    "**Вывод:**  \n",
    "Прослеживается логическая последовательность в воронке событий: \n",
    "- 98.5% пользователей переходили на главный экран приложения,\n",
    "- 61.0% пользователей переходили на карточку товара,\n",
    "- 49.6% пользователей переходили в корзину,\n",
    "- 47.0% пользователей совершили оплату.\n",
    "\n",
    "По логике, обучение должно быть первым, что увидит пользователь после загрузки приложения, но есть возможность его пропустить, поэтому около 90% пользователей его пропускают и больше не возвращаются к нему. Т.к. это событие является опциональным и не является обязательным для совершения покупки, то его можно исключить из воронки."
   ]
  },
  {
   "cell_type": "markdown",
   "metadata": {},
   "source": [
    "### Конверсия пользователей по воронке событий"
   ]
  },
  {
   "cell_type": "code",
   "execution_count": 71,
   "metadata": {
    "scrolled": true
   },
   "outputs": [
    {
     "name": "stdout",
     "output_type": "stream",
     "text": [
      "Из MainScreenAppear в OffersScreenAppear 0.62\n",
      "Из OffersScreenAppear в CartScreenAppear 0.81\n",
      "Из CartScreenAppear в PaymentScreenSuccessful 0.95\n"
     ]
    }
   ],
   "source": [
    "# расчет доли пользователей переходящих из одного шага воронки в другой\n",
    "for x in range(3):\n",
    "    print('Из', users_events['event_name'][x], 'в', users_events['event_name'][x+1],\n",
    "          round(users_events['user_id'][x+1] / users_events['user_id'][x],2))"
   ]
  },
  {
   "cell_type": "code",
   "execution_count": 72,
   "metadata": {},
   "outputs": [
    {
     "name": "stdout",
     "output_type": "stream",
     "text": [
      "От главного экрана до оплаты: 0.48\n"
     ]
    }
   ],
   "source": [
    "print('От главного экрана до оплаты:', round(users_events['user_id'][3] / users_events['user_id'][0],2))"
   ]
  },
  {
   "cell_type": "markdown",
   "metadata": {},
   "source": [
    "- Худший показатель конверсии наблюдается в шаге перехода пользователей с главного экрана к карточке товара - 62%.  \n",
    "Предложение: возможно следует улучшить интерфейс и добавить карточки категорий товаров или самих товаров на главный экран, чтобы пользователь сразу мог начать собирать свой заказ.\n",
    "- Наблюдается очень высокая конверсия перехода из корзины в оплату - 95%.\n",
    "- Конверсия от первого шага воронки до шага оплаты - 48%."
   ]
  },
  {
   "cell_type": "markdown",
   "metadata": {},
   "source": [
    "## Изучение результатов А/B теста"
   ]
  },
  {
   "cell_type": "code",
   "execution_count": 73,
   "metadata": {
    "scrolled": true
   },
   "outputs": [
    {
     "data": {
      "text/plain": [
       "exp_id\n",
       "246    2484\n",
       "247    2513\n",
       "248    2537\n",
       "Name: user_id, dtype: int64"
      ]
     },
     "execution_count": 73,
     "metadata": {},
     "output_type": "execute_result"
    }
   ],
   "source": [
    "# проверка на распределение пользователей по группам эксперемента\n",
    "data_aug.groupby('exp_id')['user_id'].nunique()"
   ]
  },
  {
   "cell_type": "code",
   "execution_count": 74,
   "metadata": {},
   "outputs": [],
   "source": [
    "# функция для статистической проверки различий конверсий между группами теста\n",
    "# event_name - шаг воронки, group_A и group_B - группы для сравнения\n",
    "\n",
    "def stat_test(event_name, group_A, group_B, alpha):\n",
    "    data_A = data.query('event_name == @event_name and exp_id == @group_A')\n",
    "    data_B = data.query('event_name == @event_name and exp_id == @group_B')\n",
    "    \n",
    "    p1 = data_A['user_id'].nunique() / data[data['exp_id'] == group_A]['user_id'].nunique()\n",
    "    p2 = data_B['user_id'].nunique() / data[data['exp_id'] == group_B]['user_id'].nunique()\n",
    "    \n",
    "    p_combined = ((data_A['user_id'].nunique() + data_B['user_id'].nunique()) \n",
    "                  / (data[data['exp_id'] == group_A]['user_id'].nunique() \n",
    "                    + data[data['exp_id'] == group_B]['user_id'].nunique()))\n",
    "    difference = p1 - p2\n",
    "\n",
    "    # считаем статистику в ст.отклонениях стандартного нормального распределения\n",
    "    z_value = (difference / mth.sqrt(p_combined * (1 - p_combined) * (1/data[data['exp_id'] == group_A]['user_id'].nunique()\n",
    "            + 1/data[data['exp_id'] == group_B]['user_id'].nunique())))\n",
    "    distr = st.norm(0, 1)  \n",
    "\n",
    "\n",
    "    p_value = (1 - distr.cdf(abs(z_value))) * 2\n",
    "\n",
    "    print('p-значение: ', round(p_value,4))\n",
    "    print('относительная разница (B-A):', round((p2-p1),3))\n",
    "\n",
    "    if p_value < alpha:\n",
    "        print('Отвергаем нулевую гипотезу: между конверсиями есть значимая разница')\n",
    "    else:\n",
    "        print(\n",
    "            'Не получилось отвергнуть нулевую гипотезу, нет оснований считать конверсии разными'\n",
    "        )"
   ]
  },
  {
   "cell_type": "markdown",
   "metadata": {},
   "source": [
    "Примем по умолчанию для всех последующих тестов следующую постановку гипотез: \n",
    "\n",
    "**Нулевая гипотеза:** конверсии перехода на различные шаги воронки между группами теста не имеют различий  \n",
    "**Алтернативная гипотеза:** конверсии перехода на различные шаги воронки между группами теста имеют различия  \n",
    "**Уровень статистической значимости:** 0.05 / 0.10"
   ]
  },
  {
   "cell_type": "markdown",
   "metadata": {},
   "source": [
    "### Результаты стат.теста при alpha = 0.05 для двух контрольных групп 246 и 247 (A/A тест):"
   ]
  },
  {
   "cell_type": "code",
   "execution_count": 75,
   "metadata": {},
   "outputs": [
    {
     "name": "stdout",
     "output_type": "stream",
     "text": [
      "p-значение:  0.7571\n",
      "относительная разница (B-A): -0.001\n",
      "Не получилось отвергнуть нулевую гипотезу, нет оснований считать конверсии разными\n"
     ]
    }
   ],
   "source": [
    "stat_test('MainScreenAppear', 246, 247, 0.05)"
   ]
  },
  {
   "cell_type": "code",
   "execution_count": 76,
   "metadata": {
    "scrolled": true
   },
   "outputs": [
    {
     "name": "stdout",
     "output_type": "stream",
     "text": [
      "p-значение:  0.2481\n",
      "относительная разница (B-A): -0.016\n",
      "Не получилось отвергнуть нулевую гипотезу, нет оснований считать конверсии разными\n"
     ]
    }
   ],
   "source": [
    "stat_test('OffersScreenAppear', 246, 247, 0.05)"
   ]
  },
  {
   "cell_type": "code",
   "execution_count": 77,
   "metadata": {},
   "outputs": [
    {
     "name": "stdout",
     "output_type": "stream",
     "text": [
      "p-значение:  0.2288\n",
      "относительная разница (B-A): -0.017\n",
      "Не получилось отвергнуть нулевую гипотезу, нет оснований считать конверсии разными\n"
     ]
    }
   ],
   "source": [
    "stat_test('CartScreenAppear', 246, 247, 0.05)"
   ]
  },
  {
   "cell_type": "code",
   "execution_count": 78,
   "metadata": {},
   "outputs": [
    {
     "name": "stdout",
     "output_type": "stream",
     "text": [
      "p-значение:  0.1146\n",
      "относительная разница (B-A): -0.022\n",
      "Не получилось отвергнуть нулевую гипотезу, нет оснований считать конверсии разными\n"
     ]
    }
   ],
   "source": [
    "stat_test('PaymentScreenSuccessful', 246, 247, 0.05)"
   ]
  },
  {
   "cell_type": "code",
   "execution_count": 79,
   "metadata": {},
   "outputs": [],
   "source": [
    "# функция для автоматизации проведения стат.тестирования\n",
    "def auto_test (group_A, group_B, alpha):\n",
    "    for event in data['event_name'].unique():\n",
    "        print(f'Результаты стат.теста при alpha = {alpha} по конверсии перехода к {event} для групп {group_A} и {group_B}')\n",
    "        stat_test(event, group_A, group_B, alpha)\n",
    "        print('')"
   ]
  },
  {
   "cell_type": "markdown",
   "metadata": {},
   "source": [
    "### Результаты стат.теста для групп 246 и 248 (A/B тест):"
   ]
  },
  {
   "cell_type": "code",
   "execution_count": 80,
   "metadata": {
    "scrolled": false
   },
   "outputs": [
    {
     "name": "stdout",
     "output_type": "stream",
     "text": [
      "Результаты стат.теста при alpha = 0.05 по конверсии перехода к Tutorial для групп 246 и 248\n",
      "p-значение:  0.8264\n",
      "относительная разница (B-A): -0.002\n",
      "Не получилось отвергнуть нулевую гипотезу, нет оснований считать конверсии разными\n",
      "\n",
      "Результаты стат.теста при alpha = 0.05 по конверсии перехода к MainScreenAppear для групп 246 и 248\n",
      "p-значение:  0.295\n",
      "относительная разница (B-A): -0.004\n",
      "Не получилось отвергнуть нулевую гипотезу, нет оснований считать конверсии разными\n",
      "\n",
      "Результаты стат.теста при alpha = 0.05 по конверсии перехода к OffersScreenAppear для групп 246 и 248\n",
      "p-значение:  0.2084\n",
      "относительная разница (B-A): -0.017\n",
      "Не получилось отвергнуть нулевую гипотезу, нет оснований считать конверсии разными\n",
      "\n",
      "Результаты стат.теста при alpha = 0.05 по конверсии перехода к CartScreenAppear для групп 246 и 248\n",
      "p-значение:  0.0784\n",
      "относительная разница (B-A): -0.025\n",
      "Не получилось отвергнуть нулевую гипотезу, нет оснований считать конверсии разными\n",
      "\n",
      "Результаты стат.теста при alpha = 0.05 по конверсии перехода к PaymentScreenSuccessful для групп 246 и 248\n",
      "p-значение:  0.2123\n",
      "относительная разница (B-A): -0.018\n",
      "Не получилось отвергнуть нулевую гипотезу, нет оснований считать конверсии разными\n",
      "\n"
     ]
    }
   ],
   "source": [
    "auto_test(246, 248, 0.05)"
   ]
  },
  {
   "cell_type": "markdown",
   "metadata": {},
   "source": [
    "### Результаты стат.теста для групп 247 и 248 (A/B тест):"
   ]
  },
  {
   "cell_type": "code",
   "execution_count": 81,
   "metadata": {},
   "outputs": [
    {
     "name": "stdout",
     "output_type": "stream",
     "text": [
      "Результаты стат.теста при alpha = 0.05 по конверсии перехода к Tutorial для групп 247 и 248\n",
      "p-значение:  0.7653\n",
      "относительная разница (B-A): -0.003\n",
      "Не получилось отвергнуть нулевую гипотезу, нет оснований считать конверсии разными\n",
      "\n",
      "Результаты стат.теста при alpha = 0.05 по конверсии перехода к MainScreenAppear для групп 247 и 248\n",
      "p-значение:  0.4587\n",
      "относительная разница (B-A): -0.003\n",
      "Не получилось отвергнуть нулевую гипотезу, нет оснований считать конверсии разными\n",
      "\n",
      "Результаты стат.теста при alpha = 0.05 по конверсии перехода к OffersScreenAppear для групп 247 и 248\n",
      "p-значение:  0.9198\n",
      "относительная разница (B-A): -0.001\n",
      "Не получилось отвергнуть нулевую гипотезу, нет оснований считать конверсии разными\n",
      "\n",
      "Результаты стат.теста при alpha = 0.05 по конверсии перехода к CartScreenAppear для групп 247 и 248\n",
      "p-значение:  0.5786\n",
      "относительная разница (B-A): -0.008\n",
      "Не получилось отвергнуть нулевую гипотезу, нет оснований считать конверсии разными\n",
      "\n",
      "Результаты стат.теста при alpha = 0.05 по конверсии перехода к PaymentScreenSuccessful для групп 247 и 248\n",
      "p-значение:  0.7373\n",
      "относительная разница (B-A): 0.005\n",
      "Не получилось отвергнуть нулевую гипотезу, нет оснований считать конверсии разными\n",
      "\n"
     ]
    }
   ],
   "source": [
    "auto_test(247, 248, 0.05)"
   ]
  },
  {
   "cell_type": "markdown",
   "metadata": {},
   "source": [
    "### Результаты стат.теста для групп 246 + 247 и 248 (A+A/B тест):"
   ]
  },
  {
   "cell_type": "code",
   "execution_count": 82,
   "metadata": {},
   "outputs": [],
   "source": [
    "# соединим две контрольные группы 246 и 247 в одну для последующего A+A/B стат.теста\n",
    "data.replace({246 :'control_combined', 247 :'control_combined'}, inplace=True)"
   ]
  },
  {
   "cell_type": "code",
   "execution_count": 83,
   "metadata": {},
   "outputs": [
    {
     "name": "stdout",
     "output_type": "stream",
     "text": [
      "Результаты стат.теста при alpha = 0.05 по конверсии перехода к Tutorial для групп control_combined и 248\n",
      "p-значение:  0.7649\n",
      "относительная разница (B-A): -0.002\n",
      "Не получилось отвергнуть нулевую гипотезу, нет оснований считать конверсии разными\n",
      "\n",
      "Результаты стат.теста при alpha = 0.05 по конверсии перехода к MainScreenAppear для групп control_combined и 248\n",
      "p-значение:  0.2942\n",
      "относительная разница (B-A): -0.003\n",
      "Не получилось отвергнуть нулевую гипотезу, нет оснований считать конверсии разными\n",
      "\n",
      "Результаты стат.теста при alpha = 0.05 по конверсии перехода к OffersScreenAppear для групп control_combined и 248\n",
      "p-значение:  0.4343\n",
      "относительная разница (B-A): -0.009\n",
      "Не получилось отвергнуть нулевую гипотезу, нет оснований считать конверсии разными\n",
      "\n",
      "Результаты стат.теста при alpha = 0.05 по конверсии перехода к CartScreenAppear для групп control_combined и 248\n",
      "p-значение:  0.1818\n",
      "относительная разница (B-A): -0.016\n",
      "Не получилось отвергнуть нулевую гипотезу, нет оснований считать конверсии разными\n",
      "\n",
      "Результаты стат.теста при alpha = 0.05 по конверсии перехода к PaymentScreenSuccessful для групп control_combined и 248\n",
      "p-значение:  0.6004\n",
      "относительная разница (B-A): -0.006\n",
      "Не получилось отвергнуть нулевую гипотезу, нет оснований считать конверсии разными\n",
      "\n"
     ]
    }
   ],
   "source": [
    "auto_test('control_combined', 248, 0.05)"
   ]
  },
  {
   "cell_type": "markdown",
   "metadata": {},
   "source": [
    "## Итоговый вывод по резултатам A/B теста:"
   ]
  },
  {
   "cell_type": "markdown",
   "metadata": {},
   "source": [
    "**Количество отвергнутых гипотез о равенстве по 5 видам конверсий*\n",
    "\n",
    "| Тестовые группы  | Alpha 0.05* | Alpha 0.10* |\n",
    "| ------------- | ------------- | ------------- |\n",
    "| 246 / 247  | 0/5  | 0/5  |\n",
    "| 246 / 248   | 0/5   | <span style=\"color:red\"> **1/5** </span>  |\n",
    "| 247 / 248   | 0/5   | 0/5  |\n",
    "| 246+247 / 248   | 0/5   | 0/5  |"
   ]
  },
  {
   "cell_type": "markdown",
   "metadata": {},
   "source": [
    "- Контрольные группы 246 и 247 не имеют стат.значимых различий в конверсиях, что говорит о **корректном делении на группы.** \n",
    "\n",
    "\n",
    "- После проведения 4 стат.тестов (246/247, 246/248, 247/248, 246+247/248) **при уровне стат.значимости 5%** по всем конверсиям к 5 видам событий **не удалось отвергнуть нулевую гипотезу о равенстве конверсий между всеми группами теста.** Относительная разница между конверсиями также показала незначительные различия, диапозон различий от - 0.1 п.п. до - 2.5 п.п.\n",
    "\n",
    "\n",
    "- **При уровне стат.значимости 10%** из 20 проверок гипотез только 1 была отвергнута. Это гипотеза о равенстве конверсий перехода к CartScreenAppear для групп 246 и 248. Между этими двумя группами теста найдена максимальная относительная разница конверсий: конверсия перехода к CartScreenAppear группы B хуже группы А на 2.5 п.п.\n",
    "\n",
    "\n",
    "**Итоговый вывод:**  \n",
    "Остановить A/B тест, признать изменение дизайна приложения нецелесообразным, т.к. улучшение показателей конверсии при тестировании не обнаружилось."
   ]
  }
 ],
 "metadata": {
  "ExecuteTimeLog": [
   {
    "duration": 1183,
    "start_time": "2023-05-05T03:38:11.650Z"
   },
   {
    "duration": 14,
    "start_time": "2023-05-05T03:38:15.998Z"
   },
   {
    "duration": 240,
    "start_time": "2023-05-05T03:38:38.404Z"
   },
   {
    "duration": 6,
    "start_time": "2023-05-05T03:38:38.803Z"
   },
   {
    "duration": 43,
    "start_time": "2023-05-05T03:38:42.478Z"
   },
   {
    "duration": 253,
    "start_time": "2023-05-05T03:39:08.085Z"
   },
   {
    "duration": 5,
    "start_time": "2023-05-05T03:39:09.011Z"
   },
   {
    "duration": 6,
    "start_time": "2023-05-05T03:40:02.497Z"
   },
   {
    "duration": 7,
    "start_time": "2023-05-05T03:40:06.231Z"
   },
   {
    "duration": 6,
    "start_time": "2023-05-05T03:41:24.422Z"
   },
   {
    "duration": 6,
    "start_time": "2023-05-05T03:41:30.364Z"
   },
   {
    "duration": 6,
    "start_time": "2023-05-05T03:41:33.213Z"
   },
   {
    "duration": 6,
    "start_time": "2023-05-05T03:42:29.632Z"
   },
   {
    "duration": 243,
    "start_time": "2023-05-05T03:42:32.271Z"
   },
   {
    "duration": 6,
    "start_time": "2023-05-05T03:42:32.596Z"
   },
   {
    "duration": 6,
    "start_time": "2023-05-05T03:43:27.874Z"
   },
   {
    "duration": 7,
    "start_time": "2023-05-05T03:43:31.239Z"
   },
   {
    "duration": 44,
    "start_time": "2023-05-05T03:43:46.424Z"
   },
   {
    "duration": 66,
    "start_time": "2023-05-05T03:43:57.516Z"
   },
   {
    "duration": 582,
    "start_time": "2023-05-05T03:45:37.169Z"
   },
   {
    "duration": 6,
    "start_time": "2023-05-05T03:45:40.096Z"
   },
   {
    "duration": 240,
    "start_time": "2023-05-05T03:45:44.896Z"
   },
   {
    "duration": 6,
    "start_time": "2023-05-05T03:45:46.286Z"
   },
   {
    "duration": 124,
    "start_time": "2023-05-05T03:45:50.877Z"
   },
   {
    "duration": 6,
    "start_time": "2023-05-05T03:45:52.717Z"
   },
   {
    "duration": 7,
    "start_time": "2023-05-05T03:46:11.224Z"
   },
   {
    "duration": 57,
    "start_time": "2023-05-05T03:46:39.613Z"
   },
   {
    "duration": 27,
    "start_time": "2023-05-05T03:46:45.489Z"
   },
   {
    "duration": 17,
    "start_time": "2023-05-05T03:46:55.427Z"
   },
   {
    "duration": 2,
    "start_time": "2023-05-05T03:49:28.598Z"
   },
   {
    "duration": 2,
    "start_time": "2023-05-05T03:49:48.152Z"
   },
   {
    "duration": 9,
    "start_time": "2023-05-05T03:49:53.261Z"
   },
   {
    "duration": 17,
    "start_time": "2023-05-05T03:50:14.420Z"
   },
   {
    "duration": 18,
    "start_time": "2023-05-05T03:50:35.571Z"
   },
   {
    "duration": 9,
    "start_time": "2023-05-05T03:51:27.425Z"
   },
   {
    "duration": 7,
    "start_time": "2023-05-05T03:51:39.993Z"
   },
   {
    "duration": 8,
    "start_time": "2023-05-05T03:52:15.898Z"
   },
   {
    "duration": 49,
    "start_time": "2023-05-05T03:52:19.923Z"
   },
   {
    "duration": 47,
    "start_time": "2023-05-05T03:52:24.499Z"
   },
   {
    "duration": 51,
    "start_time": "2023-05-05T03:52:39.738Z"
   },
   {
    "duration": 51,
    "start_time": "2023-05-05T03:53:13.288Z"
   },
   {
    "duration": 11,
    "start_time": "2023-05-05T03:53:52.919Z"
   },
   {
    "duration": 51,
    "start_time": "2023-05-05T03:56:01.111Z"
   },
   {
    "duration": 46,
    "start_time": "2023-05-05T03:56:07.188Z"
   },
   {
    "duration": 47,
    "start_time": "2023-05-05T03:56:30.476Z"
   },
   {
    "duration": 98,
    "start_time": "2023-05-05T03:59:04.417Z"
   },
   {
    "duration": 92,
    "start_time": "2023-05-05T03:59:10.966Z"
   },
   {
    "duration": 51,
    "start_time": "2023-05-05T03:59:18.981Z"
   },
   {
    "duration": 4,
    "start_time": "2023-05-05T03:59:36.586Z"
   },
   {
    "duration": 100,
    "start_time": "2023-05-05T03:59:38.511Z"
   },
   {
    "duration": 135,
    "start_time": "2023-05-05T03:59:46.981Z"
   },
   {
    "duration": 6,
    "start_time": "2023-05-05T03:59:47.118Z"
   },
   {
    "duration": 4,
    "start_time": "2023-05-05T03:59:47.126Z"
   },
   {
    "duration": 17,
    "start_time": "2023-05-05T03:59:47.132Z"
   },
   {
    "duration": 121,
    "start_time": "2023-05-05T03:59:47.152Z"
   },
   {
    "duration": 53,
    "start_time": "2023-05-05T03:59:47.275Z"
   },
   {
    "duration": 49,
    "start_time": "2023-05-05T04:00:28.994Z"
   },
   {
    "duration": 50,
    "start_time": "2023-05-05T04:00:32.924Z"
   },
   {
    "duration": 136,
    "start_time": "2023-05-05T04:00:45.038Z"
   },
   {
    "duration": 8,
    "start_time": "2023-05-05T04:00:45.176Z"
   },
   {
    "duration": 9,
    "start_time": "2023-05-05T04:00:45.186Z"
   },
   {
    "duration": 19,
    "start_time": "2023-05-05T04:00:45.197Z"
   },
   {
    "duration": 46,
    "start_time": "2023-05-05T04:00:45.218Z"
   },
   {
    "duration": 73,
    "start_time": "2023-05-05T04:00:45.265Z"
   },
   {
    "duration": 31,
    "start_time": "2023-05-05T04:02:21.187Z"
   },
   {
    "duration": 16,
    "start_time": "2023-05-05T04:02:31.640Z"
   },
   {
    "duration": 16,
    "start_time": "2023-05-05T04:04:41.157Z"
   },
   {
    "duration": 16,
    "start_time": "2023-05-05T04:04:45.975Z"
   },
   {
    "duration": 136,
    "start_time": "2023-05-05T04:04:51.298Z"
   },
   {
    "duration": 10,
    "start_time": "2023-05-05T04:04:51.436Z"
   },
   {
    "duration": 11,
    "start_time": "2023-05-05T04:04:51.448Z"
   },
   {
    "duration": 31,
    "start_time": "2023-05-05T04:04:51.460Z"
   },
   {
    "duration": 16,
    "start_time": "2023-05-05T04:04:51.493Z"
   },
   {
    "duration": 48,
    "start_time": "2023-05-05T04:04:51.511Z"
   },
   {
    "duration": 73,
    "start_time": "2023-05-05T04:04:51.561Z"
   },
   {
    "duration": 15,
    "start_time": "2023-05-05T04:07:50.733Z"
   },
   {
    "duration": 49,
    "start_time": "2023-05-05T04:07:54.320Z"
   },
   {
    "duration": 71,
    "start_time": "2023-05-05T04:11:19.672Z"
   },
   {
    "duration": 24,
    "start_time": "2023-05-05T04:14:19.548Z"
   },
   {
    "duration": 12,
    "start_time": "2023-05-05T04:15:54.332Z"
   },
   {
    "duration": 54,
    "start_time": "2023-05-05T04:15:55.135Z"
   },
   {
    "duration": 58,
    "start_time": "2023-05-05T04:15:56.706Z"
   },
   {
    "duration": 18,
    "start_time": "2023-05-05T04:15:57.572Z"
   },
   {
    "duration": 148,
    "start_time": "2023-05-05T04:16:05.417Z"
   },
   {
    "duration": 7,
    "start_time": "2023-05-05T04:16:05.567Z"
   },
   {
    "duration": 16,
    "start_time": "2023-05-05T04:16:05.576Z"
   },
   {
    "duration": 35,
    "start_time": "2023-05-05T04:16:05.594Z"
   },
   {
    "duration": 16,
    "start_time": "2023-05-05T04:16:05.632Z"
   },
   {
    "duration": 14,
    "start_time": "2023-05-05T04:16:05.650Z"
   },
   {
    "duration": 68,
    "start_time": "2023-05-05T04:16:05.665Z"
   },
   {
    "duration": 69,
    "start_time": "2023-05-05T04:16:05.735Z"
   },
   {
    "duration": 21,
    "start_time": "2023-05-05T04:16:05.806Z"
   },
   {
    "duration": 67,
    "start_time": "2023-05-05T04:17:29.084Z"
   },
   {
    "duration": 18,
    "start_time": "2023-05-05T04:17:29.902Z"
   },
   {
    "duration": 17,
    "start_time": "2023-05-05T04:19:55.443Z"
   },
   {
    "duration": 16,
    "start_time": "2023-05-05T04:20:04.499Z"
   },
   {
    "duration": 6,
    "start_time": "2023-05-05T04:21:59.952Z"
   },
   {
    "duration": 129,
    "start_time": "2023-05-05T04:24:10.030Z"
   },
   {
    "duration": 6,
    "start_time": "2023-05-05T04:24:10.161Z"
   },
   {
    "duration": 27,
    "start_time": "2023-05-05T04:24:10.168Z"
   },
   {
    "duration": 18,
    "start_time": "2023-05-05T04:24:10.196Z"
   },
   {
    "duration": 11,
    "start_time": "2023-05-05T04:24:10.216Z"
   },
   {
    "duration": 12,
    "start_time": "2023-05-05T04:24:10.229Z"
   },
   {
    "duration": 75,
    "start_time": "2023-05-05T04:24:10.243Z"
   },
   {
    "duration": 54,
    "start_time": "2023-05-05T04:24:10.320Z"
   },
   {
    "duration": 29,
    "start_time": "2023-05-05T04:24:10.375Z"
   },
   {
    "duration": 16,
    "start_time": "2023-05-05T04:24:10.405Z"
   },
   {
    "duration": 703,
    "start_time": "2023-05-05T04:24:10.422Z"
   },
   {
    "duration": 0,
    "start_time": "2023-05-05T04:24:11.126Z"
   },
   {
    "duration": 61,
    "start_time": "2023-05-05T04:25:10.836Z"
   },
   {
    "duration": 17,
    "start_time": "2023-05-05T04:25:11.260Z"
   },
   {
    "duration": 128,
    "start_time": "2023-05-05T04:25:22.292Z"
   },
   {
    "duration": 6,
    "start_time": "2023-05-05T04:25:22.422Z"
   },
   {
    "duration": 11,
    "start_time": "2023-05-05T04:25:22.429Z"
   },
   {
    "duration": 18,
    "start_time": "2023-05-05T04:25:22.442Z"
   },
   {
    "duration": 11,
    "start_time": "2023-05-05T04:25:22.462Z"
   },
   {
    "duration": 26,
    "start_time": "2023-05-05T04:25:22.474Z"
   },
   {
    "duration": 46,
    "start_time": "2023-05-05T04:25:22.501Z"
   },
   {
    "duration": 66,
    "start_time": "2023-05-05T04:25:22.549Z"
   },
   {
    "duration": 17,
    "start_time": "2023-05-05T04:25:22.616Z"
   },
   {
    "duration": 15,
    "start_time": "2023-05-05T04:25:22.635Z"
   },
   {
    "duration": 5,
    "start_time": "2023-05-05T04:25:22.651Z"
   },
   {
    "duration": 57,
    "start_time": "2023-05-05T04:25:22.657Z"
   },
   {
    "duration": 5,
    "start_time": "2023-05-05T04:25:38.574Z"
   },
   {
    "duration": 11,
    "start_time": "2023-05-05T04:25:49.484Z"
   },
   {
    "duration": 14,
    "start_time": "2023-05-05T04:27:42.259Z"
   },
   {
    "duration": 7,
    "start_time": "2023-05-05T04:28:42.594Z"
   },
   {
    "duration": 7,
    "start_time": "2023-05-05T04:30:03.527Z"
   },
   {
    "duration": 7,
    "start_time": "2023-05-05T04:30:24.565Z"
   },
   {
    "duration": 9,
    "start_time": "2023-05-05T04:31:04.071Z"
   },
   {
    "duration": 7,
    "start_time": "2023-05-05T04:31:07.879Z"
   },
   {
    "duration": 5,
    "start_time": "2023-05-05T04:33:36.984Z"
   },
   {
    "duration": 6,
    "start_time": "2023-05-05T04:33:56.790Z"
   },
   {
    "duration": 73,
    "start_time": "2023-05-05T04:34:25.084Z"
   },
   {
    "duration": 53,
    "start_time": "2023-05-05T04:34:37.519Z"
   },
   {
    "duration": 152,
    "start_time": "2023-05-05T04:34:40.893Z"
   },
   {
    "duration": 631,
    "start_time": "2023-05-05T04:35:34.449Z"
   },
   {
    "duration": 211,
    "start_time": "2023-05-05T04:35:49.066Z"
   },
   {
    "duration": 160,
    "start_time": "2023-05-05T04:35:52.535Z"
   },
   {
    "duration": 194,
    "start_time": "2023-05-05T04:36:00.390Z"
   },
   {
    "duration": 190,
    "start_time": "2023-05-05T04:36:08.193Z"
   },
   {
    "duration": 61,
    "start_time": "2023-05-05T04:36:24.975Z"
   },
   {
    "duration": 177,
    "start_time": "2023-05-05T04:36:36.110Z"
   },
   {
    "duration": 166,
    "start_time": "2023-05-05T04:36:52.316Z"
   },
   {
    "duration": 216,
    "start_time": "2023-05-05T04:37:00.656Z"
   },
   {
    "duration": 180,
    "start_time": "2023-05-05T04:39:32.989Z"
   },
   {
    "duration": 140,
    "start_time": "2023-05-05T04:39:50.321Z"
   },
   {
    "duration": 8,
    "start_time": "2023-05-05T04:39:50.463Z"
   },
   {
    "duration": 5,
    "start_time": "2023-05-05T04:39:50.472Z"
   },
   {
    "duration": 31,
    "start_time": "2023-05-05T04:39:50.478Z"
   },
   {
    "duration": 29,
    "start_time": "2023-05-05T04:39:50.511Z"
   },
   {
    "duration": 17,
    "start_time": "2023-05-05T04:39:50.541Z"
   },
   {
    "duration": 56,
    "start_time": "2023-05-05T04:39:50.560Z"
   },
   {
    "duration": 54,
    "start_time": "2023-05-05T04:39:50.618Z"
   },
   {
    "duration": 35,
    "start_time": "2023-05-05T04:39:50.673Z"
   },
   {
    "duration": 14,
    "start_time": "2023-05-05T04:39:50.710Z"
   },
   {
    "duration": 6,
    "start_time": "2023-05-05T04:39:50.726Z"
   },
   {
    "duration": 32,
    "start_time": "2023-05-05T04:39:50.733Z"
   },
   {
    "duration": 185,
    "start_time": "2023-05-05T04:39:50.767Z"
   },
   {
    "duration": 174,
    "start_time": "2023-05-05T04:39:50.955Z"
   },
   {
    "duration": 79,
    "start_time": "2023-05-05T04:39:51.131Z"
   },
   {
    "duration": 262,
    "start_time": "2023-05-05T04:40:07.585Z"
   },
   {
    "duration": 1439,
    "start_time": "2023-05-05T04:41:14.327Z"
   },
   {
    "duration": 132,
    "start_time": "2023-05-05T04:42:42.213Z"
   },
   {
    "duration": 909,
    "start_time": "2023-05-05T04:43:01.656Z"
   },
   {
    "duration": 811,
    "start_time": "2023-05-05T04:43:15.342Z"
   },
   {
    "duration": 1049,
    "start_time": "2023-05-05T04:45:02.268Z"
   },
   {
    "duration": 525,
    "start_time": "2023-05-05T04:45:11.004Z"
   },
   {
    "duration": 729,
    "start_time": "2023-05-05T04:45:35.810Z"
   },
   {
    "duration": 708,
    "start_time": "2023-05-05T04:45:50.348Z"
   },
   {
    "duration": 812,
    "start_time": "2023-05-05T04:46:04.020Z"
   },
   {
    "duration": 698,
    "start_time": "2023-05-05T04:46:21.529Z"
   },
   {
    "duration": 716,
    "start_time": "2023-05-05T04:46:35.861Z"
   },
   {
    "duration": 752,
    "start_time": "2023-05-05T04:47:51.269Z"
   },
   {
    "duration": 767,
    "start_time": "2023-05-05T04:48:04.081Z"
   },
   {
    "duration": 700,
    "start_time": "2023-05-05T04:48:09.926Z"
   },
   {
    "duration": 125,
    "start_time": "2023-05-05T04:48:15.533Z"
   },
   {
    "duration": 7,
    "start_time": "2023-05-05T04:48:15.660Z"
   },
   {
    "duration": 6,
    "start_time": "2023-05-05T04:48:15.669Z"
   },
   {
    "duration": 28,
    "start_time": "2023-05-05T04:48:15.677Z"
   },
   {
    "duration": 12,
    "start_time": "2023-05-05T04:48:15.708Z"
   },
   {
    "duration": 11,
    "start_time": "2023-05-05T04:48:15.721Z"
   },
   {
    "duration": 75,
    "start_time": "2023-05-05T04:48:15.734Z"
   },
   {
    "duration": 74,
    "start_time": "2023-05-05T04:48:15.811Z"
   },
   {
    "duration": 23,
    "start_time": "2023-05-05T04:48:15.894Z"
   },
   {
    "duration": 14,
    "start_time": "2023-05-05T04:48:15.919Z"
   },
   {
    "duration": 9,
    "start_time": "2023-05-05T04:48:15.934Z"
   },
   {
    "duration": 6,
    "start_time": "2023-05-05T04:48:15.944Z"
   },
   {
    "duration": 162,
    "start_time": "2023-05-05T04:48:15.951Z"
   },
   {
    "duration": 1393,
    "start_time": "2023-05-05T04:48:16.115Z"
   },
   {
    "duration": 5,
    "start_time": "2023-05-05T04:48:17.510Z"
   },
   {
    "duration": 36,
    "start_time": "2023-05-05T04:48:17.517Z"
   },
   {
    "duration": 0,
    "start_time": "2023-05-05T04:48:17.554Z"
   },
   {
    "duration": 275,
    "start_time": "2023-05-05T04:48:39.008Z"
   },
   {
    "duration": 220,
    "start_time": "2023-05-05T04:48:49.333Z"
   },
   {
    "duration": 241,
    "start_time": "2023-05-05T04:49:19.218Z"
   },
   {
    "duration": 725,
    "start_time": "2023-05-05T04:53:07.267Z"
   },
   {
    "duration": 11,
    "start_time": "2023-05-05T04:53:07.994Z"
   },
   {
    "duration": 5,
    "start_time": "2023-05-05T04:53:08.006Z"
   },
   {
    "duration": 23,
    "start_time": "2023-05-05T04:53:08.013Z"
   },
   {
    "duration": 16,
    "start_time": "2023-05-05T04:53:08.038Z"
   },
   {
    "duration": 13,
    "start_time": "2023-05-05T04:53:08.055Z"
   },
   {
    "duration": 89,
    "start_time": "2023-05-05T04:53:08.069Z"
   },
   {
    "duration": 96,
    "start_time": "2023-05-05T04:53:08.160Z"
   },
   {
    "duration": 18,
    "start_time": "2023-05-05T04:53:08.258Z"
   },
   {
    "duration": 27,
    "start_time": "2023-05-05T04:53:08.277Z"
   },
   {
    "duration": 6,
    "start_time": "2023-05-05T04:53:08.305Z"
   },
   {
    "duration": 6,
    "start_time": "2023-05-05T04:53:08.312Z"
   },
   {
    "duration": 162,
    "start_time": "2023-05-05T04:53:08.319Z"
   },
   {
    "duration": 1328,
    "start_time": "2023-05-05T04:53:08.493Z"
   },
   {
    "duration": 150,
    "start_time": "2023-05-05T04:53:09.823Z"
   },
   {
    "duration": 49,
    "start_time": "2023-05-05T04:53:09.974Z"
   },
   {
    "duration": 176,
    "start_time": "2023-05-05T04:53:41.299Z"
   },
   {
    "duration": 183,
    "start_time": "2023-05-05T04:54:29.970Z"
   },
   {
    "duration": 1528,
    "start_time": "2023-05-05T04:54:39.909Z"
   },
   {
    "duration": 1475,
    "start_time": "2023-05-05T04:55:12.486Z"
   },
   {
    "duration": 1378,
    "start_time": "2023-05-05T04:55:16.643Z"
   },
   {
    "duration": 1477,
    "start_time": "2023-05-05T04:55:23.599Z"
   },
   {
    "duration": 669,
    "start_time": "2023-05-05T04:56:39.851Z"
   },
   {
    "duration": 10,
    "start_time": "2023-05-05T04:56:40.522Z"
   },
   {
    "duration": 3,
    "start_time": "2023-05-05T04:56:40.533Z"
   },
   {
    "duration": 18,
    "start_time": "2023-05-05T04:56:40.537Z"
   },
   {
    "duration": 15,
    "start_time": "2023-05-05T04:56:40.557Z"
   },
   {
    "duration": 30,
    "start_time": "2023-05-05T04:56:40.574Z"
   },
   {
    "duration": 59,
    "start_time": "2023-05-05T04:56:40.605Z"
   },
   {
    "duration": 92,
    "start_time": "2023-05-05T04:56:40.666Z"
   },
   {
    "duration": 16,
    "start_time": "2023-05-05T04:56:40.760Z"
   },
   {
    "duration": 25,
    "start_time": "2023-05-05T04:56:40.778Z"
   },
   {
    "duration": 6,
    "start_time": "2023-05-05T04:56:40.805Z"
   },
   {
    "duration": 6,
    "start_time": "2023-05-05T04:56:40.812Z"
   },
   {
    "duration": 155,
    "start_time": "2023-05-05T04:56:40.819Z"
   },
   {
    "duration": 1293,
    "start_time": "2023-05-05T04:56:40.976Z"
   },
   {
    "duration": 729,
    "start_time": "2023-05-05T04:57:03.327Z"
   },
   {
    "duration": 15,
    "start_time": "2023-05-05T04:57:04.059Z"
   },
   {
    "duration": 4,
    "start_time": "2023-05-05T04:57:04.076Z"
   },
   {
    "duration": 24,
    "start_time": "2023-05-05T04:57:04.093Z"
   },
   {
    "duration": 20,
    "start_time": "2023-05-05T04:57:04.120Z"
   },
   {
    "duration": 18,
    "start_time": "2023-05-05T04:57:04.142Z"
   },
   {
    "duration": 113,
    "start_time": "2023-05-05T04:57:04.162Z"
   },
   {
    "duration": 104,
    "start_time": "2023-05-05T04:57:04.278Z"
   },
   {
    "duration": 27,
    "start_time": "2023-05-05T04:57:04.384Z"
   },
   {
    "duration": 18,
    "start_time": "2023-05-05T04:57:04.413Z"
   },
   {
    "duration": 7,
    "start_time": "2023-05-05T04:57:04.433Z"
   },
   {
    "duration": 10,
    "start_time": "2023-05-05T04:57:04.441Z"
   },
   {
    "duration": 176,
    "start_time": "2023-05-05T04:57:04.453Z"
   },
   {
    "duration": 1537,
    "start_time": "2023-05-05T04:57:04.632Z"
   },
   {
    "duration": 1515,
    "start_time": "2023-05-05T04:57:06.171Z"
   },
   {
    "duration": 71,
    "start_time": "2023-05-05T04:57:07.688Z"
   },
   {
    "duration": 53,
    "start_time": "2023-05-05T04:57:07.760Z"
   },
   {
    "duration": 696,
    "start_time": "2023-05-05T04:59:09.602Z"
   },
   {
    "duration": 11,
    "start_time": "2023-05-05T04:59:10.300Z"
   },
   {
    "duration": 13,
    "start_time": "2023-05-05T04:59:10.313Z"
   },
   {
    "duration": 27,
    "start_time": "2023-05-05T04:59:10.327Z"
   },
   {
    "duration": 16,
    "start_time": "2023-05-05T04:59:10.357Z"
   },
   {
    "duration": 27,
    "start_time": "2023-05-05T04:59:10.374Z"
   },
   {
    "duration": 59,
    "start_time": "2023-05-05T04:59:10.402Z"
   },
   {
    "duration": 93,
    "start_time": "2023-05-05T04:59:10.462Z"
   },
   {
    "duration": 15,
    "start_time": "2023-05-05T04:59:10.557Z"
   },
   {
    "duration": 21,
    "start_time": "2023-05-05T04:59:10.574Z"
   },
   {
    "duration": 6,
    "start_time": "2023-05-05T04:59:10.597Z"
   },
   {
    "duration": 6,
    "start_time": "2023-05-05T04:59:10.604Z"
   },
   {
    "duration": 151,
    "start_time": "2023-05-05T04:59:10.611Z"
   },
   {
    "duration": 1306,
    "start_time": "2023-05-05T04:59:10.764Z"
   },
   {
    "duration": 1291,
    "start_time": "2023-05-05T04:59:12.071Z"
   },
   {
    "duration": 52,
    "start_time": "2023-05-05T04:59:13.363Z"
   },
   {
    "duration": 6,
    "start_time": "2023-05-05T04:59:32.607Z"
   },
   {
    "duration": 7,
    "start_time": "2023-05-05T04:59:40.492Z"
   },
   {
    "duration": 4,
    "start_time": "2023-05-05T04:59:46.770Z"
   },
   {
    "duration": 1395,
    "start_time": "2023-05-05T04:59:49.013Z"
   },
   {
    "duration": 5,
    "start_time": "2023-05-05T05:00:50.359Z"
   },
   {
    "duration": 226,
    "start_time": "2023-05-05T05:01:42.271Z"
   },
   {
    "duration": 1537,
    "start_time": "2023-05-05T05:01:55.151Z"
   },
   {
    "duration": 1460,
    "start_time": "2023-05-05T05:02:24.528Z"
   },
   {
    "duration": 1444,
    "start_time": "2023-05-05T05:02:53.892Z"
   },
   {
    "duration": 12,
    "start_time": "2023-05-05T05:03:27.384Z"
   },
   {
    "duration": 1544,
    "start_time": "2023-05-05T05:03:33.043Z"
   },
   {
    "duration": 1517,
    "start_time": "2023-05-05T05:05:05.990Z"
   },
   {
    "duration": 1418,
    "start_time": "2023-05-05T05:05:19.024Z"
   },
   {
    "duration": 1456,
    "start_time": "2023-05-05T05:07:17.575Z"
   },
   {
    "duration": 1690,
    "start_time": "2023-05-05T05:07:36.804Z"
   },
   {
    "duration": 1261,
    "start_time": "2023-05-05T05:07:43.963Z"
   },
   {
    "duration": 1775,
    "start_time": "2023-05-05T05:08:27.484Z"
   },
   {
    "duration": 1787,
    "start_time": "2023-05-05T05:08:36.593Z"
   },
   {
    "duration": 25,
    "start_time": "2023-05-05T05:19:23.418Z"
   },
   {
    "duration": 27,
    "start_time": "2023-05-05T05:19:30.152Z"
   },
   {
    "duration": 20,
    "start_time": "2023-05-05T05:19:40.410Z"
   },
   {
    "duration": 20,
    "start_time": "2023-05-05T05:25:30.603Z"
   },
   {
    "duration": 650,
    "start_time": "2023-05-05T05:25:55.482Z"
   },
   {
    "duration": 170,
    "start_time": "2023-05-05T05:26:14.133Z"
   },
   {
    "duration": 7,
    "start_time": "2023-05-05T05:26:14.305Z"
   },
   {
    "duration": 8,
    "start_time": "2023-05-05T05:26:14.313Z"
   },
   {
    "duration": 28,
    "start_time": "2023-05-05T05:26:14.323Z"
   },
   {
    "duration": 12,
    "start_time": "2023-05-05T05:26:14.353Z"
   },
   {
    "duration": 28,
    "start_time": "2023-05-05T05:26:14.367Z"
   },
   {
    "duration": 58,
    "start_time": "2023-05-05T05:26:14.397Z"
   },
   {
    "duration": 85,
    "start_time": "2023-05-05T05:26:14.456Z"
   },
   {
    "duration": 21,
    "start_time": "2023-05-05T05:26:14.543Z"
   },
   {
    "duration": 30,
    "start_time": "2023-05-05T05:26:14.567Z"
   },
   {
    "duration": 8,
    "start_time": "2023-05-05T05:26:14.598Z"
   },
   {
    "duration": 11,
    "start_time": "2023-05-05T05:26:14.608Z"
   },
   {
    "duration": 195,
    "start_time": "2023-05-05T05:26:14.621Z"
   },
   {
    "duration": 317,
    "start_time": "2023-05-05T05:26:14.818Z"
   },
   {
    "duration": 17,
    "start_time": "2023-05-05T05:26:15.137Z"
   },
   {
    "duration": 56,
    "start_time": "2023-05-05T05:26:15.155Z"
   },
   {
    "duration": 888,
    "start_time": "2023-05-05T05:26:30.509Z"
   },
   {
    "duration": 180,
    "start_time": "2023-05-05T05:26:33.972Z"
   },
   {
    "duration": 11,
    "start_time": "2023-05-05T05:26:34.156Z"
   },
   {
    "duration": 3,
    "start_time": "2023-05-05T05:26:34.169Z"
   },
   {
    "duration": 36,
    "start_time": "2023-05-05T05:26:34.174Z"
   },
   {
    "duration": 17,
    "start_time": "2023-05-05T05:26:34.213Z"
   },
   {
    "duration": 15,
    "start_time": "2023-05-05T05:26:34.232Z"
   },
   {
    "duration": 95,
    "start_time": "2023-05-05T05:26:34.249Z"
   },
   {
    "duration": 91,
    "start_time": "2023-05-05T05:26:34.345Z"
   },
   {
    "duration": 21,
    "start_time": "2023-05-05T05:26:34.438Z"
   },
   {
    "duration": 33,
    "start_time": "2023-05-05T05:26:34.461Z"
   },
   {
    "duration": 7,
    "start_time": "2023-05-05T05:26:34.496Z"
   },
   {
    "duration": 8,
    "start_time": "2023-05-05T05:26:34.505Z"
   },
   {
    "duration": 167,
    "start_time": "2023-05-05T05:26:34.514Z"
   },
   {
    "duration": 863,
    "start_time": "2023-05-05T05:26:34.684Z"
   },
   {
    "duration": 19,
    "start_time": "2023-05-05T05:26:35.549Z"
   },
   {
    "duration": 67,
    "start_time": "2023-05-05T05:26:35.569Z"
   },
   {
    "duration": 16,
    "start_time": "2023-05-05T05:27:16.015Z"
   },
   {
    "duration": 13,
    "start_time": "2023-05-05T05:27:48.700Z"
   },
   {
    "duration": 138,
    "start_time": "2023-05-05T05:29:11.071Z"
   },
   {
    "duration": 7,
    "start_time": "2023-05-05T05:29:11.211Z"
   },
   {
    "duration": 7,
    "start_time": "2023-05-05T05:29:11.219Z"
   },
   {
    "duration": 24,
    "start_time": "2023-05-05T05:29:11.228Z"
   },
   {
    "duration": 14,
    "start_time": "2023-05-05T05:29:11.254Z"
   },
   {
    "duration": 33,
    "start_time": "2023-05-05T05:29:11.270Z"
   },
   {
    "duration": 61,
    "start_time": "2023-05-05T05:29:11.305Z"
   },
   {
    "duration": 96,
    "start_time": "2023-05-05T05:29:11.368Z"
   },
   {
    "duration": 35,
    "start_time": "2023-05-05T05:29:11.467Z"
   },
   {
    "duration": 17,
    "start_time": "2023-05-05T05:29:11.504Z"
   },
   {
    "duration": 7,
    "start_time": "2023-05-05T05:29:11.523Z"
   },
   {
    "duration": 7,
    "start_time": "2023-05-05T05:29:11.531Z"
   },
   {
    "duration": 180,
    "start_time": "2023-05-05T05:29:11.540Z"
   },
   {
    "duration": 1162,
    "start_time": "2023-05-05T05:29:11.722Z"
   },
   {
    "duration": 3,
    "start_time": "2023-05-05T05:29:12.886Z"
   },
   {
    "duration": 68,
    "start_time": "2023-05-05T05:29:12.894Z"
   },
   {
    "duration": 137,
    "start_time": "2023-05-05T05:29:20.269Z"
   },
   {
    "duration": 10,
    "start_time": "2023-05-05T05:29:20.409Z"
   },
   {
    "duration": 7,
    "start_time": "2023-05-05T05:29:20.421Z"
   },
   {
    "duration": 23,
    "start_time": "2023-05-05T05:29:20.430Z"
   },
   {
    "duration": 14,
    "start_time": "2023-05-05T05:29:20.456Z"
   },
   {
    "duration": 15,
    "start_time": "2023-05-05T05:29:20.495Z"
   },
   {
    "duration": 60,
    "start_time": "2023-05-05T05:29:20.512Z"
   },
   {
    "duration": 80,
    "start_time": "2023-05-05T05:29:20.574Z"
   },
   {
    "duration": 38,
    "start_time": "2023-05-05T05:29:20.656Z"
   },
   {
    "duration": 17,
    "start_time": "2023-05-05T05:29:20.696Z"
   },
   {
    "duration": 9,
    "start_time": "2023-05-05T05:29:20.715Z"
   },
   {
    "duration": 8,
    "start_time": "2023-05-05T05:29:20.725Z"
   },
   {
    "duration": 174,
    "start_time": "2023-05-05T05:29:20.735Z"
   },
   {
    "duration": 838,
    "start_time": "2023-05-05T05:29:20.911Z"
   },
   {
    "duration": 3,
    "start_time": "2023-05-05T05:29:21.751Z"
   },
   {
    "duration": 57,
    "start_time": "2023-05-05T05:29:21.755Z"
   },
   {
    "duration": 793,
    "start_time": "2023-05-05T05:29:43.415Z"
   },
   {
    "duration": 14,
    "start_time": "2023-05-05T05:29:44.211Z"
   },
   {
    "duration": 3,
    "start_time": "2023-05-05T05:29:44.230Z"
   },
   {
    "duration": 30,
    "start_time": "2023-05-05T05:29:44.236Z"
   },
   {
    "duration": 44,
    "start_time": "2023-05-05T05:29:44.268Z"
   },
   {
    "duration": 18,
    "start_time": "2023-05-05T05:29:44.314Z"
   },
   {
    "duration": 92,
    "start_time": "2023-05-05T05:29:44.336Z"
   },
   {
    "duration": 100,
    "start_time": "2023-05-05T05:29:44.429Z"
   },
   {
    "duration": 19,
    "start_time": "2023-05-05T05:29:44.531Z"
   },
   {
    "duration": 16,
    "start_time": "2023-05-05T05:29:44.552Z"
   },
   {
    "duration": 27,
    "start_time": "2023-05-05T05:29:44.569Z"
   },
   {
    "duration": 7,
    "start_time": "2023-05-05T05:29:44.597Z"
   },
   {
    "duration": 165,
    "start_time": "2023-05-05T05:29:44.606Z"
   },
   {
    "duration": 949,
    "start_time": "2023-05-05T05:29:44.772Z"
   },
   {
    "duration": 3,
    "start_time": "2023-05-05T05:29:45.723Z"
   },
   {
    "duration": 50,
    "start_time": "2023-05-05T05:29:45.727Z"
   },
   {
    "duration": 816,
    "start_time": "2023-05-05T05:29:55.794Z"
   },
   {
    "duration": 1018,
    "start_time": "2023-05-05T05:30:00.836Z"
   },
   {
    "duration": 919,
    "start_time": "2023-05-05T05:30:04.277Z"
   },
   {
    "duration": 939,
    "start_time": "2023-05-05T05:30:08.021Z"
   },
   {
    "duration": 790,
    "start_time": "2023-05-05T05:30:12.299Z"
   },
   {
    "duration": 910,
    "start_time": "2023-05-05T05:30:16.758Z"
   },
   {
    "duration": 895,
    "start_time": "2023-05-05T05:30:21.034Z"
   },
   {
    "duration": 810,
    "start_time": "2023-05-05T05:30:25.164Z"
   },
   {
    "duration": 1001,
    "start_time": "2023-05-05T05:30:30.884Z"
   },
   {
    "duration": 823,
    "start_time": "2023-05-05T05:30:34.573Z"
   },
   {
    "duration": 84,
    "start_time": "2023-05-05T05:33:02.284Z"
   },
   {
    "duration": 13,
    "start_time": "2023-05-05T05:33:05.071Z"
   },
   {
    "duration": 149,
    "start_time": "2023-05-05T05:33:13.305Z"
   },
   {
    "duration": 7,
    "start_time": "2023-05-05T05:33:13.457Z"
   },
   {
    "duration": 9,
    "start_time": "2023-05-05T05:33:13.466Z"
   },
   {
    "duration": 29,
    "start_time": "2023-05-05T05:33:13.477Z"
   },
   {
    "duration": 12,
    "start_time": "2023-05-05T05:33:13.508Z"
   },
   {
    "duration": 12,
    "start_time": "2023-05-05T05:33:13.522Z"
   },
   {
    "duration": 82,
    "start_time": "2023-05-05T05:33:13.536Z"
   },
   {
    "duration": 87,
    "start_time": "2023-05-05T05:33:13.620Z"
   },
   {
    "duration": 20,
    "start_time": "2023-05-05T05:33:13.709Z"
   },
   {
    "duration": 16,
    "start_time": "2023-05-05T05:33:13.731Z"
   },
   {
    "duration": 8,
    "start_time": "2023-05-05T05:33:13.749Z"
   },
   {
    "duration": 7,
    "start_time": "2023-05-05T05:33:13.758Z"
   },
   {
    "duration": 153,
    "start_time": "2023-05-05T05:33:13.794Z"
   },
   {
    "duration": 1014,
    "start_time": "2023-05-05T05:33:13.950Z"
   },
   {
    "duration": 14,
    "start_time": "2023-05-05T05:33:14.966Z"
   },
   {
    "duration": 0,
    "start_time": "2023-05-05T05:33:14.982Z"
   },
   {
    "duration": 0,
    "start_time": "2023-05-05T05:33:14.994Z"
   },
   {
    "duration": 21,
    "start_time": "2023-05-05T05:33:30.208Z"
   },
   {
    "duration": 11,
    "start_time": "2023-05-05T05:33:43.603Z"
   },
   {
    "duration": 11,
    "start_time": "2023-05-05T05:33:47.034Z"
   },
   {
    "duration": 19,
    "start_time": "2023-05-05T05:34:07.185Z"
   },
   {
    "duration": 9,
    "start_time": "2023-05-05T05:34:42.795Z"
   },
   {
    "duration": 9,
    "start_time": "2023-05-05T05:34:53.250Z"
   },
   {
    "duration": 47,
    "start_time": "2023-05-05T05:35:59.715Z"
   },
   {
    "duration": 10,
    "start_time": "2023-05-05T05:36:07.655Z"
   },
   {
    "duration": 8,
    "start_time": "2023-05-05T05:37:35.217Z"
   },
   {
    "duration": 8,
    "start_time": "2023-05-05T05:37:53.809Z"
   },
   {
    "duration": 48,
    "start_time": "2023-05-05T05:39:21.613Z"
   },
   {
    "duration": 5,
    "start_time": "2023-05-05T05:39:30.044Z"
   },
   {
    "duration": 5,
    "start_time": "2023-05-05T05:39:36.259Z"
   },
   {
    "duration": 5,
    "start_time": "2023-05-05T05:39:39.562Z"
   },
   {
    "duration": 15,
    "start_time": "2023-05-05T05:39:41.021Z"
   },
   {
    "duration": 5,
    "start_time": "2023-05-05T05:39:53.217Z"
   },
   {
    "duration": 15,
    "start_time": "2023-05-05T05:40:12.530Z"
   },
   {
    "duration": 4,
    "start_time": "2023-05-05T05:41:52.420Z"
   },
   {
    "duration": 10,
    "start_time": "2023-05-05T05:42:47.879Z"
   },
   {
    "duration": 10,
    "start_time": "2023-05-05T05:43:14.969Z"
   },
   {
    "duration": 23,
    "start_time": "2023-05-05T05:43:29.203Z"
   },
   {
    "duration": 69,
    "start_time": "2023-05-05T05:45:25.968Z"
   },
   {
    "duration": 9,
    "start_time": "2023-05-05T05:45:33.636Z"
   },
   {
    "duration": 55,
    "start_time": "2023-05-05T05:45:44.167Z"
   },
   {
    "duration": 9,
    "start_time": "2023-05-05T05:47:05.956Z"
   },
   {
    "duration": 12,
    "start_time": "2023-05-05T05:47:09.795Z"
   },
   {
    "duration": 11,
    "start_time": "2023-05-05T05:47:13.316Z"
   },
   {
    "duration": 11,
    "start_time": "2023-05-05T05:47:16.833Z"
   },
   {
    "duration": 11,
    "start_time": "2023-05-05T05:47:19.339Z"
   },
   {
    "duration": 25,
    "start_time": "2023-05-05T05:47:37.376Z"
   },
   {
    "duration": 15,
    "start_time": "2023-05-05T05:47:52.740Z"
   },
   {
    "duration": 16,
    "start_time": "2023-05-05T05:48:06.202Z"
   },
   {
    "duration": 14,
    "start_time": "2023-05-05T05:48:21.498Z"
   },
   {
    "duration": 13,
    "start_time": "2023-05-05T05:54:05.036Z"
   },
   {
    "duration": 13,
    "start_time": "2023-05-05T05:54:08.298Z"
   },
   {
    "duration": 16,
    "start_time": "2023-05-05T05:54:08.731Z"
   },
   {
    "duration": 9,
    "start_time": "2023-05-05T05:55:45.526Z"
   },
   {
    "duration": 10,
    "start_time": "2023-05-05T05:55:54.678Z"
   },
   {
    "duration": 10,
    "start_time": "2023-05-05T05:56:09.385Z"
   },
   {
    "duration": 10,
    "start_time": "2023-05-05T05:56:26.903Z"
   },
   {
    "duration": 16,
    "start_time": "2023-05-05T05:58:24.214Z"
   },
   {
    "duration": 216,
    "start_time": "2023-05-05T05:59:53.475Z"
   },
   {
    "duration": 105,
    "start_time": "2023-05-05T06:00:27.105Z"
   },
   {
    "duration": 3,
    "start_time": "2023-05-05T06:01:25.587Z"
   },
   {
    "duration": 4,
    "start_time": "2023-05-05T06:01:37.708Z"
   },
   {
    "duration": 3,
    "start_time": "2023-05-05T06:02:47.513Z"
   },
   {
    "duration": 92,
    "start_time": "2023-05-05T06:03:14.716Z"
   },
   {
    "duration": 190,
    "start_time": "2023-05-05T06:04:20.309Z"
   },
   {
    "duration": 187,
    "start_time": "2023-05-05T06:04:40.042Z"
   },
   {
    "duration": 13,
    "start_time": "2023-05-05T06:05:29.101Z"
   },
   {
    "duration": 100,
    "start_time": "2023-05-05T06:06:08.885Z"
   },
   {
    "duration": 98,
    "start_time": "2023-05-05T06:06:20.705Z"
   },
   {
    "duration": 98,
    "start_time": "2023-05-05T06:06:25.029Z"
   },
   {
    "duration": 165,
    "start_time": "2023-05-05T06:06:31.332Z"
   },
   {
    "duration": 7,
    "start_time": "2023-05-05T06:06:31.499Z"
   },
   {
    "duration": 21,
    "start_time": "2023-05-05T06:06:31.508Z"
   },
   {
    "duration": 47,
    "start_time": "2023-05-05T06:06:31.531Z"
   },
   {
    "duration": 34,
    "start_time": "2023-05-05T06:06:31.580Z"
   },
   {
    "duration": 19,
    "start_time": "2023-05-05T06:06:31.616Z"
   },
   {
    "duration": 77,
    "start_time": "2023-05-05T06:06:31.636Z"
   },
   {
    "duration": 68,
    "start_time": "2023-05-05T06:06:31.714Z"
   },
   {
    "duration": 27,
    "start_time": "2023-05-05T06:06:31.783Z"
   },
   {
    "duration": 16,
    "start_time": "2023-05-05T06:06:31.811Z"
   },
   {
    "duration": 9,
    "start_time": "2023-05-05T06:06:31.828Z"
   },
   {
    "duration": 14,
    "start_time": "2023-05-05T06:06:31.839Z"
   },
   {
    "duration": 153,
    "start_time": "2023-05-05T06:06:31.855Z"
   },
   {
    "duration": 817,
    "start_time": "2023-05-05T06:06:32.010Z"
   },
   {
    "duration": 14,
    "start_time": "2023-05-05T06:06:32.829Z"
   },
   {
    "duration": 13,
    "start_time": "2023-05-05T06:06:32.845Z"
   },
   {
    "duration": 126,
    "start_time": "2023-05-05T06:06:32.860Z"
   },
   {
    "duration": 7,
    "start_time": "2023-05-05T06:06:32.988Z"
   },
   {
    "duration": 3,
    "start_time": "2023-05-05T06:06:32.997Z"
   },
   {
    "duration": 65,
    "start_time": "2023-05-05T06:06:33.001Z"
   },
   {
    "duration": 98,
    "start_time": "2023-05-05T06:07:28.852Z"
   },
   {
    "duration": 115,
    "start_time": "2023-05-05T06:07:31.099Z"
   },
   {
    "duration": 106,
    "start_time": "2023-05-05T06:08:06.849Z"
   },
   {
    "duration": 97,
    "start_time": "2023-05-05T06:08:09.405Z"
   },
   {
    "duration": 107,
    "start_time": "2023-05-05T06:08:37.429Z"
   },
   {
    "duration": 3,
    "start_time": "2023-05-05T06:25:47.637Z"
   },
   {
    "duration": 16,
    "start_time": "2023-05-05T06:27:35.067Z"
   },
   {
    "duration": 8,
    "start_time": "2023-05-05T06:28:23.891Z"
   },
   {
    "duration": 37,
    "start_time": "2023-05-05T06:28:40.378Z"
   },
   {
    "duration": 36,
    "start_time": "2023-05-05T06:29:43.112Z"
   },
   {
    "duration": 42,
    "start_time": "2023-05-05T06:30:43.989Z"
   },
   {
    "duration": 35,
    "start_time": "2023-05-05T06:31:11.342Z"
   },
   {
    "duration": 34,
    "start_time": "2023-05-05T06:31:20.237Z"
   },
   {
    "duration": 48,
    "start_time": "2023-05-05T06:31:24.037Z"
   },
   {
    "duration": 32,
    "start_time": "2023-05-05T06:31:26.861Z"
   },
   {
    "duration": 31,
    "start_time": "2023-05-05T06:31:39.283Z"
   },
   {
    "duration": 133,
    "start_time": "2023-05-05T06:36:54.961Z"
   },
   {
    "duration": 8,
    "start_time": "2023-05-05T06:36:55.096Z"
   },
   {
    "duration": 4,
    "start_time": "2023-05-05T06:36:55.106Z"
   },
   {
    "duration": 20,
    "start_time": "2023-05-05T06:36:55.111Z"
   },
   {
    "duration": 13,
    "start_time": "2023-05-05T06:36:55.134Z"
   },
   {
    "duration": 16,
    "start_time": "2023-05-05T06:36:55.149Z"
   },
   {
    "duration": 86,
    "start_time": "2023-05-05T06:36:55.166Z"
   },
   {
    "duration": 92,
    "start_time": "2023-05-05T06:36:55.254Z"
   },
   {
    "duration": 19,
    "start_time": "2023-05-05T06:36:55.348Z"
   },
   {
    "duration": 36,
    "start_time": "2023-05-05T06:36:55.369Z"
   },
   {
    "duration": 8,
    "start_time": "2023-05-05T06:36:55.407Z"
   },
   {
    "duration": 8,
    "start_time": "2023-05-05T06:36:55.417Z"
   },
   {
    "duration": 190,
    "start_time": "2023-05-05T06:36:55.427Z"
   },
   {
    "duration": 858,
    "start_time": "2023-05-05T06:36:55.620Z"
   },
   {
    "duration": 26,
    "start_time": "2023-05-05T06:36:56.479Z"
   },
   {
    "duration": 13,
    "start_time": "2023-05-05T06:36:56.507Z"
   },
   {
    "duration": 115,
    "start_time": "2023-05-05T06:36:56.521Z"
   },
   {
    "duration": 31,
    "start_time": "2023-05-05T06:36:56.638Z"
   },
   {
    "duration": 45,
    "start_time": "2023-05-05T06:36:56.671Z"
   },
   {
    "duration": 3,
    "start_time": "2023-05-05T06:36:56.718Z"
   },
   {
    "duration": 91,
    "start_time": "2023-05-07T07:34:10.830Z"
   },
   {
    "duration": 1790,
    "start_time": "2023-05-07T07:34:13.016Z"
   },
   {
    "duration": 20,
    "start_time": "2023-05-07T07:34:14.810Z"
   },
   {
    "duration": 3,
    "start_time": "2023-05-07T07:34:14.832Z"
   },
   {
    "duration": 23,
    "start_time": "2023-05-07T07:34:14.837Z"
   },
   {
    "duration": 16,
    "start_time": "2023-05-07T07:34:14.862Z"
   },
   {
    "duration": 33,
    "start_time": "2023-05-07T07:34:14.880Z"
   },
   {
    "duration": 67,
    "start_time": "2023-05-07T07:34:14.915Z"
   },
   {
    "duration": 96,
    "start_time": "2023-05-07T07:34:14.983Z"
   },
   {
    "duration": 40,
    "start_time": "2023-05-07T07:34:15.080Z"
   },
   {
    "duration": 20,
    "start_time": "2023-05-07T07:34:15.122Z"
   },
   {
    "duration": 9,
    "start_time": "2023-05-07T07:34:15.145Z"
   },
   {
    "duration": 7,
    "start_time": "2023-05-07T07:34:15.155Z"
   },
   {
    "duration": 199,
    "start_time": "2023-05-07T07:34:15.164Z"
   },
   {
    "duration": 1159,
    "start_time": "2023-05-07T07:34:15.366Z"
   },
   {
    "duration": 17,
    "start_time": "2023-05-07T07:34:16.527Z"
   },
   {
    "duration": 16,
    "start_time": "2023-05-07T07:34:16.546Z"
   },
   {
    "duration": 143,
    "start_time": "2023-05-07T07:34:16.564Z"
   },
   {
    "duration": 38,
    "start_time": "2023-05-07T07:34:16.709Z"
   },
   {
    "duration": 68,
    "start_time": "2023-05-07T07:34:16.749Z"
   },
   {
    "duration": 8,
    "start_time": "2023-05-07T07:34:16.820Z"
   },
   {
    "duration": 238,
    "start_time": "2023-05-07T07:34:16.833Z"
   },
   {
    "duration": 278,
    "start_time": "2023-05-07T07:35:02.251Z"
   },
   {
    "duration": 259,
    "start_time": "2023-05-07T07:35:15.968Z"
   },
   {
    "duration": 208,
    "start_time": "2023-05-07T07:35:20.126Z"
   },
   {
    "duration": 263,
    "start_time": "2023-05-07T07:35:23.675Z"
   },
   {
    "duration": 246,
    "start_time": "2023-05-07T07:35:27.220Z"
   },
   {
    "duration": 255,
    "start_time": "2023-05-07T07:35:30.068Z"
   },
   {
    "duration": 275,
    "start_time": "2023-05-07T07:35:40.454Z"
   },
   {
    "duration": 26,
    "start_time": "2023-05-07T07:36:03.775Z"
   },
   {
    "duration": 45,
    "start_time": "2023-05-07T07:36:42.784Z"
   },
   {
    "duration": 22,
    "start_time": "2023-05-07T07:37:05.228Z"
   },
   {
    "duration": 31,
    "start_time": "2023-05-07T07:37:30.712Z"
   },
   {
    "duration": 39,
    "start_time": "2023-05-07T07:37:37.415Z"
   },
   {
    "duration": 431,
    "start_time": "2023-05-07T07:38:57.528Z"
   },
   {
    "duration": 60,
    "start_time": "2023-05-07T07:42:51.955Z"
   },
   {
    "duration": 85,
    "start_time": "2023-05-07T07:43:12.244Z"
   },
   {
    "duration": 106,
    "start_time": "2023-05-07T07:43:42.673Z"
   },
   {
    "duration": 83,
    "start_time": "2023-05-07T07:43:47.530Z"
   },
   {
    "duration": 86,
    "start_time": "2023-05-07T07:44:37.410Z"
   },
   {
    "duration": 75,
    "start_time": "2023-05-07T07:45:58.679Z"
   },
   {
    "duration": 127,
    "start_time": "2023-05-07T07:46:15.796Z"
   },
   {
    "duration": 73,
    "start_time": "2023-05-07T07:48:26.124Z"
   },
   {
    "duration": 59,
    "start_time": "2023-05-07T07:48:39.816Z"
   },
   {
    "duration": 69,
    "start_time": "2023-05-07T07:50:21.642Z"
   },
   {
    "duration": 84,
    "start_time": "2023-05-07T07:51:01.052Z"
   },
   {
    "duration": 178,
    "start_time": "2023-05-07T07:51:16.337Z"
   },
   {
    "duration": 148,
    "start_time": "2023-05-07T07:51:24.742Z"
   },
   {
    "duration": 9,
    "start_time": "2023-05-07T07:51:29.136Z"
   },
   {
    "duration": 14,
    "start_time": "2023-05-07T07:51:40.533Z"
   },
   {
    "duration": 16,
    "start_time": "2023-05-07T07:51:47.544Z"
   },
   {
    "duration": 130,
    "start_time": "2023-05-07T07:51:54.240Z"
   },
   {
    "duration": 164,
    "start_time": "2023-05-07T07:52:01.670Z"
   },
   {
    "duration": 24,
    "start_time": "2023-05-07T07:52:24.801Z"
   },
   {
    "duration": 164,
    "start_time": "2023-05-07T07:52:39.277Z"
   },
   {
    "duration": 153,
    "start_time": "2023-05-07T07:52:57.862Z"
   },
   {
    "duration": 10,
    "start_time": "2023-05-07T07:53:00.941Z"
   },
   {
    "duration": 21,
    "start_time": "2023-05-07T07:53:07.422Z"
   },
   {
    "duration": 69,
    "start_time": "2023-05-07T07:54:13.762Z"
   },
   {
    "duration": 67,
    "start_time": "2023-05-07T07:54:19.009Z"
   },
   {
    "duration": 10,
    "start_time": "2023-05-07T07:54:23.228Z"
   },
   {
    "duration": 414,
    "start_time": "2023-05-07T07:55:36.026Z"
   },
   {
    "duration": 226,
    "start_time": "2023-05-07T07:55:54.860Z"
   },
   {
    "duration": 71,
    "start_time": "2023-05-07T07:57:08.569Z"
   },
   {
    "duration": 197,
    "start_time": "2023-05-07T07:57:16.056Z"
   },
   {
    "duration": 162,
    "start_time": "2023-05-07T07:57:32.871Z"
   },
   {
    "duration": 8,
    "start_time": "2023-05-07T07:57:39.844Z"
   },
   {
    "duration": 14,
    "start_time": "2023-05-07T07:57:46.585Z"
   },
   {
    "duration": 21,
    "start_time": "2023-05-07T07:57:52.526Z"
   },
   {
    "duration": 231,
    "start_time": "2023-05-07T07:57:56.551Z"
   },
   {
    "duration": 200,
    "start_time": "2023-05-07T07:58:00.714Z"
   },
   {
    "duration": 91,
    "start_time": "2023-05-07T07:58:39.787Z"
   },
   {
    "duration": 191,
    "start_time": "2023-05-07T07:58:48.312Z"
   },
   {
    "duration": 144,
    "start_time": "2023-05-07T07:58:53.936Z"
   },
   {
    "duration": 134,
    "start_time": "2023-05-07T07:59:10.741Z"
   },
   {
    "duration": 162,
    "start_time": "2023-05-07T07:59:13.309Z"
   },
   {
    "duration": 141,
    "start_time": "2023-05-07T07:59:16.838Z"
   },
   {
    "duration": 145,
    "start_time": "2023-05-07T07:59:20.557Z"
   },
   {
    "duration": 187,
    "start_time": "2023-05-07T07:59:29.057Z"
   },
   {
    "duration": 152,
    "start_time": "2023-05-07T07:59:33.118Z"
   },
   {
    "duration": 189,
    "start_time": "2023-05-07T07:59:46.332Z"
   },
   {
    "duration": 177,
    "start_time": "2023-05-07T07:59:55.857Z"
   },
   {
    "duration": 161,
    "start_time": "2023-05-07T08:00:06.556Z"
   },
   {
    "duration": 200,
    "start_time": "2023-05-07T08:01:07.856Z"
   },
   {
    "duration": 159,
    "start_time": "2023-05-07T08:01:33.723Z"
   },
   {
    "duration": 81,
    "start_time": "2023-05-07T08:02:19.372Z"
   },
   {
    "duration": 101,
    "start_time": "2023-05-07T08:02:46.377Z"
   },
   {
    "duration": 10,
    "start_time": "2023-05-07T08:18:10.132Z"
   },
   {
    "duration": 13,
    "start_time": "2023-05-07T08:18:33.047Z"
   },
   {
    "duration": 14,
    "start_time": "2023-05-07T08:18:36.450Z"
   },
   {
    "duration": 12,
    "start_time": "2023-05-07T08:18:48.078Z"
   },
   {
    "duration": 3,
    "start_time": "2023-05-07T08:18:55.148Z"
   },
   {
    "duration": 164,
    "start_time": "2023-05-07T08:18:57.114Z"
   },
   {
    "duration": 28,
    "start_time": "2023-05-07T08:18:57.285Z"
   },
   {
    "duration": 7,
    "start_time": "2023-05-07T08:18:57.316Z"
   },
   {
    "duration": 42,
    "start_time": "2023-05-07T08:18:57.326Z"
   },
   {
    "duration": 15,
    "start_time": "2023-05-07T08:18:57.371Z"
   },
   {
    "duration": 137,
    "start_time": "2023-05-07T08:18:57.389Z"
   },
   {
    "duration": 103,
    "start_time": "2023-05-07T08:18:57.531Z"
   },
   {
    "duration": 99,
    "start_time": "2023-05-07T08:18:57.636Z"
   },
   {
    "duration": 19,
    "start_time": "2023-05-07T08:18:57.737Z"
   },
   {
    "duration": 30,
    "start_time": "2023-05-07T08:18:57.757Z"
   },
   {
    "duration": 44,
    "start_time": "2023-05-07T08:18:57.789Z"
   },
   {
    "duration": 12,
    "start_time": "2023-05-07T08:18:57.835Z"
   },
   {
    "duration": 184,
    "start_time": "2023-05-07T08:18:57.848Z"
   },
   {
    "duration": 901,
    "start_time": "2023-05-07T08:18:58.035Z"
   },
   {
    "duration": 15,
    "start_time": "2023-05-07T08:18:58.938Z"
   },
   {
    "duration": 15,
    "start_time": "2023-05-07T08:18:58.955Z"
   },
   {
    "duration": 146,
    "start_time": "2023-05-07T08:18:58.971Z"
   },
   {
    "duration": 35,
    "start_time": "2023-05-07T08:18:59.122Z"
   },
   {
    "duration": 58,
    "start_time": "2023-05-07T08:18:59.159Z"
   },
   {
    "duration": 6,
    "start_time": "2023-05-07T08:18:59.219Z"
   },
   {
    "duration": 54,
    "start_time": "2023-05-07T08:18:59.227Z"
   },
   {
    "duration": 153,
    "start_time": "2023-05-07T08:18:59.283Z"
   },
   {
    "duration": 10,
    "start_time": "2023-05-07T08:18:59.438Z"
   },
   {
    "duration": 97,
    "start_time": "2023-05-07T08:20:20.667Z"
   },
   {
    "duration": 19,
    "start_time": "2023-05-07T08:20:22.845Z"
   },
   {
    "duration": 182,
    "start_time": "2023-05-07T08:20:33.475Z"
   },
   {
    "duration": 8,
    "start_time": "2023-05-07T08:20:33.659Z"
   },
   {
    "duration": 8,
    "start_time": "2023-05-07T08:20:33.669Z"
   },
   {
    "duration": 39,
    "start_time": "2023-05-07T08:20:33.679Z"
   },
   {
    "duration": 15,
    "start_time": "2023-05-07T08:20:33.720Z"
   },
   {
    "duration": 15,
    "start_time": "2023-05-07T08:20:33.737Z"
   },
   {
    "duration": 92,
    "start_time": "2023-05-07T08:20:33.753Z"
   },
   {
    "duration": 80,
    "start_time": "2023-05-07T08:20:33.847Z"
   },
   {
    "duration": 20,
    "start_time": "2023-05-07T08:20:33.929Z"
   },
   {
    "duration": 20,
    "start_time": "2023-05-07T08:20:33.952Z"
   },
   {
    "duration": 41,
    "start_time": "2023-05-07T08:20:33.974Z"
   },
   {
    "duration": 8,
    "start_time": "2023-05-07T08:20:34.022Z"
   },
   {
    "duration": 176,
    "start_time": "2023-05-07T08:20:34.031Z"
   },
   {
    "duration": 1077,
    "start_time": "2023-05-07T08:20:34.211Z"
   },
   {
    "duration": 17,
    "start_time": "2023-05-07T08:20:35.290Z"
   },
   {
    "duration": 18,
    "start_time": "2023-05-07T08:20:35.312Z"
   },
   {
    "duration": 126,
    "start_time": "2023-05-07T08:20:35.331Z"
   },
   {
    "duration": 53,
    "start_time": "2023-05-07T08:20:35.459Z"
   },
   {
    "duration": 44,
    "start_time": "2023-05-07T08:20:35.514Z"
   },
   {
    "duration": 2,
    "start_time": "2023-05-07T08:20:35.560Z"
   },
   {
    "duration": 61,
    "start_time": "2023-05-07T08:20:35.564Z"
   },
   {
    "duration": 152,
    "start_time": "2023-05-07T08:20:35.627Z"
   },
   {
    "duration": 34,
    "start_time": "2023-05-07T08:20:35.781Z"
   },
   {
    "duration": 11,
    "start_time": "2023-05-07T08:21:46.412Z"
   },
   {
    "duration": 10,
    "start_time": "2023-05-07T08:21:49.462Z"
   },
   {
    "duration": 66,
    "start_time": "2023-05-07T08:22:09.587Z"
   },
   {
    "duration": 154,
    "start_time": "2023-05-07T08:22:10.765Z"
   },
   {
    "duration": 18,
    "start_time": "2023-05-07T08:22:13.589Z"
   },
   {
    "duration": 43,
    "start_time": "2023-05-07T08:23:24.476Z"
   },
   {
    "duration": 3,
    "start_time": "2023-05-07T08:24:02.238Z"
   },
   {
    "duration": 63,
    "start_time": "2023-05-07T08:24:09.578Z"
   },
   {
    "duration": 60,
    "start_time": "2023-05-07T08:24:28.308Z"
   },
   {
    "duration": 63,
    "start_time": "2023-05-07T08:24:49.794Z"
   },
   {
    "duration": 59,
    "start_time": "2023-05-07T08:26:51.332Z"
   },
   {
    "duration": 56,
    "start_time": "2023-05-07T08:27:00.330Z"
   },
   {
    "duration": 56,
    "start_time": "2023-05-07T08:27:45.416Z"
   },
   {
    "duration": 66,
    "start_time": "2023-05-07T08:27:51.383Z"
   },
   {
    "duration": 54,
    "start_time": "2023-05-07T08:28:00.919Z"
   },
   {
    "duration": 58,
    "start_time": "2023-05-07T08:28:24.723Z"
   },
   {
    "duration": 79,
    "start_time": "2023-05-07T08:31:14.475Z"
   },
   {
    "duration": 77,
    "start_time": "2023-05-07T08:31:38.076Z"
   },
   {
    "duration": 82,
    "start_time": "2023-05-07T08:31:42.851Z"
   },
   {
    "duration": 89,
    "start_time": "2023-05-07T08:31:47.927Z"
   },
   {
    "duration": 76,
    "start_time": "2023-05-07T08:31:53.570Z"
   },
   {
    "duration": 67,
    "start_time": "2023-05-07T08:32:56.160Z"
   },
   {
    "duration": 55,
    "start_time": "2023-05-07T08:33:05.033Z"
   },
   {
    "duration": 270,
    "start_time": "2023-05-07T08:33:28.113Z"
   },
   {
    "duration": 51,
    "start_time": "2023-05-07T08:33:39.124Z"
   },
   {
    "duration": 85,
    "start_time": "2023-05-07T08:33:41.141Z"
   },
   {
    "duration": 54,
    "start_time": "2023-05-07T08:33:50.016Z"
   },
   {
    "duration": 58,
    "start_time": "2023-05-07T08:33:55.421Z"
   },
   {
    "duration": 65,
    "start_time": "2023-05-07T08:34:39.265Z"
   },
   {
    "duration": 77,
    "start_time": "2023-05-07T08:34:47.335Z"
   },
   {
    "duration": 62,
    "start_time": "2023-05-07T08:34:55.022Z"
   },
   {
    "duration": 64,
    "start_time": "2023-05-07T08:36:27.424Z"
   },
   {
    "duration": 56,
    "start_time": "2023-05-07T08:36:33.314Z"
   },
   {
    "duration": 54,
    "start_time": "2023-05-07T08:37:19.532Z"
   },
   {
    "duration": 77,
    "start_time": "2023-05-07T08:37:23.257Z"
   },
   {
    "duration": 75,
    "start_time": "2023-05-07T08:37:35.458Z"
   },
   {
    "duration": 28,
    "start_time": "2023-05-07T08:40:45.415Z"
   },
   {
    "duration": 15,
    "start_time": "2023-05-07T08:41:13.640Z"
   },
   {
    "duration": 16,
    "start_time": "2023-05-07T08:41:30.434Z"
   },
   {
    "duration": 11,
    "start_time": "2023-05-07T08:41:33.532Z"
   },
   {
    "duration": 13,
    "start_time": "2023-05-07T08:41:57.552Z"
   },
   {
    "duration": 6,
    "start_time": "2023-05-07T08:42:25.751Z"
   },
   {
    "duration": 10,
    "start_time": "2023-05-07T08:42:58.115Z"
   },
   {
    "duration": 9,
    "start_time": "2023-05-07T08:43:01.976Z"
   },
   {
    "duration": 162,
    "start_time": "2023-05-07T08:43:19.495Z"
   },
   {
    "duration": 148,
    "start_time": "2023-05-07T08:43:51.880Z"
   },
   {
    "duration": 7,
    "start_time": "2023-05-07T08:44:19.957Z"
   },
   {
    "duration": 7,
    "start_time": "2023-05-07T08:44:28.949Z"
   },
   {
    "duration": 10,
    "start_time": "2023-05-07T08:44:41.638Z"
   },
   {
    "duration": 165,
    "start_time": "2023-05-07T08:44:47.689Z"
   },
   {
    "duration": 8,
    "start_time": "2023-05-07T08:45:00.419Z"
   },
   {
    "duration": 6,
    "start_time": "2023-05-07T08:45:09.905Z"
   },
   {
    "duration": 6,
    "start_time": "2023-05-07T08:45:13.044Z"
   },
   {
    "duration": 6,
    "start_time": "2023-05-07T08:45:15.730Z"
   },
   {
    "duration": 6,
    "start_time": "2023-05-07T08:45:23.313Z"
   },
   {
    "duration": 10,
    "start_time": "2023-05-07T08:45:27.573Z"
   },
   {
    "duration": 6,
    "start_time": "2023-05-07T08:45:30.206Z"
   },
   {
    "duration": 7,
    "start_time": "2023-05-07T08:45:31.922Z"
   },
   {
    "duration": 91,
    "start_time": "2023-05-07T08:55:53.142Z"
   },
   {
    "duration": 71,
    "start_time": "2023-05-07T08:56:09.238Z"
   },
   {
    "duration": 71,
    "start_time": "2023-05-07T08:56:22.363Z"
   },
   {
    "duration": 68,
    "start_time": "2023-05-07T08:56:24.967Z"
   },
   {
    "duration": 68,
    "start_time": "2023-05-07T08:56:56.852Z"
   },
   {
    "duration": 65,
    "start_time": "2023-05-07T08:57:01.197Z"
   },
   {
    "duration": 67,
    "start_time": "2023-05-07T08:59:13.251Z"
   },
   {
    "duration": 58,
    "start_time": "2023-05-07T09:11:45.632Z"
   },
   {
    "duration": 55,
    "start_time": "2023-05-07T09:11:51.319Z"
   },
   {
    "duration": 69,
    "start_time": "2023-05-07T09:12:05.737Z"
   },
   {
    "duration": 66,
    "start_time": "2023-05-07T09:12:22.414Z"
   },
   {
    "duration": 72,
    "start_time": "2023-05-07T09:14:23.788Z"
   },
   {
    "duration": 8,
    "start_time": "2023-05-07T09:17:23.316Z"
   },
   {
    "duration": 4,
    "start_time": "2023-05-07T09:17:34.907Z"
   },
   {
    "duration": 4,
    "start_time": "2023-05-07T09:17:44.081Z"
   },
   {
    "duration": 5,
    "start_time": "2023-05-07T09:18:35.465Z"
   },
   {
    "duration": 5,
    "start_time": "2023-05-07T09:18:39.368Z"
   },
   {
    "duration": 4,
    "start_time": "2023-05-07T09:19:19.052Z"
   },
   {
    "duration": 5,
    "start_time": "2023-05-07T09:19:22.782Z"
   },
   {
    "duration": 69,
    "start_time": "2023-05-07T09:19:46.309Z"
   },
   {
    "duration": 70,
    "start_time": "2023-05-07T09:20:03.644Z"
   },
   {
    "duration": 68,
    "start_time": "2023-05-07T09:20:09.072Z"
   },
   {
    "duration": 91,
    "start_time": "2023-05-07T09:20:18.995Z"
   },
   {
    "duration": 112,
    "start_time": "2023-05-07T09:20:24.650Z"
   },
   {
    "duration": 10,
    "start_time": "2023-05-07T09:20:35.108Z"
   },
   {
    "duration": 8,
    "start_time": "2023-05-07T09:20:44.472Z"
   },
   {
    "duration": 86,
    "start_time": "2023-05-07T09:20:57.254Z"
   },
   {
    "duration": 12,
    "start_time": "2023-05-07T09:20:59.792Z"
   },
   {
    "duration": 10,
    "start_time": "2023-05-07T09:21:21.989Z"
   },
   {
    "duration": 6,
    "start_time": "2023-05-07T09:24:14.880Z"
   },
   {
    "duration": 6,
    "start_time": "2023-05-07T09:24:28.346Z"
   },
   {
    "duration": 8,
    "start_time": "2023-05-07T09:24:59.329Z"
   },
   {
    "duration": 5,
    "start_time": "2023-05-07T09:29:26.673Z"
   },
   {
    "duration": 5,
    "start_time": "2023-05-07T09:29:37.210Z"
   },
   {
    "duration": 5,
    "start_time": "2023-05-07T09:29:44.849Z"
   },
   {
    "duration": 5,
    "start_time": "2023-05-07T09:30:34.329Z"
   },
   {
    "duration": 5,
    "start_time": "2023-05-07T09:31:10.138Z"
   },
   {
    "duration": 20,
    "start_time": "2023-05-07T12:36:14.777Z"
   },
   {
    "duration": 30,
    "start_time": "2023-05-07T12:37:09.961Z"
   },
   {
    "duration": 676,
    "start_time": "2023-05-07T12:41:17.395Z"
   },
   {
    "duration": 163,
    "start_time": "2023-05-07T12:58:17.410Z"
   },
   {
    "duration": 8,
    "start_time": "2023-05-07T12:58:17.576Z"
   },
   {
    "duration": 17,
    "start_time": "2023-05-07T12:58:17.586Z"
   },
   {
    "duration": 21,
    "start_time": "2023-05-07T12:58:17.606Z"
   },
   {
    "duration": 14,
    "start_time": "2023-05-07T12:58:17.629Z"
   },
   {
    "duration": 14,
    "start_time": "2023-05-07T12:58:17.645Z"
   },
   {
    "duration": 98,
    "start_time": "2023-05-07T12:58:17.662Z"
   },
   {
    "duration": 95,
    "start_time": "2023-05-07T12:58:17.762Z"
   },
   {
    "duration": 35,
    "start_time": "2023-05-07T12:58:17.859Z"
   },
   {
    "duration": 29,
    "start_time": "2023-05-07T12:58:17.901Z"
   },
   {
    "duration": 9,
    "start_time": "2023-05-07T12:58:17.933Z"
   },
   {
    "duration": 22,
    "start_time": "2023-05-07T12:58:17.944Z"
   },
   {
    "duration": 236,
    "start_time": "2023-05-07T12:58:17.968Z"
   },
   {
    "duration": 881,
    "start_time": "2023-05-07T12:58:18.206Z"
   },
   {
    "duration": 23,
    "start_time": "2023-05-07T12:58:19.092Z"
   },
   {
    "duration": 52,
    "start_time": "2023-05-07T12:58:19.117Z"
   },
   {
    "duration": 157,
    "start_time": "2023-05-07T12:58:19.172Z"
   },
   {
    "duration": 34,
    "start_time": "2023-05-07T12:58:19.331Z"
   },
   {
    "duration": 55,
    "start_time": "2023-05-07T12:58:19.367Z"
   },
   {
    "duration": 5,
    "start_time": "2023-05-07T12:58:19.423Z"
   },
   {
    "duration": 95,
    "start_time": "2023-05-07T12:58:19.430Z"
   },
   {
    "duration": 286,
    "start_time": "2023-05-07T12:58:19.526Z"
   },
   {
    "duration": 87,
    "start_time": "2023-05-07T12:58:19.814Z"
   },
   {
    "duration": 14,
    "start_time": "2023-05-07T12:58:19.903Z"
   },
   {
    "duration": 39,
    "start_time": "2023-05-07T12:58:19.920Z"
   },
   {
    "duration": 50,
    "start_time": "2023-05-07T12:58:19.961Z"
   },
   {
    "duration": 58,
    "start_time": "2023-05-07T12:58:20.013Z"
   },
   {
    "duration": 74,
    "start_time": "2023-05-07T12:58:20.075Z"
   },
   {
    "duration": 11,
    "start_time": "2023-05-07T12:58:20.151Z"
   },
   {
    "duration": 177,
    "start_time": "2023-05-07T12:58:20.164Z"
   },
   {
    "duration": 8,
    "start_time": "2023-05-07T12:58:20.342Z"
   },
   {
    "duration": 67,
    "start_time": "2023-05-07T13:10:27.909Z"
   },
   {
    "duration": 50,
    "start_time": "2023-05-07T13:10:35.074Z"
   },
   {
    "duration": 289,
    "start_time": "2023-05-07T13:10:41.078Z"
   },
   {
    "duration": 124,
    "start_time": "2023-05-07T13:11:18.148Z"
   },
   {
    "duration": 131,
    "start_time": "2023-05-07T13:11:25.237Z"
   },
   {
    "duration": 135,
    "start_time": "2023-05-07T13:11:53.889Z"
   },
   {
    "duration": 137,
    "start_time": "2023-05-07T13:12:41.005Z"
   },
   {
    "duration": 133,
    "start_time": "2023-05-07T13:12:46.876Z"
   },
   {
    "duration": 122,
    "start_time": "2023-05-07T13:12:52.521Z"
   },
   {
    "duration": 166,
    "start_time": "2023-05-07T13:12:57.436Z"
   },
   {
    "duration": 13,
    "start_time": "2023-05-07T13:14:19.788Z"
   },
   {
    "duration": 8,
    "start_time": "2023-05-07T13:14:21.953Z"
   },
   {
    "duration": 8,
    "start_time": "2023-05-07T13:14:39.870Z"
   },
   {
    "duration": 241,
    "start_time": "2023-05-07T15:59:22.272Z"
   },
   {
    "duration": 371,
    "start_time": "2023-05-07T16:00:29.900Z"
   },
   {
    "duration": 185,
    "start_time": "2023-05-07T16:00:53.627Z"
   },
   {
    "duration": 49,
    "start_time": "2023-05-07T16:01:22.022Z"
   },
   {
    "duration": 51,
    "start_time": "2023-05-07T16:03:10.223Z"
   },
   {
    "duration": 65,
    "start_time": "2023-05-07T16:04:41.817Z"
   },
   {
    "duration": 14,
    "start_time": "2023-05-07T16:04:51.196Z"
   },
   {
    "duration": 12,
    "start_time": "2023-05-07T16:05:00.894Z"
   },
   {
    "duration": 15,
    "start_time": "2023-05-07T16:05:33.002Z"
   },
   {
    "duration": 10,
    "start_time": "2023-05-07T16:05:35.863Z"
   },
   {
    "duration": 11,
    "start_time": "2023-05-07T16:05:42.469Z"
   },
   {
    "duration": 51,
    "start_time": "2023-05-07T16:05:59.930Z"
   },
   {
    "duration": 19,
    "start_time": "2023-05-07T16:08:24.232Z"
   },
   {
    "duration": 43,
    "start_time": "2023-05-07T16:08:38.978Z"
   },
   {
    "duration": 50,
    "start_time": "2023-05-07T16:08:53.168Z"
   },
   {
    "duration": 47,
    "start_time": "2023-05-07T16:08:57.757Z"
   },
   {
    "duration": 49,
    "start_time": "2023-05-07T16:09:10.976Z"
   },
   {
    "duration": 9,
    "start_time": "2023-05-07T16:09:30.248Z"
   },
   {
    "duration": 10,
    "start_time": "2023-05-07T16:10:14.104Z"
   },
   {
    "duration": 9,
    "start_time": "2023-05-07T16:11:12.379Z"
   },
   {
    "duration": 10,
    "start_time": "2023-05-07T16:11:28.000Z"
   },
   {
    "duration": 11,
    "start_time": "2023-05-07T16:12:11.461Z"
   },
   {
    "duration": 11,
    "start_time": "2023-05-07T16:13:26.220Z"
   },
   {
    "duration": 68,
    "start_time": "2023-05-07T16:19:43.256Z"
   },
   {
    "duration": 56,
    "start_time": "2023-05-07T16:19:48.340Z"
   },
   {
    "duration": 54,
    "start_time": "2023-05-07T16:19:53.697Z"
   },
   {
    "duration": 52,
    "start_time": "2023-05-07T16:20:01.700Z"
   },
   {
    "duration": 59,
    "start_time": "2023-05-07T16:20:04.750Z"
   },
   {
    "duration": 56,
    "start_time": "2023-05-07T16:39:06.794Z"
   },
   {
    "duration": 4,
    "start_time": "2023-05-07T16:39:15.915Z"
   },
   {
    "duration": 8,
    "start_time": "2023-05-07T16:39:58.367Z"
   },
   {
    "duration": 20,
    "start_time": "2023-05-07T16:40:13.137Z"
   },
   {
    "duration": 42,
    "start_time": "2023-05-07T16:40:18.338Z"
   },
   {
    "duration": 151,
    "start_time": "2023-05-07T16:40:52.074Z"
   },
   {
    "duration": 7,
    "start_time": "2023-05-07T16:40:52.227Z"
   },
   {
    "duration": 17,
    "start_time": "2023-05-07T16:40:52.236Z"
   },
   {
    "duration": 26,
    "start_time": "2023-05-07T16:40:52.255Z"
   },
   {
    "duration": 17,
    "start_time": "2023-05-07T16:40:52.283Z"
   },
   {
    "duration": 13,
    "start_time": "2023-05-07T16:40:52.301Z"
   },
   {
    "duration": 82,
    "start_time": "2023-05-07T16:40:52.316Z"
   },
   {
    "duration": 75,
    "start_time": "2023-05-07T16:40:52.400Z"
   },
   {
    "duration": 33,
    "start_time": "2023-05-07T16:40:52.477Z"
   },
   {
    "duration": 18,
    "start_time": "2023-05-07T16:40:52.512Z"
   },
   {
    "duration": 8,
    "start_time": "2023-05-07T16:40:52.531Z"
   },
   {
    "duration": 6,
    "start_time": "2023-05-07T16:40:52.541Z"
   },
   {
    "duration": 190,
    "start_time": "2023-05-07T16:40:52.549Z"
   },
   {
    "duration": 831,
    "start_time": "2023-05-07T16:40:52.741Z"
   },
   {
    "duration": 25,
    "start_time": "2023-05-07T16:40:53.573Z"
   },
   {
    "duration": 16,
    "start_time": "2023-05-07T16:40:53.600Z"
   },
   {
    "duration": 121,
    "start_time": "2023-05-07T16:40:53.618Z"
   },
   {
    "duration": 35,
    "start_time": "2023-05-07T16:40:53.741Z"
   },
   {
    "duration": 50,
    "start_time": "2023-05-07T16:40:53.778Z"
   },
   {
    "duration": 162,
    "start_time": "2023-05-07T16:40:53.830Z"
   },
   {
    "duration": 49,
    "start_time": "2023-05-07T16:40:53.994Z"
   },
   {
    "duration": 151,
    "start_time": "2023-05-07T16:40:54.044Z"
   },
   {
    "duration": 71,
    "start_time": "2023-05-07T16:40:54.197Z"
   },
   {
    "duration": 72,
    "start_time": "2023-05-07T16:40:54.270Z"
   },
   {
    "duration": 6,
    "start_time": "2023-05-07T16:40:54.344Z"
   },
   {
    "duration": 40,
    "start_time": "2023-05-07T16:40:54.352Z"
   },
   {
    "duration": 4,
    "start_time": "2023-05-07T16:40:54.394Z"
   },
   {
    "duration": 10,
    "start_time": "2023-05-07T16:40:54.401Z"
   },
   {
    "duration": 47,
    "start_time": "2023-05-07T16:40:54.413Z"
   },
   {
    "duration": 69,
    "start_time": "2023-05-07T16:40:54.461Z"
   },
   {
    "duration": 0,
    "start_time": "2023-05-07T16:40:54.532Z"
   },
   {
    "duration": 1,
    "start_time": "2023-05-07T16:40:54.533Z"
   },
   {
    "duration": 0,
    "start_time": "2023-05-07T16:40:54.535Z"
   },
   {
    "duration": 0,
    "start_time": "2023-05-07T16:40:54.537Z"
   },
   {
    "duration": 0,
    "start_time": "2023-05-07T16:40:54.539Z"
   },
   {
    "duration": 0,
    "start_time": "2023-05-07T16:40:54.540Z"
   },
   {
    "duration": 55,
    "start_time": "2023-05-07T16:41:27.027Z"
   },
   {
    "duration": 41,
    "start_time": "2023-05-07T16:41:37.155Z"
   },
   {
    "duration": 31,
    "start_time": "2023-05-07T16:41:44.478Z"
   },
   {
    "duration": 45,
    "start_time": "2023-05-07T16:41:50.171Z"
   },
   {
    "duration": 44,
    "start_time": "2023-05-07T16:44:52.033Z"
   },
   {
    "duration": 31,
    "start_time": "2023-05-07T16:45:11.309Z"
   },
   {
    "duration": 36,
    "start_time": "2023-05-07T16:45:24.116Z"
   },
   {
    "duration": 8,
    "start_time": "2023-05-07T16:47:27.203Z"
   },
   {
    "duration": 58,
    "start_time": "2023-05-07T16:47:32.384Z"
   },
   {
    "duration": 150,
    "start_time": "2023-05-07T16:48:01.891Z"
   },
   {
    "duration": 6,
    "start_time": "2023-05-07T16:48:05.671Z"
   },
   {
    "duration": 41,
    "start_time": "2023-05-07T16:48:06.391Z"
   },
   {
    "duration": 39,
    "start_time": "2023-05-07T16:49:02.891Z"
   },
   {
    "duration": 151,
    "start_time": "2023-05-07T16:49:06.126Z"
   },
   {
    "duration": 14,
    "start_time": "2023-05-07T16:49:06.279Z"
   },
   {
    "duration": 3,
    "start_time": "2023-05-07T16:49:06.295Z"
   },
   {
    "duration": 25,
    "start_time": "2023-05-07T16:49:06.300Z"
   },
   {
    "duration": 18,
    "start_time": "2023-05-07T16:49:06.327Z"
   },
   {
    "duration": 14,
    "start_time": "2023-05-07T16:49:06.347Z"
   },
   {
    "duration": 88,
    "start_time": "2023-05-07T16:49:06.362Z"
   },
   {
    "duration": 83,
    "start_time": "2023-05-07T16:49:06.452Z"
   },
   {
    "duration": 21,
    "start_time": "2023-05-07T16:49:06.536Z"
   },
   {
    "duration": 33,
    "start_time": "2023-05-07T16:49:06.559Z"
   },
   {
    "duration": 7,
    "start_time": "2023-05-07T16:49:06.594Z"
   },
   {
    "duration": 7,
    "start_time": "2023-05-07T16:49:06.603Z"
   },
   {
    "duration": 162,
    "start_time": "2023-05-07T16:49:06.612Z"
   },
   {
    "duration": 884,
    "start_time": "2023-05-07T16:49:06.778Z"
   },
   {
    "duration": 13,
    "start_time": "2023-05-07T16:49:07.664Z"
   },
   {
    "duration": 16,
    "start_time": "2023-05-07T16:49:07.691Z"
   },
   {
    "duration": 125,
    "start_time": "2023-05-07T16:49:07.709Z"
   },
   {
    "duration": 35,
    "start_time": "2023-05-07T16:49:07.836Z"
   },
   {
    "duration": 48,
    "start_time": "2023-05-07T16:49:07.873Z"
   },
   {
    "duration": 5,
    "start_time": "2023-05-07T16:49:07.923Z"
   },
   {
    "duration": 63,
    "start_time": "2023-05-07T16:49:07.930Z"
   },
   {
    "duration": 143,
    "start_time": "2023-05-07T16:49:07.995Z"
   },
   {
    "duration": 81,
    "start_time": "2023-05-07T16:49:08.140Z"
   },
   {
    "duration": 69,
    "start_time": "2023-05-07T16:49:08.223Z"
   },
   {
    "duration": 6,
    "start_time": "2023-05-07T16:49:08.294Z"
   },
   {
    "duration": 13,
    "start_time": "2023-05-07T16:49:08.302Z"
   },
   {
    "duration": 7,
    "start_time": "2023-05-07T16:49:08.317Z"
   },
   {
    "duration": 13,
    "start_time": "2023-05-07T16:49:08.326Z"
   },
   {
    "duration": 55,
    "start_time": "2023-05-07T16:49:08.341Z"
   },
   {
    "duration": 6,
    "start_time": "2023-05-07T16:49:08.398Z"
   },
   {
    "duration": 75,
    "start_time": "2023-05-07T16:49:08.406Z"
   },
   {
    "duration": 0,
    "start_time": "2023-05-07T16:49:08.492Z"
   },
   {
    "duration": 0,
    "start_time": "2023-05-07T16:49:08.493Z"
   },
   {
    "duration": 0,
    "start_time": "2023-05-07T16:49:08.494Z"
   },
   {
    "duration": 0,
    "start_time": "2023-05-07T16:49:08.496Z"
   },
   {
    "duration": 0,
    "start_time": "2023-05-07T16:49:08.497Z"
   },
   {
    "duration": 0,
    "start_time": "2023-05-07T16:49:08.498Z"
   },
   {
    "duration": 7,
    "start_time": "2023-05-07T16:50:03.643Z"
   },
   {
    "duration": 50,
    "start_time": "2023-05-07T16:50:06.123Z"
   },
   {
    "duration": 6,
    "start_time": "2023-05-07T16:50:31.356Z"
   },
   {
    "duration": 60,
    "start_time": "2023-05-07T16:55:12.762Z"
   },
   {
    "duration": 7,
    "start_time": "2023-05-07T16:55:26.595Z"
   },
   {
    "duration": 70,
    "start_time": "2023-05-07T16:55:27.582Z"
   },
   {
    "duration": 58,
    "start_time": "2023-05-07T16:56:01.908Z"
   },
   {
    "duration": 55,
    "start_time": "2023-05-07T16:56:20.141Z"
   },
   {
    "duration": 50,
    "start_time": "2023-05-07T16:56:29.520Z"
   },
   {
    "duration": 32,
    "start_time": "2023-05-07T16:57:30.077Z"
   },
   {
    "duration": 11,
    "start_time": "2023-05-07T17:05:12.331Z"
   },
   {
    "duration": 7,
    "start_time": "2023-05-07T17:05:15.906Z"
   },
   {
    "duration": 73,
    "start_time": "2023-05-07T17:05:17.501Z"
   },
   {
    "duration": 51,
    "start_time": "2023-05-07T17:05:19.959Z"
   },
   {
    "duration": 55,
    "start_time": "2023-05-07T17:05:20.489Z"
   },
   {
    "duration": 50,
    "start_time": "2023-05-07T17:05:21.059Z"
   },
   {
    "duration": 4,
    "start_time": "2023-05-07T17:15:07.330Z"
   },
   {
    "duration": 287,
    "start_time": "2023-05-07T17:15:24.667Z"
   },
   {
    "duration": 4,
    "start_time": "2023-05-07T17:17:25.688Z"
   },
   {
    "duration": 289,
    "start_time": "2023-05-07T17:17:27.473Z"
   },
   {
    "duration": 3,
    "start_time": "2023-05-07T17:18:50.815Z"
   },
   {
    "duration": 28,
    "start_time": "2023-05-07T17:18:51.869Z"
   },
   {
    "duration": 4,
    "start_time": "2023-05-07T17:18:59.223Z"
   },
   {
    "duration": 271,
    "start_time": "2023-05-07T17:19:00.097Z"
   },
   {
    "duration": 4,
    "start_time": "2023-05-07T17:20:55.031Z"
   },
   {
    "duration": 278,
    "start_time": "2023-05-07T17:20:55.489Z"
   },
   {
    "duration": 4,
    "start_time": "2023-05-07T17:21:14.954Z"
   },
   {
    "duration": 271,
    "start_time": "2023-05-07T17:21:15.668Z"
   },
   {
    "duration": 3,
    "start_time": "2023-05-07T17:21:39.873Z"
   },
   {
    "duration": 270,
    "start_time": "2023-05-07T17:21:40.722Z"
   },
   {
    "duration": 3,
    "start_time": "2023-05-07T17:21:54.664Z"
   },
   {
    "duration": 297,
    "start_time": "2023-05-07T17:21:55.456Z"
   },
   {
    "duration": 4,
    "start_time": "2023-05-07T17:22:07.028Z"
   },
   {
    "duration": 306,
    "start_time": "2023-05-07T17:22:07.723Z"
   },
   {
    "duration": 4,
    "start_time": "2023-05-07T17:23:03.273Z"
   },
   {
    "duration": 66,
    "start_time": "2023-05-07T17:23:04.359Z"
   },
   {
    "duration": 4,
    "start_time": "2023-05-07T17:23:10.298Z"
   },
   {
    "duration": 277,
    "start_time": "2023-05-07T17:23:10.965Z"
   },
   {
    "duration": 278,
    "start_time": "2023-05-07T17:23:16.103Z"
   },
   {
    "duration": 148,
    "start_time": "2023-05-07T17:24:15.332Z"
   },
   {
    "duration": 12,
    "start_time": "2023-05-07T17:24:15.483Z"
   },
   {
    "duration": 17,
    "start_time": "2023-05-07T17:24:15.496Z"
   },
   {
    "duration": 52,
    "start_time": "2023-05-07T17:24:15.516Z"
   },
   {
    "duration": 15,
    "start_time": "2023-05-07T17:24:15.570Z"
   },
   {
    "duration": 14,
    "start_time": "2023-05-07T17:24:15.587Z"
   },
   {
    "duration": 71,
    "start_time": "2023-05-07T17:24:15.602Z"
   },
   {
    "duration": 76,
    "start_time": "2023-05-07T17:24:15.691Z"
   },
   {
    "duration": 32,
    "start_time": "2023-05-07T17:24:15.769Z"
   },
   {
    "duration": 18,
    "start_time": "2023-05-07T17:24:15.804Z"
   },
   {
    "duration": 7,
    "start_time": "2023-05-07T17:24:15.824Z"
   },
   {
    "duration": 10,
    "start_time": "2023-05-07T17:24:15.833Z"
   },
   {
    "duration": 187,
    "start_time": "2023-05-07T17:24:15.844Z"
   },
   {
    "duration": 974,
    "start_time": "2023-05-07T17:24:16.033Z"
   },
   {
    "duration": 12,
    "start_time": "2023-05-07T17:24:17.009Z"
   },
   {
    "duration": 12,
    "start_time": "2023-05-07T17:24:17.023Z"
   },
   {
    "duration": 125,
    "start_time": "2023-05-07T17:24:17.036Z"
   },
   {
    "duration": 40,
    "start_time": "2023-05-07T17:24:17.163Z"
   },
   {
    "duration": 34,
    "start_time": "2023-05-07T17:24:17.204Z"
   },
   {
    "duration": 4,
    "start_time": "2023-05-07T17:24:17.240Z"
   },
   {
    "duration": 59,
    "start_time": "2023-05-07T17:24:17.246Z"
   },
   {
    "duration": 134,
    "start_time": "2023-05-07T17:24:17.307Z"
   },
   {
    "duration": 73,
    "start_time": "2023-05-07T17:24:17.443Z"
   },
   {
    "duration": 56,
    "start_time": "2023-05-07T17:24:17.518Z"
   },
   {
    "duration": 19,
    "start_time": "2023-05-07T17:24:17.576Z"
   },
   {
    "duration": 13,
    "start_time": "2023-05-07T17:24:17.597Z"
   },
   {
    "duration": 4,
    "start_time": "2023-05-07T17:24:17.613Z"
   },
   {
    "duration": 37,
    "start_time": "2023-05-07T17:24:17.621Z"
   },
   {
    "duration": 9,
    "start_time": "2023-05-07T17:24:17.693Z"
   },
   {
    "duration": 91,
    "start_time": "2023-05-07T17:24:17.704Z"
   },
   {
    "duration": 54,
    "start_time": "2023-05-07T17:24:17.797Z"
   },
   {
    "duration": 72,
    "start_time": "2023-05-07T17:24:17.853Z"
   },
   {
    "duration": 53,
    "start_time": "2023-05-07T17:24:17.927Z"
   },
   {
    "duration": 3,
    "start_time": "2023-05-07T17:24:17.992Z"
   },
   {
    "duration": 301,
    "start_time": "2023-05-07T17:24:17.997Z"
   },
   {
    "duration": 29,
    "start_time": "2023-05-07T17:24:18.300Z"
   },
   {
    "duration": 64,
    "start_time": "2023-05-07T17:24:18.331Z"
   },
   {
    "duration": 9,
    "start_time": "2023-05-07T17:24:18.396Z"
   },
   {
    "duration": 141,
    "start_time": "2023-05-07T17:24:18.407Z"
   },
   {
    "duration": 6,
    "start_time": "2023-05-07T17:24:18.550Z"
   },
   {
    "duration": 3,
    "start_time": "2023-05-07T17:24:38.704Z"
   },
   {
    "duration": 278,
    "start_time": "2023-05-07T17:24:39.266Z"
   },
   {
    "duration": 4,
    "start_time": "2023-05-07T17:24:54.327Z"
   },
   {
    "duration": 258,
    "start_time": "2023-05-07T17:24:54.752Z"
   },
   {
    "duration": 4,
    "start_time": "2023-05-07T17:25:08.273Z"
   },
   {
    "duration": 3,
    "start_time": "2023-05-07T17:25:13.336Z"
   },
   {
    "duration": 273,
    "start_time": "2023-05-07T17:25:13.887Z"
   },
   {
    "duration": 9,
    "start_time": "2023-05-07T17:27:07.341Z"
   },
   {
    "duration": 71,
    "start_time": "2023-05-07T17:27:08.325Z"
   },
   {
    "duration": 6,
    "start_time": "2023-05-07T17:27:21.647Z"
   },
   {
    "duration": 71,
    "start_time": "2023-05-07T17:27:22.732Z"
   },
   {
    "duration": 6,
    "start_time": "2023-05-07T17:27:26.952Z"
   },
   {
    "duration": 77,
    "start_time": "2023-05-07T17:27:27.628Z"
   },
   {
    "duration": 55,
    "start_time": "2023-05-07T17:27:29.783Z"
   },
   {
    "duration": 6,
    "start_time": "2023-05-07T17:27:58.801Z"
   },
   {
    "duration": 62,
    "start_time": "2023-05-07T17:27:59.535Z"
   },
   {
    "duration": 69,
    "start_time": "2023-05-07T17:28:07.482Z"
   },
   {
    "duration": 75,
    "start_time": "2023-05-07T17:28:08.818Z"
   },
   {
    "duration": 53,
    "start_time": "2023-05-07T17:28:10.066Z"
   },
   {
    "duration": 3,
    "start_time": "2023-05-07T17:28:11.225Z"
   },
   {
    "duration": 7,
    "start_time": "2023-05-07T17:29:25.251Z"
   },
   {
    "duration": 63,
    "start_time": "2023-05-07T17:29:26.178Z"
   },
   {
    "duration": 59,
    "start_time": "2023-05-07T17:29:27.095Z"
   },
   {
    "duration": 64,
    "start_time": "2023-05-07T17:29:27.610Z"
   },
   {
    "duration": 53,
    "start_time": "2023-05-07T17:29:28.112Z"
   },
   {
    "duration": 4,
    "start_time": "2023-05-07T17:29:28.691Z"
   },
   {
    "duration": 7,
    "start_time": "2023-05-07T17:30:11.912Z"
   },
   {
    "duration": 69,
    "start_time": "2023-05-07T17:30:12.648Z"
   },
   {
    "duration": 7,
    "start_time": "2023-05-07T17:30:21.689Z"
   },
   {
    "duration": 67,
    "start_time": "2023-05-07T17:30:22.429Z"
   },
   {
    "duration": 51,
    "start_time": "2023-05-07T17:30:23.033Z"
   },
   {
    "duration": 69,
    "start_time": "2023-05-07T17:30:23.444Z"
   },
   {
    "duration": 58,
    "start_time": "2023-05-07T17:30:23.741Z"
   },
   {
    "duration": 4,
    "start_time": "2023-05-07T17:30:24.117Z"
   },
   {
    "duration": 303,
    "start_time": "2023-05-07T17:30:24.579Z"
   },
   {
    "duration": 4,
    "start_time": "2023-05-07T17:31:00.574Z"
   },
   {
    "duration": 284,
    "start_time": "2023-05-07T17:31:00.921Z"
   },
   {
    "duration": 3,
    "start_time": "2023-05-07T17:31:20.206Z"
   },
   {
    "duration": 249,
    "start_time": "2023-05-07T17:31:20.609Z"
   },
   {
    "duration": 4,
    "start_time": "2023-05-07T17:31:44.819Z"
   },
   {
    "duration": 263,
    "start_time": "2023-05-07T17:31:45.322Z"
   },
   {
    "duration": 4,
    "start_time": "2023-05-07T17:31:49.730Z"
   },
   {
    "duration": 254,
    "start_time": "2023-05-07T17:31:50.325Z"
   },
   {
    "duration": 261,
    "start_time": "2023-05-07T17:32:12.426Z"
   },
   {
    "duration": 3,
    "start_time": "2023-05-07T17:33:08.013Z"
   },
   {
    "duration": 292,
    "start_time": "2023-05-07T17:33:08.310Z"
   },
   {
    "duration": 300,
    "start_time": "2023-05-07T17:33:13.150Z"
   },
   {
    "duration": 307,
    "start_time": "2023-05-07T17:33:34.509Z"
   },
   {
    "duration": 3,
    "start_time": "2023-05-07T17:40:30.998Z"
   },
   {
    "duration": 271,
    "start_time": "2023-05-07T17:40:31.241Z"
   },
   {
    "duration": 252,
    "start_time": "2023-05-07T17:40:50.111Z"
   },
   {
    "duration": 278,
    "start_time": "2023-05-07T17:41:04.943Z"
   },
   {
    "duration": 52,
    "start_time": "2023-05-07T17:42:38.533Z"
   },
   {
    "duration": 261,
    "start_time": "2023-05-07T17:42:52.883Z"
   },
   {
    "duration": 7,
    "start_time": "2023-05-07T17:44:41.216Z"
   },
   {
    "duration": 44,
    "start_time": "2023-05-07T17:44:42.748Z"
   },
   {
    "duration": 7,
    "start_time": "2023-05-07T17:44:54.931Z"
   },
   {
    "duration": 34,
    "start_time": "2023-05-07T17:44:56.067Z"
   },
   {
    "duration": 136,
    "start_time": "2023-05-07T17:45:00.797Z"
   },
   {
    "duration": 8,
    "start_time": "2023-05-07T17:45:00.935Z"
   },
   {
    "duration": 9,
    "start_time": "2023-05-07T17:45:00.944Z"
   },
   {
    "duration": 20,
    "start_time": "2023-05-07T17:45:00.956Z"
   },
   {
    "duration": 31,
    "start_time": "2023-05-07T17:45:00.979Z"
   },
   {
    "duration": 21,
    "start_time": "2023-05-07T17:45:01.011Z"
   },
   {
    "duration": 57,
    "start_time": "2023-05-07T17:45:01.033Z"
   },
   {
    "duration": 61,
    "start_time": "2023-05-07T17:45:01.092Z"
   },
   {
    "duration": 20,
    "start_time": "2023-05-07T17:45:01.155Z"
   },
   {
    "duration": 22,
    "start_time": "2023-05-07T17:45:01.194Z"
   },
   {
    "duration": 36,
    "start_time": "2023-05-07T17:45:01.218Z"
   },
   {
    "duration": 46,
    "start_time": "2023-05-07T17:45:01.256Z"
   },
   {
    "duration": 184,
    "start_time": "2023-05-07T17:45:01.304Z"
   },
   {
    "duration": 973,
    "start_time": "2023-05-07T17:45:01.489Z"
   },
   {
    "duration": 13,
    "start_time": "2023-05-07T17:45:02.464Z"
   },
   {
    "duration": 22,
    "start_time": "2023-05-07T17:45:02.479Z"
   },
   {
    "duration": 126,
    "start_time": "2023-05-07T17:45:02.503Z"
   },
   {
    "duration": 33,
    "start_time": "2023-05-07T17:45:02.631Z"
   },
   {
    "duration": 50,
    "start_time": "2023-05-07T17:45:02.666Z"
   },
   {
    "duration": 5,
    "start_time": "2023-05-07T17:45:02.718Z"
   },
   {
    "duration": 45,
    "start_time": "2023-05-07T17:45:02.725Z"
   },
   {
    "duration": 144,
    "start_time": "2023-05-07T17:45:02.791Z"
   },
   {
    "duration": 76,
    "start_time": "2023-05-07T17:45:02.937Z"
   },
   {
    "duration": 53,
    "start_time": "2023-05-07T17:45:03.014Z"
   },
   {
    "duration": 23,
    "start_time": "2023-05-07T17:45:03.069Z"
   },
   {
    "duration": 21,
    "start_time": "2023-05-07T17:45:03.093Z"
   },
   {
    "duration": 11,
    "start_time": "2023-05-07T17:45:03.116Z"
   },
   {
    "duration": 53,
    "start_time": "2023-05-07T17:45:03.130Z"
   },
   {
    "duration": 7,
    "start_time": "2023-05-07T17:45:03.184Z"
   },
   {
    "duration": 61,
    "start_time": "2023-05-07T17:45:03.193Z"
   },
   {
    "duration": 0,
    "start_time": "2023-05-07T17:45:03.256Z"
   },
   {
    "duration": 0,
    "start_time": "2023-05-07T17:45:03.257Z"
   },
   {
    "duration": 0,
    "start_time": "2023-05-07T17:45:03.258Z"
   },
   {
    "duration": 0,
    "start_time": "2023-05-07T17:45:03.259Z"
   },
   {
    "duration": 0,
    "start_time": "2023-05-07T17:45:03.260Z"
   },
   {
    "duration": 0,
    "start_time": "2023-05-07T17:45:03.261Z"
   },
   {
    "duration": 0,
    "start_time": "2023-05-07T17:45:03.262Z"
   },
   {
    "duration": 0,
    "start_time": "2023-05-07T17:45:03.263Z"
   },
   {
    "duration": 0,
    "start_time": "2023-05-07T17:45:03.264Z"
   },
   {
    "duration": 0,
    "start_time": "2023-05-07T17:45:03.265Z"
   },
   {
    "duration": 0,
    "start_time": "2023-05-07T17:45:03.266Z"
   },
   {
    "duration": 0,
    "start_time": "2023-05-07T17:45:03.267Z"
   },
   {
    "duration": 7,
    "start_time": "2023-05-07T17:45:40.103Z"
   },
   {
    "duration": 40,
    "start_time": "2023-05-07T17:45:43.448Z"
   },
   {
    "duration": 51,
    "start_time": "2023-05-07T17:46:32.130Z"
   },
   {
    "duration": 40,
    "start_time": "2023-05-07T17:46:34.034Z"
   },
   {
    "duration": 55,
    "start_time": "2023-05-07T17:46:54.296Z"
   },
   {
    "duration": 38,
    "start_time": "2023-05-07T17:46:57.811Z"
   },
   {
    "duration": 7,
    "start_time": "2023-05-07T17:47:14.789Z"
   },
   {
    "duration": 34,
    "start_time": "2023-05-07T17:47:16.956Z"
   },
   {
    "duration": 7,
    "start_time": "2023-05-07T17:47:45.027Z"
   },
   {
    "duration": 44,
    "start_time": "2023-05-07T17:47:46.339Z"
   },
   {
    "duration": 9,
    "start_time": "2023-05-07T17:47:57.529Z"
   },
   {
    "duration": 62,
    "start_time": "2023-05-07T17:47:58.642Z"
   },
   {
    "duration": 49,
    "start_time": "2023-05-07T17:47:59.799Z"
   },
   {
    "duration": 57,
    "start_time": "2023-05-07T17:48:00.043Z"
   },
   {
    "duration": 53,
    "start_time": "2023-05-07T17:48:00.249Z"
   },
   {
    "duration": 4,
    "start_time": "2023-05-07T17:48:00.434Z"
   },
   {
    "duration": 281,
    "start_time": "2023-05-07T17:48:00.616Z"
   },
   {
    "duration": 301,
    "start_time": "2023-05-07T17:48:00.899Z"
   },
   {
    "duration": 7,
    "start_time": "2023-05-07T17:50:17.759Z"
   },
   {
    "duration": 35,
    "start_time": "2023-05-07T17:50:19.418Z"
   },
   {
    "duration": 6,
    "start_time": "2023-05-07T17:51:10.952Z"
   },
   {
    "duration": 59,
    "start_time": "2023-05-07T17:51:11.946Z"
   },
   {
    "duration": 54,
    "start_time": "2023-05-07T17:51:12.685Z"
   },
   {
    "duration": 59,
    "start_time": "2023-05-07T17:51:13.056Z"
   },
   {
    "duration": 55,
    "start_time": "2023-05-07T17:51:13.298Z"
   },
   {
    "duration": 4,
    "start_time": "2023-05-07T17:51:13.532Z"
   },
   {
    "duration": 269,
    "start_time": "2023-05-07T17:51:13.829Z"
   },
   {
    "duration": 263,
    "start_time": "2023-05-07T17:51:20.340Z"
   },
   {
    "duration": 14,
    "start_time": "2023-05-07T17:54:43.453Z"
   },
   {
    "duration": 19,
    "start_time": "2023-05-07T17:55:13.786Z"
   },
   {
    "duration": 12,
    "start_time": "2023-05-07T17:55:23.458Z"
   },
   {
    "duration": 12,
    "start_time": "2023-05-07T17:55:25.823Z"
   },
   {
    "duration": 58,
    "start_time": "2023-05-07T17:57:27.822Z"
   },
   {
    "duration": 11,
    "start_time": "2023-05-07T17:57:43.856Z"
   },
   {
    "duration": 51,
    "start_time": "2023-05-07T17:57:54.693Z"
   },
   {
    "duration": 49,
    "start_time": "2023-05-07T17:57:56.960Z"
   },
   {
    "duration": 72,
    "start_time": "2023-05-07T17:57:59.617Z"
   },
   {
    "duration": 145,
    "start_time": "2023-05-07T17:58:16.527Z"
   },
   {
    "duration": 136,
    "start_time": "2023-05-07T17:58:23.482Z"
   },
   {
    "duration": 122,
    "start_time": "2023-05-07T17:58:33.742Z"
   },
   {
    "duration": 48,
    "start_time": "2023-05-07T17:58:55.448Z"
   },
   {
    "duration": 43,
    "start_time": "2023-05-07T17:58:59.865Z"
   },
   {
    "duration": 43,
    "start_time": "2023-05-07T17:59:52.354Z"
   },
   {
    "duration": 81,
    "start_time": "2023-05-07T18:00:05.101Z"
   },
   {
    "duration": 191,
    "start_time": "2023-05-07T18:00:07.277Z"
   },
   {
    "duration": 10,
    "start_time": "2023-05-07T18:00:07.470Z"
   },
   {
    "duration": 11,
    "start_time": "2023-05-07T18:00:07.483Z"
   },
   {
    "duration": 25,
    "start_time": "2023-05-07T18:00:07.497Z"
   },
   {
    "duration": 19,
    "start_time": "2023-05-07T18:00:07.525Z"
   },
   {
    "duration": 49,
    "start_time": "2023-05-07T18:00:07.547Z"
   },
   {
    "duration": 72,
    "start_time": "2023-05-07T18:00:07.598Z"
   },
   {
    "duration": 73,
    "start_time": "2023-05-07T18:00:07.692Z"
   },
   {
    "duration": 36,
    "start_time": "2023-05-07T18:00:07.767Z"
   },
   {
    "duration": 18,
    "start_time": "2023-05-07T18:00:07.807Z"
   },
   {
    "duration": 9,
    "start_time": "2023-05-07T18:00:07.827Z"
   },
   {
    "duration": 13,
    "start_time": "2023-05-07T18:00:07.838Z"
   },
   {
    "duration": 185,
    "start_time": "2023-05-07T18:00:07.853Z"
   },
   {
    "duration": 1012,
    "start_time": "2023-05-07T18:00:08.040Z"
   },
   {
    "duration": 12,
    "start_time": "2023-05-07T18:00:09.054Z"
   },
   {
    "duration": 29,
    "start_time": "2023-05-07T18:00:09.068Z"
   },
   {
    "duration": 111,
    "start_time": "2023-05-07T18:00:09.099Z"
   },
   {
    "duration": 30,
    "start_time": "2023-05-07T18:00:09.212Z"
   },
   {
    "duration": 52,
    "start_time": "2023-05-07T18:00:09.244Z"
   },
   {
    "duration": 5,
    "start_time": "2023-05-07T18:00:09.298Z"
   },
   {
    "duration": 43,
    "start_time": "2023-05-07T18:00:09.305Z"
   },
   {
    "duration": 144,
    "start_time": "2023-05-07T18:00:09.350Z"
   },
   {
    "duration": 59,
    "start_time": "2023-05-07T18:00:09.496Z"
   },
   {
    "duration": 63,
    "start_time": "2023-05-07T18:00:09.557Z"
   },
   {
    "duration": 5,
    "start_time": "2023-05-07T18:00:09.622Z"
   },
   {
    "duration": 32,
    "start_time": "2023-05-07T18:00:09.629Z"
   },
   {
    "duration": 18,
    "start_time": "2023-05-07T18:00:09.663Z"
   },
   {
    "duration": 44,
    "start_time": "2023-05-07T18:00:09.684Z"
   },
   {
    "duration": 8,
    "start_time": "2023-05-07T18:00:09.730Z"
   },
   {
    "duration": 80,
    "start_time": "2023-05-07T18:00:09.740Z"
   },
   {
    "duration": 53,
    "start_time": "2023-05-07T18:00:09.822Z"
   },
   {
    "duration": 74,
    "start_time": "2023-05-07T18:00:09.878Z"
   },
   {
    "duration": 73,
    "start_time": "2023-05-07T18:00:09.954Z"
   },
   {
    "duration": 3,
    "start_time": "2023-05-07T18:00:10.029Z"
   },
   {
    "duration": 290,
    "start_time": "2023-05-07T18:00:10.034Z"
   },
   {
    "duration": 298,
    "start_time": "2023-05-07T18:00:10.326Z"
   },
   {
    "duration": 295,
    "start_time": "2023-05-07T18:00:10.626Z"
   },
   {
    "duration": 114,
    "start_time": "2023-05-07T18:00:10.923Z"
   },
   {
    "duration": 31,
    "start_time": "2023-05-07T18:00:11.039Z"
   },
   {
    "duration": 69,
    "start_time": "2023-05-07T18:00:11.071Z"
   },
   {
    "duration": 10,
    "start_time": "2023-05-07T18:00:11.141Z"
   },
   {
    "duration": 129,
    "start_time": "2023-05-07T18:00:11.153Z"
   },
   {
    "duration": 7,
    "start_time": "2023-05-07T18:00:11.291Z"
   },
   {
    "duration": 758,
    "start_time": "2023-05-07T18:00:34.123Z"
   },
   {
    "duration": 716,
    "start_time": "2023-05-07T18:01:10.572Z"
   },
   {
    "duration": 80,
    "start_time": "2023-05-07T18:04:47.768Z"
   },
   {
    "duration": 149,
    "start_time": "2023-05-07T18:04:56.265Z"
   },
   {
    "duration": 8,
    "start_time": "2023-05-07T18:04:56.417Z"
   },
   {
    "duration": 4,
    "start_time": "2023-05-07T18:04:56.427Z"
   },
   {
    "duration": 20,
    "start_time": "2023-05-07T18:04:56.433Z"
   },
   {
    "duration": 38,
    "start_time": "2023-05-07T18:04:56.455Z"
   },
   {
    "duration": 14,
    "start_time": "2023-05-07T18:04:56.495Z"
   },
   {
    "duration": 51,
    "start_time": "2023-05-07T18:04:56.511Z"
   },
   {
    "duration": 80,
    "start_time": "2023-05-07T18:04:56.564Z"
   },
   {
    "duration": 19,
    "start_time": "2023-05-07T18:04:56.646Z"
   },
   {
    "duration": 32,
    "start_time": "2023-05-07T18:04:56.667Z"
   },
   {
    "duration": 6,
    "start_time": "2023-05-07T18:04:56.701Z"
   },
   {
    "duration": 6,
    "start_time": "2023-05-07T18:04:56.709Z"
   },
   {
    "duration": 168,
    "start_time": "2023-05-07T18:04:56.717Z"
   },
   {
    "duration": 871,
    "start_time": "2023-05-07T18:04:56.891Z"
   },
   {
    "duration": 12,
    "start_time": "2023-05-07T18:04:57.765Z"
   },
   {
    "duration": 22,
    "start_time": "2023-05-07T18:04:57.780Z"
   },
   {
    "duration": 109,
    "start_time": "2023-05-07T18:04:57.804Z"
   },
   {
    "duration": 29,
    "start_time": "2023-05-07T18:04:57.915Z"
   },
   {
    "duration": 49,
    "start_time": "2023-05-07T18:04:57.945Z"
   },
   {
    "duration": 4,
    "start_time": "2023-05-07T18:04:57.996Z"
   },
   {
    "duration": 45,
    "start_time": "2023-05-07T18:04:58.002Z"
   },
   {
    "duration": 131,
    "start_time": "2023-05-07T18:04:58.048Z"
   },
   {
    "duration": 62,
    "start_time": "2023-05-07T18:04:58.182Z"
   },
   {
    "duration": 281,
    "start_time": "2023-05-07T18:04:58.246Z"
   },
   {
    "duration": 5,
    "start_time": "2023-05-07T18:04:58.529Z"
   },
   {
    "duration": 11,
    "start_time": "2023-05-07T18:04:58.535Z"
   },
   {
    "duration": 4,
    "start_time": "2023-05-07T18:04:58.548Z"
   },
   {
    "duration": 62,
    "start_time": "2023-05-07T18:04:58.553Z"
   },
   {
    "duration": 9,
    "start_time": "2023-05-07T18:04:58.616Z"
   },
   {
    "duration": 67,
    "start_time": "2023-05-07T18:04:58.627Z"
   },
   {
    "duration": 52,
    "start_time": "2023-05-07T18:04:58.696Z"
   },
   {
    "duration": 79,
    "start_time": "2023-05-07T18:04:58.750Z"
   },
   {
    "duration": 61,
    "start_time": "2023-05-07T18:04:58.831Z"
   },
   {
    "duration": 4,
    "start_time": "2023-05-07T18:04:58.894Z"
   },
   {
    "duration": 55,
    "start_time": "2023-05-07T18:04:58.899Z"
   },
   {
    "duration": 0,
    "start_time": "2023-05-07T18:04:58.956Z"
   },
   {
    "duration": 0,
    "start_time": "2023-05-07T18:04:58.957Z"
   },
   {
    "duration": 0,
    "start_time": "2023-05-07T18:04:58.958Z"
   },
   {
    "duration": 0,
    "start_time": "2023-05-07T18:04:58.959Z"
   },
   {
    "duration": 0,
    "start_time": "2023-05-07T18:04:58.960Z"
   },
   {
    "duration": 0,
    "start_time": "2023-05-07T18:04:58.961Z"
   },
   {
    "duration": 0,
    "start_time": "2023-05-07T18:04:58.962Z"
   },
   {
    "duration": 0,
    "start_time": "2023-05-07T18:04:58.963Z"
   },
   {
    "duration": 0,
    "start_time": "2023-05-07T18:04:58.964Z"
   },
   {
    "duration": 0,
    "start_time": "2023-05-07T18:04:58.965Z"
   },
   {
    "duration": 266,
    "start_time": "2023-05-07T18:05:06.126Z"
   },
   {
    "duration": 268,
    "start_time": "2023-05-07T18:07:03.032Z"
   },
   {
    "duration": 105,
    "start_time": "2023-05-07T18:07:36.701Z"
   },
   {
    "duration": 729,
    "start_time": "2023-05-07T18:07:41.082Z"
   },
   {
    "duration": 52,
    "start_time": "2023-05-07T18:08:02.152Z"
   },
   {
    "duration": 79,
    "start_time": "2023-05-07T18:10:26.193Z"
   },
   {
    "duration": 140,
    "start_time": "2023-05-07T18:10:28.636Z"
   },
   {
    "duration": 7,
    "start_time": "2023-05-07T18:10:28.779Z"
   },
   {
    "duration": 3,
    "start_time": "2023-05-07T18:10:28.792Z"
   },
   {
    "duration": 19,
    "start_time": "2023-05-07T18:10:28.796Z"
   },
   {
    "duration": 12,
    "start_time": "2023-05-07T18:10:28.817Z"
   },
   {
    "duration": 12,
    "start_time": "2023-05-07T18:10:28.830Z"
   },
   {
    "duration": 86,
    "start_time": "2023-05-07T18:10:28.844Z"
   },
   {
    "duration": 77,
    "start_time": "2023-05-07T18:10:28.932Z"
   },
   {
    "duration": 19,
    "start_time": "2023-05-07T18:10:29.011Z"
   },
   {
    "duration": 17,
    "start_time": "2023-05-07T18:10:29.033Z"
   },
   {
    "duration": 13,
    "start_time": "2023-05-07T18:10:29.052Z"
   },
   {
    "duration": 30,
    "start_time": "2023-05-07T18:10:29.067Z"
   },
   {
    "duration": 159,
    "start_time": "2023-05-07T18:10:29.099Z"
   },
   {
    "duration": 837,
    "start_time": "2023-05-07T18:10:29.260Z"
   },
   {
    "duration": 12,
    "start_time": "2023-05-07T18:10:30.099Z"
   },
   {
    "duration": 21,
    "start_time": "2023-05-07T18:10:30.113Z"
   },
   {
    "duration": 106,
    "start_time": "2023-05-07T18:10:30.136Z"
   },
   {
    "duration": 32,
    "start_time": "2023-05-07T18:10:30.243Z"
   },
   {
    "duration": 65,
    "start_time": "2023-05-07T18:10:30.277Z"
   },
   {
    "duration": 5,
    "start_time": "2023-05-07T18:10:30.344Z"
   },
   {
    "duration": 79,
    "start_time": "2023-05-07T18:10:30.350Z"
   },
   {
    "duration": 175,
    "start_time": "2023-05-07T18:10:30.430Z"
   },
   {
    "duration": 64,
    "start_time": "2023-05-07T18:10:30.607Z"
   },
   {
    "duration": 71,
    "start_time": "2023-05-07T18:10:30.673Z"
   },
   {
    "duration": 7,
    "start_time": "2023-05-07T18:10:30.746Z"
   },
   {
    "duration": 43,
    "start_time": "2023-05-07T18:10:30.755Z"
   },
   {
    "duration": 44,
    "start_time": "2023-05-07T18:10:30.800Z"
   },
   {
    "duration": 66,
    "start_time": "2023-05-07T18:10:30.847Z"
   },
   {
    "duration": 34,
    "start_time": "2023-05-07T18:10:30.914Z"
   },
   {
    "duration": 120,
    "start_time": "2023-05-07T18:10:30.950Z"
   },
   {
    "duration": 56,
    "start_time": "2023-05-07T18:10:31.072Z"
   },
   {
    "duration": 71,
    "start_time": "2023-05-07T18:10:31.129Z"
   },
   {
    "duration": 51,
    "start_time": "2023-05-07T18:10:31.202Z"
   },
   {
    "duration": 3,
    "start_time": "2023-05-07T18:10:31.254Z"
   },
   {
    "duration": 316,
    "start_time": "2023-05-07T18:10:31.259Z"
   },
   {
    "duration": 336,
    "start_time": "2023-05-07T18:10:31.577Z"
   },
   {
    "duration": 121,
    "start_time": "2023-05-07T18:10:31.915Z"
   },
   {
    "duration": 784,
    "start_time": "2023-05-07T18:10:32.038Z"
   },
   {
    "duration": 33,
    "start_time": "2023-05-07T18:10:32.824Z"
   },
   {
    "duration": 75,
    "start_time": "2023-05-07T18:10:32.859Z"
   },
   {
    "duration": 11,
    "start_time": "2023-05-07T18:10:32.936Z"
   },
   {
    "duration": 144,
    "start_time": "2023-05-07T18:10:32.949Z"
   },
   {
    "duration": 8,
    "start_time": "2023-05-07T18:10:33.095Z"
   },
   {
    "duration": 84,
    "start_time": "2023-05-07T18:10:39.736Z"
   },
   {
    "duration": 155,
    "start_time": "2023-05-07T18:10:41.874Z"
   },
   {
    "duration": 7,
    "start_time": "2023-05-07T18:10:42.031Z"
   },
   {
    "duration": 5,
    "start_time": "2023-05-07T18:10:42.040Z"
   },
   {
    "duration": 20,
    "start_time": "2023-05-07T18:10:42.047Z"
   },
   {
    "duration": 34,
    "start_time": "2023-05-07T18:10:42.069Z"
   },
   {
    "duration": 12,
    "start_time": "2023-05-07T18:10:42.105Z"
   },
   {
    "duration": 77,
    "start_time": "2023-05-07T18:10:42.119Z"
   },
   {
    "duration": 69,
    "start_time": "2023-05-07T18:10:42.198Z"
   },
   {
    "duration": 32,
    "start_time": "2023-05-07T18:10:42.269Z"
   },
   {
    "duration": 18,
    "start_time": "2023-05-07T18:10:42.304Z"
   },
   {
    "duration": 7,
    "start_time": "2023-05-07T18:10:42.323Z"
   },
   {
    "duration": 7,
    "start_time": "2023-05-07T18:10:42.332Z"
   },
   {
    "duration": 185,
    "start_time": "2023-05-07T18:10:42.341Z"
   },
   {
    "duration": 993,
    "start_time": "2023-05-07T18:10:42.528Z"
   },
   {
    "duration": 12,
    "start_time": "2023-05-07T18:10:43.523Z"
   },
   {
    "duration": 14,
    "start_time": "2023-05-07T18:10:43.537Z"
   },
   {
    "duration": 126,
    "start_time": "2023-05-07T18:10:43.552Z"
   },
   {
    "duration": 41,
    "start_time": "2023-05-07T18:10:43.679Z"
   },
   {
    "duration": 37,
    "start_time": "2023-05-07T18:10:43.722Z"
   },
   {
    "duration": 5,
    "start_time": "2023-05-07T18:10:43.761Z"
   },
   {
    "duration": 62,
    "start_time": "2023-05-07T18:10:43.768Z"
   },
   {
    "duration": 146,
    "start_time": "2023-05-07T18:10:43.832Z"
   },
   {
    "duration": 68,
    "start_time": "2023-05-07T18:10:43.980Z"
   },
   {
    "duration": 55,
    "start_time": "2023-05-07T18:10:44.050Z"
   },
   {
    "duration": 7,
    "start_time": "2023-05-07T18:10:44.107Z"
   },
   {
    "duration": 25,
    "start_time": "2023-05-07T18:10:44.116Z"
   },
   {
    "duration": 6,
    "start_time": "2023-05-07T18:10:44.143Z"
   },
   {
    "duration": 49,
    "start_time": "2023-05-07T18:10:44.153Z"
   },
   {
    "duration": 8,
    "start_time": "2023-05-07T18:10:44.204Z"
   },
   {
    "duration": 78,
    "start_time": "2023-05-07T18:10:44.214Z"
   },
   {
    "duration": 53,
    "start_time": "2023-05-07T18:10:44.294Z"
   },
   {
    "duration": 68,
    "start_time": "2023-05-07T18:10:44.348Z"
   },
   {
    "duration": 74,
    "start_time": "2023-05-07T18:10:44.418Z"
   },
   {
    "duration": 4,
    "start_time": "2023-05-07T18:10:44.494Z"
   },
   {
    "duration": 324,
    "start_time": "2023-05-07T18:10:44.500Z"
   },
   {
    "duration": 299,
    "start_time": "2023-05-07T18:10:44.826Z"
   },
   {
    "duration": 114,
    "start_time": "2023-05-07T18:10:45.127Z"
   },
   {
    "duration": 756,
    "start_time": "2023-05-07T18:10:45.243Z"
   },
   {
    "duration": 35,
    "start_time": "2023-05-07T18:10:46.001Z"
   },
   {
    "duration": 80,
    "start_time": "2023-05-07T18:10:46.038Z"
   },
   {
    "duration": 11,
    "start_time": "2023-05-07T18:10:46.120Z"
   },
   {
    "duration": 140,
    "start_time": "2023-05-07T18:10:46.134Z"
   },
   {
    "duration": 6,
    "start_time": "2023-05-07T18:10:46.276Z"
   },
   {
    "duration": 2057,
    "start_time": "2023-05-10T14:56:28.900Z"
   },
   {
    "duration": 13,
    "start_time": "2023-05-10T14:56:30.959Z"
   },
   {
    "duration": 82,
    "start_time": "2023-05-10T14:56:30.973Z"
   },
   {
    "duration": 63,
    "start_time": "2023-05-10T14:56:31.057Z"
   },
   {
    "duration": 121,
    "start_time": "2023-05-10T14:56:31.122Z"
   },
   {
    "duration": 105,
    "start_time": "2023-05-10T14:56:31.245Z"
   },
   {
    "duration": 150,
    "start_time": "2023-05-10T14:56:31.352Z"
   },
   {
    "duration": 85,
    "start_time": "2023-05-10T14:56:31.504Z"
   },
   {
    "duration": 18,
    "start_time": "2023-05-10T14:56:31.590Z"
   },
   {
    "duration": 56,
    "start_time": "2023-05-10T14:56:31.611Z"
   },
   {
    "duration": 31,
    "start_time": "2023-05-10T14:56:31.668Z"
   },
   {
    "duration": 30,
    "start_time": "2023-05-10T14:56:31.700Z"
   },
   {
    "duration": 253,
    "start_time": "2023-05-10T14:56:31.732Z"
   },
   {
    "duration": 910,
    "start_time": "2023-05-10T14:56:31.987Z"
   },
   {
    "duration": 15,
    "start_time": "2023-05-10T14:56:32.899Z"
   },
   {
    "duration": 24,
    "start_time": "2023-05-10T14:56:32.916Z"
   },
   {
    "duration": 115,
    "start_time": "2023-05-10T14:56:32.941Z"
   },
   {
    "duration": 33,
    "start_time": "2023-05-10T14:56:33.058Z"
   },
   {
    "duration": 74,
    "start_time": "2023-05-10T14:56:33.093Z"
   },
   {
    "duration": 5,
    "start_time": "2023-05-10T14:56:33.169Z"
   },
   {
    "duration": 49,
    "start_time": "2023-05-10T14:56:33.175Z"
   },
   {
    "duration": 120,
    "start_time": "2023-05-10T14:56:33.225Z"
   },
   {
    "duration": 81,
    "start_time": "2023-05-10T14:56:33.347Z"
   },
   {
    "duration": 551,
    "start_time": "2023-05-10T14:56:33.429Z"
   },
   {
    "duration": 5,
    "start_time": "2023-05-10T14:56:33.982Z"
   },
   {
    "duration": 216,
    "start_time": "2023-05-10T14:56:33.988Z"
   },
   {
    "duration": 0,
    "start_time": "2023-05-10T14:56:34.206Z"
   },
   {
    "duration": 0,
    "start_time": "2023-05-10T14:56:34.207Z"
   },
   {
    "duration": 0,
    "start_time": "2023-05-10T14:56:34.208Z"
   },
   {
    "duration": 0,
    "start_time": "2023-05-10T14:56:34.209Z"
   },
   {
    "duration": 0,
    "start_time": "2023-05-10T14:56:34.210Z"
   },
   {
    "duration": 0,
    "start_time": "2023-05-10T14:56:34.211Z"
   },
   {
    "duration": 0,
    "start_time": "2023-05-10T14:56:34.212Z"
   },
   {
    "duration": 0,
    "start_time": "2023-05-10T14:56:34.213Z"
   },
   {
    "duration": 0,
    "start_time": "2023-05-10T14:56:34.214Z"
   },
   {
    "duration": 0,
    "start_time": "2023-05-10T14:56:34.215Z"
   },
   {
    "duration": 0,
    "start_time": "2023-05-10T14:56:34.216Z"
   },
   {
    "duration": 0,
    "start_time": "2023-05-10T14:56:34.217Z"
   },
   {
    "duration": 1481,
    "start_time": "2023-05-10T14:59:19.639Z"
   },
   {
    "duration": 12,
    "start_time": "2023-05-10T14:59:21.122Z"
   },
   {
    "duration": 7,
    "start_time": "2023-05-10T14:59:21.136Z"
   },
   {
    "duration": 24,
    "start_time": "2023-05-10T14:59:21.145Z"
   },
   {
    "duration": 35,
    "start_time": "2023-05-10T14:59:21.170Z"
   },
   {
    "duration": 13,
    "start_time": "2023-05-10T14:59:21.206Z"
   },
   {
    "duration": 96,
    "start_time": "2023-05-10T14:59:21.221Z"
   },
   {
    "duration": 94,
    "start_time": "2023-05-10T14:59:21.320Z"
   },
   {
    "duration": 20,
    "start_time": "2023-05-10T14:59:21.416Z"
   },
   {
    "duration": 20,
    "start_time": "2023-05-10T14:59:21.439Z"
   },
   {
    "duration": 38,
    "start_time": "2023-05-10T14:59:21.461Z"
   },
   {
    "duration": 8,
    "start_time": "2023-05-10T14:59:21.502Z"
   },
   {
    "duration": 219,
    "start_time": "2023-05-10T14:59:21.511Z"
   },
   {
    "duration": 981,
    "start_time": "2023-05-10T14:59:21.732Z"
   },
   {
    "duration": 18,
    "start_time": "2023-05-10T14:59:22.715Z"
   },
   {
    "duration": 16,
    "start_time": "2023-05-10T14:59:22.735Z"
   },
   {
    "duration": 140,
    "start_time": "2023-05-10T14:59:22.752Z"
   },
   {
    "duration": 32,
    "start_time": "2023-05-10T14:59:22.896Z"
   },
   {
    "duration": 37,
    "start_time": "2023-05-10T14:59:22.929Z"
   },
   {
    "duration": 21,
    "start_time": "2023-05-10T14:59:22.967Z"
   },
   {
    "duration": 61,
    "start_time": "2023-05-10T14:59:22.992Z"
   },
   {
    "duration": 153,
    "start_time": "2023-05-10T14:59:23.055Z"
   },
   {
    "duration": 81,
    "start_time": "2023-05-10T14:59:23.210Z"
   },
   {
    "duration": 476,
    "start_time": "2023-05-10T14:59:23.293Z"
   },
   {
    "duration": 5,
    "start_time": "2023-05-10T14:59:23.771Z"
   },
   {
    "duration": 254,
    "start_time": "2023-05-10T14:59:23.778Z"
   },
   {
    "duration": 0,
    "start_time": "2023-05-10T14:59:24.034Z"
   },
   {
    "duration": 0,
    "start_time": "2023-05-10T14:59:24.035Z"
   },
   {
    "duration": 0,
    "start_time": "2023-05-10T14:59:24.037Z"
   },
   {
    "duration": 0,
    "start_time": "2023-05-10T14:59:24.038Z"
   },
   {
    "duration": 0,
    "start_time": "2023-05-10T14:59:24.040Z"
   },
   {
    "duration": 0,
    "start_time": "2023-05-10T14:59:24.041Z"
   },
   {
    "duration": 0,
    "start_time": "2023-05-10T14:59:24.045Z"
   },
   {
    "duration": 0,
    "start_time": "2023-05-10T14:59:24.046Z"
   },
   {
    "duration": 0,
    "start_time": "2023-05-10T14:59:24.047Z"
   },
   {
    "duration": 0,
    "start_time": "2023-05-10T14:59:24.048Z"
   },
   {
    "duration": 0,
    "start_time": "2023-05-10T14:59:24.050Z"
   },
   {
    "duration": 0,
    "start_time": "2023-05-10T14:59:24.051Z"
   },
   {
    "duration": 11,
    "start_time": "2023-05-10T15:00:28.316Z"
   },
   {
    "duration": 4,
    "start_time": "2023-05-10T15:00:38.070Z"
   },
   {
    "duration": 10,
    "start_time": "2023-05-10T15:00:39.599Z"
   },
   {
    "duration": 12,
    "start_time": "2023-05-10T15:00:49.932Z"
   },
   {
    "duration": 3,
    "start_time": "2023-05-10T15:02:06.832Z"
   },
   {
    "duration": 41,
    "start_time": "2023-05-10T15:02:09.589Z"
   },
   {
    "duration": 163,
    "start_time": "2023-05-10T15:03:45.195Z"
   },
   {
    "duration": 8,
    "start_time": "2023-05-10T15:03:45.360Z"
   },
   {
    "duration": 14,
    "start_time": "2023-05-10T15:03:45.369Z"
   },
   {
    "duration": 24,
    "start_time": "2023-05-10T15:03:45.385Z"
   },
   {
    "duration": 13,
    "start_time": "2023-05-10T15:03:45.411Z"
   },
   {
    "duration": 11,
    "start_time": "2023-05-10T15:03:45.425Z"
   },
   {
    "duration": 76,
    "start_time": "2023-05-10T15:03:45.437Z"
   },
   {
    "duration": 73,
    "start_time": "2023-05-10T15:03:45.515Z"
   },
   {
    "duration": 26,
    "start_time": "2023-05-10T15:03:45.590Z"
   },
   {
    "duration": 22,
    "start_time": "2023-05-10T15:03:45.620Z"
   },
   {
    "duration": 10,
    "start_time": "2023-05-10T15:03:45.643Z"
   },
   {
    "duration": 31,
    "start_time": "2023-05-10T15:03:45.655Z"
   },
   {
    "duration": 166,
    "start_time": "2023-05-10T15:03:45.688Z"
   },
   {
    "duration": 869,
    "start_time": "2023-05-10T15:03:45.856Z"
   },
   {
    "duration": 12,
    "start_time": "2023-05-10T15:03:46.727Z"
   },
   {
    "duration": 16,
    "start_time": "2023-05-10T15:03:46.740Z"
   },
   {
    "duration": 126,
    "start_time": "2023-05-10T15:03:46.757Z"
   },
   {
    "duration": 33,
    "start_time": "2023-05-10T15:03:46.885Z"
   },
   {
    "duration": 36,
    "start_time": "2023-05-10T15:03:46.919Z"
   },
   {
    "duration": 26,
    "start_time": "2023-05-10T15:03:46.957Z"
   },
   {
    "duration": 49,
    "start_time": "2023-05-10T15:03:46.985Z"
   },
   {
    "duration": 142,
    "start_time": "2023-05-10T15:03:47.036Z"
   },
   {
    "duration": 68,
    "start_time": "2023-05-10T15:03:47.180Z"
   },
   {
    "duration": 71,
    "start_time": "2023-05-10T15:03:47.250Z"
   },
   {
    "duration": 6,
    "start_time": "2023-05-10T15:03:47.323Z"
   },
   {
    "duration": 11,
    "start_time": "2023-05-10T15:03:47.330Z"
   },
   {
    "duration": 48,
    "start_time": "2023-05-10T15:03:47.342Z"
   },
   {
    "duration": 7,
    "start_time": "2023-05-10T15:03:47.394Z"
   },
   {
    "duration": 81,
    "start_time": "2023-05-10T15:03:47.402Z"
   },
   {
    "duration": 52,
    "start_time": "2023-05-10T15:03:47.485Z"
   },
   {
    "duration": 143,
    "start_time": "2023-05-10T15:03:47.539Z"
   },
   {
    "duration": 51,
    "start_time": "2023-05-10T15:03:47.684Z"
   },
   {
    "duration": 3,
    "start_time": "2023-05-10T15:03:47.737Z"
   },
   {
    "duration": 285,
    "start_time": "2023-05-10T15:03:47.741Z"
   },
   {
    "duration": 287,
    "start_time": "2023-05-10T15:03:48.028Z"
   },
   {
    "duration": 125,
    "start_time": "2023-05-10T15:03:48.317Z"
   },
   {
    "duration": 752,
    "start_time": "2023-05-10T15:03:48.444Z"
   },
   {
    "duration": 181,
    "start_time": "2023-05-10T15:04:44.245Z"
   },
   {
    "duration": 23,
    "start_time": "2023-05-10T15:04:49.654Z"
   },
   {
    "duration": 19,
    "start_time": "2023-05-10T15:04:56.037Z"
   },
   {
    "duration": 45,
    "start_time": "2023-05-10T15:05:04.355Z"
   },
   {
    "duration": 20,
    "start_time": "2023-05-10T15:15:02.573Z"
   },
   {
    "duration": 336,
    "start_time": "2023-05-10T15:15:18.671Z"
   },
   {
    "duration": 134,
    "start_time": "2023-05-10T15:17:26.731Z"
   },
   {
    "duration": 4,
    "start_time": "2023-05-10T15:17:58.531Z"
   },
   {
    "duration": 5,
    "start_time": "2023-05-10T15:18:00.953Z"
   },
   {
    "duration": 8,
    "start_time": "2023-05-10T15:18:04.705Z"
   },
   {
    "duration": 77,
    "start_time": "2023-05-10T15:28:39.370Z"
   },
   {
    "duration": 166,
    "start_time": "2023-05-10T15:28:44.117Z"
   },
   {
    "duration": 7,
    "start_time": "2023-05-10T15:28:44.285Z"
   },
   {
    "duration": 38,
    "start_time": "2023-05-10T15:28:44.293Z"
   },
   {
    "duration": 40,
    "start_time": "2023-05-10T15:28:44.333Z"
   },
   {
    "duration": 38,
    "start_time": "2023-05-10T15:28:44.375Z"
   },
   {
    "duration": 25,
    "start_time": "2023-05-10T15:28:44.414Z"
   },
   {
    "duration": 71,
    "start_time": "2023-05-10T15:28:44.441Z"
   },
   {
    "duration": 78,
    "start_time": "2023-05-10T15:28:44.513Z"
   },
   {
    "duration": 19,
    "start_time": "2023-05-10T15:28:44.593Z"
   },
   {
    "duration": 17,
    "start_time": "2023-05-10T15:28:44.615Z"
   },
   {
    "duration": 17,
    "start_time": "2023-05-10T15:28:44.633Z"
   },
   {
    "duration": 20,
    "start_time": "2023-05-10T15:28:44.652Z"
   },
   {
    "duration": 169,
    "start_time": "2023-05-10T15:28:44.673Z"
   },
   {
    "duration": 857,
    "start_time": "2023-05-10T15:28:44.843Z"
   },
   {
    "duration": 13,
    "start_time": "2023-05-10T15:28:45.702Z"
   },
   {
    "duration": 13,
    "start_time": "2023-05-10T15:28:45.716Z"
   },
   {
    "duration": 123,
    "start_time": "2023-05-10T15:28:45.731Z"
   },
   {
    "duration": 37,
    "start_time": "2023-05-10T15:28:45.856Z"
   },
   {
    "duration": 34,
    "start_time": "2023-05-10T15:28:45.895Z"
   },
   {
    "duration": 5,
    "start_time": "2023-05-10T15:28:45.930Z"
   },
   {
    "duration": 67,
    "start_time": "2023-05-10T15:28:45.936Z"
   },
   {
    "duration": 128,
    "start_time": "2023-05-10T15:28:46.005Z"
   },
   {
    "duration": 73,
    "start_time": "2023-05-10T15:28:46.135Z"
   },
   {
    "duration": 177,
    "start_time": "2023-05-10T15:28:46.209Z"
   },
   {
    "duration": 5,
    "start_time": "2023-05-10T15:28:46.387Z"
   },
   {
    "duration": 5,
    "start_time": "2023-05-10T15:28:46.394Z"
   },
   {
    "duration": 36,
    "start_time": "2023-05-10T15:28:46.400Z"
   },
   {
    "duration": 7,
    "start_time": "2023-05-10T15:28:46.439Z"
   },
   {
    "duration": 77,
    "start_time": "2023-05-10T15:28:46.447Z"
   },
   {
    "duration": 57,
    "start_time": "2023-05-10T15:28:46.526Z"
   },
   {
    "duration": 57,
    "start_time": "2023-05-10T15:28:46.585Z"
   },
   {
    "duration": 73,
    "start_time": "2023-05-10T15:28:46.643Z"
   },
   {
    "duration": 4,
    "start_time": "2023-05-10T15:28:46.718Z"
   },
   {
    "duration": 283,
    "start_time": "2023-05-10T15:28:46.723Z"
   },
   {
    "duration": 286,
    "start_time": "2023-05-10T15:28:47.007Z"
   },
   {
    "duration": 116,
    "start_time": "2023-05-10T15:28:47.295Z"
   },
   {
    "duration": 753,
    "start_time": "2023-05-10T15:28:47.413Z"
   },
   {
    "duration": 166,
    "start_time": "2023-05-10T15:29:08.818Z"
   },
   {
    "duration": 9,
    "start_time": "2023-05-10T15:29:08.987Z"
   },
   {
    "duration": 36,
    "start_time": "2023-05-10T15:29:08.998Z"
   },
   {
    "duration": 48,
    "start_time": "2023-05-10T15:29:09.036Z"
   },
   {
    "duration": 21,
    "start_time": "2023-05-10T15:29:09.086Z"
   },
   {
    "duration": 34,
    "start_time": "2023-05-10T15:29:09.109Z"
   },
   {
    "duration": 74,
    "start_time": "2023-05-10T15:29:09.145Z"
   },
   {
    "duration": 77,
    "start_time": "2023-05-10T15:29:09.221Z"
   },
   {
    "duration": 19,
    "start_time": "2023-05-10T15:29:09.300Z"
   },
   {
    "duration": 17,
    "start_time": "2023-05-10T15:29:09.323Z"
   },
   {
    "duration": 28,
    "start_time": "2023-05-10T15:29:09.341Z"
   },
   {
    "duration": 46,
    "start_time": "2023-05-10T15:29:09.371Z"
   },
   {
    "duration": 184,
    "start_time": "2023-05-10T15:29:09.419Z"
   },
   {
    "duration": 860,
    "start_time": "2023-05-10T15:29:09.605Z"
   },
   {
    "duration": 25,
    "start_time": "2023-05-10T15:29:10.467Z"
   },
   {
    "duration": 46,
    "start_time": "2023-05-10T15:29:10.495Z"
   },
   {
    "duration": 188,
    "start_time": "2023-05-10T15:29:10.544Z"
   },
   {
    "duration": 34,
    "start_time": "2023-05-10T15:29:10.735Z"
   },
   {
    "duration": 59,
    "start_time": "2023-05-10T15:29:10.770Z"
   },
   {
    "duration": 5,
    "start_time": "2023-05-10T15:29:10.831Z"
   },
   {
    "duration": 83,
    "start_time": "2023-05-10T15:29:10.838Z"
   },
   {
    "duration": 151,
    "start_time": "2023-05-10T15:29:10.922Z"
   },
   {
    "duration": 75,
    "start_time": "2023-05-10T15:29:11.075Z"
   },
   {
    "duration": 60,
    "start_time": "2023-05-10T15:29:11.152Z"
   },
   {
    "duration": 5,
    "start_time": "2023-05-10T15:29:11.214Z"
   },
   {
    "duration": 35,
    "start_time": "2023-05-10T15:29:11.222Z"
   },
   {
    "duration": 57,
    "start_time": "2023-05-10T15:29:11.259Z"
   },
   {
    "duration": 22,
    "start_time": "2023-05-10T15:29:11.319Z"
   },
   {
    "duration": 103,
    "start_time": "2023-05-10T15:29:11.342Z"
   },
   {
    "duration": 64,
    "start_time": "2023-05-10T15:29:11.447Z"
   },
   {
    "duration": 73,
    "start_time": "2023-05-10T15:29:11.512Z"
   },
   {
    "duration": 52,
    "start_time": "2023-05-10T15:29:11.586Z"
   },
   {
    "duration": 4,
    "start_time": "2023-05-10T15:29:11.640Z"
   },
   {
    "duration": 275,
    "start_time": "2023-05-10T15:29:11.645Z"
   },
   {
    "duration": 291,
    "start_time": "2023-05-10T15:29:11.922Z"
   },
   {
    "duration": 288,
    "start_time": "2023-05-10T15:29:12.214Z"
   },
   {
    "duration": 141,
    "start_time": "2023-05-10T15:29:12.504Z"
   },
   {
    "duration": 1137,
    "start_time": "2023-05-10T15:29:12.647Z"
   },
   {
    "duration": 85,
    "start_time": "2023-05-10T15:51:12.332Z"
   },
   {
    "duration": 249,
    "start_time": "2023-05-10T15:53:56.766Z"
   },
   {
    "duration": 7,
    "start_time": "2023-05-10T15:53:57.017Z"
   },
   {
    "duration": 8,
    "start_time": "2023-05-10T15:53:57.026Z"
   },
   {
    "duration": 35,
    "start_time": "2023-05-10T15:53:57.036Z"
   },
   {
    "duration": 15,
    "start_time": "2023-05-10T15:53:57.074Z"
   },
   {
    "duration": 17,
    "start_time": "2023-05-10T15:53:57.091Z"
   },
   {
    "duration": 74,
    "start_time": "2023-05-10T15:53:57.109Z"
   },
   {
    "duration": 69,
    "start_time": "2023-05-10T15:53:57.185Z"
   },
   {
    "duration": 36,
    "start_time": "2023-05-10T15:53:57.256Z"
   },
   {
    "duration": 30,
    "start_time": "2023-05-10T15:53:57.294Z"
   },
   {
    "duration": 11,
    "start_time": "2023-05-10T15:53:57.326Z"
   },
   {
    "duration": 10,
    "start_time": "2023-05-10T15:53:57.339Z"
   },
   {
    "duration": 179,
    "start_time": "2023-05-10T15:53:57.350Z"
   },
   {
    "duration": 912,
    "start_time": "2023-05-10T15:53:57.532Z"
   },
   {
    "duration": 11,
    "start_time": "2023-05-10T15:53:58.446Z"
   },
   {
    "duration": 52,
    "start_time": "2023-05-10T15:53:58.459Z"
   },
   {
    "duration": 135,
    "start_time": "2023-05-10T15:53:58.513Z"
   },
   {
    "duration": 34,
    "start_time": "2023-05-10T15:53:58.651Z"
   },
   {
    "duration": 44,
    "start_time": "2023-05-10T15:53:58.687Z"
   },
   {
    "duration": 4,
    "start_time": "2023-05-10T15:53:58.733Z"
   },
   {
    "duration": 93,
    "start_time": "2023-05-10T15:53:58.739Z"
   },
   {
    "duration": 175,
    "start_time": "2023-05-10T15:53:58.834Z"
   },
   {
    "duration": 61,
    "start_time": "2023-05-10T15:53:59.010Z"
   },
   {
    "duration": 43,
    "start_time": "2023-05-10T15:53:59.083Z"
   },
   {
    "duration": 23,
    "start_time": "2023-05-10T15:53:59.128Z"
   },
   {
    "duration": 46,
    "start_time": "2023-05-10T15:53:59.153Z"
   },
   {
    "duration": 92,
    "start_time": "2023-05-10T15:53:59.201Z"
   },
   {
    "duration": 6,
    "start_time": "2023-05-10T15:53:59.295Z"
   },
   {
    "duration": 185,
    "start_time": "2023-05-10T15:53:59.303Z"
   },
   {
    "duration": 99,
    "start_time": "2023-05-10T15:53:59.490Z"
   },
   {
    "duration": 114,
    "start_time": "2023-05-10T15:53:59.591Z"
   },
   {
    "duration": 110,
    "start_time": "2023-05-10T15:53:59.706Z"
   },
   {
    "duration": 5,
    "start_time": "2023-05-10T15:53:59.818Z"
   },
   {
    "duration": 671,
    "start_time": "2023-05-10T15:53:59.825Z"
   },
   {
    "duration": 542,
    "start_time": "2023-05-10T15:54:00.498Z"
   },
   {
    "duration": 310,
    "start_time": "2023-05-10T15:54:01.042Z"
   },
   {
    "duration": 122,
    "start_time": "2023-05-10T15:54:01.354Z"
   },
   {
    "duration": 806,
    "start_time": "2023-05-10T15:54:01.478Z"
   },
   {
    "duration": 162,
    "start_time": "2023-05-10T15:55:57.622Z"
   },
   {
    "duration": 10,
    "start_time": "2023-05-10T15:55:57.786Z"
   },
   {
    "duration": 7,
    "start_time": "2023-05-10T15:55:57.797Z"
   },
   {
    "duration": 26,
    "start_time": "2023-05-10T15:55:57.806Z"
   },
   {
    "duration": 14,
    "start_time": "2023-05-10T15:55:57.835Z"
   },
   {
    "duration": 14,
    "start_time": "2023-05-10T15:55:57.851Z"
   },
   {
    "duration": 80,
    "start_time": "2023-05-10T15:55:57.867Z"
   },
   {
    "duration": 71,
    "start_time": "2023-05-10T15:55:57.949Z"
   },
   {
    "duration": 22,
    "start_time": "2023-05-10T15:55:58.022Z"
   },
   {
    "duration": 38,
    "start_time": "2023-05-10T15:55:58.047Z"
   },
   {
    "duration": 7,
    "start_time": "2023-05-10T15:55:58.087Z"
   },
   {
    "duration": 25,
    "start_time": "2023-05-10T15:55:58.095Z"
   },
   {
    "duration": 162,
    "start_time": "2023-05-10T15:55:58.122Z"
   },
   {
    "duration": 929,
    "start_time": "2023-05-10T15:55:58.288Z"
   },
   {
    "duration": 11,
    "start_time": "2023-05-10T15:55:59.218Z"
   },
   {
    "duration": 35,
    "start_time": "2023-05-10T15:55:59.231Z"
   },
   {
    "duration": 134,
    "start_time": "2023-05-10T15:55:59.267Z"
   },
   {
    "duration": 30,
    "start_time": "2023-05-10T15:55:59.403Z"
   },
   {
    "duration": 35,
    "start_time": "2023-05-10T15:55:59.434Z"
   },
   {
    "duration": 4,
    "start_time": "2023-05-10T15:55:59.484Z"
   },
   {
    "duration": 47,
    "start_time": "2023-05-10T15:55:59.490Z"
   },
   {
    "duration": 139,
    "start_time": "2023-05-10T15:55:59.539Z"
   },
   {
    "duration": 71,
    "start_time": "2023-05-10T15:55:59.682Z"
   },
   {
    "duration": 63,
    "start_time": "2023-05-10T15:55:59.754Z"
   },
   {
    "duration": 6,
    "start_time": "2023-05-10T15:55:59.820Z"
   },
   {
    "duration": 18,
    "start_time": "2023-05-10T15:55:59.829Z"
   },
   {
    "duration": 49,
    "start_time": "2023-05-10T15:55:59.849Z"
   },
   {
    "duration": 8,
    "start_time": "2023-05-10T15:55:59.901Z"
   },
   {
    "duration": 77,
    "start_time": "2023-05-10T15:55:59.911Z"
   },
   {
    "duration": 58,
    "start_time": "2023-05-10T15:55:59.991Z"
   },
   {
    "duration": 86,
    "start_time": "2023-05-10T15:56:00.051Z"
   },
   {
    "duration": 101,
    "start_time": "2023-05-10T15:56:00.138Z"
   },
   {
    "duration": 78,
    "start_time": "2023-05-10T15:56:00.241Z"
   },
   {
    "duration": 567,
    "start_time": "2023-05-10T15:56:00.320Z"
   },
   {
    "duration": 545,
    "start_time": "2023-05-10T15:56:00.889Z"
   },
   {
    "duration": 629,
    "start_time": "2023-05-10T15:56:01.485Z"
   },
   {
    "duration": 269,
    "start_time": "2023-05-10T15:56:02.116Z"
   },
   {
    "duration": 827,
    "start_time": "2023-05-10T15:56:02.387Z"
   },
   {
    "duration": 74,
    "start_time": "2023-05-10T15:56:27.096Z"
   },
   {
    "duration": 29,
    "start_time": "2023-05-10T15:56:27.492Z"
   },
   {
    "duration": 163,
    "start_time": "2023-05-10T15:56:36.794Z"
   },
   {
    "duration": 8,
    "start_time": "2023-05-10T15:56:36.958Z"
   },
   {
    "duration": 36,
    "start_time": "2023-05-10T15:56:36.967Z"
   },
   {
    "duration": 33,
    "start_time": "2023-05-10T15:56:37.005Z"
   },
   {
    "duration": 16,
    "start_time": "2023-05-10T15:56:37.040Z"
   },
   {
    "duration": 21,
    "start_time": "2023-05-10T15:56:37.057Z"
   },
   {
    "duration": 82,
    "start_time": "2023-05-10T15:56:37.079Z"
   },
   {
    "duration": 71,
    "start_time": "2023-05-10T15:56:37.163Z"
   },
   {
    "duration": 20,
    "start_time": "2023-05-10T15:56:37.235Z"
   },
   {
    "duration": 43,
    "start_time": "2023-05-10T15:56:37.257Z"
   },
   {
    "duration": 33,
    "start_time": "2023-05-10T15:56:37.301Z"
   },
   {
    "duration": 32,
    "start_time": "2023-05-10T15:56:37.336Z"
   },
   {
    "duration": 196,
    "start_time": "2023-05-10T15:56:37.370Z"
   },
   {
    "duration": 820,
    "start_time": "2023-05-10T15:56:37.570Z"
   },
   {
    "duration": 13,
    "start_time": "2023-05-10T15:56:38.392Z"
   },
   {
    "duration": 34,
    "start_time": "2023-05-10T15:56:38.407Z"
   },
   {
    "duration": 140,
    "start_time": "2023-05-10T15:56:38.443Z"
   },
   {
    "duration": 31,
    "start_time": "2023-05-10T15:56:38.585Z"
   },
   {
    "duration": 37,
    "start_time": "2023-05-10T15:56:38.617Z"
   },
   {
    "duration": 27,
    "start_time": "2023-05-10T15:56:38.656Z"
   },
   {
    "duration": 48,
    "start_time": "2023-05-10T15:56:38.685Z"
   },
   {
    "duration": 267,
    "start_time": "2023-05-10T15:56:38.735Z"
   },
   {
    "duration": 118,
    "start_time": "2023-05-10T15:56:39.004Z"
   },
   {
    "duration": 96,
    "start_time": "2023-05-10T15:56:39.123Z"
   },
   {
    "duration": 6,
    "start_time": "2023-05-10T15:56:39.220Z"
   },
   {
    "duration": 4,
    "start_time": "2023-05-10T15:56:39.283Z"
   },
   {
    "duration": 50,
    "start_time": "2023-05-10T15:56:39.289Z"
   },
   {
    "duration": 7,
    "start_time": "2023-05-10T15:56:39.384Z"
   },
   {
    "duration": 134,
    "start_time": "2023-05-10T15:56:39.392Z"
   },
   {
    "duration": 102,
    "start_time": "2023-05-10T15:56:39.528Z"
   },
   {
    "duration": 122,
    "start_time": "2023-05-10T15:56:39.684Z"
   },
   {
    "duration": 116,
    "start_time": "2023-05-10T15:56:39.808Z"
   },
   {
    "duration": 3,
    "start_time": "2023-05-10T15:56:39.926Z"
   },
   {
    "duration": 582,
    "start_time": "2023-05-10T15:56:39.931Z"
   },
   {
    "duration": 435,
    "start_time": "2023-05-10T15:56:40.515Z"
   },
   {
    "duration": 311,
    "start_time": "2023-05-10T15:56:40.952Z"
   },
   {
    "duration": 130,
    "start_time": "2023-05-10T15:56:41.265Z"
   },
   {
    "duration": 829,
    "start_time": "2023-05-10T15:56:41.397Z"
   },
   {
    "duration": 161,
    "start_time": "2023-05-10T15:56:54.437Z"
   },
   {
    "duration": 7,
    "start_time": "2023-05-10T15:56:54.600Z"
   },
   {
    "duration": 22,
    "start_time": "2023-05-10T15:56:54.608Z"
   },
   {
    "duration": 43,
    "start_time": "2023-05-10T15:56:54.632Z"
   },
   {
    "duration": 16,
    "start_time": "2023-05-10T15:56:54.677Z"
   },
   {
    "duration": 19,
    "start_time": "2023-05-10T15:56:54.695Z"
   },
   {
    "duration": 83,
    "start_time": "2023-05-10T15:56:54.716Z"
   },
   {
    "duration": 89,
    "start_time": "2023-05-10T15:56:54.801Z"
   },
   {
    "duration": 27,
    "start_time": "2023-05-10T15:56:54.893Z"
   },
   {
    "duration": 36,
    "start_time": "2023-05-10T15:56:54.925Z"
   },
   {
    "duration": 29,
    "start_time": "2023-05-10T15:56:54.963Z"
   },
   {
    "duration": 42,
    "start_time": "2023-05-10T15:56:54.994Z"
   },
   {
    "duration": 175,
    "start_time": "2023-05-10T15:56:55.039Z"
   },
   {
    "duration": 924,
    "start_time": "2023-05-10T15:56:55.216Z"
   },
   {
    "duration": 11,
    "start_time": "2023-05-10T15:56:56.142Z"
   },
   {
    "duration": 28,
    "start_time": "2023-05-10T15:56:56.155Z"
   },
   {
    "duration": 110,
    "start_time": "2023-05-10T15:56:56.185Z"
   },
   {
    "duration": 29,
    "start_time": "2023-05-10T15:56:56.297Z"
   },
   {
    "duration": 45,
    "start_time": "2023-05-10T15:56:56.327Z"
   },
   {
    "duration": 10,
    "start_time": "2023-05-10T15:56:56.373Z"
   },
   {
    "duration": 52,
    "start_time": "2023-05-10T15:56:56.385Z"
   },
   {
    "duration": 124,
    "start_time": "2023-05-10T15:56:56.438Z"
   },
   {
    "duration": 68,
    "start_time": "2023-05-10T15:56:56.564Z"
   },
   {
    "duration": 59,
    "start_time": "2023-05-10T15:56:56.633Z"
   },
   {
    "duration": 5,
    "start_time": "2023-05-10T15:56:56.694Z"
   },
   {
    "duration": 10,
    "start_time": "2023-05-10T15:56:56.700Z"
   },
   {
    "duration": 93,
    "start_time": "2023-05-10T15:56:56.711Z"
   },
   {
    "duration": 6,
    "start_time": "2023-05-10T15:56:56.808Z"
   },
   {
    "duration": 182,
    "start_time": "2023-05-10T15:56:56.815Z"
   },
   {
    "duration": 98,
    "start_time": "2023-05-10T15:56:56.998Z"
   },
   {
    "duration": 116,
    "start_time": "2023-05-10T15:56:57.098Z"
   },
   {
    "duration": 104,
    "start_time": "2023-05-10T15:56:57.216Z"
   },
   {
    "duration": 4,
    "start_time": "2023-05-10T15:56:57.321Z"
   },
   {
    "duration": 591,
    "start_time": "2023-05-10T15:56:57.326Z"
   },
   {
    "duration": 573,
    "start_time": "2023-05-10T15:56:57.919Z"
   },
   {
    "duration": 280,
    "start_time": "2023-05-10T15:56:58.493Z"
   },
   {
    "duration": 104,
    "start_time": "2023-05-10T15:56:58.774Z"
   },
   {
    "duration": 720,
    "start_time": "2023-05-10T15:56:58.884Z"
   },
   {
    "duration": 168,
    "start_time": "2023-05-10T16:18:33.623Z"
   },
   {
    "duration": 164,
    "start_time": "2023-05-10T16:20:53.023Z"
   },
   {
    "duration": 7,
    "start_time": "2023-05-10T16:20:53.196Z"
   },
   {
    "duration": 56,
    "start_time": "2023-05-10T16:20:53.204Z"
   },
   {
    "duration": 76,
    "start_time": "2023-05-10T16:20:53.262Z"
   },
   {
    "duration": 25,
    "start_time": "2023-05-10T16:20:53.339Z"
   },
   {
    "duration": 53,
    "start_time": "2023-05-10T16:20:53.366Z"
   },
   {
    "duration": 98,
    "start_time": "2023-05-10T16:20:53.420Z"
   },
   {
    "duration": 76,
    "start_time": "2023-05-10T16:20:53.520Z"
   },
   {
    "duration": 18,
    "start_time": "2023-05-10T16:20:53.598Z"
   },
   {
    "duration": 19,
    "start_time": "2023-05-10T16:20:53.619Z"
   },
   {
    "duration": 30,
    "start_time": "2023-05-10T16:20:53.640Z"
   },
   {
    "duration": 43,
    "start_time": "2023-05-10T16:20:53.672Z"
   },
   {
    "duration": 209,
    "start_time": "2023-05-10T16:20:53.716Z"
   },
   {
    "duration": 917,
    "start_time": "2023-05-10T16:20:53.927Z"
   },
   {
    "duration": 11,
    "start_time": "2023-05-10T16:20:54.846Z"
   },
   {
    "duration": 26,
    "start_time": "2023-05-10T16:20:54.859Z"
   },
   {
    "duration": 119,
    "start_time": "2023-05-10T16:20:54.887Z"
   },
   {
    "duration": 32,
    "start_time": "2023-05-10T16:20:55.008Z"
   },
   {
    "duration": 63,
    "start_time": "2023-05-10T16:20:55.042Z"
   },
   {
    "duration": 46,
    "start_time": "2023-05-10T16:20:55.106Z"
   },
   {
    "duration": 86,
    "start_time": "2023-05-10T16:20:55.153Z"
   },
   {
    "duration": 192,
    "start_time": "2023-05-10T16:20:55.241Z"
   },
   {
    "duration": 79,
    "start_time": "2023-05-10T16:20:55.435Z"
   },
   {
    "duration": 79,
    "start_time": "2023-05-10T16:20:55.517Z"
   },
   {
    "duration": 17,
    "start_time": "2023-05-10T16:20:55.598Z"
   },
   {
    "duration": 49,
    "start_time": "2023-05-10T16:20:55.617Z"
   },
   {
    "duration": 65,
    "start_time": "2023-05-10T16:20:55.668Z"
   },
   {
    "duration": 6,
    "start_time": "2023-05-10T16:20:55.736Z"
   },
   {
    "duration": 105,
    "start_time": "2023-05-10T16:20:55.744Z"
   },
   {
    "duration": 56,
    "start_time": "2023-05-10T16:20:55.851Z"
   },
   {
    "duration": 56,
    "start_time": "2023-05-10T16:20:55.908Z"
   },
   {
    "duration": 68,
    "start_time": "2023-05-10T16:20:55.966Z"
   },
   {
    "duration": 3,
    "start_time": "2023-05-10T16:20:56.036Z"
   },
   {
    "duration": 320,
    "start_time": "2023-05-10T16:20:56.041Z"
   },
   {
    "duration": 278,
    "start_time": "2023-05-10T16:20:56.363Z"
   },
   {
    "duration": 115,
    "start_time": "2023-05-10T16:20:56.643Z"
   },
   {
    "duration": 797,
    "start_time": "2023-05-10T16:20:56.759Z"
   },
   {
    "duration": 2361,
    "start_time": "2023-05-11T14:10:03.594Z"
   },
   {
    "duration": 11,
    "start_time": "2023-05-11T14:10:05.957Z"
   },
   {
    "duration": 21,
    "start_time": "2023-05-11T14:10:05.970Z"
   },
   {
    "duration": 31,
    "start_time": "2023-05-11T14:10:05.992Z"
   },
   {
    "duration": 18,
    "start_time": "2023-05-11T14:10:06.026Z"
   },
   {
    "duration": 15,
    "start_time": "2023-05-11T14:10:06.046Z"
   },
   {
    "duration": 72,
    "start_time": "2023-05-11T14:10:06.063Z"
   },
   {
    "duration": 82,
    "start_time": "2023-05-11T14:10:06.136Z"
   },
   {
    "duration": 19,
    "start_time": "2023-05-11T14:10:06.220Z"
   },
   {
    "duration": 16,
    "start_time": "2023-05-11T14:10:06.240Z"
   },
   {
    "duration": 8,
    "start_time": "2023-05-11T14:10:06.258Z"
   },
   {
    "duration": 6,
    "start_time": "2023-05-11T14:10:06.268Z"
   },
   {
    "duration": 176,
    "start_time": "2023-05-11T14:10:06.276Z"
   },
   {
    "duration": 808,
    "start_time": "2023-05-11T14:10:06.455Z"
   },
   {
    "duration": 12,
    "start_time": "2023-05-11T14:10:07.265Z"
   },
   {
    "duration": 13,
    "start_time": "2023-05-11T14:10:07.279Z"
   },
   {
    "duration": 108,
    "start_time": "2023-05-11T14:10:07.307Z"
   },
   {
    "duration": 30,
    "start_time": "2023-05-11T14:10:07.417Z"
   },
   {
    "duration": 31,
    "start_time": "2023-05-11T14:10:07.449Z"
   },
   {
    "duration": 5,
    "start_time": "2023-05-11T14:10:07.481Z"
   },
   {
    "duration": 63,
    "start_time": "2023-05-11T14:10:07.487Z"
   },
   {
    "duration": 159,
    "start_time": "2023-05-11T14:10:07.552Z"
   },
   {
    "duration": 61,
    "start_time": "2023-05-11T14:10:07.713Z"
   },
   {
    "duration": 692,
    "start_time": "2023-05-11T14:10:07.776Z"
   },
   {
    "duration": 5,
    "start_time": "2023-05-11T14:10:08.470Z"
   },
   {
    "duration": 27,
    "start_time": "2023-05-11T14:10:08.477Z"
   },
   {
    "duration": 55,
    "start_time": "2023-05-11T14:10:08.506Z"
   },
   {
    "duration": 8,
    "start_time": "2023-05-11T14:10:08.563Z"
   },
   {
    "duration": 58,
    "start_time": "2023-05-11T14:10:08.607Z"
   },
   {
    "duration": 68,
    "start_time": "2023-05-11T14:10:08.666Z"
   },
   {
    "duration": 51,
    "start_time": "2023-05-11T14:10:08.737Z"
   },
   {
    "duration": 57,
    "start_time": "2023-05-11T14:10:08.790Z"
   },
   {
    "duration": 3,
    "start_time": "2023-05-11T14:10:08.848Z"
   },
   {
    "duration": 255,
    "start_time": "2023-05-11T14:10:08.852Z"
   },
   {
    "duration": 253,
    "start_time": "2023-05-11T14:10:09.108Z"
   },
   {
    "duration": 118,
    "start_time": "2023-05-11T14:10:09.363Z"
   },
   {
    "duration": 714,
    "start_time": "2023-05-11T14:10:09.482Z"
   },
   {
    "duration": 42,
    "start_time": "2023-05-11T14:36:22.594Z"
   },
   {
    "duration": 1446,
    "start_time": "2023-05-11T14:36:25.186Z"
   },
   {
    "duration": 856,
    "start_time": "2023-05-11T14:36:26.634Z"
   },
   {
    "duration": 13,
    "start_time": "2023-05-11T14:36:27.493Z"
   },
   {
    "duration": 3,
    "start_time": "2023-05-11T14:36:27.508Z"
   },
   {
    "duration": 32,
    "start_time": "2023-05-11T14:36:27.559Z"
   },
   {
    "duration": 82,
    "start_time": "2023-05-11T14:36:27.593Z"
   },
   {
    "duration": 20,
    "start_time": "2023-05-11T14:36:27.678Z"
   },
   {
    "duration": 384,
    "start_time": "2023-05-11T14:36:27.700Z"
   },
   {
    "duration": 276,
    "start_time": "2023-05-11T14:36:28.086Z"
   },
   {
    "duration": 34,
    "start_time": "2023-05-11T14:36:28.364Z"
   },
   {
    "duration": 70,
    "start_time": "2023-05-11T14:36:28.400Z"
   },
   {
    "duration": 11,
    "start_time": "2023-05-11T14:36:28.472Z"
   },
   {
    "duration": 10,
    "start_time": "2023-05-11T14:36:28.485Z"
   },
   {
    "duration": 482,
    "start_time": "2023-05-11T14:36:28.498Z"
   },
   {
    "duration": 1337,
    "start_time": "2023-05-11T14:36:28.986Z"
   },
   {
    "duration": 15,
    "start_time": "2023-05-11T14:36:30.324Z"
   },
   {
    "duration": 37,
    "start_time": "2023-05-11T14:36:30.340Z"
   },
   {
    "duration": 140,
    "start_time": "2023-05-11T14:36:30.382Z"
   },
   {
    "duration": 51,
    "start_time": "2023-05-11T14:36:30.523Z"
   },
   {
    "duration": 34,
    "start_time": "2023-05-11T14:36:30.581Z"
   },
   {
    "duration": 5,
    "start_time": "2023-05-11T14:36:30.616Z"
   },
   {
    "duration": 88,
    "start_time": "2023-05-11T14:36:30.622Z"
   },
   {
    "duration": 137,
    "start_time": "2023-05-11T14:36:30.711Z"
   },
   {
    "duration": 73,
    "start_time": "2023-05-11T14:36:30.850Z"
   },
   {
    "duration": 494,
    "start_time": "2023-05-11T14:36:30.925Z"
   },
   {
    "duration": 6,
    "start_time": "2023-05-11T14:36:31.421Z"
   },
   {
    "duration": 49,
    "start_time": "2023-05-11T14:36:31.428Z"
   },
   {
    "duration": 94,
    "start_time": "2023-05-11T14:36:31.480Z"
   },
   {
    "duration": 9,
    "start_time": "2023-05-11T14:36:31.576Z"
   },
   {
    "duration": 131,
    "start_time": "2023-05-11T14:36:31.587Z"
   },
   {
    "duration": 84,
    "start_time": "2023-05-11T14:36:31.720Z"
   },
   {
    "duration": 61,
    "start_time": "2023-05-11T14:36:31.806Z"
   },
   {
    "duration": 66,
    "start_time": "2023-05-11T14:36:31.869Z"
   },
   {
    "duration": 3,
    "start_time": "2023-05-11T14:36:31.937Z"
   },
   {
    "duration": 335,
    "start_time": "2023-05-11T14:36:31.956Z"
   },
   {
    "duration": 312,
    "start_time": "2023-05-11T14:36:32.293Z"
   },
   {
    "duration": 133,
    "start_time": "2023-05-11T14:36:32.607Z"
   },
   {
    "duration": 784,
    "start_time": "2023-05-11T14:36:32.741Z"
   },
   {
    "duration": 145,
    "start_time": "2023-05-11T14:36:57.965Z"
   },
   {
    "duration": 138,
    "start_time": "2023-05-11T14:37:00.896Z"
   },
   {
    "duration": 149,
    "start_time": "2023-05-11T14:37:03.746Z"
   },
   {
    "duration": 120,
    "start_time": "2023-05-11T14:37:12.129Z"
   },
   {
    "duration": 3,
    "start_time": "2023-05-11T14:37:22.894Z"
   },
   {
    "duration": 171,
    "start_time": "2023-05-11T14:37:22.899Z"
   },
   {
    "duration": 10,
    "start_time": "2023-05-11T14:37:23.079Z"
   },
   {
    "duration": 5,
    "start_time": "2023-05-11T14:37:23.090Z"
   },
   {
    "duration": 22,
    "start_time": "2023-05-11T14:37:23.096Z"
   },
   {
    "duration": 23,
    "start_time": "2023-05-11T14:37:23.120Z"
   },
   {
    "duration": 46,
    "start_time": "2023-05-11T14:37:23.145Z"
   },
   {
    "duration": 4,
    "start_time": "2023-05-11T14:37:26.839Z"
   },
   {
    "duration": 182,
    "start_time": "2023-05-11T14:37:26.846Z"
   },
   {
    "duration": 9,
    "start_time": "2023-05-11T14:37:27.029Z"
   },
   {
    "duration": 15,
    "start_time": "2023-05-11T14:37:27.040Z"
   },
   {
    "duration": 37,
    "start_time": "2023-05-11T14:37:27.057Z"
   },
   {
    "duration": 15,
    "start_time": "2023-05-11T14:37:27.096Z"
   },
   {
    "duration": 13,
    "start_time": "2023-05-11T14:37:27.114Z"
   },
   {
    "duration": 184,
    "start_time": "2023-05-11T14:37:27.129Z"
   },
   {
    "duration": 3,
    "start_time": "2023-05-11T14:37:34.297Z"
   },
   {
    "duration": 179,
    "start_time": "2023-05-11T14:37:34.302Z"
   },
   {
    "duration": 9,
    "start_time": "2023-05-11T14:37:34.484Z"
   },
   {
    "duration": 5,
    "start_time": "2023-05-11T14:37:34.495Z"
   },
   {
    "duration": 21,
    "start_time": "2023-05-11T14:37:34.502Z"
   },
   {
    "duration": 11,
    "start_time": "2023-05-11T14:37:34.524Z"
   },
   {
    "duration": 36,
    "start_time": "2023-05-11T14:37:34.537Z"
   },
   {
    "duration": 142,
    "start_time": "2023-05-11T14:37:34.575Z"
   },
   {
    "duration": 1133,
    "start_time": "2023-05-11T14:41:42.711Z"
   },
   {
    "duration": 840,
    "start_time": "2023-05-11T14:41:52.297Z"
   },
   {
    "duration": 910,
    "start_time": "2023-05-11T14:42:10.788Z"
   },
   {
    "duration": 848,
    "start_time": "2023-05-11T14:42:55.800Z"
   },
   {
    "duration": 982,
    "start_time": "2023-05-11T14:43:05.475Z"
   },
   {
    "duration": 844,
    "start_time": "2023-05-11T14:43:13.682Z"
   },
   {
    "duration": 942,
    "start_time": "2023-05-11T14:43:24.548Z"
   },
   {
    "duration": 904,
    "start_time": "2023-05-11T14:43:29.141Z"
   },
   {
    "duration": 1087,
    "start_time": "2023-05-11T14:43:33.229Z"
   },
   {
    "duration": 1058,
    "start_time": "2023-05-11T14:43:52.875Z"
   },
   {
    "duration": 781,
    "start_time": "2023-05-11T14:43:56.619Z"
   },
   {
    "duration": 9111,
    "start_time": "2023-05-11T14:47:42.613Z"
   },
   {
    "duration": 18,
    "start_time": "2023-05-11T14:48:05.736Z"
   },
   {
    "duration": 74,
    "start_time": "2023-05-11T14:48:14.832Z"
   },
   {
    "duration": 22,
    "start_time": "2023-05-11T14:48:23.751Z"
   },
   {
    "duration": 100,
    "start_time": "2023-05-11T14:49:20.308Z"
   },
   {
    "duration": 3,
    "start_time": "2023-05-11T14:49:35.043Z"
   },
   {
    "duration": 153,
    "start_time": "2023-05-11T14:49:35.048Z"
   },
   {
    "duration": 7,
    "start_time": "2023-05-11T14:49:35.203Z"
   },
   {
    "duration": 6,
    "start_time": "2023-05-11T14:49:35.211Z"
   },
   {
    "duration": 19,
    "start_time": "2023-05-11T14:49:35.218Z"
   },
   {
    "duration": 30,
    "start_time": "2023-05-11T14:49:35.239Z"
   },
   {
    "duration": 28,
    "start_time": "2023-05-11T14:49:35.272Z"
   },
   {
    "duration": 141,
    "start_time": "2023-05-11T14:49:35.302Z"
   },
   {
    "duration": 96,
    "start_time": "2023-05-11T14:49:35.445Z"
   },
   {
    "duration": 32,
    "start_time": "2023-05-11T14:49:35.543Z"
   },
   {
    "duration": 16,
    "start_time": "2023-05-11T14:49:35.578Z"
   },
   {
    "duration": 9,
    "start_time": "2023-05-11T14:49:35.595Z"
   },
   {
    "duration": 7,
    "start_time": "2023-05-11T14:49:35.606Z"
   },
   {
    "duration": 45,
    "start_time": "2023-05-11T14:49:35.614Z"
   },
   {
    "duration": 19,
    "start_time": "2023-05-11T14:49:47.202Z"
   },
   {
    "duration": 22,
    "start_time": "2023-05-11T14:50:39.307Z"
   },
   {
    "duration": 20,
    "start_time": "2023-05-11T14:51:37.331Z"
   },
   {
    "duration": 29,
    "start_time": "2023-05-11T14:52:04.146Z"
   },
   {
    "duration": 29,
    "start_time": "2023-05-11T14:52:23.456Z"
   },
   {
    "duration": 3,
    "start_time": "2023-05-11T14:52:35.292Z"
   },
   {
    "duration": 22,
    "start_time": "2023-05-11T14:52:41.825Z"
   },
   {
    "duration": 156,
    "start_time": "2023-05-11T14:52:41.969Z"
   },
   {
    "duration": 20,
    "start_time": "2023-05-11T14:52:45.329Z"
   },
   {
    "duration": 40,
    "start_time": "2023-05-11T14:53:43.839Z"
   },
   {
    "duration": 24,
    "start_time": "2023-05-11T14:53:47.552Z"
   },
   {
    "duration": 116,
    "start_time": "2023-05-11T14:53:52.352Z"
   },
   {
    "duration": 19,
    "start_time": "2023-05-11T14:54:09.193Z"
   },
   {
    "duration": 25,
    "start_time": "2023-05-11T14:54:41.201Z"
   },
   {
    "duration": 21,
    "start_time": "2023-05-11T14:54:45.986Z"
   },
   {
    "duration": 19,
    "start_time": "2023-05-11T14:54:50.587Z"
   },
   {
    "duration": 5,
    "start_time": "2023-05-11T14:54:53.495Z"
   },
   {
    "duration": 6,
    "start_time": "2023-05-11T14:58:17.873Z"
   },
   {
    "duration": 7,
    "start_time": "2023-05-11T14:58:26.207Z"
   },
   {
    "duration": 5,
    "start_time": "2023-05-11T14:58:30.774Z"
   },
   {
    "duration": 5,
    "start_time": "2023-05-11T14:58:36.914Z"
   },
   {
    "duration": 79,
    "start_time": "2023-05-11T15:03:44.345Z"
   },
   {
    "duration": 45,
    "start_time": "2023-05-11T15:11:35.377Z"
   },
   {
    "duration": 40,
    "start_time": "2023-05-11T15:13:12.199Z"
   },
   {
    "duration": 174,
    "start_time": "2023-05-11T15:13:41.928Z"
   },
   {
    "duration": 171,
    "start_time": "2023-05-11T15:15:56.722Z"
   },
   {
    "duration": 51,
    "start_time": "2023-05-11T15:16:05.296Z"
   },
   {
    "duration": 4,
    "start_time": "2023-05-11T15:18:45.639Z"
   },
   {
    "duration": 186,
    "start_time": "2023-05-11T15:18:45.645Z"
   },
   {
    "duration": 8,
    "start_time": "2023-05-11T15:18:45.832Z"
   },
   {
    "duration": 9,
    "start_time": "2023-05-11T15:18:45.842Z"
   },
   {
    "duration": 29,
    "start_time": "2023-05-11T15:18:45.860Z"
   },
   {
    "duration": 13,
    "start_time": "2023-05-11T15:18:45.891Z"
   },
   {
    "duration": 13,
    "start_time": "2023-05-11T15:18:45.905Z"
   },
   {
    "duration": 159,
    "start_time": "2023-05-11T15:18:45.920Z"
   },
   {
    "duration": 100,
    "start_time": "2023-05-11T15:18:46.081Z"
   },
   {
    "duration": 21,
    "start_time": "2023-05-11T15:18:46.186Z"
   },
   {
    "duration": 18,
    "start_time": "2023-05-11T15:18:46.209Z"
   },
   {
    "duration": 7,
    "start_time": "2023-05-11T15:18:46.228Z"
   },
   {
    "duration": 29,
    "start_time": "2023-05-11T15:18:46.237Z"
   },
   {
    "duration": 28,
    "start_time": "2023-05-11T15:18:46.272Z"
   },
   {
    "duration": 5,
    "start_time": "2023-05-11T15:18:46.303Z"
   },
   {
    "duration": 22,
    "start_time": "2023-05-11T15:18:46.310Z"
   },
   {
    "duration": 187,
    "start_time": "2023-05-11T15:18:46.334Z"
   },
   {
    "duration": 896,
    "start_time": "2023-05-11T15:18:46.523Z"
   },
   {
    "duration": 12,
    "start_time": "2023-05-11T15:18:47.421Z"
   },
   {
    "duration": 38,
    "start_time": "2023-05-11T15:18:47.435Z"
   },
   {
    "duration": 127,
    "start_time": "2023-05-11T15:18:47.475Z"
   },
   {
    "duration": 30,
    "start_time": "2023-05-11T15:18:47.603Z"
   },
   {
    "duration": 51,
    "start_time": "2023-05-11T15:18:47.634Z"
   },
   {
    "duration": 6,
    "start_time": "2023-05-11T15:18:47.687Z"
   },
   {
    "duration": 40,
    "start_time": "2023-05-11T15:18:47.695Z"
   },
   {
    "duration": 150,
    "start_time": "2023-05-11T15:18:47.757Z"
   },
   {
    "duration": 73,
    "start_time": "2023-05-11T15:18:47.909Z"
   },
   {
    "duration": 42,
    "start_time": "2023-05-11T15:18:47.984Z"
   },
   {
    "duration": 7,
    "start_time": "2023-05-11T15:18:48.027Z"
   },
   {
    "duration": 23,
    "start_time": "2023-05-11T15:18:48.035Z"
   },
   {
    "duration": 39,
    "start_time": "2023-05-11T15:18:48.065Z"
   },
   {
    "duration": 7,
    "start_time": "2023-05-11T15:18:48.105Z"
   },
   {
    "duration": 79,
    "start_time": "2023-05-11T15:18:48.113Z"
   },
   {
    "duration": 55,
    "start_time": "2023-05-11T15:18:48.194Z"
   },
   {
    "duration": 62,
    "start_time": "2023-05-11T15:18:48.256Z"
   },
   {
    "duration": 65,
    "start_time": "2023-05-11T15:18:48.320Z"
   },
   {
    "duration": 9,
    "start_time": "2023-05-11T15:18:48.386Z"
   },
   {
    "duration": 308,
    "start_time": "2023-05-11T15:18:48.397Z"
   },
   {
    "duration": 327,
    "start_time": "2023-05-11T15:18:48.707Z"
   },
   {
    "duration": 129,
    "start_time": "2023-05-11T15:18:49.035Z"
   },
   {
    "duration": 775,
    "start_time": "2023-05-11T15:18:49.168Z"
   },
   {
    "duration": 1230,
    "start_time": "2023-05-11T21:50:33.196Z"
   },
   {
    "duration": 163,
    "start_time": "2023-05-11T21:50:34.428Z"
   },
   {
    "duration": 12,
    "start_time": "2023-05-11T21:50:34.593Z"
   },
   {
    "duration": 3,
    "start_time": "2023-05-11T21:50:34.607Z"
   },
   {
    "duration": 40,
    "start_time": "2023-05-11T21:50:34.612Z"
   },
   {
    "duration": 25,
    "start_time": "2023-05-11T21:50:34.653Z"
   },
   {
    "duration": 15,
    "start_time": "2023-05-11T21:50:34.679Z"
   },
   {
    "duration": 154,
    "start_time": "2023-05-11T21:50:34.695Z"
   },
   {
    "duration": 98,
    "start_time": "2023-05-11T21:50:34.851Z"
   },
   {
    "duration": 30,
    "start_time": "2023-05-11T21:50:34.952Z"
   },
   {
    "duration": 17,
    "start_time": "2023-05-11T21:50:34.983Z"
   },
   {
    "duration": 7,
    "start_time": "2023-05-11T21:50:35.002Z"
   },
   {
    "duration": 12,
    "start_time": "2023-05-11T21:50:35.010Z"
   },
   {
    "duration": 53,
    "start_time": "2023-05-11T21:50:35.023Z"
   },
   {
    "duration": 4,
    "start_time": "2023-05-11T21:50:35.078Z"
   },
   {
    "duration": 19,
    "start_time": "2023-05-11T21:50:35.084Z"
   },
   {
    "duration": 161,
    "start_time": "2023-05-11T21:50:35.105Z"
   },
   {
    "duration": 899,
    "start_time": "2023-05-11T21:50:35.267Z"
   },
   {
    "duration": 15,
    "start_time": "2023-05-11T21:50:36.168Z"
   },
   {
    "duration": 23,
    "start_time": "2023-05-11T21:50:36.184Z"
   },
   {
    "duration": 116,
    "start_time": "2023-05-11T21:50:36.209Z"
   },
   {
    "duration": 33,
    "start_time": "2023-05-11T21:50:36.327Z"
   },
   {
    "duration": 35,
    "start_time": "2023-05-11T21:50:36.374Z"
   },
   {
    "duration": 4,
    "start_time": "2023-05-11T21:50:36.411Z"
   },
   {
    "duration": 60,
    "start_time": "2023-05-11T21:50:36.416Z"
   },
   {
    "duration": 147,
    "start_time": "2023-05-11T21:50:36.478Z"
   },
   {
    "duration": 71,
    "start_time": "2023-05-11T21:50:36.627Z"
   },
   {
    "duration": 534,
    "start_time": "2023-05-11T21:50:36.701Z"
   },
   {
    "duration": 6,
    "start_time": "2023-05-11T21:50:37.236Z"
   },
   {
    "duration": 32,
    "start_time": "2023-05-11T21:50:37.243Z"
   },
   {
    "duration": 36,
    "start_time": "2023-05-11T21:50:37.276Z"
   },
   {
    "duration": 64,
    "start_time": "2023-05-11T21:50:37.314Z"
   },
   {
    "duration": 102,
    "start_time": "2023-05-11T21:50:37.380Z"
   },
   {
    "duration": 60,
    "start_time": "2023-05-11T21:50:37.484Z"
   },
   {
    "duration": 74,
    "start_time": "2023-05-11T21:50:37.546Z"
   },
   {
    "duration": 70,
    "start_time": "2023-05-11T21:50:37.622Z"
   },
   {
    "duration": 4,
    "start_time": "2023-05-11T21:50:37.694Z"
   },
   {
    "duration": 319,
    "start_time": "2023-05-11T21:50:37.700Z"
   },
   {
    "duration": 297,
    "start_time": "2023-05-11T21:50:38.020Z"
   },
   {
    "duration": 142,
    "start_time": "2023-05-11T21:50:38.319Z"
   },
   {
    "duration": 804,
    "start_time": "2023-05-11T21:50:38.463Z"
   },
   {
    "duration": 94,
    "start_time": "2023-07-25T12:21:00.643Z"
   },
   {
    "duration": 1743,
    "start_time": "2023-07-25T12:21:03.041Z"
   },
   {
    "duration": 742,
    "start_time": "2023-07-25T12:21:04.792Z"
   },
   {
    "duration": 34,
    "start_time": "2023-07-25T12:21:05.537Z"
   },
   {
    "duration": 105,
    "start_time": "2023-07-25T12:21:05.574Z"
   },
   {
    "duration": 119,
    "start_time": "2023-07-25T12:21:05.681Z"
   },
   {
    "duration": 125,
    "start_time": "2023-07-25T12:21:05.802Z"
   },
   {
    "duration": 79,
    "start_time": "2023-07-25T12:21:05.930Z"
   },
   {
    "duration": 336,
    "start_time": "2023-07-25T12:21:06.012Z"
   },
   {
    "duration": 152,
    "start_time": "2023-07-25T12:21:06.353Z"
   },
   {
    "duration": 30,
    "start_time": "2023-07-25T12:21:06.510Z"
   },
   {
    "duration": 26,
    "start_time": "2023-07-25T12:21:06.556Z"
   },
   {
    "duration": 53,
    "start_time": "2023-07-25T12:21:06.584Z"
   },
   {
    "duration": 46,
    "start_time": "2023-07-25T12:21:06.639Z"
   },
   {
    "duration": 32,
    "start_time": "2023-07-25T12:21:06.688Z"
   },
   {
    "duration": 6,
    "start_time": "2023-07-25T12:21:06.722Z"
   },
   {
    "duration": 26,
    "start_time": "2023-07-25T12:21:06.730Z"
   },
   {
    "duration": 284,
    "start_time": "2023-07-25T12:21:06.763Z"
   },
   {
    "duration": 1329,
    "start_time": "2023-07-25T12:21:07.053Z"
   },
   {
    "duration": 23,
    "start_time": "2023-07-25T12:21:08.384Z"
   },
   {
    "duration": 48,
    "start_time": "2023-07-25T12:21:08.410Z"
   },
   {
    "duration": 236,
    "start_time": "2023-07-25T12:21:08.461Z"
   },
   {
    "duration": 63,
    "start_time": "2023-07-25T12:21:08.702Z"
   },
   {
    "duration": 96,
    "start_time": "2023-07-25T12:21:08.768Z"
   },
   {
    "duration": 26,
    "start_time": "2023-07-25T12:21:08.866Z"
   },
   {
    "duration": 108,
    "start_time": "2023-07-25T12:21:08.895Z"
   },
   {
    "duration": 217,
    "start_time": "2023-07-25T12:21:09.005Z"
   },
   {
    "duration": 108,
    "start_time": "2023-07-25T12:21:09.225Z"
   },
   {
    "duration": 641,
    "start_time": "2023-07-25T12:21:09.353Z"
   },
   {
    "duration": 6,
    "start_time": "2023-07-25T12:21:09.997Z"
   },
   {
    "duration": 62,
    "start_time": "2023-07-25T12:21:10.005Z"
   },
   {
    "duration": 115,
    "start_time": "2023-07-25T12:21:10.069Z"
   },
   {
    "duration": 9,
    "start_time": "2023-07-25T12:21:10.186Z"
   },
   {
    "duration": 123,
    "start_time": "2023-07-25T12:21:10.197Z"
   },
   {
    "duration": 91,
    "start_time": "2023-07-25T12:21:10.322Z"
   },
   {
    "duration": 103,
    "start_time": "2023-07-25T12:21:10.415Z"
   },
   {
    "duration": 106,
    "start_time": "2023-07-25T12:21:10.521Z"
   },
   {
    "duration": 453,
    "start_time": "2023-07-25T12:21:10.629Z"
   },
   {
    "duration": 443,
    "start_time": "2023-07-25T12:21:11.084Z"
   },
   {
    "duration": 465,
    "start_time": "2023-07-25T12:21:11.529Z"
   },
   {
    "duration": 220,
    "start_time": "2023-07-25T12:21:12.000Z"
   },
   {
    "duration": 1175,
    "start_time": "2023-07-25T12:21:12.222Z"
   },
   {
    "duration": 10,
    "start_time": "2023-07-25T12:37:20.056Z"
   },
   {
    "duration": 223,
    "start_time": "2023-07-25T12:37:20.069Z"
   },
   {
    "duration": 8,
    "start_time": "2023-07-25T12:37:20.295Z"
   },
   {
    "duration": 14,
    "start_time": "2023-07-25T12:37:20.305Z"
   },
   {
    "duration": 33,
    "start_time": "2023-07-25T12:37:20.322Z"
   },
   {
    "duration": 30,
    "start_time": "2023-07-25T12:37:20.362Z"
   },
   {
    "duration": 20,
    "start_time": "2023-07-25T12:37:20.394Z"
   },
   {
    "duration": 257,
    "start_time": "2023-07-25T12:37:20.417Z"
   },
   {
    "duration": 87,
    "start_time": "2023-07-25T12:37:20.675Z"
   },
   {
    "duration": 29,
    "start_time": "2023-07-25T12:37:20.764Z"
   },
   {
    "duration": 19,
    "start_time": "2023-07-25T12:37:20.797Z"
   },
   {
    "duration": 17,
    "start_time": "2023-07-25T12:37:20.818Z"
   },
   {
    "duration": 16,
    "start_time": "2023-07-25T12:37:20.853Z"
   },
   {
    "duration": 50,
    "start_time": "2023-07-25T12:37:20.870Z"
   },
   {
    "duration": 6,
    "start_time": "2023-07-25T12:37:20.921Z"
   },
   {
    "duration": 13,
    "start_time": "2023-07-25T12:37:20.928Z"
   },
   {
    "duration": 252,
    "start_time": "2023-07-25T12:37:20.943Z"
   },
   {
    "duration": 1038,
    "start_time": "2023-07-25T12:37:21.197Z"
   },
   {
    "duration": 31,
    "start_time": "2023-07-25T12:37:22.238Z"
   },
   {
    "duration": 17,
    "start_time": "2023-07-25T12:37:22.272Z"
   },
   {
    "duration": 135,
    "start_time": "2023-07-25T12:37:22.291Z"
   },
   {
    "duration": 49,
    "start_time": "2023-07-25T12:37:22.428Z"
   },
   {
    "duration": 41,
    "start_time": "2023-07-25T12:37:22.478Z"
   },
   {
    "duration": 6,
    "start_time": "2023-07-25T12:37:22.521Z"
   },
   {
    "duration": 73,
    "start_time": "2023-07-25T12:37:22.528Z"
   },
   {
    "duration": 174,
    "start_time": "2023-07-25T12:37:22.602Z"
   },
   {
    "duration": 77,
    "start_time": "2023-07-25T12:37:22.778Z"
   },
   {
    "duration": 50,
    "start_time": "2023-07-25T12:37:22.857Z"
   },
   {
    "duration": 23,
    "start_time": "2023-07-25T12:37:22.912Z"
   },
   {
    "duration": 40,
    "start_time": "2023-07-25T12:37:22.937Z"
   },
   {
    "duration": 64,
    "start_time": "2023-07-25T12:37:22.980Z"
   },
   {
    "duration": 18,
    "start_time": "2023-07-25T12:37:23.046Z"
   },
   {
    "duration": 96,
    "start_time": "2023-07-25T12:37:23.068Z"
   },
   {
    "duration": 62,
    "start_time": "2023-07-25T12:37:23.166Z"
   },
   {
    "duration": 86,
    "start_time": "2023-07-25T12:37:23.230Z"
   },
   {
    "duration": 84,
    "start_time": "2023-07-25T12:37:23.318Z"
   },
   {
    "duration": 5,
    "start_time": "2023-07-25T12:37:23.405Z"
   },
   {
    "duration": 370,
    "start_time": "2023-07-25T12:37:23.411Z"
   },
   {
    "duration": 342,
    "start_time": "2023-07-25T12:37:23.783Z"
   },
   {
    "duration": 156,
    "start_time": "2023-07-25T12:37:24.126Z"
   },
   {
    "duration": 884,
    "start_time": "2023-07-25T12:37:24.284Z"
   }
  ],
  "kernelspec": {
   "display_name": "Python 3 (ipykernel)",
   "language": "python",
   "name": "python3"
  },
  "language_info": {
   "codemirror_mode": {
    "name": "ipython",
    "version": 3
   },
   "file_extension": ".py",
   "mimetype": "text/x-python",
   "name": "python",
   "nbconvert_exporter": "python",
   "pygments_lexer": "ipython3",
   "version": "3.9.5"
  },
  "toc": {
   "base_numbering": 1,
   "nav_menu": {},
   "number_sections": true,
   "sideBar": true,
   "skip_h1_title": true,
   "title_cell": "Table of Contents",
   "title_sidebar": "Contents",
   "toc_cell": false,
   "toc_position": {
    "height": "calc(100% - 180px)",
    "left": "10px",
    "top": "150px",
    "width": "242.891px"
   },
   "toc_section_display": true,
   "toc_window_display": true
  }
 },
 "nbformat": 4,
 "nbformat_minor": 2
}
