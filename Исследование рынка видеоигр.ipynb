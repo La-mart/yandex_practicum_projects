{
 "cells": [
  {
   "cell_type": "markdown",
   "metadata": {},
   "source": [
    "# Исследование продаж видеоигр за 1980 - 2016 г.г.\n",
    "\n",
    "\n",
    "Исследование проводится для интернет-магазина, который продаёт видеоигры по всему миру. Данные для исследования получены из открытых источников - доступны исторические данные о продажах игр, оценки пользователей и экспертов, жанры и платформы (например, Xbox или PlayStation).\n",
    "\n",
    "---\n",
    "**Цель исследования:** выявить определяющие успешность игры закономерности, учитывая при этом предпочтения пользователей из разных регионов. Опираясь на результаты исследвания предложить рекомендации для  рекламной компании на 2017 год.\n",
    "\n",
    "---\n",
    "**План исследования:**\n",
    "1. Изучение исходных данных  \n",
    "\n",
    "\n",
    "2. Предобработка данных\n",
    "    - Обработка пропусков\n",
    "    - Исправление форматов данных\n",
    "    \n",
    "    \n",
    "3. Исследовательский анализ данных\n",
    "    - Изучение динамики продаж игр\n",
    "    - Изучение популярности игровых платформ\n",
    "    - Определение актуального периода для составления прогноза на 2017 год\n",
    "    - Изучение влияния оценок пользователей и критиков на продажи игр\n",
    "    - Изучение популярности жанров\n",
    "    \n",
    "    \n",
    "4. Изучение предпочтений пользователей каждого региона (NA, EU, JP)\n",
    "    - Изучение предпочтений по платформам\n",
    "    - Изучение предпочтений по жанрам\n",
    "    - Изучение предпочтений по возрастному рейтингу\n",
    "    \n",
    "    \n",
    "5. Проверка гипотез\n",
    "\n",
    "\n",
    "6. Составление общего вывода\n",
    "\n",
    "---\n",
    "**Описание данных:**\n",
    "\n",
    "`Name` — название игры  \n",
    "`Platform` — платформа  \n",
    "`Year_of_Release` — год выпуска  \n",
    "`Genre` — жанр игры  \n",
    "`NA_sales` — продажи в Северной Америке (миллионы проданных копий)  \n",
    "`EU_sales` — продажи в Европе (миллионы проданных копий)  \n",
    "`JP_sales` — продажи в Японии (миллионы проданных копий)  \n",
    "`Other_sales` — продажи в других странах (миллионы проданных копий)  \n",
    "`Critic_Score` — оценка критиков (максимум 100)  \n",
    "`User_Score` — оценка пользователей (максимум 10)  \n",
    "`Rating` — рейтинг от организации ESRB (англ. Entertainment Software Rating Board). Эта ассоциация определяет рейтинг компьютерных игр и присваивает им подходящую возрастную категорию.\n",
    "\n",
    "---"
   ]
  },
  {
   "cell_type": "markdown",
   "metadata": {},
   "source": [
    "## Изучение исходных данных"
   ]
  },
  {
   "cell_type": "code",
   "execution_count": 59,
   "metadata": {},
   "outputs": [],
   "source": [
    "import pandas as pd\n",
    "import matplotlib.pyplot as plt\n",
    "from scipy import stats as st\n",
    "import seaborn as sns\n",
    "sns.set_style(\"darkgrid\")"
   ]
  },
  {
   "cell_type": "code",
   "execution_count": 60,
   "metadata": {},
   "outputs": [
    {
     "data": {
      "text/html": [
       "<div>\n",
       "<style scoped>\n",
       "    .dataframe tbody tr th:only-of-type {\n",
       "        vertical-align: middle;\n",
       "    }\n",
       "\n",
       "    .dataframe tbody tr th {\n",
       "        vertical-align: top;\n",
       "    }\n",
       "\n",
       "    .dataframe thead th {\n",
       "        text-align: right;\n",
       "    }\n",
       "</style>\n",
       "<table border=\"1\" class=\"dataframe\">\n",
       "  <thead>\n",
       "    <tr style=\"text-align: right;\">\n",
       "      <th></th>\n",
       "      <th>Name</th>\n",
       "      <th>Platform</th>\n",
       "      <th>Year_of_Release</th>\n",
       "      <th>Genre</th>\n",
       "      <th>NA_sales</th>\n",
       "      <th>EU_sales</th>\n",
       "      <th>JP_sales</th>\n",
       "      <th>Other_sales</th>\n",
       "      <th>Critic_Score</th>\n",
       "      <th>User_Score</th>\n",
       "      <th>Rating</th>\n",
       "    </tr>\n",
       "  </thead>\n",
       "  <tbody>\n",
       "    <tr>\n",
       "      <th>0</th>\n",
       "      <td>Wii Sports</td>\n",
       "      <td>Wii</td>\n",
       "      <td>2006.0</td>\n",
       "      <td>Sports</td>\n",
       "      <td>41.36</td>\n",
       "      <td>28.96</td>\n",
       "      <td>3.77</td>\n",
       "      <td>8.45</td>\n",
       "      <td>76.0</td>\n",
       "      <td>8</td>\n",
       "      <td>E</td>\n",
       "    </tr>\n",
       "    <tr>\n",
       "      <th>1</th>\n",
       "      <td>Super Mario Bros.</td>\n",
       "      <td>NES</td>\n",
       "      <td>1985.0</td>\n",
       "      <td>Platform</td>\n",
       "      <td>29.08</td>\n",
       "      <td>3.58</td>\n",
       "      <td>6.81</td>\n",
       "      <td>0.77</td>\n",
       "      <td>NaN</td>\n",
       "      <td>NaN</td>\n",
       "      <td>NaN</td>\n",
       "    </tr>\n",
       "    <tr>\n",
       "      <th>2</th>\n",
       "      <td>Mario Kart Wii</td>\n",
       "      <td>Wii</td>\n",
       "      <td>2008.0</td>\n",
       "      <td>Racing</td>\n",
       "      <td>15.68</td>\n",
       "      <td>12.76</td>\n",
       "      <td>3.79</td>\n",
       "      <td>3.29</td>\n",
       "      <td>82.0</td>\n",
       "      <td>8.3</td>\n",
       "      <td>E</td>\n",
       "    </tr>\n",
       "    <tr>\n",
       "      <th>3</th>\n",
       "      <td>Wii Sports Resort</td>\n",
       "      <td>Wii</td>\n",
       "      <td>2009.0</td>\n",
       "      <td>Sports</td>\n",
       "      <td>15.61</td>\n",
       "      <td>10.93</td>\n",
       "      <td>3.28</td>\n",
       "      <td>2.95</td>\n",
       "      <td>80.0</td>\n",
       "      <td>8</td>\n",
       "      <td>E</td>\n",
       "    </tr>\n",
       "    <tr>\n",
       "      <th>4</th>\n",
       "      <td>Pokemon Red/Pokemon Blue</td>\n",
       "      <td>GB</td>\n",
       "      <td>1996.0</td>\n",
       "      <td>Role-Playing</td>\n",
       "      <td>11.27</td>\n",
       "      <td>8.89</td>\n",
       "      <td>10.22</td>\n",
       "      <td>1.00</td>\n",
       "      <td>NaN</td>\n",
       "      <td>NaN</td>\n",
       "      <td>NaN</td>\n",
       "    </tr>\n",
       "    <tr>\n",
       "      <th>5</th>\n",
       "      <td>Tetris</td>\n",
       "      <td>GB</td>\n",
       "      <td>1989.0</td>\n",
       "      <td>Puzzle</td>\n",
       "      <td>23.20</td>\n",
       "      <td>2.26</td>\n",
       "      <td>4.22</td>\n",
       "      <td>0.58</td>\n",
       "      <td>NaN</td>\n",
       "      <td>NaN</td>\n",
       "      <td>NaN</td>\n",
       "    </tr>\n",
       "    <tr>\n",
       "      <th>6</th>\n",
       "      <td>New Super Mario Bros.</td>\n",
       "      <td>DS</td>\n",
       "      <td>2006.0</td>\n",
       "      <td>Platform</td>\n",
       "      <td>11.28</td>\n",
       "      <td>9.14</td>\n",
       "      <td>6.50</td>\n",
       "      <td>2.88</td>\n",
       "      <td>89.0</td>\n",
       "      <td>8.5</td>\n",
       "      <td>E</td>\n",
       "    </tr>\n",
       "    <tr>\n",
       "      <th>7</th>\n",
       "      <td>Wii Play</td>\n",
       "      <td>Wii</td>\n",
       "      <td>2006.0</td>\n",
       "      <td>Misc</td>\n",
       "      <td>13.96</td>\n",
       "      <td>9.18</td>\n",
       "      <td>2.93</td>\n",
       "      <td>2.84</td>\n",
       "      <td>58.0</td>\n",
       "      <td>6.6</td>\n",
       "      <td>E</td>\n",
       "    </tr>\n",
       "    <tr>\n",
       "      <th>8</th>\n",
       "      <td>New Super Mario Bros. Wii</td>\n",
       "      <td>Wii</td>\n",
       "      <td>2009.0</td>\n",
       "      <td>Platform</td>\n",
       "      <td>14.44</td>\n",
       "      <td>6.94</td>\n",
       "      <td>4.70</td>\n",
       "      <td>2.24</td>\n",
       "      <td>87.0</td>\n",
       "      <td>8.4</td>\n",
       "      <td>E</td>\n",
       "    </tr>\n",
       "    <tr>\n",
       "      <th>9</th>\n",
       "      <td>Duck Hunt</td>\n",
       "      <td>NES</td>\n",
       "      <td>1984.0</td>\n",
       "      <td>Shooter</td>\n",
       "      <td>26.93</td>\n",
       "      <td>0.63</td>\n",
       "      <td>0.28</td>\n",
       "      <td>0.47</td>\n",
       "      <td>NaN</td>\n",
       "      <td>NaN</td>\n",
       "      <td>NaN</td>\n",
       "    </tr>\n",
       "  </tbody>\n",
       "</table>\n",
       "</div>"
      ],
      "text/plain": [
       "                        Name Platform  Year_of_Release         Genre  \\\n",
       "0                 Wii Sports      Wii           2006.0        Sports   \n",
       "1          Super Mario Bros.      NES           1985.0      Platform   \n",
       "2             Mario Kart Wii      Wii           2008.0        Racing   \n",
       "3          Wii Sports Resort      Wii           2009.0        Sports   \n",
       "4   Pokemon Red/Pokemon Blue       GB           1996.0  Role-Playing   \n",
       "5                     Tetris       GB           1989.0        Puzzle   \n",
       "6      New Super Mario Bros.       DS           2006.0      Platform   \n",
       "7                   Wii Play      Wii           2006.0          Misc   \n",
       "8  New Super Mario Bros. Wii      Wii           2009.0      Platform   \n",
       "9                  Duck Hunt      NES           1984.0       Shooter   \n",
       "\n",
       "   NA_sales  EU_sales  JP_sales  Other_sales  Critic_Score User_Score Rating  \n",
       "0     41.36     28.96      3.77         8.45          76.0          8      E  \n",
       "1     29.08      3.58      6.81         0.77           NaN        NaN    NaN  \n",
       "2     15.68     12.76      3.79         3.29          82.0        8.3      E  \n",
       "3     15.61     10.93      3.28         2.95          80.0          8      E  \n",
       "4     11.27      8.89     10.22         1.00           NaN        NaN    NaN  \n",
       "5     23.20      2.26      4.22         0.58           NaN        NaN    NaN  \n",
       "6     11.28      9.14      6.50         2.88          89.0        8.5      E  \n",
       "7     13.96      9.18      2.93         2.84          58.0        6.6      E  \n",
       "8     14.44      6.94      4.70         2.24          87.0        8.4      E  \n",
       "9     26.93      0.63      0.28         0.47           NaN        NaN    NaN  "
      ]
     },
     "execution_count": 60,
     "metadata": {},
     "output_type": "execute_result"
    }
   ],
   "source": [
    "games_data = pd.read_csv('/datasets/games.csv')\n",
    "games_data.head(10)"
   ]
  },
  {
   "cell_type": "code",
   "execution_count": 61,
   "metadata": {},
   "outputs": [
    {
     "name": "stdout",
     "output_type": "stream",
     "text": [
      "<class 'pandas.core.frame.DataFrame'>\n",
      "RangeIndex: 16715 entries, 0 to 16714\n",
      "Data columns (total 11 columns):\n",
      " #   Column           Non-Null Count  Dtype  \n",
      "---  ------           --------------  -----  \n",
      " 0   Name             16713 non-null  object \n",
      " 1   Platform         16715 non-null  object \n",
      " 2   Year_of_Release  16446 non-null  float64\n",
      " 3   Genre            16713 non-null  object \n",
      " 4   NA_sales         16715 non-null  float64\n",
      " 5   EU_sales         16715 non-null  float64\n",
      " 6   JP_sales         16715 non-null  float64\n",
      " 7   Other_sales      16715 non-null  float64\n",
      " 8   Critic_Score     8137 non-null   float64\n",
      " 9   User_Score       10014 non-null  object \n",
      " 10  Rating           9949 non-null   object \n",
      "dtypes: float64(6), object(5)\n",
      "memory usage: 1.4+ MB\n"
     ]
    }
   ],
   "source": [
    "games_data.info() # изучаем столбцы и их тип данных"
   ]
  },
  {
   "cell_type": "code",
   "execution_count": 62,
   "metadata": {},
   "outputs": [
    {
     "data": {
      "text/html": [
       "<div>\n",
       "<style scoped>\n",
       "    .dataframe tbody tr th:only-of-type {\n",
       "        vertical-align: middle;\n",
       "    }\n",
       "\n",
       "    .dataframe tbody tr th {\n",
       "        vertical-align: top;\n",
       "    }\n",
       "\n",
       "    .dataframe thead th {\n",
       "        text-align: right;\n",
       "    }\n",
       "</style>\n",
       "<table border=\"1\" class=\"dataframe\">\n",
       "  <thead>\n",
       "    <tr style=\"text-align: right;\">\n",
       "      <th></th>\n",
       "      <th>sum</th>\n",
       "      <th>mean</th>\n",
       "    </tr>\n",
       "  </thead>\n",
       "  <tbody>\n",
       "    <tr>\n",
       "      <th>Critic_Score</th>\n",
       "      <td>8578.0</td>\n",
       "      <td>0.51</td>\n",
       "    </tr>\n",
       "    <tr>\n",
       "      <th>Rating</th>\n",
       "      <td>6766.0</td>\n",
       "      <td>0.40</td>\n",
       "    </tr>\n",
       "    <tr>\n",
       "      <th>User_Score</th>\n",
       "      <td>6701.0</td>\n",
       "      <td>0.40</td>\n",
       "    </tr>\n",
       "    <tr>\n",
       "      <th>Year_of_Release</th>\n",
       "      <td>269.0</td>\n",
       "      <td>0.02</td>\n",
       "    </tr>\n",
       "    <tr>\n",
       "      <th>Name</th>\n",
       "      <td>2.0</td>\n",
       "      <td>0.00</td>\n",
       "    </tr>\n",
       "    <tr>\n",
       "      <th>Genre</th>\n",
       "      <td>2.0</td>\n",
       "      <td>0.00</td>\n",
       "    </tr>\n",
       "    <tr>\n",
       "      <th>Platform</th>\n",
       "      <td>0.0</td>\n",
       "      <td>0.00</td>\n",
       "    </tr>\n",
       "    <tr>\n",
       "      <th>NA_sales</th>\n",
       "      <td>0.0</td>\n",
       "      <td>0.00</td>\n",
       "    </tr>\n",
       "    <tr>\n",
       "      <th>EU_sales</th>\n",
       "      <td>0.0</td>\n",
       "      <td>0.00</td>\n",
       "    </tr>\n",
       "    <tr>\n",
       "      <th>JP_sales</th>\n",
       "      <td>0.0</td>\n",
       "      <td>0.00</td>\n",
       "    </tr>\n",
       "    <tr>\n",
       "      <th>Other_sales</th>\n",
       "      <td>0.0</td>\n",
       "      <td>0.00</td>\n",
       "    </tr>\n",
       "  </tbody>\n",
       "</table>\n",
       "</div>"
      ],
      "text/plain": [
       "                    sum  mean\n",
       "Critic_Score     8578.0  0.51\n",
       "Rating           6766.0  0.40\n",
       "User_Score       6701.0  0.40\n",
       "Year_of_Release   269.0  0.02\n",
       "Name                2.0  0.00\n",
       "Genre               2.0  0.00\n",
       "Platform            0.0  0.00\n",
       "NA_sales            0.0  0.00\n",
       "EU_sales            0.0  0.00\n",
       "JP_sales            0.0  0.00\n",
       "Other_sales         0.0  0.00"
      ]
     },
     "execution_count": 62,
     "metadata": {},
     "output_type": "execute_result"
    }
   ],
   "source": [
    "# проверка на количество пропусков и их долю\n",
    "(games_data.isna().agg(func=('sum', 'mean')).round(2).T\n",
    ".sort_values(by='sum', ascending=False))"
   ]
  },
  {
   "cell_type": "markdown",
   "metadata": {},
   "source": [
    "Большинство пропусков в столбцах с оценками игр:  Critic_Score - 51%, User_Score - 40%.  \n",
    "И столбец с возрастным рейтингом Rating - 40%,"
   ]
  },
  {
   "cell_type": "code",
   "execution_count": 63,
   "metadata": {},
   "outputs": [
    {
     "data": {
      "text/plain": [
       "0"
      ]
     },
     "execution_count": 63,
     "metadata": {},
     "output_type": "execute_result"
    }
   ],
   "source": [
    "games_data.duplicated().sum() # проверка на полные дубликаты"
   ]
  },
  {
   "cell_type": "code",
   "execution_count": 64,
   "metadata": {},
   "outputs": [
    {
     "data": {
      "text/html": [
       "<div>\n",
       "<style scoped>\n",
       "    .dataframe tbody tr th:only-of-type {\n",
       "        vertical-align: middle;\n",
       "    }\n",
       "\n",
       "    .dataframe tbody tr th {\n",
       "        vertical-align: top;\n",
       "    }\n",
       "\n",
       "    .dataframe thead th {\n",
       "        text-align: right;\n",
       "    }\n",
       "</style>\n",
       "<table border=\"1\" class=\"dataframe\">\n",
       "  <thead>\n",
       "    <tr style=\"text-align: right;\">\n",
       "      <th></th>\n",
       "      <th>Year_of_Release</th>\n",
       "      <th>NA_sales</th>\n",
       "      <th>EU_sales</th>\n",
       "      <th>JP_sales</th>\n",
       "      <th>Other_sales</th>\n",
       "      <th>Critic_Score</th>\n",
       "    </tr>\n",
       "  </thead>\n",
       "  <tbody>\n",
       "    <tr>\n",
       "      <th>count</th>\n",
       "      <td>16446.000000</td>\n",
       "      <td>16715.000000</td>\n",
       "      <td>16715.000000</td>\n",
       "      <td>16715.000000</td>\n",
       "      <td>16715.000000</td>\n",
       "      <td>8137.000000</td>\n",
       "    </tr>\n",
       "    <tr>\n",
       "      <th>mean</th>\n",
       "      <td>2006.484616</td>\n",
       "      <td>0.263377</td>\n",
       "      <td>0.145060</td>\n",
       "      <td>0.077617</td>\n",
       "      <td>0.047342</td>\n",
       "      <td>68.967679</td>\n",
       "    </tr>\n",
       "    <tr>\n",
       "      <th>std</th>\n",
       "      <td>5.877050</td>\n",
       "      <td>0.813604</td>\n",
       "      <td>0.503339</td>\n",
       "      <td>0.308853</td>\n",
       "      <td>0.186731</td>\n",
       "      <td>13.938165</td>\n",
       "    </tr>\n",
       "    <tr>\n",
       "      <th>min</th>\n",
       "      <td>1980.000000</td>\n",
       "      <td>0.000000</td>\n",
       "      <td>0.000000</td>\n",
       "      <td>0.000000</td>\n",
       "      <td>0.000000</td>\n",
       "      <td>13.000000</td>\n",
       "    </tr>\n",
       "    <tr>\n",
       "      <th>25%</th>\n",
       "      <td>2003.000000</td>\n",
       "      <td>0.000000</td>\n",
       "      <td>0.000000</td>\n",
       "      <td>0.000000</td>\n",
       "      <td>0.000000</td>\n",
       "      <td>60.000000</td>\n",
       "    </tr>\n",
       "    <tr>\n",
       "      <th>50%</th>\n",
       "      <td>2007.000000</td>\n",
       "      <td>0.080000</td>\n",
       "      <td>0.020000</td>\n",
       "      <td>0.000000</td>\n",
       "      <td>0.010000</td>\n",
       "      <td>71.000000</td>\n",
       "    </tr>\n",
       "    <tr>\n",
       "      <th>75%</th>\n",
       "      <td>2010.000000</td>\n",
       "      <td>0.240000</td>\n",
       "      <td>0.110000</td>\n",
       "      <td>0.040000</td>\n",
       "      <td>0.030000</td>\n",
       "      <td>79.000000</td>\n",
       "    </tr>\n",
       "    <tr>\n",
       "      <th>max</th>\n",
       "      <td>2016.000000</td>\n",
       "      <td>41.360000</td>\n",
       "      <td>28.960000</td>\n",
       "      <td>10.220000</td>\n",
       "      <td>10.570000</td>\n",
       "      <td>98.000000</td>\n",
       "    </tr>\n",
       "  </tbody>\n",
       "</table>\n",
       "</div>"
      ],
      "text/plain": [
       "       Year_of_Release      NA_sales      EU_sales      JP_sales  \\\n",
       "count     16446.000000  16715.000000  16715.000000  16715.000000   \n",
       "mean       2006.484616      0.263377      0.145060      0.077617   \n",
       "std           5.877050      0.813604      0.503339      0.308853   \n",
       "min        1980.000000      0.000000      0.000000      0.000000   \n",
       "25%        2003.000000      0.000000      0.000000      0.000000   \n",
       "50%        2007.000000      0.080000      0.020000      0.000000   \n",
       "75%        2010.000000      0.240000      0.110000      0.040000   \n",
       "max        2016.000000     41.360000     28.960000     10.220000   \n",
       "\n",
       "        Other_sales  Critic_Score  \n",
       "count  16715.000000   8137.000000  \n",
       "mean       0.047342     68.967679  \n",
       "std        0.186731     13.938165  \n",
       "min        0.000000     13.000000  \n",
       "25%        0.000000     60.000000  \n",
       "50%        0.010000     71.000000  \n",
       "75%        0.030000     79.000000  \n",
       "max       10.570000     98.000000  "
      ]
     },
     "execution_count": 64,
     "metadata": {},
     "output_type": "execute_result"
    }
   ],
   "source": [
    "games_data.describe() # описательная статистика по столбцам"
   ]
  },
  {
   "cell_type": "code",
   "execution_count": 65,
   "metadata": {},
   "outputs": [
    {
     "data": {
      "image/png": "[encoded data removed]",
      "text/plain": [
       "<Figure size 864x576 with 6 Axes>"
      ]
     },
     "metadata": {},
     "output_type": "display_data"
    }
   ],
   "source": [
    "games_data.hist(figsize=(12, 8)); # изучаем распредение значений "
   ]
  },
  {
   "cell_type": "markdown",
   "metadata": {},
   "source": [
    "Из описательной статистики и гистограмм можно сделать следующие выводы:  \n",
    "- Временной период продаж игр для исследования с 1980 по 2016 г.г.\n",
    "- Большинство игр было выпущено с 2003 по 2012 годы\n",
    "- В столбцах с данными о продажах видно, что есть аномально высокие значения, находящиеся очень далеко от медианы и средней.\n",
    "- Диапозон оценок критиков от 13 до 98 баллов. Чаще всего игры оценивали в диапозоне 60-80 баллов.\n",
    "\n",
    "---"
   ]
  },
  {
   "cell_type": "markdown",
   "metadata": {},
   "source": [
    "## Предобработка данных"
   ]
  },
  {
   "cell_type": "code",
   "execution_count": 66,
   "metadata": {
    "scrolled": true
   },
   "outputs": [
    {
     "data": {
      "text/plain": [
       "Index(['name', 'platform', 'year_of_release', 'genre', 'na_sales', 'eu_sales',\n",
       "       'jp_sales', 'other_sales', 'critic_score', 'user_score', 'rating'],\n",
       "      dtype='object')"
      ]
     },
     "execution_count": 66,
     "metadata": {},
     "output_type": "execute_result"
    }
   ],
   "source": [
    "games_data.columns = games_data.columns.str.lower() # приводим названия столбцов в змеиный регистр\n",
    "games_data.columns"
   ]
  },
  {
   "cell_type": "markdown",
   "metadata": {},
   "source": [
    "**Столбец 'name'**"
   ]
  },
  {
   "cell_type": "code",
   "execution_count": 67,
   "metadata": {},
   "outputs": [
    {
     "data": {
      "text/html": [
       "<div>\n",
       "<style scoped>\n",
       "    .dataframe tbody tr th:only-of-type {\n",
       "        vertical-align: middle;\n",
       "    }\n",
       "\n",
       "    .dataframe tbody tr th {\n",
       "        vertical-align: top;\n",
       "    }\n",
       "\n",
       "    .dataframe thead th {\n",
       "        text-align: right;\n",
       "    }\n",
       "</style>\n",
       "<table border=\"1\" class=\"dataframe\">\n",
       "  <thead>\n",
       "    <tr style=\"text-align: right;\">\n",
       "      <th></th>\n",
       "      <th>name</th>\n",
       "      <th>platform</th>\n",
       "      <th>year_of_release</th>\n",
       "      <th>genre</th>\n",
       "      <th>na_sales</th>\n",
       "      <th>eu_sales</th>\n",
       "      <th>jp_sales</th>\n",
       "      <th>other_sales</th>\n",
       "      <th>critic_score</th>\n",
       "      <th>user_score</th>\n",
       "      <th>rating</th>\n",
       "    </tr>\n",
       "  </thead>\n",
       "  <tbody>\n",
       "    <tr>\n",
       "      <th>659</th>\n",
       "      <td>NaN</td>\n",
       "      <td>GEN</td>\n",
       "      <td>1993.0</td>\n",
       "      <td>NaN</td>\n",
       "      <td>1.78</td>\n",
       "      <td>0.53</td>\n",
       "      <td>0.00</td>\n",
       "      <td>0.08</td>\n",
       "      <td>NaN</td>\n",
       "      <td>NaN</td>\n",
       "      <td>NaN</td>\n",
       "    </tr>\n",
       "    <tr>\n",
       "      <th>14244</th>\n",
       "      <td>NaN</td>\n",
       "      <td>GEN</td>\n",
       "      <td>1993.0</td>\n",
       "      <td>NaN</td>\n",
       "      <td>0.00</td>\n",
       "      <td>0.00</td>\n",
       "      <td>0.03</td>\n",
       "      <td>0.00</td>\n",
       "      <td>NaN</td>\n",
       "      <td>NaN</td>\n",
       "      <td>NaN</td>\n",
       "    </tr>\n",
       "  </tbody>\n",
       "</table>\n",
       "</div>"
      ],
      "text/plain": [
       "      name platform  year_of_release genre  na_sales  eu_sales  jp_sales  \\\n",
       "659    NaN      GEN           1993.0   NaN      1.78      0.53      0.00   \n",
       "14244  NaN      GEN           1993.0   NaN      0.00      0.00      0.03   \n",
       "\n",
       "       other_sales  critic_score user_score rating  \n",
       "659           0.08           NaN        NaN    NaN  \n",
       "14244         0.00           NaN        NaN    NaN  "
      ]
     },
     "execution_count": 67,
     "metadata": {},
     "output_type": "execute_result"
    }
   ],
   "source": [
    "games_data[games_data['name'].isna()]"
   ]
  },
  {
   "cell_type": "code",
   "execution_count": 68,
   "metadata": {},
   "outputs": [],
   "source": [
    "games_data = games_data.dropna(subset=['name']) # удаляем строки с пропущенным названием игры"
   ]
  },
  {
   "cell_type": "markdown",
   "metadata": {},
   "source": [
    "**Столбец 'year_of_release'**"
   ]
  },
  {
   "cell_type": "code",
   "execution_count": 69,
   "metadata": {
    "scrolled": true
   },
   "outputs": [
    {
     "name": "stdout",
     "output_type": "stream",
     "text": [
      "1.34%\n",
      "1.01%\n",
      "0.52%\n",
      "1.09%\n"
     ]
    }
   ],
   "source": [
    "# проверка доли игр без указанного года выпуска в продажах для каждого региона\n",
    "for sales in ['na_sales', 'eu_sales', 'jp_sales', 'other_sales']:\n",
    "    print(\"{:.2%}\".format((games_data[games_data['year_of_release'].isna()][sales].sum()/games_data[sales].sum())))"
   ]
  },
  {
   "cell_type": "markdown",
   "metadata": {},
   "source": [
    "Доля таких игр в выручке незначительна - их можно удалить."
   ]
  },
  {
   "cell_type": "code",
   "execution_count": 70,
   "metadata": {},
   "outputs": [],
   "source": [
    "games_data = (games_data.dropna(subset=['year_of_release']) # удаление строк с отсутвующим годом выпуска\n",
    ".reset_index(drop=True)) # сброс индексов"
   ]
  },
  {
   "cell_type": "code",
   "execution_count": 71,
   "metadata": {},
   "outputs": [],
   "source": [
    "# Замена float на int для столбца год выпуска\n",
    "games_data['year_of_release'] = games_data['year_of_release'].astype(int) "
   ]
  },
  {
   "cell_type": "markdown",
   "metadata": {},
   "source": [
    "**Столбец 'critic_score'**"
   ]
  },
  {
   "cell_type": "code",
   "execution_count": 72,
   "metadata": {
    "scrolled": true
   },
   "outputs": [
    {
     "data": {
      "text/plain": [
       "array([76., nan, 82., 80., 89., 58., 87., 91., 61., 97., 95., 77., 88.,\n",
       "       83., 94., 93., 85., 86., 98., 96., 90., 84., 73., 74., 78., 92.,\n",
       "       71., 72., 68., 62., 49., 67., 81., 66., 56., 79., 70., 59., 64.,\n",
       "       75., 60., 63., 69., 50., 25., 42., 44., 55., 48., 57., 29., 47.,\n",
       "       65., 54., 20., 53., 37., 38., 33., 52., 30., 32., 43., 45., 51.,\n",
       "       40., 46., 39., 34., 41., 36., 31., 27., 35., 26., 19., 28., 23.,\n",
       "       24., 21., 17., 13.])"
      ]
     },
     "execution_count": 72,
     "metadata": {},
     "output_type": "execute_result"
    }
   ],
   "source": [
    "games_data['critic_score'].unique() # все ок"
   ]
  },
  {
   "cell_type": "markdown",
   "metadata": {},
   "source": [
    "**Столбец 'user_score'**"
   ]
  },
  {
   "cell_type": "code",
   "execution_count": 73,
   "metadata": {},
   "outputs": [
    {
     "data": {
      "text/plain": [
       "array(['8', nan, '8.3', '8.5', '6.6', '8.4', '8.6', '7.7', '6.3', '7.4',\n",
       "       '8.2', '9', '7.9', '8.1', '8.7', '7.1', '3.4', '5.3', '4.8', '3.2',\n",
       "       '8.9', '6.4', '7.8', '7.5', '2.6', '7.2', '9.2', '7', '7.3', '4.3',\n",
       "       '7.6', '5.7', '5', '9.1', '6.5', 'tbd', '8.8', '6.9', '9.4', '6.8',\n",
       "       '6.1', '6.7', '5.4', '4', '4.9', '4.5', '9.3', '6.2', '4.2', '6',\n",
       "       '3.7', '4.1', '5.8', '5.6', '5.5', '4.4', '4.6', '5.9', '3.9',\n",
       "       '3.1', '2.9', '5.2', '3.3', '4.7', '5.1', '3.5', '2.5', '1.9', '3',\n",
       "       '2.7', '2.2', '2', '9.5', '2.1', '3.6', '2.8', '1.8', '3.8', '0',\n",
       "       '1.6', '9.6', '2.4', '1.7', '1.1', '0.3', '1.5', '0.7', '1.2',\n",
       "       '2.3', '0.5', '1.3', '0.2', '0.6', '1.4', '0.9', '1', '9.7'],\n",
       "      dtype=object)"
      ]
     },
     "execution_count": 73,
     "metadata": {},
     "output_type": "execute_result"
    }
   ],
   "source": [
    "games_data['user_score'].unique() # рассмотрим уникальные значения "
   ]
  },
  {
   "cell_type": "markdown",
   "metadata": {},
   "source": [
    "- числовые значения имеют формат формат str (необходимо перевести в float формат)\n",
    "- 2376 значений 'tbd'\n",
    "\n",
    "Постараемся понять, что может означать 'tbd' - рассмотрим строки с таким значением и все остальные и сравним их. Возможно в числовых данных будут определенные закономерности (например сильно отличаться год выпуска, уровень продаж, оценки критиков)"
   ]
  },
  {
   "cell_type": "code",
   "execution_count": 74,
   "metadata": {},
   "outputs": [
    {
     "data": {
      "text/html": [
       "<div>\n",
       "<style scoped>\n",
       "    .dataframe tbody tr th:only-of-type {\n",
       "        vertical-align: middle;\n",
       "    }\n",
       "\n",
       "    .dataframe tbody tr th {\n",
       "        vertical-align: top;\n",
       "    }\n",
       "\n",
       "    .dataframe thead th {\n",
       "        text-align: right;\n",
       "    }\n",
       "</style>\n",
       "<table border=\"1\" class=\"dataframe\">\n",
       "  <thead>\n",
       "    <tr style=\"text-align: right;\">\n",
       "      <th></th>\n",
       "      <th>year_of_release</th>\n",
       "      <th>na_sales</th>\n",
       "      <th>eu_sales</th>\n",
       "      <th>jp_sales</th>\n",
       "      <th>other_sales</th>\n",
       "      <th>critic_score</th>\n",
       "    </tr>\n",
       "  </thead>\n",
       "  <tbody>\n",
       "    <tr>\n",
       "      <th>count</th>\n",
       "      <td>2376.000000</td>\n",
       "      <td>2376.000000</td>\n",
       "      <td>2376.000000</td>\n",
       "      <td>2376.000000</td>\n",
       "      <td>2376.000000</td>\n",
       "      <td>1056.000000</td>\n",
       "    </tr>\n",
       "    <tr>\n",
       "      <th>mean</th>\n",
       "      <td>2007.450337</td>\n",
       "      <td>0.125539</td>\n",
       "      <td>0.043674</td>\n",
       "      <td>0.002782</td>\n",
       "      <td>0.015905</td>\n",
       "      <td>60.766098</td>\n",
       "    </tr>\n",
       "    <tr>\n",
       "      <th>std</th>\n",
       "      <td>3.484229</td>\n",
       "      <td>0.176593</td>\n",
       "      <td>0.112068</td>\n",
       "      <td>0.026395</td>\n",
       "      <td>0.039411</td>\n",
       "      <td>11.190603</td>\n",
       "    </tr>\n",
       "    <tr>\n",
       "      <th>min</th>\n",
       "      <td>1997.000000</td>\n",
       "      <td>0.000000</td>\n",
       "      <td>0.000000</td>\n",
       "      <td>0.000000</td>\n",
       "      <td>0.000000</td>\n",
       "      <td>23.000000</td>\n",
       "    </tr>\n",
       "    <tr>\n",
       "      <th>25%</th>\n",
       "      <td>2005.000000</td>\n",
       "      <td>0.030000</td>\n",
       "      <td>0.000000</td>\n",
       "      <td>0.000000</td>\n",
       "      <td>0.000000</td>\n",
       "      <td>54.000000</td>\n",
       "    </tr>\n",
       "    <tr>\n",
       "      <th>50%</th>\n",
       "      <td>2008.000000</td>\n",
       "      <td>0.070000</td>\n",
       "      <td>0.010000</td>\n",
       "      <td>0.000000</td>\n",
       "      <td>0.010000</td>\n",
       "      <td>62.000000</td>\n",
       "    </tr>\n",
       "    <tr>\n",
       "      <th>75%</th>\n",
       "      <td>2010.000000</td>\n",
       "      <td>0.150000</td>\n",
       "      <td>0.040000</td>\n",
       "      <td>0.000000</td>\n",
       "      <td>0.020000</td>\n",
       "      <td>69.000000</td>\n",
       "    </tr>\n",
       "    <tr>\n",
       "      <th>max</th>\n",
       "      <td>2016.000000</td>\n",
       "      <td>3.450000</td>\n",
       "      <td>2.590000</td>\n",
       "      <td>0.860000</td>\n",
       "      <td>1.090000</td>\n",
       "      <td>90.000000</td>\n",
       "    </tr>\n",
       "  </tbody>\n",
       "</table>\n",
       "</div>"
      ],
      "text/plain": [
       "       year_of_release     na_sales     eu_sales     jp_sales  other_sales  \\\n",
       "count      2376.000000  2376.000000  2376.000000  2376.000000  2376.000000   \n",
       "mean       2007.450337     0.125539     0.043674     0.002782     0.015905   \n",
       "std           3.484229     0.176593     0.112068     0.026395     0.039411   \n",
       "min        1997.000000     0.000000     0.000000     0.000000     0.000000   \n",
       "25%        2005.000000     0.030000     0.000000     0.000000     0.000000   \n",
       "50%        2008.000000     0.070000     0.010000     0.000000     0.010000   \n",
       "75%        2010.000000     0.150000     0.040000     0.000000     0.020000   \n",
       "max        2016.000000     3.450000     2.590000     0.860000     1.090000   \n",
       "\n",
       "       critic_score  \n",
       "count   1056.000000  \n",
       "mean      60.766098  \n",
       "std       11.190603  \n",
       "min       23.000000  \n",
       "25%       54.000000  \n",
       "50%       62.000000  \n",
       "75%       69.000000  \n",
       "max       90.000000  "
      ]
     },
     "execution_count": 74,
     "metadata": {},
     "output_type": "execute_result"
    }
   ],
   "source": [
    "games_data.query('user_score == \"tbd\"').describe()"
   ]
  },
  {
   "cell_type": "code",
   "execution_count": 75,
   "metadata": {},
   "outputs": [
    {
     "data": {
      "text/html": [
       "<div>\n",
       "<style scoped>\n",
       "    .dataframe tbody tr th:only-of-type {\n",
       "        vertical-align: middle;\n",
       "    }\n",
       "\n",
       "    .dataframe tbody tr th {\n",
       "        vertical-align: top;\n",
       "    }\n",
       "\n",
       "    .dataframe thead th {\n",
       "        text-align: right;\n",
       "    }\n",
       "</style>\n",
       "<table border=\"1\" class=\"dataframe\">\n",
       "  <thead>\n",
       "    <tr style=\"text-align: right;\">\n",
       "      <th></th>\n",
       "      <th>year_of_release</th>\n",
       "      <th>na_sales</th>\n",
       "      <th>eu_sales</th>\n",
       "      <th>jp_sales</th>\n",
       "      <th>other_sales</th>\n",
       "      <th>critic_score</th>\n",
       "    </tr>\n",
       "  </thead>\n",
       "  <tbody>\n",
       "    <tr>\n",
       "      <th>count</th>\n",
       "      <td>14068.000000</td>\n",
       "      <td>14068.000000</td>\n",
       "      <td>14068.000000</td>\n",
       "      <td>14068.000000</td>\n",
       "      <td>14068.000000</td>\n",
       "      <td>6927.000000</td>\n",
       "    </tr>\n",
       "    <tr>\n",
       "      <th>mean</th>\n",
       "      <td>2006.323429</td>\n",
       "      <td>0.287400</td>\n",
       "      <td>0.163201</td>\n",
       "      <td>0.091273</td>\n",
       "      <td>0.052946</td>\n",
       "      <td>70.248737</td>\n",
       "    </tr>\n",
       "    <tr>\n",
       "      <th>std</th>\n",
       "      <td>6.174107</td>\n",
       "      <td>0.879667</td>\n",
       "      <td>0.544008</td>\n",
       "      <td>0.334487</td>\n",
       "      <td>0.202128</td>\n",
       "      <td>13.868657</td>\n",
       "    </tr>\n",
       "    <tr>\n",
       "      <th>min</th>\n",
       "      <td>1980.000000</td>\n",
       "      <td>0.000000</td>\n",
       "      <td>0.000000</td>\n",
       "      <td>0.000000</td>\n",
       "      <td>0.000000</td>\n",
       "      <td>13.000000</td>\n",
       "    </tr>\n",
       "    <tr>\n",
       "      <th>25%</th>\n",
       "      <td>2003.000000</td>\n",
       "      <td>0.000000</td>\n",
       "      <td>0.000000</td>\n",
       "      <td>0.000000</td>\n",
       "      <td>0.000000</td>\n",
       "      <td>62.000000</td>\n",
       "    </tr>\n",
       "    <tr>\n",
       "      <th>50%</th>\n",
       "      <td>2007.000000</td>\n",
       "      <td>0.080000</td>\n",
       "      <td>0.030000</td>\n",
       "      <td>0.000000</td>\n",
       "      <td>0.010000</td>\n",
       "      <td>72.000000</td>\n",
       "    </tr>\n",
       "    <tr>\n",
       "      <th>75%</th>\n",
       "      <td>2011.000000</td>\n",
       "      <td>0.260000</td>\n",
       "      <td>0.130000</td>\n",
       "      <td>0.050000</td>\n",
       "      <td>0.040000</td>\n",
       "      <td>80.000000</td>\n",
       "    </tr>\n",
       "    <tr>\n",
       "      <th>max</th>\n",
       "      <td>2016.000000</td>\n",
       "      <td>41.360000</td>\n",
       "      <td>28.960000</td>\n",
       "      <td>10.220000</td>\n",
       "      <td>10.570000</td>\n",
       "      <td>98.000000</td>\n",
       "    </tr>\n",
       "  </tbody>\n",
       "</table>\n",
       "</div>"
      ],
      "text/plain": [
       "       year_of_release      na_sales      eu_sales      jp_sales  \\\n",
       "count     14068.000000  14068.000000  14068.000000  14068.000000   \n",
       "mean       2006.323429      0.287400      0.163201      0.091273   \n",
       "std           6.174107      0.879667      0.544008      0.334487   \n",
       "min        1980.000000      0.000000      0.000000      0.000000   \n",
       "25%        2003.000000      0.000000      0.000000      0.000000   \n",
       "50%        2007.000000      0.080000      0.030000      0.000000   \n",
       "75%        2011.000000      0.260000      0.130000      0.050000   \n",
       "max        2016.000000     41.360000     28.960000     10.220000   \n",
       "\n",
       "        other_sales  critic_score  \n",
       "count  14068.000000   6927.000000  \n",
       "mean       0.052946     70.248737  \n",
       "std        0.202128     13.868657  \n",
       "min        0.000000     13.000000  \n",
       "25%        0.000000     62.000000  \n",
       "50%        0.010000     72.000000  \n",
       "75%        0.040000     80.000000  \n",
       "max       10.570000     98.000000  "
      ]
     },
     "execution_count": 75,
     "metadata": {},
     "output_type": "execute_result"
    }
   ],
   "source": [
    "games_data.query('user_score != \"tbd\"').describe()"
   ]
  },
  {
   "cell_type": "markdown",
   "metadata": {},
   "source": [
    "Строки с 'tbd' в среднем имеют меньшие продажи и более низкую оценку критиков, но никаких значительных различий между строками c 'tbd' и остальными не выявленно. Как правило аббривиатура 'TBD' означает 'to be decided', т.е. оценка \"еще не определена\".  \n",
    "Возможно оценок пользователей слишком мало для формирования оценки, либо данные просто отсутствуют.  \n",
    "В таком случае стоить заменить значения 'tbd' на 'nan'."
   ]
  },
  {
   "cell_type": "code",
   "execution_count": 76,
   "metadata": {},
   "outputs": [],
   "source": [
    "# перевод чисел в формате str в float и 'tbd' в nan\n",
    "games_data['user_score'] = pd.to_numeric(games_data['user_score'], errors='coerce') "
   ]
  },
  {
   "cell_type": "markdown",
   "metadata": {},
   "source": [
    "**Столбец 'rating'**"
   ]
  },
  {
   "cell_type": "code",
   "execution_count": 77,
   "metadata": {},
   "outputs": [
    {
     "data": {
      "text/plain": [
       "array(['E', nan, 'M', 'T', 'E10+', 'K-A', 'AO', 'EC', 'RP'], dtype=object)"
      ]
     },
     "execution_count": 77,
     "metadata": {},
     "output_type": "execute_result"
    }
   ],
   "source": [
    "games_data['rating'].unique()"
   ]
  },
  {
   "cell_type": "code",
   "execution_count": 78,
   "metadata": {},
   "outputs": [],
   "source": [
    "games_data['rating'] = games_data['rating'].fillna('no_rating') # заполним nan обозначением 'no_rating'"
   ]
  },
  {
   "cell_type": "markdown",
   "metadata": {},
   "source": [
    "**Заполнение пропусков:**  \n",
    "- Пропуски в 'name' и 'year_of_release' удалены, поскольку количество таких строк незначительно.\n",
    "- Пропусков в 'critic_score' и 'user_score' очень много - их доли 50% и 40% от всех данных. Заполнить их средним по имеющимся половинам данных представляется некорректным, поэтому остается оставить их как есть.\n",
    "- Пропуски в 'rating' тоже занимают значительную долю - 40%. Поскольку значения категориальные, можно лишь заменить 'nan' на обозначение отстутвия возрастного рейтинга ('no_rating').\n"
   ]
  },
  {
   "cell_type": "code",
   "execution_count": 79,
   "metadata": {
    "scrolled": true
   },
   "outputs": [
    {
     "name": "stdout",
     "output_type": "stream",
     "text": [
      "<class 'pandas.core.frame.DataFrame'>\n",
      "RangeIndex: 16444 entries, 0 to 16443\n",
      "Data columns (total 11 columns):\n",
      " #   Column           Non-Null Count  Dtype  \n",
      "---  ------           --------------  -----  \n",
      " 0   name             16444 non-null  object \n",
      " 1   platform         16444 non-null  object \n",
      " 2   year_of_release  16444 non-null  int64  \n",
      " 3   genre            16444 non-null  object \n",
      " 4   na_sales         16444 non-null  float64\n",
      " 5   eu_sales         16444 non-null  float64\n",
      " 6   jp_sales         16444 non-null  float64\n",
      " 7   other_sales      16444 non-null  float64\n",
      " 8   critic_score     7983 non-null   float64\n",
      " 9   user_score       7463 non-null   float64\n",
      " 10  rating           16444 non-null  object \n",
      "dtypes: float64(6), int64(1), object(4)\n",
      "memory usage: 1.4+ MB\n"
     ]
    }
   ],
   "source": [
    "games_data.info() # пропуски обработаны, типы данных исправлены"
   ]
  },
  {
   "cell_type": "code",
   "execution_count": 80,
   "metadata": {},
   "outputs": [],
   "source": [
    "# Расчитаем общие продажи по всем регионам и добавим их в новый столбец\n",
    "games_data['total_sales'] = games_data[['na_sales','eu_sales','jp_sales', 'other_sales']].sum(axis = 1)"
   ]
  },
  {
   "cell_type": "markdown",
   "metadata": {},
   "source": [
    "## Исследовательский анализ данных"
   ]
  },
  {
   "cell_type": "markdown",
   "metadata": {},
   "source": [
    "### Динамика выпуска игр за период 1980 - 2016 г.г."
   ]
  },
  {
   "cell_type": "code",
   "execution_count": 81,
   "metadata": {},
   "outputs": [
    {
     "data": {
      "image/png": "[encoded data removed]",
      "text/plain": [
       "<Figure size 864x360 with 1 Axes>"
      ]
     },
     "metadata": {},
     "output_type": "display_data"
    }
   ],
   "source": [
    "games_data[\"year_of_release\"].hist(bins=37, figsize=(12, 5))\n",
    "plt.xlabel('Год выпуска')\n",
    "plt.ylabel('Количество игр')\n",
    "plt.title('Динамика выпуска игр за 1980-2016 г.г.')\n",
    "plt.show()"
   ]
  },
  {
   "cell_type": "markdown",
   "metadata": {},
   "source": [
    "- Количество выпускаемых игр до 1995 года составляло меньше 200 в год, а до 2001 меньше 400.\n",
    "- Пик по количеству выпущенных игр пришелся на 2008, 2009 года - около 1400 игр в год.\n",
    "- После 2009 года выпуск игр пошел на спад, в 2016 году было выпущено только около 500 игр.\n",
    "\n",
    "Наиболее релевантные данные для планирования рекламной компании на 2017 год - период с 2012 по 2016, т.к. этот период имеет другую динамку (плато), до этого наблюдался активный рост, бум и резкое падение.  \n",
    "Для краткосрочного планирования (только на один следующий год) подойдут два последних года - 2015 и 2016.\n",
    "\n",
    "---"
   ]
  },
  {
   "cell_type": "markdown",
   "metadata": {},
   "source": [
    "### Динамика продаж игр по платформам"
   ]
  },
  {
   "cell_type": "code",
   "execution_count": 82,
   "metadata": {},
   "outputs": [],
   "source": [
    "# Находим Топ 10 платформ по общей выручке \n",
    "top10_platforms = games_data.groupby(['platform'])['total_sales'].sum().sort_values(ascending=False).head(10)\n",
    "# Отбираем данные только для этих 10 платформ\n",
    "top10_platforms_data = games_data.query('platform in @top10_platforms.index')"
   ]
  },
  {
   "cell_type": "code",
   "execution_count": 83,
   "metadata": {},
   "outputs": [
    {
     "data": {
      "image/png": "[encoded data removed]",
      "text/plain": [
       "<Figure size 720x432 with 1 Axes>"
      ]
     },
     "metadata": {},
     "output_type": "display_data"
    }
   ],
   "source": [
    "top10_platforms.sort_values(ascending=True).plot(kind='barh', title='ТОП 10 платформ по продажам за 1980-2016 г.г.',figsize = (10,6))\n",
    "plt.xlabel('Количество проданных копий игр под платформу, млн.')\n",
    "plt.ylabel('Платформа')\n",
    "plt.show()"
   ]
  },
  {
   "cell_type": "markdown",
   "metadata": {},
   "source": [
    "- Самой успешной платформой за весь период является **PlayStation 2** - около 1.2 млрд. проданных копий игр. Платформа была активна в период с 2000 по 2010 год и лидировала на рынке в первой половине двухтысячных. \n",
    "- Главный конкурент Playstation - платформы от XBox. Самый успешный представитель - **X360** c продажами 961 млн. копий игр. Платформа была активна в период с 2005 по 2015 год\n",
    "- Третий сильный игрок на рынке - платформы от Nintendo (Япония). Их **приставки Wii** и **портативные консоли DS** (самая успешная среди портативных устройств) занимают 4 и 5 место в рейтинге, с продажами 891 млн. и 802 млн. соответственно."
   ]
  },
  {
   "cell_type": "code",
   "execution_count": 84,
   "metadata": {},
   "outputs": [],
   "source": [
    "# вспомогательный pivot для построения графика по продажам игр по топ 10 платформ\n",
    "platforms_pivot = top10_platforms_data.pivot_table(index='year_of_release', values='total_sales', columns='platform', aggfunc='sum')"
   ]
  },
  {
   "cell_type": "code",
   "execution_count": 85,
   "metadata": {},
   "outputs": [
    {
     "data": {
      "image/png": "[encoded data removed]",
      "text/plain": [
       "<Figure size 1080x360 with 1 Axes>"
      ]
     },
     "metadata": {},
     "output_type": "display_data"
    }
   ],
   "source": [
    "platforms_pivot.plot(kind='bar', figsize = (15,5), stacked=True)\n",
    "plt.xlabel('Год выпуска')\n",
    "plt.ylabel('Количество проданных копий, млн.')\n",
    "plt.title('Динамика продаж игр по платформам (Топ 10)')\n",
    "plt.show()"
   ]
  },
  {
   "cell_type": "markdown",
   "metadata": {},
   "source": [
    "- До 2000 года главной игровой платформой являлась PlayStation 1(PS), затем ее сменила PS2 и до 2006 года так же удерживала лидерство, с выпуском PS3 в 2006 году - позиции Playstation значительно сократились, но с 2014 года они снова выбиваются в лидеры c выпуском PS4.\n",
    "- В период с 2006 по 2011 (бум по количеству выпущеннных игр) рынок платформ имел много сильных и относительно равных игроков."
   ]
  },
  {
   "cell_type": "code",
   "execution_count": 86,
   "metadata": {},
   "outputs": [
    {
     "data": {
      "text/html": [
       "<div>\n",
       "<style scoped>\n",
       "    .dataframe tbody tr th:only-of-type {\n",
       "        vertical-align: middle;\n",
       "    }\n",
       "\n",
       "    .dataframe tbody tr th {\n",
       "        vertical-align: top;\n",
       "    }\n",
       "\n",
       "    .dataframe thead th {\n",
       "        text-align: right;\n",
       "    }\n",
       "</style>\n",
       "<table border=\"1\" class=\"dataframe\">\n",
       "  <thead>\n",
       "    <tr style=\"text-align: right;\">\n",
       "      <th></th>\n",
       "      <th>min</th>\n",
       "      <th>max</th>\n",
       "      <th>lifetime</th>\n",
       "    </tr>\n",
       "    <tr>\n",
       "      <th>platform</th>\n",
       "      <th></th>\n",
       "      <th></th>\n",
       "      <th></th>\n",
       "    </tr>\n",
       "  </thead>\n",
       "  <tbody>\n",
       "    <tr>\n",
       "      <th>2600</th>\n",
       "      <td>1980</td>\n",
       "      <td>1989</td>\n",
       "      <td>9</td>\n",
       "    </tr>\n",
       "    <tr>\n",
       "      <th>NES</th>\n",
       "      <td>1983</td>\n",
       "      <td>1994</td>\n",
       "      <td>11</td>\n",
       "    </tr>\n",
       "    <tr>\n",
       "      <th>DS</th>\n",
       "      <td>1985</td>\n",
       "      <td>2013</td>\n",
       "      <td>28</td>\n",
       "    </tr>\n",
       "    <tr>\n",
       "      <th>PC</th>\n",
       "      <td>1985</td>\n",
       "      <td>2016</td>\n",
       "      <td>31</td>\n",
       "    </tr>\n",
       "    <tr>\n",
       "      <th>GB</th>\n",
       "      <td>1988</td>\n",
       "      <td>2001</td>\n",
       "      <td>13</td>\n",
       "    </tr>\n",
       "    <tr>\n",
       "      <th>SNES</th>\n",
       "      <td>1990</td>\n",
       "      <td>1999</td>\n",
       "      <td>9</td>\n",
       "    </tr>\n",
       "    <tr>\n",
       "      <th>GEN</th>\n",
       "      <td>1990</td>\n",
       "      <td>1994</td>\n",
       "      <td>4</td>\n",
       "    </tr>\n",
       "    <tr>\n",
       "      <th>GG</th>\n",
       "      <td>1992</td>\n",
       "      <td>1992</td>\n",
       "      <td>0</td>\n",
       "    </tr>\n",
       "    <tr>\n",
       "      <th>SCD</th>\n",
       "      <td>1993</td>\n",
       "      <td>1994</td>\n",
       "      <td>1</td>\n",
       "    </tr>\n",
       "    <tr>\n",
       "      <th>NG</th>\n",
       "      <td>1993</td>\n",
       "      <td>1996</td>\n",
       "      <td>3</td>\n",
       "    </tr>\n",
       "    <tr>\n",
       "      <th>SAT</th>\n",
       "      <td>1994</td>\n",
       "      <td>1999</td>\n",
       "      <td>5</td>\n",
       "    </tr>\n",
       "    <tr>\n",
       "      <th>PS</th>\n",
       "      <td>1994</td>\n",
       "      <td>2003</td>\n",
       "      <td>9</td>\n",
       "    </tr>\n",
       "    <tr>\n",
       "      <th>3DO</th>\n",
       "      <td>1994</td>\n",
       "      <td>1995</td>\n",
       "      <td>1</td>\n",
       "    </tr>\n",
       "    <tr>\n",
       "      <th>TG16</th>\n",
       "      <td>1995</td>\n",
       "      <td>1995</td>\n",
       "      <td>0</td>\n",
       "    </tr>\n",
       "    <tr>\n",
       "      <th>PCFX</th>\n",
       "      <td>1996</td>\n",
       "      <td>1996</td>\n",
       "      <td>0</td>\n",
       "    </tr>\n",
       "    <tr>\n",
       "      <th>N64</th>\n",
       "      <td>1996</td>\n",
       "      <td>2002</td>\n",
       "      <td>6</td>\n",
       "    </tr>\n",
       "    <tr>\n",
       "      <th>DC</th>\n",
       "      <td>1998</td>\n",
       "      <td>2008</td>\n",
       "      <td>10</td>\n",
       "    </tr>\n",
       "    <tr>\n",
       "      <th>WS</th>\n",
       "      <td>1999</td>\n",
       "      <td>2001</td>\n",
       "      <td>2</td>\n",
       "    </tr>\n",
       "    <tr>\n",
       "      <th>GBA</th>\n",
       "      <td>2000</td>\n",
       "      <td>2007</td>\n",
       "      <td>7</td>\n",
       "    </tr>\n",
       "    <tr>\n",
       "      <th>XB</th>\n",
       "      <td>2000</td>\n",
       "      <td>2008</td>\n",
       "      <td>8</td>\n",
       "    </tr>\n",
       "    <tr>\n",
       "      <th>PS2</th>\n",
       "      <td>2000</td>\n",
       "      <td>2011</td>\n",
       "      <td>11</td>\n",
       "    </tr>\n",
       "    <tr>\n",
       "      <th>GC</th>\n",
       "      <td>2001</td>\n",
       "      <td>2007</td>\n",
       "      <td>6</td>\n",
       "    </tr>\n",
       "    <tr>\n",
       "      <th>PSP</th>\n",
       "      <td>2004</td>\n",
       "      <td>2015</td>\n",
       "      <td>11</td>\n",
       "    </tr>\n",
       "    <tr>\n",
       "      <th>X360</th>\n",
       "      <td>2005</td>\n",
       "      <td>2016</td>\n",
       "      <td>11</td>\n",
       "    </tr>\n",
       "    <tr>\n",
       "      <th>PS3</th>\n",
       "      <td>2006</td>\n",
       "      <td>2016</td>\n",
       "      <td>10</td>\n",
       "    </tr>\n",
       "    <tr>\n",
       "      <th>Wii</th>\n",
       "      <td>2006</td>\n",
       "      <td>2016</td>\n",
       "      <td>10</td>\n",
       "    </tr>\n",
       "    <tr>\n",
       "      <th>3DS</th>\n",
       "      <td>2011</td>\n",
       "      <td>2016</td>\n",
       "      <td>5</td>\n",
       "    </tr>\n",
       "    <tr>\n",
       "      <th>PSV</th>\n",
       "      <td>2011</td>\n",
       "      <td>2016</td>\n",
       "      <td>5</td>\n",
       "    </tr>\n",
       "    <tr>\n",
       "      <th>WiiU</th>\n",
       "      <td>2012</td>\n",
       "      <td>2016</td>\n",
       "      <td>4</td>\n",
       "    </tr>\n",
       "    <tr>\n",
       "      <th>PS4</th>\n",
       "      <td>2013</td>\n",
       "      <td>2016</td>\n",
       "      <td>3</td>\n",
       "    </tr>\n",
       "    <tr>\n",
       "      <th>XOne</th>\n",
       "      <td>2013</td>\n",
       "      <td>2016</td>\n",
       "      <td>3</td>\n",
       "    </tr>\n",
       "  </tbody>\n",
       "</table>\n",
       "</div>"
      ],
      "text/plain": [
       "           min   max  lifetime\n",
       "platform                      \n",
       "2600      1980  1989         9\n",
       "NES       1983  1994        11\n",
       "DS        1985  2013        28\n",
       "PC        1985  2016        31\n",
       "GB        1988  2001        13\n",
       "SNES      1990  1999         9\n",
       "GEN       1990  1994         4\n",
       "GG        1992  1992         0\n",
       "SCD       1993  1994         1\n",
       "NG        1993  1996         3\n",
       "SAT       1994  1999         5\n",
       "PS        1994  2003         9\n",
       "3DO       1994  1995         1\n",
       "TG16      1995  1995         0\n",
       "PCFX      1996  1996         0\n",
       "N64       1996  2002         6\n",
       "DC        1998  2008        10\n",
       "WS        1999  2001         2\n",
       "GBA       2000  2007         7\n",
       "XB        2000  2008         8\n",
       "PS2       2000  2011        11\n",
       "GC        2001  2007         6\n",
       "PSP       2004  2015        11\n",
       "X360      2005  2016        11\n",
       "PS3       2006  2016        10\n",
       "Wii       2006  2016        10\n",
       "3DS       2011  2016         5\n",
       "PSV       2011  2016         5\n",
       "WiiU      2012  2016         4\n",
       "PS4       2013  2016         3\n",
       "XOne      2013  2016         3"
      ]
     },
     "metadata": {},
     "output_type": "display_data"
    }
   ],
   "source": [
    "# расчитаем год выпуска первой и последней игры для каждой платформы\n",
    "platform_lifetime = games_data.groupby('platform')['year_of_release'].agg(['min','max'])\n",
    "# расчитаем продолжительность жизни каждой платформы\n",
    "platform_lifetime['lifetime'] = platform_lifetime['max'] - platform_lifetime['min']\n",
    "# вывод таблицу на экран\n",
    "display(platform_lifetime.sort_values(by='min'))"
   ]
  },
  {
   "cell_type": "markdown",
   "metadata": {},
   "source": [
    "Для расчета средней продолжительности жизни платформы некорректно брать максимальный год выпуска - 2016, т.к. возможно платформы еще активны и игры под них будут выходить в последующих годах. "
   ]
  },
  {
   "cell_type": "code",
   "execution_count": 87,
   "metadata": {},
   "outputs": [
    {
     "name": "stdout",
     "output_type": "stream",
     "text": [
      "Средняя продолжительность жизни среди устаревших платформ:  7.0 лет\n"
     ]
    }
   ],
   "source": [
    "print('Средняя продолжительность жизни среди устаревших платформ: ',\n",
    "      platform_lifetime.query('max != 2016')['lifetime'].mean(), 'лет')"
   ]
  },
  {
   "cell_type": "code",
   "execution_count": 88,
   "metadata": {},
   "outputs": [],
   "source": [
    "# расчитаем год выпуска первой и последней игры для каждой платформы\n",
    "top10_platform_lifetime = top10_platforms_data.groupby('platform')['year_of_release'].agg(['min','max'])\n",
    "# расчитаем продолжительность жизни каждой платформы\n",
    "top10_platform_lifetime['lifetime'] = top10_platform_lifetime['max'] - top10_platform_lifetime['min']"
   ]
  },
  {
   "cell_type": "code",
   "execution_count": 89,
   "metadata": {},
   "outputs": [
    {
     "data": {
      "text/html": [
       "<div>\n",
       "<style scoped>\n",
       "    .dataframe tbody tr th:only-of-type {\n",
       "        vertical-align: middle;\n",
       "    }\n",
       "\n",
       "    .dataframe tbody tr th {\n",
       "        vertical-align: top;\n",
       "    }\n",
       "\n",
       "    .dataframe thead th {\n",
       "        text-align: right;\n",
       "    }\n",
       "</style>\n",
       "<table border=\"1\" class=\"dataframe\">\n",
       "  <thead>\n",
       "    <tr style=\"text-align: right;\">\n",
       "      <th></th>\n",
       "      <th>min</th>\n",
       "      <th>max</th>\n",
       "      <th>lifetime</th>\n",
       "    </tr>\n",
       "    <tr>\n",
       "      <th>platform</th>\n",
       "      <th></th>\n",
       "      <th></th>\n",
       "      <th></th>\n",
       "    </tr>\n",
       "  </thead>\n",
       "  <tbody>\n",
       "    <tr>\n",
       "      <th>3DS</th>\n",
       "      <td>2011</td>\n",
       "      <td>2016</td>\n",
       "      <td>5</td>\n",
       "    </tr>\n",
       "    <tr>\n",
       "      <th>DS</th>\n",
       "      <td>1985</td>\n",
       "      <td>2013</td>\n",
       "      <td>28</td>\n",
       "    </tr>\n",
       "    <tr>\n",
       "      <th>GBA</th>\n",
       "      <td>2000</td>\n",
       "      <td>2007</td>\n",
       "      <td>7</td>\n",
       "    </tr>\n",
       "    <tr>\n",
       "      <th>PS</th>\n",
       "      <td>1994</td>\n",
       "      <td>2003</td>\n",
       "      <td>9</td>\n",
       "    </tr>\n",
       "    <tr>\n",
       "      <th>PS2</th>\n",
       "      <td>2000</td>\n",
       "      <td>2011</td>\n",
       "      <td>11</td>\n",
       "    </tr>\n",
       "    <tr>\n",
       "      <th>PS3</th>\n",
       "      <td>2006</td>\n",
       "      <td>2016</td>\n",
       "      <td>10</td>\n",
       "    </tr>\n",
       "    <tr>\n",
       "      <th>PS4</th>\n",
       "      <td>2013</td>\n",
       "      <td>2016</td>\n",
       "      <td>3</td>\n",
       "    </tr>\n",
       "    <tr>\n",
       "      <th>PSP</th>\n",
       "      <td>2004</td>\n",
       "      <td>2015</td>\n",
       "      <td>11</td>\n",
       "    </tr>\n",
       "    <tr>\n",
       "      <th>Wii</th>\n",
       "      <td>2006</td>\n",
       "      <td>2016</td>\n",
       "      <td>10</td>\n",
       "    </tr>\n",
       "    <tr>\n",
       "      <th>X360</th>\n",
       "      <td>2005</td>\n",
       "      <td>2016</td>\n",
       "      <td>11</td>\n",
       "    </tr>\n",
       "  </tbody>\n",
       "</table>\n",
       "</div>"
      ],
      "text/plain": [
       "           min   max  lifetime\n",
       "platform                      \n",
       "3DS       2011  2016         5\n",
       "DS        1985  2013        28\n",
       "GBA       2000  2007         7\n",
       "PS        1994  2003         9\n",
       "PS2       2000  2011        11\n",
       "PS3       2006  2016        10\n",
       "PS4       2013  2016         3\n",
       "PSP       2004  2015        11\n",
       "Wii       2006  2016        10\n",
       "X360      2005  2016        11"
      ]
     },
     "execution_count": 89,
     "metadata": {},
     "output_type": "execute_result"
    }
   ],
   "source": [
    "top10_platform_lifetime"
   ]
  },
  {
   "cell_type": "markdown",
   "metadata": {},
   "source": [
    "Если не считать недавно выпущенные платформы и платформу DS (с аномальным значением 28 лет), то средняя продолжительность жизни топ платформ - **около 10 лет**"
   ]
  },
  {
   "cell_type": "markdown",
   "metadata": {},
   "source": [
    "**Расчет периодичности выпуска новых и закрытия старых платформ:**"
   ]
  },
  {
   "cell_type": "code",
   "execution_count": 90,
   "metadata": {},
   "outputs": [
    {
     "data": {
      "text/plain": [
       "'Годы выпуска'"
      ]
     },
     "metadata": {},
     "output_type": "display_data"
    },
    {
     "data": {
      "text/plain": [
       "array([1980, 1983, 1985, 1988, 1990, 1992, 1993, 1994, 1995, 1996, 1998,\n",
       "       1999, 2000, 2001, 2004, 2005, 2006, 2011, 2012, 2013])"
      ]
     },
     "metadata": {},
     "output_type": "display_data"
    },
    {
     "data": {
      "text/plain": [
       "'Годы закрытия'"
      ]
     },
     "metadata": {},
     "output_type": "display_data"
    },
    {
     "data": {
      "text/plain": [
       "array([1989, 1992, 1994, 1995, 1996, 1999, 2001, 2002, 2003, 2007, 2008,\n",
       "       2011, 2013, 2015, 2016])"
      ]
     },
     "metadata": {},
     "output_type": "display_data"
    }
   ],
   "source": [
    "platform_launch = platform_lifetime['min'].sort_values().unique() # годы в которые выпускалась хотябы одна новая платформа\n",
    "display('Годы выпуска', platform_launch)\n",
    "platform_shutdown = platform_lifetime['max'].sort_values().unique() # годы в которые закрывалась хотябы одна старая платформа\n",
    "display('Годы закрытия', platform_shutdown)"
   ]
  },
  {
   "cell_type": "code",
   "execution_count": 91,
   "metadata": {},
   "outputs": [
    {
     "name": "stdout",
     "output_type": "stream",
     "text": [
      "Промежуток (в годах) между появлением новой платформы: [3, 2, 3, 2, 2, 1, 1, 1, 1, 2, 1, 1, 1, 3, 1, 1, 5, 1, 1]\n",
      "Промежуток (в годах) между закрытием старой платформы: [3, 2, 1, 1, 3, 2, 1, 1, 4, 1, 3, 2, 2, 1]\n"
     ]
    }
   ],
   "source": [
    "launch_diff = []\n",
    "for x in range(len(platform_launch)-1):\n",
    "    launch_diff.append(platform_launch[x+1] - platform_launch[x])\n",
    "print('Промежуток (в годах) между появлением новой платформы:', launch_diff)\n",
    "\n",
    "shutdown_diff = []\n",
    "for x in range(len(platform_shutdown)-1):\n",
    "    shutdown_diff.append(platform_shutdown[x+1] - platform_shutdown[x])\n",
    "print('Промежуток (в годах) между закрытием старой платформы:', shutdown_diff)"
   ]
  },
  {
   "cell_type": "code",
   "execution_count": 92,
   "metadata": {},
   "outputs": [
    {
     "name": "stdout",
     "output_type": "stream",
     "text": [
      "Характерный срок появления хотя бы одной новой платформы: каждые 1.7 года\n",
      "Характерный срок закрытия хотя бы одной старой платформы: каждые 1.9 года\n"
     ]
    }
   ],
   "source": [
    "print('Характерный срок появления хотя бы одной новой платформы: каждые', (sum(launch_diff)/len(launch_diff)).round(1), 'года')\n",
    "print('Характерный срок закрытия хотя бы одной старой платформы: каждые', (sum(shutdown_diff)/len(shutdown_diff)).round(1), 'года')"
   ]
  },
  {
   "cell_type": "markdown",
   "metadata": {},
   "source": [
    "### Определение актуального периода для построения прогноза на 2017 год"
   ]
  },
  {
   "cell_type": "markdown",
   "metadata": {},
   "source": [
    "Как показал первый график наиболее релевантные данные для планирования рекламной компании на 2017 год - период с 2012 по 2016, т.к. этот период имеет однородную динамику и неволатилен (плато), в отличие от предыдущих годов.  \n",
    "Так же каждые полтора - два года  выходят новые платформы и сворачиваются старые, при средней продолжительности жизни платформы в 7 лет. Период в 4 года позоволит увидеть как и только запущенные, так и сворачивающиеся платформы и в целом отразит последние тренды.  \n",
    "**Для краткосрочного планирования (только на один следующий год) подойдут два последних года - 2015 и 2016.**"
   ]
  },
  {
   "cell_type": "code",
   "execution_count": 93,
   "metadata": {},
   "outputs": [],
   "source": [
    "games_data_actual = games_data[games_data['year_of_release'] > 2014] # выбираем данные только за 2015 и 2016 "
   ]
  },
  {
   "cell_type": "markdown",
   "metadata": {},
   "source": [
    "### Платформы-лидеры 2015 - 2016 г.г."
   ]
  },
  {
   "cell_type": "code",
   "execution_count": 94,
   "metadata": {},
   "outputs": [
    {
     "data": {
      "image/png": "[encoded data removed]",
      "text/plain": [
       "<Figure size 1080x576 with 1 Axes>"
      ]
     },
     "metadata": {},
     "output_type": "display_data"
    }
   ],
   "source": [
    "y = games_data_actual.pivot_table(index='year_of_release', values='total_sales', columns='platform', aggfunc='sum')\n",
    "\n",
    "y.plot(kind='line', figsize = (15,8), linewidth=3)\n",
    "plt.xticks([2015,2016])\n",
    "plt.xlabel('Год выпуска')\n",
    "plt.ylabel('Количество проданных копий, млн.')\n",
    "plt.title('Динамика продаж игр по платформам')\n",
    "plt.show()"
   ]
  },
  {
   "cell_type": "markdown",
   "metadata": {},
   "source": [
    "- На графике видны 3 лидера: **Playstation(PS3, PS4), XBox(X360, XOne) и Nintendo(3DS)**, остальные платформы имеют значительно меньшие продажи."
   ]
  },
  {
   "cell_type": "markdown",
   "metadata": {},
   "source": [
    "### Глобальные продажи игр в разбивке по платформам"
   ]
  },
  {
   "cell_type": "code",
   "execution_count": 95,
   "metadata": {},
   "outputs": [
    {
     "data": {
      "image/png": "[encoded data removed]",
      "text/plain": [
       "<Figure size 1080x504 with 1 Axes>"
      ]
     },
     "metadata": {},
     "output_type": "display_data"
    }
   ],
   "source": [
    "games_data_actual.boxplot(column='total_sales', by='platform', figsize=(15,7))\n",
    "plt.xlabel('Платформа')\n",
    "plt.ylabel('Количество проданных копий игры, млн.')\n",
    "plt.title('Продажи игр по платформам')\n",
    "plt.show()"
   ]
  },
  {
   "cell_type": "markdown",
   "metadata": {},
   "source": [
    "- Рекордные продажи игр более 4 млн.копий имеются только у **Nintendo(3DS), PS4,  WiiU и XOne**. \n",
    "- Наибольшее количество игр-хитов у PS4.\n",
    "- Самая продаваемая игра последних двух лет - **Call of Duty: Black Ops 3 на PS4** (14.6 млн копий)"
   ]
  },
  {
   "cell_type": "code",
   "execution_count": 96,
   "metadata": {
    "scrolled": true
   },
   "outputs": [
    {
     "data": {
      "text/html": [
       "<div>\n",
       "<style scoped>\n",
       "    .dataframe tbody tr th:only-of-type {\n",
       "        vertical-align: middle;\n",
       "    }\n",
       "\n",
       "    .dataframe tbody tr th {\n",
       "        vertical-align: top;\n",
       "    }\n",
       "\n",
       "    .dataframe thead th {\n",
       "        text-align: right;\n",
       "    }\n",
       "</style>\n",
       "<table border=\"1\" class=\"dataframe\">\n",
       "  <thead>\n",
       "    <tr style=\"text-align: right;\">\n",
       "      <th></th>\n",
       "      <th>count</th>\n",
       "      <th>mean</th>\n",
       "      <th>std</th>\n",
       "      <th>min</th>\n",
       "      <th>25%</th>\n",
       "      <th>50%</th>\n",
       "      <th>75%</th>\n",
       "      <th>max</th>\n",
       "    </tr>\n",
       "    <tr>\n",
       "      <th>platform</th>\n",
       "      <th></th>\n",
       "      <th></th>\n",
       "      <th></th>\n",
       "      <th></th>\n",
       "      <th></th>\n",
       "      <th></th>\n",
       "      <th></th>\n",
       "      <th></th>\n",
       "    </tr>\n",
       "  </thead>\n",
       "  <tbody>\n",
       "    <tr>\n",
       "      <th>WiiU</th>\n",
       "      <td>42.0</td>\n",
       "      <td>0.498810</td>\n",
       "      <td>0.850240</td>\n",
       "      <td>0.01</td>\n",
       "      <td>0.050</td>\n",
       "      <td>0.215</td>\n",
       "      <td>0.5175</td>\n",
       "      <td>4.44</td>\n",
       "    </tr>\n",
       "    <tr>\n",
       "      <th>Wii</th>\n",
       "      <td>5.0</td>\n",
       "      <td>0.264000</td>\n",
       "      <td>0.390487</td>\n",
       "      <td>0.01</td>\n",
       "      <td>0.030</td>\n",
       "      <td>0.150</td>\n",
       "      <td>0.1800</td>\n",
       "      <td>0.95</td>\n",
       "    </tr>\n",
       "    <tr>\n",
       "      <th>XOne</th>\n",
       "      <td>167.0</td>\n",
       "      <td>0.516707</td>\n",
       "      <td>0.965940</td>\n",
       "      <td>0.01</td>\n",
       "      <td>0.035</td>\n",
       "      <td>0.130</td>\n",
       "      <td>0.5550</td>\n",
       "      <td>7.39</td>\n",
       "    </tr>\n",
       "    <tr>\n",
       "      <th>PS4</th>\n",
       "      <td>301.0</td>\n",
       "      <td>0.625083</td>\n",
       "      <td>1.457063</td>\n",
       "      <td>0.01</td>\n",
       "      <td>0.050</td>\n",
       "      <td>0.120</td>\n",
       "      <td>0.4200</td>\n",
       "      <td>14.63</td>\n",
       "    </tr>\n",
       "    <tr>\n",
       "      <th>X360</th>\n",
       "      <td>48.0</td>\n",
       "      <td>0.280833</td>\n",
       "      <td>0.381207</td>\n",
       "      <td>0.01</td>\n",
       "      <td>0.040</td>\n",
       "      <td>0.110</td>\n",
       "      <td>0.3525</td>\n",
       "      <td>1.70</td>\n",
       "    </tr>\n",
       "    <tr>\n",
       "      <th>3DS</th>\n",
       "      <td>132.0</td>\n",
       "      <td>0.325152</td>\n",
       "      <td>0.798620</td>\n",
       "      <td>0.01</td>\n",
       "      <td>0.030</td>\n",
       "      <td>0.090</td>\n",
       "      <td>0.2325</td>\n",
       "      <td>7.14</td>\n",
       "    </tr>\n",
       "    <tr>\n",
       "      <th>PS3</th>\n",
       "      <td>111.0</td>\n",
       "      <td>0.183964</td>\n",
       "      <td>0.342696</td>\n",
       "      <td>0.01</td>\n",
       "      <td>0.020</td>\n",
       "      <td>0.060</td>\n",
       "      <td>0.1600</td>\n",
       "      <td>2.70</td>\n",
       "    </tr>\n",
       "    <tr>\n",
       "      <th>PC</th>\n",
       "      <td>104.0</td>\n",
       "      <td>0.132404</td>\n",
       "      <td>0.209449</td>\n",
       "      <td>0.01</td>\n",
       "      <td>0.020</td>\n",
       "      <td>0.050</td>\n",
       "      <td>0.1425</td>\n",
       "      <td>1.28</td>\n",
       "    </tr>\n",
       "    <tr>\n",
       "      <th>PSV</th>\n",
       "      <td>195.0</td>\n",
       "      <td>0.053846</td>\n",
       "      <td>0.063669</td>\n",
       "      <td>0.01</td>\n",
       "      <td>0.020</td>\n",
       "      <td>0.030</td>\n",
       "      <td>0.0600</td>\n",
       "      <td>0.41</td>\n",
       "    </tr>\n",
       "    <tr>\n",
       "      <th>PSP</th>\n",
       "      <td>3.0</td>\n",
       "      <td>0.040000</td>\n",
       "      <td>0.034641</td>\n",
       "      <td>0.02</td>\n",
       "      <td>0.020</td>\n",
       "      <td>0.020</td>\n",
       "      <td>0.0500</td>\n",
       "      <td>0.08</td>\n",
       "    </tr>\n",
       "  </tbody>\n",
       "</table>\n",
       "</div>"
      ],
      "text/plain": [
       "          count      mean       std   min    25%    50%     75%    max\n",
       "platform                                                              \n",
       "WiiU       42.0  0.498810  0.850240  0.01  0.050  0.215  0.5175   4.44\n",
       "Wii         5.0  0.264000  0.390487  0.01  0.030  0.150  0.1800   0.95\n",
       "XOne      167.0  0.516707  0.965940  0.01  0.035  0.130  0.5550   7.39\n",
       "PS4       301.0  0.625083  1.457063  0.01  0.050  0.120  0.4200  14.63\n",
       "X360       48.0  0.280833  0.381207  0.01  0.040  0.110  0.3525   1.70\n",
       "3DS       132.0  0.325152  0.798620  0.01  0.030  0.090  0.2325   7.14\n",
       "PS3       111.0  0.183964  0.342696  0.01  0.020  0.060  0.1600   2.70\n",
       "PC        104.0  0.132404  0.209449  0.01  0.020  0.050  0.1425   1.28\n",
       "PSV       195.0  0.053846  0.063669  0.01  0.020  0.030  0.0600   0.41\n",
       "PSP         3.0  0.040000  0.034641  0.02  0.020  0.020  0.0500   0.08"
      ]
     },
     "execution_count": 96,
     "metadata": {},
     "output_type": "execute_result"
    }
   ],
   "source": [
    "games_data_actual.groupby('platform')['total_sales'].describe().sort_values(by='50%', ascending=False)"
   ]
  },
  {
   "cell_type": "code",
   "execution_count": 97,
   "metadata": {},
   "outputs": [
    {
     "data": {
      "image/png": "[encoded data removed]",
      "text/plain": [
       "<Figure size 1080x504 with 1 Axes>"
      ]
     },
     "metadata": {},
     "output_type": "display_data"
    }
   ],
   "source": [
    "# Отбросим выбросы и рассмотрим нормальные типичные значения  \n",
    "games_data_actual.boxplot(column='total_sales', by='platform', figsize=(15,7))\n",
    "plt.xlabel('Платформа')\n",
    "plt.ylabel('Количество проданных копий игры, млн.')\n",
    "plt.title('Продажи игр по платформам')\n",
    "plt.ylim(0,1.4)\n",
    "plt.show()"
   ]
  },
  {
   "cell_type": "markdown",
   "metadata": {},
   "source": [
    "- Медианные продажи среди лидирующих платформ находятся **в диапозоне 0.10 - 0.15 млн. проданных копий**. \n",
    "- **Для PS4** нормальные показатели продаваемости копий игр находятся в диапозоне **от 0.05 до 0.42 млн. копий** - все что ниже можно считать слабопродающимися играми, все что выше успешнопродающимися. Игры с выше 1 млн. продаж - большая редкость, это известные игры-хиты.\n",
    "- **Для XOne** нормальные показатели продаваемости копий игр находятся в диапозоне **от 0.03 до 0.55 млн. копий** - все что ниже можно считать слабопродающимися играми, все что выше успешнопродающимися. Игры с выше 1.3 млн. продаж - большая редкость, это известные игры-хиты."
   ]
  },
  {
   "cell_type": "markdown",
   "metadata": {},
   "source": [
    "### Влияние отзывов пользователей и критиков на продажи внутри платформы PS4"
   ]
  },
  {
   "cell_type": "code",
   "execution_count": 98,
   "metadata": {},
   "outputs": [],
   "source": [
    "#Выбираем данные только для PS4 (как самой популярной и современнной платформы на конец 2016 года)\n",
    "PS4_score_and_sales = games_data_actual.query('platform == \"PS4\"')[['critic_score','user_score','total_sales']]"
   ]
  },
  {
   "cell_type": "code",
   "execution_count": 99,
   "metadata": {},
   "outputs": [
    {
     "name": "stdout",
     "output_type": "stream",
     "text": [
      "              critic_score  user_score  total_sales\n",
      "critic_score      1.000000    0.533330     0.392849\n",
      "user_score        0.533330    1.000000    -0.059738\n",
      "total_sales       0.392849   -0.059738     1.000000\n"
     ]
    },
    {
     "data": {
      "image/png": "[encoded data removed]",
      "text/plain": [
       "<Figure size 432x288 with 2 Axes>"
      ]
     },
     "metadata": {},
     "output_type": "display_data"
    },
    {
     "data": {
      "image/png": "[encoded data removed]",
      "text/plain": [
       "<Figure size 1080x432 with 2 Axes>"
      ]
     },
     "metadata": {},
     "output_type": "display_data"
    }
   ],
   "source": [
    "def corr_analysis(data): #составим функцию для построяния графиков корреляции, т.к. она еще пригодится для других платформ\n",
    "    print(data.corr())\n",
    "    sns.heatmap(data.corr());\n",
    "    \n",
    "    fig, (ax1, ax2) = plt.subplots(1, 2, figsize=(15,6)) # строим два графика рядом для наглядности\n",
    "    #график для оценка пользователей\n",
    "    ax1.scatter(data=data, x='user_score', y='total_sales', alpha=0.6) \n",
    "    ax1.set_title('Корреляция продаж и оценки пользователей')\n",
    "    ax1.set_xlabel(\"Оценка пользователей\")\n",
    "    ax1.set_ylabel('Количество проданных копий игры, млн.')\n",
    "    #график для оценка критиков\n",
    "    ax2.scatter(data=data, x='critic_score', y='total_sales', alpha=0.6)\n",
    "    ax2.set_title('Корреляция продаж и оценки критиков')\n",
    "    ax2.set_xlabel(\"Оценка критиков\")\n",
    "    plt.show()\n",
    "\n",
    "corr_analysis(PS4_score_and_sales)  "
   ]
  },
  {
   "cell_type": "markdown",
   "metadata": {},
   "source": [
    "- **Оценка пользователей не коррелирует с продажами** (коэф. корреляции: -0.06), график так же это подтверждает - распределение стелится по оси X, подавляющая часть игр с высокими оценками от пользователей не превышают 1 млн. проданных копий. При этом имеется значительное количество игр, которые имеют очень высокие продажи (более 2 млн. копий), но оценены пользователями меньше 7 балов из 10.\n",
    "\n",
    "\n",
    "- **Оценка критиков имеет умеренную положительную корреляцию с продажами** (коэф. коэф. корреляции: 0.4), большинство значений так же стелится по оси Х, но игры с высокими продажами(более 2 млн. копий) имеют более выраженную положительную корреляцию с оценкой критиков. При этом критики не ставят низкие оценки играм с высокими продажами - минимальная оценка для игры с более 2 млн. проданных копий равна около 70 из 100.\n",
    "\n",
    "\n",
    "- **Пользователи и критики чаще сходятся во мнении** (значительная положительная корреляция 0.53)."
   ]
  },
  {
   "cell_type": "markdown",
   "metadata": {},
   "source": [
    "#### Проверка схожести тенденций PS4 и всех остальных платформ"
   ]
  },
  {
   "cell_type": "code",
   "execution_count": 100,
   "metadata": {},
   "outputs": [
    {
     "name": "stdout",
     "output_type": "stream",
     "text": [
      "              critic_score  user_score  total_sales\n",
      "critic_score      1.000000    0.426555     0.303243\n",
      "user_score        0.426555    1.000000     0.017521\n",
      "total_sales       0.303243    0.017521     1.000000\n"
     ]
    },
    {
     "data": {
      "image/png": "[encoded data removed]",
      "text/plain": [
       "<Figure size 432x288 with 2 Axes>"
      ]
     },
     "metadata": {},
     "output_type": "display_data"
    },
    {
     "data": {
      "image/png": "[encoded data removed]",
      "text/plain": [
       "<Figure size 1080x432 with 2 Axes>"
      ]
     },
     "metadata": {},
     "output_type": "display_data"
    }
   ],
   "source": [
    "# формируем датасет для всех платформ кроме PS4\n",
    "others_score_and_sales = games_data_actual.query('platform != \"PS4\"')[['critic_score','user_score','total_sales']]\n",
    "# применяем ранее написанную функцию для изучения корреляции\n",
    "corr_analysis(others_score_and_sales)"
   ]
  },
  {
   "cell_type": "markdown",
   "metadata": {},
   "source": [
    "- Корреляция между продажами и отзывами **у PS4 и всех остальных платформ имеет схожие тенденции**.\n",
    "- Подтвердилось полное отсутствие корреляции между продажами и оценками пользователей (коэф 0.017)\n",
    "- Корреляция между продажами и отзывами критиков также имеется, но немного слабее (коэф. 0.30 вместо 0.40)\n",
    "- На графиках так же видно, что **пользователи не боятся ставить плохие оценки играм с большими продажами, а критики избегают этого**. В остальном критики и пользователи чаще сходятся во мненнии (коэф. корр. 0.42)."
   ]
  },
  {
   "cell_type": "markdown",
   "metadata": {},
   "source": [
    "**XOne**"
   ]
  },
  {
   "cell_type": "code",
   "execution_count": 101,
   "metadata": {},
   "outputs": [
    {
     "name": "stdout",
     "output_type": "stream",
     "text": [
      "              critic_score  user_score  total_sales\n",
      "critic_score      1.000000    0.459443     0.430889\n",
      "user_score        0.459443    1.000000    -0.041467\n",
      "total_sales       0.430889   -0.041467     1.000000\n"
     ]
    },
    {
     "data": {
      "image/png": "[encoded data removed]",
      "text/plain": [
       "<Figure size 432x288 with 2 Axes>"
      ]
     },
     "metadata": {},
     "output_type": "display_data"
    },
    {
     "data": {
      "image/png": "[encoded data removed]",
      "text/plain": [
       "<Figure size 1080x432 with 2 Axes>"
      ]
     },
     "metadata": {},
     "output_type": "display_data"
    }
   ],
   "source": [
    "# формируем датасет для платформы №2 - XOne\n",
    "xone_score_and_sales = games_data_actual.query('platform == \"XOne\"')[['critic_score','user_score','total_sales']]\n",
    "# применяем ранее написанную функцию для изучения корреляции\n",
    "corr_analysis(xone_score_and_sales)"
   ]
  },
  {
   "cell_type": "markdown",
   "metadata": {},
   "source": [
    "- Корреляция между продажами и отзывами **у XOne и PS4 имеет схожие тенденции**.\n",
    "- Подтвердилось полное отсутствие корреляции между продажами и оценками пользователей (коэф -0.04)\n",
    "- Корреляция между продажами и отзывами критиков также имеется (коэф. 0.43 вместо 0.40)\n",
    "- На графиках так же видно, что **пользователи не боятся ставить плохие оценки играм с большими продажами, а критики избегают этого**. В остальном критики и пользователи чаще сходятся во мненнии (коэф. корр. 0.46)."
   ]
  },
  {
   "cell_type": "markdown",
   "metadata": {},
   "source": [
    "**Nintendo(3DS)**"
   ]
  },
  {
   "cell_type": "code",
   "execution_count": 102,
   "metadata": {},
   "outputs": [
    {
     "name": "stdout",
     "output_type": "stream",
     "text": [
      "              critic_score  user_score  total_sales\n",
      "critic_score      1.000000    0.791853     0.177575\n",
      "user_score        0.791853    1.000000     0.198796\n",
      "total_sales       0.177575    0.198796     1.000000\n"
     ]
    },
    {
     "data": {
      "image/png": "[encoded data removed]",
      "text/plain": [
       "<Figure size 432x288 with 2 Axes>"
      ]
     },
     "metadata": {},
     "output_type": "display_data"
    },
    {
     "data": {
      "image/png": "[encoded data removed]",
      "text/plain": [
       "<Figure size 1080x432 with 2 Axes>"
      ]
     },
     "metadata": {},
     "output_type": "display_data"
    }
   ],
   "source": [
    "# формируем датасет для платформы №3 - Nintendo(3DS)\n",
    "ds3_score_and_sales = games_data_actual.query('platform == \"3DS\"')[['critic_score','user_score','total_sales']]\n",
    "# применяем ранее написанную функцию для изучения корреляции\n",
    "corr_analysis(ds3_score_and_sales)"
   ]
  },
  {
   "cell_type": "markdown",
   "metadata": {},
   "source": [
    "- Корреляция между продажами и отзывами **у Nintendo(3DS) и PS4 имеет разные тенденции**.\n",
    "- Корреляция между продажами и оценками пользователей у Nintendo(3DS) слабоположительная = 0.2, у PS4 отсутствует = -0.06.\n",
    "- Корреляция между продажами и отзывами критиков у Nintendo(3DS) ниже (коэф. 0.17 вместо 0.40)\n",
    "- Оценки пользователей и критиков очень похожи в отличие от PS4 и XOne (коэф.корр. = 0.8)."
   ]
  },
  {
   "cell_type": "markdown",
   "metadata": {},
   "source": [
    "### Общее распределение игр по жанрам. Самые прибыльные жанры. Жанры с высокими и низкими продажами."
   ]
  },
  {
   "cell_type": "code",
   "execution_count": 103,
   "metadata": {},
   "outputs": [
    {
     "data": {
      "image/png": "[encoded data removed]",
      "text/plain": [
       "<Figure size 1080x432 with 1 Axes>"
      ]
     },
     "metadata": {},
     "output_type": "display_data"
    }
   ],
   "source": [
    "genre_list_1 = games_data_actual.groupby('genre')['name'].count().sort_values(ascending=False)\n",
    "genre_list_1.plot(kind='bar', figsize=(15,6), title='Количество выпущенных игр (в шт.) по жанрам');"
   ]
  },
  {
   "cell_type": "markdown",
   "metadata": {},
   "source": [
    "- Наибольшее количество игр, с большим отрывом, выпущенно в жанре Action - 431. На втором месте Role-Playing - 132 тайтла, на третьем Adventure - 110 игры.\n",
    "- Меньше всего игр выпущено в жанре - Puzzle (7 штук), также аутсайдерами можно назвать жанры Strategy (29 штук), Simulation(33), Platform(28)."
   ]
  },
  {
   "cell_type": "code",
   "execution_count": 104,
   "metadata": {},
   "outputs": [
    {
     "data": {
      "image/png": "[encoded data removed]",
      "text/plain": [
       "<Figure size 1080x432 with 1 Axes>"
      ]
     },
     "metadata": {},
     "output_type": "display_data"
    }
   ],
   "source": [
    "genre_list_2 = games_data_actual.groupby('genre')['total_sales'].sum().sort_values(ascending=False)\n",
    "genre_list_2.plot(kind='bar', figsize=(15,6), title='Количество проданных копий игр (в млн.) по жанрам');"
   ]
  },
  {
   "cell_type": "markdown",
   "metadata": {},
   "source": [
    "- Наиболее продаваемые игры выпущены в жанре Shooter - 105 млн. проданных копий. Самые популярные представители - Call of Duty, Halo, Battlefield.\n",
    "- На втором месте жанр Action - 102 млн. проданных копий. Самые популярные представители - Uchartered, Batman, Metal Gear Solid, Assasin's Creed.\n",
    "- На третьем Sports - около 64 млн. проданных копий. Самые популярные представители - FIFA, NBA, Madden NFL."
   ]
  },
  {
   "cell_type": "code",
   "execution_count": 105,
   "metadata": {},
   "outputs": [
    {
     "data": {
      "image/png": "[encoded data removed]",
      "text/plain": [
       "<Figure size 1080x432 with 1 Axes>"
      ]
     },
     "metadata": {},
     "output_type": "display_data"
    }
   ],
   "source": [
    "genre_list3 = (genre_list_2 / genre_list_1).sort_values(ascending=False)\n",
    "genre_list3.plot(kind='bar', figsize=(15,6), title='Количество проданных копий (в млн.) на одну игру жанра');         "
   ]
  },
  {
   "cell_type": "markdown",
   "metadata": {},
   "source": [
    "- Наилучший показатель имеет жанр Shooter. На одну игру приходится около 1.2 млн. проданных копий. \n",
    "- Хорошие показатели наблюдаются у жанра Sports - около 0.6 млн копий на одну игру.\n",
    "- Хуже всех жанры Strategy  и Puzzle - около 0.1 млн проданных копий на одну игру."
   ]
  },
  {
   "cell_type": "markdown",
   "metadata": {},
   "source": [
    "## Портрет пользователя каждого региона"
   ]
  },
  {
   "cell_type": "code",
   "execution_count": 106,
   "metadata": {},
   "outputs": [],
   "source": [
    "# создадим функцию для сравнения пользовтелей из разных регионов\n",
    "def user_analysis(by):\n",
    "    na = games_data_actual.groupby(by)['na_sales'].sum().sort_values(ascending=False).head()\n",
    "    eu = games_data_actual.groupby(by)['eu_sales'].sum().sort_values(ascending=False).head()\n",
    "    jp = games_data_actual.groupby(by)['jp_sales'].sum().sort_values(ascending=False).head()\n",
    "\n",
    "    plt.subplot(1,3,1)\n",
    "    plt.ylabel('Количество проданных копий игры, млн.')\n",
    "    na.plot(kind='bar', title='CЕВЕРНАЯ АМЕРИКА')\n",
    "    plt.subplot(1,3,2)\n",
    "    eu.plot(kind='bar', title='ЕВРОПА', color='green')\n",
    "    plt.subplot(1,3,3)\n",
    "    jp.plot(kind='bar', title='ЯПОНИЯ', figsize=(15,5), color=\"red\")"
   ]
  },
  {
   "cell_type": "markdown",
   "metadata": {},
   "source": [
    "### Характеристика пользователей разных регионов по ПЛАТФОРМЕ"
   ]
  },
  {
   "cell_type": "code",
   "execution_count": 107,
   "metadata": {},
   "outputs": [
    {
     "data": {
      "image/png": "[encoded data removed]",
      "text/plain": [
       "<Figure size 1080x360 with 3 Axes>"
      ]
     },
     "metadata": {},
     "output_type": "display_data"
    }
   ],
   "source": [
    "user_analysis('platform')"
   ]
  },
  {
   "cell_type": "markdown",
   "metadata": {},
   "source": [
    "- Все три региона имеют разные предпочтения в выборе платформы. \n",
    "- Америка и Европа довольно похожи - **PlayStation 4 является лидером** в обоих странах, **в Америке более сильные позиции у XBox** т.к. его выпускает американская компания Microsoft, в Европе достатчно сильные позиции у PC(ПК).\n",
    "- В Японии же совершенно другие предпочтения - **на первом месте с большим отрывом Nintendo(3DS)**, которая в других регионах всегда после Xbox и Playstation. Так же сильные позиции в Японии у Playstation, которую как и Nintendo производит Японская компания. \n",
    "- Стоит отметить, что **в Японии совершенно другой игровой менталитет** - портативные игровые устройства гораздо популярнее, нежели домашние приставки. Вероятно поэтому, PlayStation разработала портативную консоль PSV для Японского рынка."
   ]
  },
  {
   "cell_type": "markdown",
   "metadata": {},
   "source": [
    "### Характеристика пользователей разных регионов по ЖАНРУ"
   ]
  },
  {
   "cell_type": "code",
   "execution_count": 108,
   "metadata": {},
   "outputs": [
    {
     "data": {
      "image/png": "[encoded data removed]",
      "text/plain": [
       "<Figure size 1080x360 with 3 Axes>"
      ]
     },
     "metadata": {},
     "output_type": "display_data"
    }
   ],
   "source": [
    "user_analysis('genre')"
   ]
  },
  {
   "cell_type": "markdown",
   "metadata": {},
   "source": [
    "- Предпочтения по жанрам в Америке и Европе практически одинаковы, небольшое отличие - в Европе больше любят \"гонки\".\n",
    "- В Японии другие игровые предпочтения по жанрам - с большим отрывом лидируют жанр жанр Action (благодаря Monster Hunter и Yokai Watch) и Role-Playing (благодаря культовой для Японии серии игр Pokemon).\n",
    "- Помимо этого в Японии любят шутеры (Splatoon) и игры без определенного жанра (Rhythm Heaven, Minecraft, Mario).\n",
    "- Данные показывают, что японцы гораздо больше играют в свои отечественные игры, нежели в мировые хиты-бестселлеры от Американских студий."
   ]
  },
  {
   "cell_type": "markdown",
   "metadata": {},
   "source": [
    "### Характеристика пользователей разных регионов по ВОЗРАСТНОМУ РЕЙТИНГУ"
   ]
  },
  {
   "cell_type": "code",
   "execution_count": 109,
   "metadata": {},
   "outputs": [
    {
     "data": {
      "image/png": "[encoded data removed]",
      "text/plain": [
       "<Figure size 1080x360 with 3 Axes>"
      ]
     },
     "metadata": {},
     "output_type": "display_data"
    }
   ],
   "source": [
    "user_analysis('rating')"
   ]
  },
  {
   "cell_type": "markdown",
   "metadata": {},
   "source": [
    "- Снова предпочтения в Америке и Европе совпадают. Наиболее популярные игры имеют маркировку \"М\" т.е. игры для взрослых (насилие, кровь, ненормативная лексика, сексуальный контент). Это логично, потому что самые популярные игры  - GTA, Assasin's Creed, The Last of Us и шутеры как раз попадают под эту категорию. На втором месте, с отрывом, игры категории \"E\" т.е. для всех возрастов.\n",
    "- В Японии для большиства игр не определен возрастной рейтинг по стандартам ассоциации ESRB. Ассоциация основана в США/Канаде и возможно не занимается оценкой игр разработанных в Японии.\n",
    "- Самые популярные возрастные категории в Японии - \"Е\" (для всех) и \"Т\" (для подростков), игры для взрослых на третьем месте, что в очередной раз подчеркивает, что в Японии совершенно другой игровой менталитет."
   ]
  },
  {
   "cell_type": "markdown",
   "metadata": {},
   "source": [
    "## Проверка гипотез"
   ]
  },
  {
   "cell_type": "markdown",
   "metadata": {},
   "source": [
    "### Средние пользовательские рейтинги платформ Xbox One и PC одинаковые"
   ]
  },
  {
   "cell_type": "code",
   "execution_count": 110,
   "metadata": {},
   "outputs": [
    {
     "data": {
      "text/plain": [
       "121"
      ]
     },
     "execution_count": 110,
     "metadata": {},
     "output_type": "execute_result"
    }
   ],
   "source": [
    "# подготовка выборки для XOne\n",
    "xone = games_data_actual.query('platform == \"XOne\"')['user_score'].dropna()\n",
    "# размер выборки\n",
    "xone.count()"
   ]
  },
  {
   "cell_type": "code",
   "execution_count": 111,
   "metadata": {},
   "outputs": [
    {
     "data": {
      "text/plain": [
       "84"
      ]
     },
     "execution_count": 111,
     "metadata": {},
     "output_type": "execute_result"
    }
   ],
   "source": [
    "# подготовка выборки для PC\n",
    "pc = games_data_actual.query('platform == \"PC\"')['user_score'].dropna()\n",
    "# размер выборки\n",
    "pc.count()"
   ]
  },
  {
   "cell_type": "markdown",
   "metadata": {},
   "source": [
    "**Hулевая гипотеза:** средние пользовательские рейтинги платформ Xbox One и PC **равны**  \n",
    "xone.mean() = pc.mean() \n",
    "\n",
    "\n",
    "**Альтернативная гипотеза:** средние пользовательские рейтинги платформ Xbox One и PC **не равны**    \n",
    "xone.mean() != pc.mean()\n",
    "\n",
    "**Уровень значимости** = 0.05 (стандарт)"
   ]
  },
  {
   "cell_type": "code",
   "execution_count": 112,
   "metadata": {},
   "outputs": [
    {
     "name": "stdout",
     "output_type": "stream",
     "text": [
      "p-значение:  0.2946308864003345\n",
      "Нулевая гипотеза не отвергнута, вероятность что средние генеральных совокупностей равны высока\n"
     ]
    }
   ],
   "source": [
    "# т.к. это выборки из двух независимых совокупностей применям метод st.ttest_ind, \n",
    "# выборки разного размера поэтому используем параметр equal_var = False\n",
    "alpha = 0.05\n",
    "results = st.ttest_ind(xone, pc, equal_var = False)\n",
    "print('p-значение: ', results.pvalue)\n",
    "if results.pvalue < alpha:\n",
    "    print('Нулевая гипотеза отвергнута')\n",
    "else:\n",
    "    print('Нулевая гипотеза не отвергнута, вероятность что средние генеральных совокупностей равны высока')"
   ]
  },
  {
   "cell_type": "markdown",
   "metadata": {},
   "source": [
    "### Средние пользовательские рейтинги жанров Action и Sports разные."
   ]
  },
  {
   "cell_type": "code",
   "execution_count": 113,
   "metadata": {},
   "outputs": [
    {
     "data": {
      "text/plain": [
       "193"
      ]
     },
     "execution_count": 113,
     "metadata": {},
     "output_type": "execute_result"
    }
   ],
   "source": [
    "# подготовка выборки для жанра Action\n",
    "action = games_data_actual.query('genre == \"Action\"')['user_score'].dropna()\n",
    "# размер выборки\n",
    "action.count()"
   ]
  },
  {
   "cell_type": "code",
   "execution_count": 114,
   "metadata": {},
   "outputs": [
    {
     "data": {
      "text/plain": [
       "82"
      ]
     },
     "execution_count": 114,
     "metadata": {},
     "output_type": "execute_result"
    }
   ],
   "source": [
    "# подготовка выборки для жанра Sports\n",
    "sports = games_data_actual.query('genre == \"Sports\"')['user_score'].dropna()\n",
    "# размер выборки\n",
    "sports.count()"
   ]
  },
  {
   "cell_type": "markdown",
   "metadata": {},
   "source": [
    "**Hулевая гипотеза:** Средние пользовательские рейтинги жанров Action и Sports **равны**  \n",
    "action.mean() = sports.mean() \n",
    "\n",
    "\n",
    "**Альтернативная гипотеза:** Средние пользовательские рейтинги жанров Action и Sports **не равны**    \n",
    "action.mean() != sports.mean() \n",
    "\n",
    "**Уровень значимости** = 0.05 (стандарт)"
   ]
  },
  {
   "cell_type": "code",
   "execution_count": 115,
   "metadata": {},
   "outputs": [
    {
     "name": "stdout",
     "output_type": "stream",
     "text": [
      "p-значение:  5.97163549920592e-10\n",
      "Нулевая гипотеза отвергнута\n"
     ]
    }
   ],
   "source": [
    "# т.к. это выборки из двух независимых совокупностей применям метод st.ttest_ind, \n",
    "# выборки разного размера поэтому используем параметр equal_var = False\n",
    "alpha = 0.05\n",
    "results = st.ttest_ind(action, sports, equal_var = False)\n",
    "print('p-значение: ', results.pvalue)\n",
    "if results.pvalue < alpha:\n",
    "    print('Нулевая гипотеза отвергнута')\n",
    "else:\n",
    "    print('Нулевая гипотеза не отвергнута, вероятность что средние генеральных совокупностей равны высока')"
   ]
  },
  {
   "cell_type": "markdown",
   "metadata": {},
   "source": [
    "## Общий вывод"
   ]
  },
  {
   "cell_type": "markdown",
   "metadata": {},
   "source": [
    "**Историческая справка и общая информация о продажах игр в период с 1980 по 2016 г.г.:**  \n",
    "\n",
    "\n",
    "- Наибольшее количество игр было выпущено с 2003 по 2012 годы\n",
    "- Количество выпускаемых игр до 1995 года составляло меньше 200 в год, а до 2001 меньше 400.\n",
    "- Пик по количеству выпущенных игр пришелся на 2008, 2009 года - около 1400 игр в год.\n",
    "- После 2009 года выпуск игр пошел на спад, в 2016 году было выпущено только около 500 игр.\n",
    "- Самой популярной платформой за весь период можно назвать приставки PlayStation от Sony. До 2000 года главной игровой платформой являлась PlayStation 1(PS), затем ее сменила PS2 и до 2006 года так же удерживала лидерство, с выпуском PS3 в 2006 году - позиции Playstation значительно сократились, но с 2014 года они снова выбиваются в лидеры c выпуском PS4.\n",
    "- В период с 2006 по 2011 (бум по количеству выпущеннных игр) рынок платформ имел много сильных и относительно равных игроков.\n",
    "\n",
    "---\n",
    "**Анализ актуального периода для планирования рекламной компании на 2017 год:**  \n",
    "\n",
    "\n",
    "Для более краткосрочного планирования и изучения самых последних трендов лучше подойдут данные за последние два года: **2015 и 2016**.\n",
    "\n",
    "- На рынке преобладают 3 лидера: Playstation(PS3, PS4), XBox(X360, XOne) и Nintendo(3DS), остальные платформы имеют значительно меньшие продажи.\n",
    "- Наиболее перспективные платформы на 2017 год - PS4 и XOne, т.к. это самые современные платформы (запущены в 2013) и с большой вероятностью будут актуальными еще 3-4 года. Третий лидер Nintendo(3DS) был запущен в 2011 году и скорее всего в ближайщие годы будет заменен более новой моделью (согласно средней продолжительности жизни в 10 лет для топ платформ), поэтому считать его перспективным не стоит.\n",
    "- Рекордные продажи игр более 4 млн.копий имеются только у PS4, XOne, Nintendo(3DS) и WiiU.\n",
    "- Для PS4 и XOne нормальные показатели продаваемости игр находятся в диапозоне от 0.03 до 0.55 млн. копий - все что ниже можно считать слабопродающимися играми, все что выше успешнопродающимися. Игры с выше 1 млн. продаж - большая редкость, это известные игры-хиты.\n",
    "\n",
    "\n",
    "---\n",
    "**Влияние оценок пользователей и критиков на продажи игр:**\n",
    "*(Данные для самой популярной современной платформы - PS4.)*\n",
    "\n",
    "\n",
    "- Оценка пользователей не коррелирует с продажами (коэф. корреляции: -0.06). Подавляющая часть игр с высокими оценками от пользователей не превышают 1 млн. проданных копий. При этом имеется значительное количество игр, которые имеют очень высокие продажи (более 2 млн. копий), но оценены пользователями меньше 7 балов из 10.\n",
    "- Оценка критиков имеет умеренную положительную корреляцию с продажами (коэф. коэф. корреляции: 0.4). Игры с высокими продажами(более 2 млн. копий) имеют более выраженную положительную корреляцию с оценкой критиков. При этом критики не ставят низкие оценки играм с высокими продажами - минимальная оценка для игры с более 2 млн. проданных копий равна около 70 из 100.\n",
    "- Пользователи и критики чаще сходятся во мнении (значительная положительная корреляция 0.55).\n",
    "\n",
    "\n",
    "- Корреляция между продажами и отзывами у PS4 и XOne имеют схожие тенденции.\n",
    "- Корреляция между продажами и отзывами у Nintendo(3DS) и PS4 имеет разные тенденции. Nintendo(3DS) имеет слабоположительную корреляцию между продажами и оценками пользователей/оценками критиков. Оценки пользователей и критиков очень похожи в отличие от PS4 и XOne (коэф.корр. = 0.8).\n",
    "\n",
    "---\n",
    "**Распределение игр по жанрам:**\n",
    "\n",
    "\n",
    "- Наибольшее количество игр, с большим отрывом, выпущенно в жанре Action - 431. На втором месте Role-Playing - 132 тайтла, на третьем Adventure - 110 игры.\n",
    "- Меньше всего игр выпущено в жанре - Puzzle (7 штук), также аутсайдерами можно назвать жанры Strategy (29 штук), Simulation(33), Platform(28).\n",
    "\n",
    "\n",
    "- Наиболее продаваемые игры выпущены в жанре Shooter - 105 млн. проданных копий. Самые популярные представители - Call of Duty, Halo, Battlefield.\n",
    "- На втором месте жанр Action - 102 млн. проданных копий. Самые популярные представители - Uchartered, Batman, Metal Gear Solid, Assasin's Creed.\n",
    "- На третьем Sports - около 64 млн. проданных копий. Самые популярные представители - FIFA, NBA, Madden NFL.\n",
    "\n",
    "---\n",
    "**Предпочтения пользователей разных регионов (Северная Америка, Европа, Япония)**  \n",
    "\n",
    "*Предпочтения по платформам:*\n",
    "- Все три региона имеют разные предпочтения в выборе платформы.\n",
    "- Америка и Европа довольно похожи - PlayStation 4 является лидером в обоих странах, в Америке более сильные позиции у XBox т.к. его выпускает американская компания Microsoft, в Европе достатчно сильные позиции у PC(ПК).\n",
    "- В Японии другие предпочтения - на первом месте с большим отрывом Nintendo(3DS), которая в других регионах всегда после Xbox и Playstation. Так же сильные позиции в Японии у Playstation, которую как и Nintendo производит Японская компания.\n",
    "- Стоит отметить, что в Японии совершенно другой игровой менталитет - портативные игровые устройства гораздо популярнее, нежели домашние приставки. Вероятно поэтому, PlayStation разработала портативную консоль PSV для Японского рынка.\n",
    "\n",
    "*Предпочтения по жанрам:*\n",
    "- Предпочтения по жанрам в Америке и Европе практически одинаковы: Shooter, Action, Sports, RPG. Небольшое отличие - в Европе больше любят \"гонки\".\n",
    "- В Японии другие игровые предпочтения по жанрам - с большим отрывом лидируют жанр жанр Action (благодаря Monster Hunter и Yokai Watch) и Role-Playing (благодаря культовой для Японии серии игр Pokemon).\n",
    "- Помимо этого в Японии любят шутеры (Splatoon) и игры без определенного жанра (Rhythm Heaven, Minecraft, Mario).\n",
    "- Данные показывают, что японцы гораздо больше играют в свои отечественные игры, нежели в мировые хиты-бестселлеры от Американских студий.\n",
    "\n",
    "*Предпочтения по возрастной категории игр:*\n",
    "- Снова предпочтения в Америке и Европе совпадают. Наиболее популярные игры имеют маркировку \"М\" т.е. игры для взрослых (насилие, кровь, ненормативная лексика, сексуальный контент). Это логично, потому что самые популярные игры - шутеры и экшн. На втором месте, с отрывом, игры категории \"E\" т.е. для всех возрастов.\n",
    "- В Японии для большиства игр не определен возрастной рейтинг по стандартам ассоциации ESRB. Ассоциация основана в США/Канаде и возможно не занимается оценкой игр разработанных в Японии.\n",
    "- Самые популярные возрастные категории в Японии - \"Е\" (для всех) и \"Т\" (для подростков), игры для взрослых на третьем месте, что в очередной раз подчеркивает, что в Японии совершенно другой игровой менталитет.\n",
    "---\n",
    "**Рекомендации по планированию рекламной компании на 2017 год:**\n",
    "\n",
    "\n",
    "- Учесть популярность платформ и предпочтения в разных регионах - наиболее перспективные PS4, XOne для NA и EU, для Японии портативные приставки Nintendo (возможно следует ожидать новую модель).\n",
    "- Учесть, что оценки пользователей совершенно не влияют на продажи, а критики избегают ставить плохие оценки играм с высокими продажами. Поэтому можно сделать акцент на играх максимально высоко оцененных критиками, т.к. люди часто принимают решения о покупке из-за экспертного мнения.\n",
    "- Учесть, что наиболее продаваемые жанры - Shooter, Action, Sports, RPG для NA и EU, для Японии - Action и RPG.\n",
    "- Учесть, что наиболее частая возрастная возрастная категория игр для NA и EU - \"М\" (для взрослых). В Японии маркировка по возрасту ESRB не так актуальна. \n",
    "- Игроки из Америки и Европы очень похожи по своим предпочтениям и в выборе платформы и в выборе жанров, в Японии совершенно другой игровой менталитет: предпочтение отечественным играм и портативным консолям."
   ]
  }
 ],
 "metadata": {
  "ExecuteTimeLog": [
   {
    "duration": 49,
    "start_time": "2023-02-22T13:37:11.963Z"
   },
   {
    "duration": 429,
    "start_time": "2023-02-22T13:37:14.243Z"
   },
   {
    "duration": 220,
    "start_time": "2023-02-22T13:37:14.675Z"
   },
   {
    "duration": 61,
    "start_time": "2023-02-22T13:37:50.547Z"
   },
   {
    "duration": 948,
    "start_time": "2023-02-22T13:38:54.426Z"
   },
   {
    "duration": 37,
    "start_time": "2023-02-22T13:39:40.456Z"
   },
   {
    "duration": 21,
    "start_time": "2023-02-22T13:41:27.416Z"
   },
   {
    "duration": 24,
    "start_time": "2023-02-22T13:41:36.594Z"
   },
   {
    "duration": 20,
    "start_time": "2023-02-22T13:42:33.890Z"
   },
   {
    "duration": 15,
    "start_time": "2023-02-22T13:42:37.377Z"
   },
   {
    "duration": 79,
    "start_time": "2023-02-22T13:46:12.113Z"
   },
   {
    "duration": 64,
    "start_time": "2023-02-22T13:46:19.217Z"
   },
   {
    "duration": 16,
    "start_time": "2023-02-22T13:46:33.148Z"
   },
   {
    "duration": 516,
    "start_time": "2023-02-22T13:47:45.873Z"
   },
   {
    "duration": 446,
    "start_time": "2023-02-22T13:49:35.164Z"
   },
   {
    "duration": 778,
    "start_time": "2023-02-22T13:52:25.550Z"
   },
   {
    "duration": 696,
    "start_time": "2023-02-22T13:52:40.927Z"
   },
   {
    "duration": 643,
    "start_time": "2023-02-22T13:52:49.388Z"
   },
   {
    "duration": 500,
    "start_time": "2023-02-22T13:52:56.735Z"
   },
   {
    "duration": 616,
    "start_time": "2023-02-22T13:53:00.956Z"
   },
   {
    "duration": 754,
    "start_time": "2023-02-22T13:53:08.292Z"
   },
   {
    "duration": 560,
    "start_time": "2023-02-22T13:53:12.325Z"
   },
   {
    "duration": 618,
    "start_time": "2023-02-22T13:53:15.995Z"
   },
   {
    "duration": 670,
    "start_time": "2023-02-22T14:12:03.407Z"
   },
   {
    "duration": 914,
    "start_time": "2023-02-22T14:12:14.337Z"
   },
   {
    "duration": 37,
    "start_time": "2023-02-22T14:19:51.558Z"
   },
   {
    "duration": 10,
    "start_time": "2023-02-22T14:20:07.662Z"
   },
   {
    "duration": 12,
    "start_time": "2023-02-22T14:20:12.823Z"
   },
   {
    "duration": 3,
    "start_time": "2023-02-22T14:20:43.585Z"
   },
   {
    "duration": 80,
    "start_time": "2023-02-22T14:20:43.590Z"
   },
   {
    "duration": 13,
    "start_time": "2023-02-22T14:20:43.672Z"
   },
   {
    "duration": 22,
    "start_time": "2023-02-22T14:20:43.686Z"
   },
   {
    "duration": 24,
    "start_time": "2023-02-22T14:20:43.727Z"
   },
   {
    "duration": 26,
    "start_time": "2023-02-22T14:20:43.752Z"
   },
   {
    "duration": 605,
    "start_time": "2023-02-22T14:20:43.780Z"
   },
   {
    "duration": 10,
    "start_time": "2023-02-22T14:20:44.388Z"
   },
   {
    "duration": 20,
    "start_time": "2023-02-22T14:20:59.000Z"
   },
   {
    "duration": 4,
    "start_time": "2023-02-22T14:21:12.058Z"
   },
   {
    "duration": 5,
    "start_time": "2023-02-22T14:22:27.045Z"
   },
   {
    "duration": 6,
    "start_time": "2023-02-22T14:24:48.227Z"
   },
   {
    "duration": 15,
    "start_time": "2023-02-22T14:25:57.077Z"
   },
   {
    "duration": 44,
    "start_time": "2023-02-22T14:26:28.311Z"
   },
   {
    "duration": 7,
    "start_time": "2023-02-22T14:26:52.084Z"
   },
   {
    "duration": 8,
    "start_time": "2023-02-22T14:27:25.726Z"
   },
   {
    "duration": 7,
    "start_time": "2023-02-22T14:27:44.926Z"
   },
   {
    "duration": 14,
    "start_time": "2023-02-22T14:29:46.173Z"
   },
   {
    "duration": 7,
    "start_time": "2023-02-22T14:30:05.683Z"
   },
   {
    "duration": 23,
    "start_time": "2023-02-22T14:30:13.017Z"
   },
   {
    "duration": 6,
    "start_time": "2023-02-22T14:39:26.029Z"
   },
   {
    "duration": 8,
    "start_time": "2023-02-22T14:39:42.067Z"
   },
   {
    "duration": 8,
    "start_time": "2023-02-22T14:40:59.134Z"
   },
   {
    "duration": 6,
    "start_time": "2023-02-22T14:41:05.661Z"
   },
   {
    "duration": 7,
    "start_time": "2023-02-22T14:41:12.252Z"
   },
   {
    "duration": 9,
    "start_time": "2023-02-22T14:42:15.353Z"
   },
   {
    "duration": 10,
    "start_time": "2023-02-22T14:42:59.482Z"
   },
   {
    "duration": 10,
    "start_time": "2023-02-22T14:43:07.090Z"
   },
   {
    "duration": 9,
    "start_time": "2023-02-22T14:43:11.150Z"
   },
   {
    "duration": 25,
    "start_time": "2023-02-22T14:44:14.396Z"
   },
   {
    "duration": 16,
    "start_time": "2023-02-22T14:46:05.190Z"
   },
   {
    "duration": 69,
    "start_time": "2023-02-22T14:50:40.532Z"
   },
   {
    "duration": 78,
    "start_time": "2023-02-22T14:50:46.527Z"
   },
   {
    "duration": 76,
    "start_time": "2023-02-22T14:50:50.488Z"
   },
   {
    "duration": 75,
    "start_time": "2023-02-22T14:53:57.389Z"
   },
   {
    "duration": 6,
    "start_time": "2023-02-22T14:54:08.298Z"
   },
   {
    "duration": 5,
    "start_time": "2023-02-22T14:54:12.469Z"
   },
   {
    "duration": 95,
    "start_time": "2023-02-22T14:54:50.950Z"
   },
   {
    "duration": 79,
    "start_time": "2023-02-22T14:55:06.252Z"
   },
   {
    "duration": 10,
    "start_time": "2023-02-22T14:55:18.231Z"
   },
   {
    "duration": 75,
    "start_time": "2023-02-22T14:55:46.991Z"
   },
   {
    "duration": 9,
    "start_time": "2023-02-22T14:56:17.844Z"
   },
   {
    "duration": 90,
    "start_time": "2023-02-22T14:56:24.516Z"
   },
   {
    "duration": 10,
    "start_time": "2023-02-22T14:56:28.371Z"
   },
   {
    "duration": 10,
    "start_time": "2023-02-22T14:56:32.396Z"
   },
   {
    "duration": 74,
    "start_time": "2023-02-22T14:56:46.113Z"
   },
   {
    "duration": 76,
    "start_time": "2023-02-22T14:56:48.635Z"
   },
   {
    "duration": 69,
    "start_time": "2023-02-22T14:56:51.468Z"
   },
   {
    "duration": 10,
    "start_time": "2023-02-22T14:56:53.315Z"
   },
   {
    "duration": 15,
    "start_time": "2023-02-22T14:58:16.564Z"
   },
   {
    "duration": 22,
    "start_time": "2023-02-22T14:58:38.196Z"
   },
   {
    "duration": 13,
    "start_time": "2023-02-22T15:00:36.363Z"
   },
   {
    "duration": 11,
    "start_time": "2023-02-22T15:00:41.642Z"
   },
   {
    "duration": 12,
    "start_time": "2023-02-22T15:01:23.485Z"
   },
   {
    "duration": 32,
    "start_time": "2023-02-22T15:01:35.670Z"
   },
   {
    "duration": 34,
    "start_time": "2023-02-22T15:03:04.498Z"
   },
   {
    "duration": 26,
    "start_time": "2023-02-22T15:03:08.355Z"
   },
   {
    "duration": 13,
    "start_time": "2023-02-22T15:03:16.941Z"
   },
   {
    "duration": 8,
    "start_time": "2023-02-22T15:03:20.931Z"
   },
   {
    "duration": 7,
    "start_time": "2023-02-22T15:05:48.542Z"
   },
   {
    "duration": 7,
    "start_time": "2023-02-22T15:05:56.490Z"
   },
   {
    "duration": 4,
    "start_time": "2023-02-22T15:06:40.019Z"
   },
   {
    "duration": 70,
    "start_time": "2023-02-22T15:09:09.444Z"
   },
   {
    "duration": 5,
    "start_time": "2023-02-22T15:10:15.683Z"
   },
   {
    "duration": 9,
    "start_time": "2023-02-22T15:10:22.741Z"
   },
   {
    "duration": 6,
    "start_time": "2023-02-22T15:10:25.430Z"
   },
   {
    "duration": 6,
    "start_time": "2023-02-22T15:11:26.634Z"
   },
   {
    "duration": 6,
    "start_time": "2023-02-22T15:11:29.944Z"
   },
   {
    "duration": 6,
    "start_time": "2023-02-22T15:11:43.148Z"
   },
   {
    "duration": 11,
    "start_time": "2023-02-22T15:12:22.797Z"
   },
   {
    "duration": 7,
    "start_time": "2023-02-22T15:18:38.341Z"
   },
   {
    "duration": 7,
    "start_time": "2023-02-22T15:21:00.424Z"
   },
   {
    "duration": 6,
    "start_time": "2023-02-22T15:22:29.886Z"
   },
   {
    "duration": 6,
    "start_time": "2023-02-22T15:22:47.284Z"
   },
   {
    "duration": 6,
    "start_time": "2023-02-22T15:23:57.150Z"
   },
   {
    "duration": 3,
    "start_time": "2023-02-22T15:24:11.205Z"
   },
   {
    "duration": 71,
    "start_time": "2023-02-22T15:24:11.210Z"
   },
   {
    "duration": 16,
    "start_time": "2023-02-22T15:24:11.284Z"
   },
   {
    "duration": 26,
    "start_time": "2023-02-22T15:24:11.302Z"
   },
   {
    "duration": 16,
    "start_time": "2023-02-22T15:24:11.331Z"
   },
   {
    "duration": 37,
    "start_time": "2023-02-22T15:24:11.349Z"
   },
   {
    "duration": 680,
    "start_time": "2023-02-22T15:24:11.389Z"
   },
   {
    "duration": 5,
    "start_time": "2023-02-22T15:24:12.071Z"
   },
   {
    "duration": 18,
    "start_time": "2023-02-22T15:24:12.078Z"
   },
   {
    "duration": 30,
    "start_time": "2023-02-22T15:24:12.098Z"
   },
   {
    "duration": 8,
    "start_time": "2023-02-22T15:24:12.129Z"
   },
   {
    "duration": 4,
    "start_time": "2023-02-22T15:24:12.139Z"
   },
   {
    "duration": 8,
    "start_time": "2023-02-22T15:24:12.145Z"
   },
   {
    "duration": 8,
    "start_time": "2023-02-22T15:24:12.156Z"
   },
   {
    "duration": 8,
    "start_time": "2023-02-22T15:24:12.165Z"
   },
   {
    "duration": 10,
    "start_time": "2023-02-22T15:24:12.174Z"
   },
   {
    "duration": 5,
    "start_time": "2023-02-22T15:27:03.157Z"
   },
   {
    "duration": 29,
    "start_time": "2023-02-22T15:27:57.115Z"
   },
   {
    "duration": 6,
    "start_time": "2023-02-22T15:29:53.613Z"
   },
   {
    "duration": 10,
    "start_time": "2023-02-22T15:32:15.923Z"
   },
   {
    "duration": 394,
    "start_time": "2023-02-23T12:31:03.941Z"
   },
   {
    "duration": 110,
    "start_time": "2023-02-23T12:31:04.337Z"
   },
   {
    "duration": 17,
    "start_time": "2023-02-23T12:31:04.449Z"
   },
   {
    "duration": 22,
    "start_time": "2023-02-23T12:31:04.468Z"
   },
   {
    "duration": 29,
    "start_time": "2023-02-23T12:31:04.492Z"
   },
   {
    "duration": 31,
    "start_time": "2023-02-23T12:31:04.523Z"
   },
   {
    "duration": 984,
    "start_time": "2023-02-23T12:31:04.556Z"
   },
   {
    "duration": 7,
    "start_time": "2023-02-23T12:31:05.542Z"
   },
   {
    "duration": 17,
    "start_time": "2023-02-23T12:31:05.551Z"
   },
   {
    "duration": 12,
    "start_time": "2023-02-23T12:31:05.570Z"
   },
   {
    "duration": 27,
    "start_time": "2023-02-23T12:31:05.584Z"
   },
   {
    "duration": 72,
    "start_time": "2023-02-23T12:31:05.613Z"
   },
   {
    "duration": 4,
    "start_time": "2023-02-23T12:31:05.686Z"
   },
   {
    "duration": 27,
    "start_time": "2023-02-23T12:31:05.692Z"
   },
   {
    "duration": 14,
    "start_time": "2023-02-23T12:31:05.721Z"
   },
   {
    "duration": 17,
    "start_time": "2023-02-23T12:31:05.736Z"
   },
   {
    "duration": 40,
    "start_time": "2023-02-23T12:32:11.861Z"
   },
   {
    "duration": 7,
    "start_time": "2023-02-23T12:33:26.004Z"
   },
   {
    "duration": 27,
    "start_time": "2023-02-23T12:36:37.881Z"
   },
   {
    "duration": 36,
    "start_time": "2023-02-23T12:37:47.030Z"
   },
   {
    "duration": 227,
    "start_time": "2023-02-23T12:41:54.602Z"
   },
   {
    "duration": 16,
    "start_time": "2023-02-23T12:42:02.988Z"
   },
   {
    "duration": 4,
    "start_time": "2023-02-23T12:44:41.896Z"
   },
   {
    "duration": 3,
    "start_time": "2023-02-23T12:44:45.585Z"
   },
   {
    "duration": 4,
    "start_time": "2023-02-23T12:45:09.310Z"
   },
   {
    "duration": 4,
    "start_time": "2023-02-23T12:45:20.804Z"
   },
   {
    "duration": 4,
    "start_time": "2023-02-23T12:45:24.029Z"
   },
   {
    "duration": 5,
    "start_time": "2023-02-23T12:45:27.004Z"
   },
   {
    "duration": 4,
    "start_time": "2023-02-23T12:45:39.606Z"
   },
   {
    "duration": 4,
    "start_time": "2023-02-23T12:45:44.955Z"
   },
   {
    "duration": 4,
    "start_time": "2023-02-23T12:45:51.622Z"
   },
   {
    "duration": 83,
    "start_time": "2023-02-23T12:46:32.853Z"
   },
   {
    "duration": 10,
    "start_time": "2023-02-23T12:46:46.657Z"
   },
   {
    "duration": 5,
    "start_time": "2023-02-23T12:47:23.391Z"
   },
   {
    "duration": 20,
    "start_time": "2023-02-23T12:47:40.325Z"
   },
   {
    "duration": 5,
    "start_time": "2023-02-23T12:47:59.363Z"
   },
   {
    "duration": 4,
    "start_time": "2023-02-23T12:48:20.653Z"
   },
   {
    "duration": 5,
    "start_time": "2023-02-23T12:48:39.848Z"
   },
   {
    "duration": 4,
    "start_time": "2023-02-23T12:48:41.281Z"
   },
   {
    "duration": 5,
    "start_time": "2023-02-23T12:48:45.008Z"
   },
   {
    "duration": 4,
    "start_time": "2023-02-23T12:48:47.527Z"
   },
   {
    "duration": 9,
    "start_time": "2023-02-23T12:51:43.474Z"
   },
   {
    "duration": 4,
    "start_time": "2023-02-23T12:51:44.066Z"
   },
   {
    "duration": 7,
    "start_time": "2023-02-23T12:52:04.266Z"
   },
   {
    "duration": 5,
    "start_time": "2023-02-23T12:52:28.348Z"
   },
   {
    "duration": 3,
    "start_time": "2023-02-23T12:52:56.123Z"
   },
   {
    "duration": 66,
    "start_time": "2023-02-23T12:52:56.128Z"
   },
   {
    "duration": 14,
    "start_time": "2023-02-23T12:52:56.196Z"
   },
   {
    "duration": 23,
    "start_time": "2023-02-23T12:52:56.212Z"
   },
   {
    "duration": 15,
    "start_time": "2023-02-23T12:52:56.237Z"
   },
   {
    "duration": 31,
    "start_time": "2023-02-23T12:52:56.254Z"
   },
   {
    "duration": 582,
    "start_time": "2023-02-23T12:52:56.286Z"
   },
   {
    "duration": 6,
    "start_time": "2023-02-23T12:52:56.870Z"
   },
   {
    "duration": 21,
    "start_time": "2023-02-23T12:52:56.878Z"
   },
   {
    "duration": 18,
    "start_time": "2023-02-23T12:52:56.910Z"
   },
   {
    "duration": 11,
    "start_time": "2023-02-23T12:52:56.930Z"
   },
   {
    "duration": 11,
    "start_time": "2023-02-23T12:52:56.943Z"
   },
   {
    "duration": 14,
    "start_time": "2023-02-23T12:52:56.956Z"
   },
   {
    "duration": 9,
    "start_time": "2023-02-23T12:52:56.972Z"
   },
   {
    "duration": 17,
    "start_time": "2023-02-23T12:52:56.983Z"
   },
   {
    "duration": 22,
    "start_time": "2023-02-23T12:52:57.010Z"
   },
   {
    "duration": 239,
    "start_time": "2023-02-23T12:52:57.034Z"
   },
   {
    "duration": 5,
    "start_time": "2023-02-23T12:52:57.274Z"
   },
   {
    "duration": 9,
    "start_time": "2023-02-23T12:52:57.281Z"
   },
   {
    "duration": 20,
    "start_time": "2023-02-23T12:52:57.292Z"
   },
   {
    "duration": 44,
    "start_time": "2023-02-23T12:53:42.800Z"
   },
   {
    "duration": 3,
    "start_time": "2023-02-23T12:53:57.022Z"
   },
   {
    "duration": 97,
    "start_time": "2023-02-23T12:53:57.028Z"
   },
   {
    "duration": 15,
    "start_time": "2023-02-23T12:53:57.127Z"
   },
   {
    "duration": 27,
    "start_time": "2023-02-23T12:53:57.144Z"
   },
   {
    "duration": 42,
    "start_time": "2023-02-23T12:53:57.173Z"
   },
   {
    "duration": 35,
    "start_time": "2023-02-23T12:53:57.217Z"
   },
   {
    "duration": 612,
    "start_time": "2023-02-23T12:53:57.254Z"
   },
   {
    "duration": 5,
    "start_time": "2023-02-23T12:53:57.868Z"
   },
   {
    "duration": 20,
    "start_time": "2023-02-23T12:53:57.875Z"
   },
   {
    "duration": 13,
    "start_time": "2023-02-23T12:53:57.911Z"
   },
   {
    "duration": 8,
    "start_time": "2023-02-23T12:53:57.925Z"
   },
   {
    "duration": 9,
    "start_time": "2023-02-23T12:53:57.934Z"
   },
   {
    "duration": 9,
    "start_time": "2023-02-23T12:53:57.945Z"
   },
   {
    "duration": 4,
    "start_time": "2023-02-23T12:53:57.956Z"
   },
   {
    "duration": 8,
    "start_time": "2023-02-23T12:53:57.962Z"
   },
   {
    "duration": 69,
    "start_time": "2023-02-23T12:53:57.971Z"
   },
   {
    "duration": 28,
    "start_time": "2023-02-23T12:53:58.042Z"
   },
   {
    "duration": 8,
    "start_time": "2023-02-23T12:53:58.071Z"
   },
   {
    "duration": 31,
    "start_time": "2023-02-23T12:53:58.080Z"
   },
   {
    "duration": 5,
    "start_time": "2023-02-23T12:55:38.784Z"
   },
   {
    "duration": 4,
    "start_time": "2023-02-23T12:55:48.561Z"
   },
   {
    "duration": 92,
    "start_time": "2023-02-23T12:55:48.567Z"
   },
   {
    "duration": 20,
    "start_time": "2023-02-23T12:55:48.661Z"
   },
   {
    "duration": 48,
    "start_time": "2023-02-23T12:55:48.684Z"
   },
   {
    "duration": 21,
    "start_time": "2023-02-23T12:55:48.734Z"
   },
   {
    "duration": 54,
    "start_time": "2023-02-23T12:55:48.757Z"
   },
   {
    "duration": 595,
    "start_time": "2023-02-23T12:55:48.813Z"
   },
   {
    "duration": 6,
    "start_time": "2023-02-23T12:55:49.410Z"
   },
   {
    "duration": 17,
    "start_time": "2023-02-23T12:55:49.418Z"
   },
   {
    "duration": 12,
    "start_time": "2023-02-23T12:55:49.438Z"
   },
   {
    "duration": 6,
    "start_time": "2023-02-23T12:55:49.451Z"
   },
   {
    "duration": 8,
    "start_time": "2023-02-23T12:55:49.459Z"
   },
   {
    "duration": 45,
    "start_time": "2023-02-23T12:55:49.468Z"
   },
   {
    "duration": 4,
    "start_time": "2023-02-23T12:55:49.515Z"
   },
   {
    "duration": 7,
    "start_time": "2023-02-23T12:55:49.520Z"
   },
   {
    "duration": 6,
    "start_time": "2023-02-23T12:55:49.529Z"
   },
   {
    "duration": 25,
    "start_time": "2023-02-23T12:55:49.536Z"
   },
   {
    "duration": 59,
    "start_time": "2023-02-23T12:55:49.563Z"
   },
   {
    "duration": 7,
    "start_time": "2023-02-23T12:55:49.624Z"
   },
   {
    "duration": 10,
    "start_time": "2023-02-23T12:55:49.633Z"
   },
   {
    "duration": 121,
    "start_time": "2023-02-23T12:56:51.326Z"
   },
   {
    "duration": 10,
    "start_time": "2023-02-23T12:57:32.063Z"
   },
   {
    "duration": 9,
    "start_time": "2023-02-23T12:57:36.673Z"
   },
   {
    "duration": 3,
    "start_time": "2023-02-23T12:57:52.048Z"
   },
   {
    "duration": 61,
    "start_time": "2023-02-23T12:57:52.053Z"
   },
   {
    "duration": 14,
    "start_time": "2023-02-23T12:57:52.116Z"
   },
   {
    "duration": 101,
    "start_time": "2023-02-23T12:57:52.132Z"
   },
   {
    "duration": 16,
    "start_time": "2023-02-23T12:57:52.236Z"
   },
   {
    "duration": 26,
    "start_time": "2023-02-23T12:57:52.254Z"
   },
   {
    "duration": 552,
    "start_time": "2023-02-23T12:57:52.282Z"
   },
   {
    "duration": 4,
    "start_time": "2023-02-23T12:57:52.836Z"
   },
   {
    "duration": 15,
    "start_time": "2023-02-23T12:57:52.842Z"
   },
   {
    "duration": 12,
    "start_time": "2023-02-23T12:57:52.858Z"
   },
   {
    "duration": 6,
    "start_time": "2023-02-23T12:57:52.872Z"
   },
   {
    "duration": 29,
    "start_time": "2023-02-23T12:57:52.880Z"
   },
   {
    "duration": 5,
    "start_time": "2023-02-23T12:57:52.911Z"
   },
   {
    "duration": 5,
    "start_time": "2023-02-23T12:57:52.919Z"
   },
   {
    "duration": 5,
    "start_time": "2023-02-23T12:57:52.926Z"
   },
   {
    "duration": 6,
    "start_time": "2023-02-23T12:57:52.933Z"
   },
   {
    "duration": 29,
    "start_time": "2023-02-23T12:57:52.940Z"
   },
   {
    "duration": 54,
    "start_time": "2023-02-23T12:57:52.971Z"
   },
   {
    "duration": 3,
    "start_time": "2023-02-23T12:57:53.027Z"
   },
   {
    "duration": 16,
    "start_time": "2023-02-23T12:57:53.031Z"
   },
   {
    "duration": 970,
    "start_time": "2023-02-23T12:59:03.183Z"
   },
   {
    "duration": 1019,
    "start_time": "2023-02-23T12:59:33.643Z"
   },
   {
    "duration": 7,
    "start_time": "2023-02-23T13:00:19.068Z"
   },
   {
    "duration": 11,
    "start_time": "2023-02-23T13:20:55.276Z"
   },
   {
    "duration": 8,
    "start_time": "2023-02-23T13:20:59.939Z"
   },
   {
    "duration": 8,
    "start_time": "2023-02-23T13:27:39.714Z"
   },
   {
    "duration": 5,
    "start_time": "2023-02-23T13:27:42.759Z"
   },
   {
    "duration": 5,
    "start_time": "2023-02-23T13:29:54.808Z"
   },
   {
    "duration": 8,
    "start_time": "2023-02-23T13:36:11.451Z"
   },
   {
    "duration": 4,
    "start_time": "2023-02-23T13:36:35.233Z"
   },
   {
    "duration": 4,
    "start_time": "2023-02-23T13:37:07.719Z"
   },
   {
    "duration": 12,
    "start_time": "2023-02-23T13:48:42.096Z"
   },
   {
    "duration": 12,
    "start_time": "2023-02-23T13:49:29.915Z"
   },
   {
    "duration": 4,
    "start_time": "2023-02-23T13:55:02.865Z"
   },
   {
    "duration": 15,
    "start_time": "2023-02-23T13:55:09.535Z"
   },
   {
    "duration": 536,
    "start_time": "2023-02-23T13:58:54.891Z"
   },
   {
    "duration": 217,
    "start_time": "2023-02-23T13:59:31.857Z"
   },
   {
    "duration": 193,
    "start_time": "2023-02-23T14:00:08.452Z"
   },
   {
    "duration": 19,
    "start_time": "2023-02-23T14:05:19.281Z"
   },
   {
    "duration": 34,
    "start_time": "2023-02-23T14:05:19.302Z"
   },
   {
    "duration": 21,
    "start_time": "2023-02-23T14:05:19.338Z"
   },
   {
    "duration": 31,
    "start_time": "2023-02-23T14:05:19.361Z"
   },
   {
    "duration": 737,
    "start_time": "2023-02-23T14:05:19.394Z"
   },
   {
    "duration": 5,
    "start_time": "2023-02-23T14:05:20.134Z"
   },
   {
    "duration": 17,
    "start_time": "2023-02-23T14:05:20.141Z"
   },
   {
    "duration": 8,
    "start_time": "2023-02-23T14:05:20.160Z"
   },
   {
    "duration": 14,
    "start_time": "2023-02-23T14:05:20.170Z"
   },
   {
    "duration": 37,
    "start_time": "2023-02-23T14:05:20.186Z"
   },
   {
    "duration": 4,
    "start_time": "2023-02-23T14:05:20.225Z"
   },
   {
    "duration": 7,
    "start_time": "2023-02-23T14:05:20.231Z"
   },
   {
    "duration": 6,
    "start_time": "2023-02-23T14:05:20.239Z"
   },
   {
    "duration": 39,
    "start_time": "2023-02-23T14:05:20.246Z"
   },
   {
    "duration": 56,
    "start_time": "2023-02-23T14:05:20.287Z"
   },
   {
    "duration": 8,
    "start_time": "2023-02-23T14:05:20.346Z"
   },
   {
    "duration": 8,
    "start_time": "2023-02-23T14:05:20.356Z"
   },
   {
    "duration": 7,
    "start_time": "2023-02-23T14:05:20.366Z"
   },
   {
    "duration": 16,
    "start_time": "2023-02-23T14:05:20.376Z"
   },
   {
    "duration": 30,
    "start_time": "2023-02-23T14:05:20.393Z"
   },
   {
    "duration": 253,
    "start_time": "2023-02-23T14:05:20.425Z"
   },
   {
    "duration": 3,
    "start_time": "2023-02-23T14:05:20.680Z"
   },
   {
    "duration": 70,
    "start_time": "2023-02-23T14:05:20.685Z"
   },
   {
    "duration": 704,
    "start_time": "2023-02-23T14:08:30.314Z"
   },
   {
    "duration": 694,
    "start_time": "2023-02-23T14:08:39.870Z"
   },
   {
    "duration": 752,
    "start_time": "2023-02-23T14:12:13.605Z"
   },
   {
    "duration": 3,
    "start_time": "2023-02-23T14:12:24.380Z"
   },
   {
    "duration": 60,
    "start_time": "2023-02-23T14:12:24.385Z"
   },
   {
    "duration": 12,
    "start_time": "2023-02-23T14:12:24.447Z"
   },
   {
    "duration": 26,
    "start_time": "2023-02-23T14:12:24.461Z"
   },
   {
    "duration": 26,
    "start_time": "2023-02-23T14:12:24.489Z"
   },
   {
    "duration": 26,
    "start_time": "2023-02-23T14:12:24.517Z"
   },
   {
    "duration": 719,
    "start_time": "2023-02-23T14:12:24.544Z"
   },
   {
    "duration": 5,
    "start_time": "2023-02-23T14:12:25.265Z"
   },
   {
    "duration": 26,
    "start_time": "2023-02-23T14:12:25.272Z"
   },
   {
    "duration": 12,
    "start_time": "2023-02-23T14:12:25.301Z"
   },
   {
    "duration": 7,
    "start_time": "2023-02-23T14:12:25.315Z"
   },
   {
    "duration": 7,
    "start_time": "2023-02-23T14:12:25.324Z"
   },
   {
    "duration": 8,
    "start_time": "2023-02-23T14:12:25.332Z"
   },
   {
    "duration": 6,
    "start_time": "2023-02-23T14:12:25.342Z"
   },
   {
    "duration": 10,
    "start_time": "2023-02-23T14:12:25.349Z"
   },
   {
    "duration": 29,
    "start_time": "2023-02-23T14:12:25.360Z"
   },
   {
    "duration": 29,
    "start_time": "2023-02-23T14:12:25.409Z"
   },
   {
    "duration": 8,
    "start_time": "2023-02-23T14:12:25.439Z"
   },
   {
    "duration": 6,
    "start_time": "2023-02-23T14:12:25.449Z"
   },
   {
    "duration": 8,
    "start_time": "2023-02-23T14:12:25.457Z"
   },
   {
    "duration": 14,
    "start_time": "2023-02-23T14:12:25.466Z"
   },
   {
    "duration": 30,
    "start_time": "2023-02-23T14:12:25.482Z"
   },
   {
    "duration": 160,
    "start_time": "2023-02-23T14:12:25.514Z"
   },
   {
    "duration": 292,
    "start_time": "2023-02-23T14:16:31.528Z"
   },
   {
    "duration": 255,
    "start_time": "2023-02-23T14:17:00.135Z"
   },
   {
    "duration": 176,
    "start_time": "2023-02-23T14:17:30.941Z"
   },
   {
    "duration": 197,
    "start_time": "2023-02-23T14:18:25.638Z"
   },
   {
    "duration": 200,
    "start_time": "2023-02-23T14:18:44.430Z"
   },
   {
    "duration": 212,
    "start_time": "2023-02-23T14:18:52.057Z"
   },
   {
    "duration": 253,
    "start_time": "2023-02-23T14:18:56.416Z"
   },
   {
    "duration": 3,
    "start_time": "2023-02-23T14:20:02.430Z"
   },
   {
    "duration": 207,
    "start_time": "2023-02-23T14:21:18.755Z"
   },
   {
    "duration": 218,
    "start_time": "2023-02-23T14:22:40.154Z"
   },
   {
    "duration": 215,
    "start_time": "2023-02-23T14:22:49.549Z"
   },
   {
    "duration": 223,
    "start_time": "2023-02-23T14:22:57.209Z"
   },
   {
    "duration": 218,
    "start_time": "2023-02-23T14:23:33.362Z"
   },
   {
    "duration": 214,
    "start_time": "2023-02-23T14:23:50.627Z"
   },
   {
    "duration": 3,
    "start_time": "2023-02-23T14:25:13.896Z"
   },
   {
    "duration": 62,
    "start_time": "2023-02-23T14:25:13.900Z"
   },
   {
    "duration": 14,
    "start_time": "2023-02-23T14:25:13.964Z"
   },
   {
    "duration": 30,
    "start_time": "2023-02-23T14:25:13.980Z"
   },
   {
    "duration": 15,
    "start_time": "2023-02-23T14:25:14.012Z"
   },
   {
    "duration": 28,
    "start_time": "2023-02-23T14:25:14.028Z"
   },
   {
    "duration": 715,
    "start_time": "2023-02-23T14:25:14.057Z"
   },
   {
    "duration": 5,
    "start_time": "2023-02-23T14:25:14.774Z"
   },
   {
    "duration": 29,
    "start_time": "2023-02-23T14:25:14.782Z"
   },
   {
    "duration": 6,
    "start_time": "2023-02-23T14:25:14.813Z"
   },
   {
    "duration": 8,
    "start_time": "2023-02-23T14:25:14.821Z"
   },
   {
    "duration": 6,
    "start_time": "2023-02-23T14:25:14.830Z"
   },
   {
    "duration": 5,
    "start_time": "2023-02-23T14:25:14.837Z"
   },
   {
    "duration": 6,
    "start_time": "2023-02-23T14:25:14.843Z"
   },
   {
    "duration": 6,
    "start_time": "2023-02-23T14:25:14.851Z"
   },
   {
    "duration": 56,
    "start_time": "2023-02-23T14:25:14.858Z"
   },
   {
    "duration": 26,
    "start_time": "2023-02-23T14:25:14.916Z"
   },
   {
    "duration": 8,
    "start_time": "2023-02-23T14:25:14.943Z"
   },
   {
    "duration": 6,
    "start_time": "2023-02-23T14:25:14.953Z"
   },
   {
    "duration": 5,
    "start_time": "2023-02-23T14:25:14.961Z"
   },
   {
    "duration": 14,
    "start_time": "2023-02-23T14:25:14.967Z"
   },
   {
    "duration": 29,
    "start_time": "2023-02-23T14:25:14.983Z"
   },
   {
    "duration": 245,
    "start_time": "2023-02-23T14:25:15.014Z"
   },
   {
    "duration": 3,
    "start_time": "2023-02-23T14:25:33.372Z"
   },
   {
    "duration": 3,
    "start_time": "2023-02-23T14:25:38.831Z"
   },
   {
    "duration": 65,
    "start_time": "2023-02-23T14:25:38.836Z"
   },
   {
    "duration": 15,
    "start_time": "2023-02-23T14:25:38.902Z"
   },
   {
    "duration": 24,
    "start_time": "2023-02-23T14:25:38.919Z"
   },
   {
    "duration": 16,
    "start_time": "2023-02-23T14:25:38.945Z"
   },
   {
    "duration": 48,
    "start_time": "2023-02-23T14:25:38.963Z"
   },
   {
    "duration": 1669,
    "start_time": "2023-02-23T14:25:39.013Z"
   },
   {
    "duration": 5,
    "start_time": "2023-02-23T14:25:40.684Z"
   },
   {
    "duration": 24,
    "start_time": "2023-02-23T14:25:40.690Z"
   },
   {
    "duration": 6,
    "start_time": "2023-02-23T14:25:40.715Z"
   },
   {
    "duration": 6,
    "start_time": "2023-02-23T14:25:40.723Z"
   },
   {
    "duration": 5,
    "start_time": "2023-02-23T14:25:40.731Z"
   },
   {
    "duration": 3,
    "start_time": "2023-02-23T14:25:40.738Z"
   },
   {
    "duration": 5,
    "start_time": "2023-02-23T14:25:40.743Z"
   },
   {
    "duration": 6,
    "start_time": "2023-02-23T14:25:40.749Z"
   },
   {
    "duration": 55,
    "start_time": "2023-02-23T14:25:40.756Z"
   },
   {
    "duration": 28,
    "start_time": "2023-02-23T14:25:40.812Z"
   },
   {
    "duration": 8,
    "start_time": "2023-02-23T14:25:40.841Z"
   },
   {
    "duration": 6,
    "start_time": "2023-02-23T14:25:40.850Z"
   },
   {
    "duration": 5,
    "start_time": "2023-02-23T14:25:40.858Z"
   },
   {
    "duration": 16,
    "start_time": "2023-02-23T14:25:40.864Z"
   },
   {
    "duration": 29,
    "start_time": "2023-02-23T14:25:40.881Z"
   },
   {
    "duration": 229,
    "start_time": "2023-02-23T14:25:40.911Z"
   },
   {
    "duration": 11,
    "start_time": "2023-02-23T14:28:20.685Z"
   },
   {
    "duration": 7,
    "start_time": "2023-02-23T14:28:24.832Z"
   },
   {
    "duration": 7,
    "start_time": "2023-02-23T14:28:43.757Z"
   },
   {
    "duration": 217,
    "start_time": "2023-02-23T14:30:03.657Z"
   },
   {
    "duration": 226,
    "start_time": "2023-02-23T14:34:07.801Z"
   },
   {
    "duration": 222,
    "start_time": "2023-02-23T14:34:15.873Z"
   },
   {
    "duration": 360,
    "start_time": "2023-02-23T14:35:31.850Z"
   },
   {
    "duration": 341,
    "start_time": "2023-02-23T14:35:55.435Z"
   },
   {
    "duration": 293,
    "start_time": "2023-02-23T14:36:02.296Z"
   },
   {
    "duration": 334,
    "start_time": "2023-02-23T14:36:10.417Z"
   },
   {
    "duration": 272,
    "start_time": "2023-02-23T14:36:19.185Z"
   },
   {
    "duration": 228,
    "start_time": "2023-02-23T14:39:34.101Z"
   },
   {
    "duration": 303,
    "start_time": "2023-02-23T14:39:39.121Z"
   },
   {
    "duration": 229,
    "start_time": "2023-02-23T14:39:42.549Z"
   },
   {
    "duration": 1388,
    "start_time": "2023-02-24T12:45:38.547Z"
   },
   {
    "duration": 216,
    "start_time": "2023-02-24T12:45:39.937Z"
   },
   {
    "duration": 13,
    "start_time": "2023-02-24T12:45:40.155Z"
   },
   {
    "duration": 36,
    "start_time": "2023-02-24T12:45:40.173Z"
   },
   {
    "duration": 17,
    "start_time": "2023-02-24T12:45:40.211Z"
   },
   {
    "duration": 32,
    "start_time": "2023-02-24T12:45:40.230Z"
   },
   {
    "duration": 864,
    "start_time": "2023-02-24T12:45:40.264Z"
   },
   {
    "duration": 5,
    "start_time": "2023-02-24T12:45:41.130Z"
   },
   {
    "duration": 20,
    "start_time": "2023-02-24T12:45:41.137Z"
   },
   {
    "duration": 13,
    "start_time": "2023-02-24T12:45:41.160Z"
   },
   {
    "duration": 32,
    "start_time": "2023-02-24T12:45:41.175Z"
   },
   {
    "duration": 19,
    "start_time": "2023-02-24T12:45:41.210Z"
   },
   {
    "duration": 21,
    "start_time": "2023-02-24T12:45:41.230Z"
   },
   {
    "duration": 12,
    "start_time": "2023-02-24T12:45:41.253Z"
   },
   {
    "duration": 7,
    "start_time": "2023-02-24T12:45:41.267Z"
   },
   {
    "duration": 71,
    "start_time": "2023-02-24T12:45:41.276Z"
   },
   {
    "duration": 29,
    "start_time": "2023-02-24T12:45:41.349Z"
   },
   {
    "duration": 8,
    "start_time": "2023-02-24T12:45:41.380Z"
   },
   {
    "duration": 42,
    "start_time": "2023-02-24T12:45:41.390Z"
   },
   {
    "duration": 73,
    "start_time": "2023-02-24T12:45:41.434Z"
   },
   {
    "duration": 20,
    "start_time": "2023-02-24T12:45:41.509Z"
   },
   {
    "duration": 21,
    "start_time": "2023-02-24T12:45:41.530Z"
   },
   {
    "duration": 279,
    "start_time": "2023-02-24T12:45:41.553Z"
   },
   {
    "duration": 210,
    "start_time": "2023-02-24T12:46:14.566Z"
   },
   {
    "duration": 4,
    "start_time": "2023-02-24T12:46:22.744Z"
   },
   {
    "duration": 83,
    "start_time": "2023-02-24T12:46:22.751Z"
   },
   {
    "duration": 16,
    "start_time": "2023-02-24T12:46:22.836Z"
   },
   {
    "duration": 40,
    "start_time": "2023-02-24T12:46:22.855Z"
   },
   {
    "duration": 16,
    "start_time": "2023-02-24T12:46:22.901Z"
   },
   {
    "duration": 33,
    "start_time": "2023-02-24T12:46:22.919Z"
   },
   {
    "duration": 953,
    "start_time": "2023-02-24T12:46:22.954Z"
   },
   {
    "duration": 5,
    "start_time": "2023-02-24T12:46:23.910Z"
   },
   {
    "duration": 16,
    "start_time": "2023-02-24T12:46:23.917Z"
   },
   {
    "duration": 10,
    "start_time": "2023-02-24T12:46:23.935Z"
   },
   {
    "duration": 15,
    "start_time": "2023-02-24T12:46:23.947Z"
   },
   {
    "duration": 33,
    "start_time": "2023-02-24T12:46:23.964Z"
   },
   {
    "duration": 5,
    "start_time": "2023-02-24T12:46:24.005Z"
   },
   {
    "duration": 14,
    "start_time": "2023-02-24T12:46:24.012Z"
   },
   {
    "duration": 8,
    "start_time": "2023-02-24T12:46:24.028Z"
   },
   {
    "duration": 46,
    "start_time": "2023-02-24T12:46:24.038Z"
   },
   {
    "duration": 39,
    "start_time": "2023-02-24T12:46:24.087Z"
   },
   {
    "duration": 8,
    "start_time": "2023-02-24T12:46:24.128Z"
   },
   {
    "duration": 7,
    "start_time": "2023-02-24T12:46:24.138Z"
   },
   {
    "duration": 7,
    "start_time": "2023-02-24T12:46:24.146Z"
   },
   {
    "duration": 48,
    "start_time": "2023-02-24T12:46:24.156Z"
   },
   {
    "duration": 12,
    "start_time": "2023-02-24T12:46:24.206Z"
   },
   {
    "duration": 249,
    "start_time": "2023-02-24T12:46:24.220Z"
   },
   {
    "duration": 310,
    "start_time": "2023-02-24T12:47:01.074Z"
   },
   {
    "duration": 284,
    "start_time": "2023-02-24T12:47:07.931Z"
   },
   {
    "duration": 285,
    "start_time": "2023-02-24T12:47:27.969Z"
   },
   {
    "duration": 259,
    "start_time": "2023-02-24T12:47:37.759Z"
   },
   {
    "duration": 277,
    "start_time": "2023-02-24T12:47:41.558Z"
   },
   {
    "duration": 5,
    "start_time": "2023-02-24T12:51:32.452Z"
   },
   {
    "duration": 4,
    "start_time": "2023-02-24T12:51:42.303Z"
   },
   {
    "duration": 34,
    "start_time": "2023-02-24T12:51:53.176Z"
   },
   {
    "duration": 12,
    "start_time": "2023-02-24T12:51:56.604Z"
   },
   {
    "duration": 27,
    "start_time": "2023-02-24T12:52:04.400Z"
   },
   {
    "duration": 7,
    "start_time": "2023-02-24T12:52:24.233Z"
   },
   {
    "duration": 7,
    "start_time": "2023-02-24T12:52:37.119Z"
   },
   {
    "duration": 7,
    "start_time": "2023-02-24T12:52:44.515Z"
   },
   {
    "duration": 8,
    "start_time": "2023-02-24T12:55:08.004Z"
   },
   {
    "duration": 8,
    "start_time": "2023-02-24T12:55:14.148Z"
   },
   {
    "duration": 8,
    "start_time": "2023-02-24T12:55:22.630Z"
   },
   {
    "duration": 51,
    "start_time": "2023-02-24T12:57:38.885Z"
   },
   {
    "duration": 12,
    "start_time": "2023-02-24T12:58:36.324Z"
   },
   {
    "duration": 10,
    "start_time": "2023-02-24T12:59:23.603Z"
   },
   {
    "duration": 32,
    "start_time": "2023-02-24T13:00:03.088Z"
   },
   {
    "duration": 12,
    "start_time": "2023-02-24T13:00:41.734Z"
   },
   {
    "duration": 12,
    "start_time": "2023-02-24T13:01:35.517Z"
   },
   {
    "duration": 12,
    "start_time": "2023-02-24T13:01:38.615Z"
   },
   {
    "duration": 12,
    "start_time": "2023-02-24T13:02:18.275Z"
   },
   {
    "duration": 42,
    "start_time": "2023-02-24T13:04:11.612Z"
   },
   {
    "duration": 16,
    "start_time": "2023-02-24T13:04:49.465Z"
   },
   {
    "duration": 502,
    "start_time": "2023-02-24T13:04:55.800Z"
   },
   {
    "duration": 1091,
    "start_time": "2023-02-24T13:05:38.506Z"
   },
   {
    "duration": 202,
    "start_time": "2023-02-24T13:05:52.244Z"
   },
   {
    "duration": 853,
    "start_time": "2023-02-24T13:06:27.698Z"
   },
   {
    "duration": 965,
    "start_time": "2023-02-24T13:06:38.413Z"
   },
   {
    "duration": 550,
    "start_time": "2023-02-24T13:09:03.845Z"
   },
   {
    "duration": 11,
    "start_time": "2023-02-24T13:15:51.620Z"
   },
   {
    "duration": 433,
    "start_time": "2023-02-24T13:16:06.328Z"
   },
   {
    "duration": 892,
    "start_time": "2023-02-24T13:19:37.637Z"
   },
   {
    "duration": 185,
    "start_time": "2023-02-24T13:19:53.874Z"
   },
   {
    "duration": 1168,
    "start_time": "2023-02-24T13:21:31.361Z"
   },
   {
    "duration": 22,
    "start_time": "2023-02-24T13:21:41.670Z"
   },
   {
    "duration": 2379,
    "start_time": "2023-02-24T13:22:02.462Z"
   },
   {
    "duration": 11,
    "start_time": "2023-02-24T13:22:11.004Z"
   },
   {
    "duration": 4,
    "start_time": "2023-02-24T13:22:16.306Z"
   },
   {
    "duration": 417,
    "start_time": "2023-02-24T13:22:19.036Z"
   },
   {
    "duration": 14,
    "start_time": "2023-02-24T13:22:55.268Z"
   },
   {
    "duration": 12,
    "start_time": "2023-02-24T13:23:13.148Z"
   },
   {
    "duration": 14,
    "start_time": "2023-02-24T13:23:31.597Z"
   },
   {
    "duration": 421,
    "start_time": "2023-02-24T13:26:16.374Z"
   },
   {
    "duration": 11,
    "start_time": "2023-02-24T13:26:18.738Z"
   },
   {
    "duration": 271,
    "start_time": "2023-02-24T13:26:20.737Z"
   },
   {
    "duration": 11,
    "start_time": "2023-02-24T13:26:37.472Z"
   },
   {
    "duration": 862,
    "start_time": "2023-02-24T13:26:58.520Z"
   },
   {
    "duration": 1752,
    "start_time": "2023-02-24T13:27:25.402Z"
   },
   {
    "duration": 1778,
    "start_time": "2023-02-24T13:27:42.269Z"
   },
   {
    "duration": 1133,
    "start_time": "2023-02-24T13:27:59.973Z"
   },
   {
    "duration": 1928,
    "start_time": "2023-02-24T13:28:22.229Z"
   },
   {
    "duration": 1969,
    "start_time": "2023-02-24T13:28:29.155Z"
   },
   {
    "duration": 2142,
    "start_time": "2023-02-24T13:28:33.333Z"
   },
   {
    "duration": 942,
    "start_time": "2023-02-24T13:29:01.306Z"
   },
   {
    "duration": 739,
    "start_time": "2023-02-24T13:29:16.771Z"
   },
   {
    "duration": 1032,
    "start_time": "2023-02-24T13:29:20.354Z"
   },
   {
    "duration": 860,
    "start_time": "2023-02-24T13:31:11.519Z"
   },
   {
    "duration": 778,
    "start_time": "2023-02-24T13:31:24.878Z"
   },
   {
    "duration": 711,
    "start_time": "2023-02-24T13:31:32.119Z"
   },
   {
    "duration": 1015,
    "start_time": "2023-02-24T13:35:24.642Z"
   },
   {
    "duration": 1191,
    "start_time": "2023-02-24T13:35:54.423Z"
   },
   {
    "duration": 5,
    "start_time": "2023-02-24T13:36:10.706Z"
   },
   {
    "duration": 1400,
    "start_time": "2023-02-24T13:36:21.332Z"
   },
   {
    "duration": 5,
    "start_time": "2023-02-24T13:36:35.416Z"
   },
   {
    "duration": 9,
    "start_time": "2023-02-24T13:38:17.857Z"
   },
   {
    "duration": 4,
    "start_time": "2023-02-24T13:40:09.175Z"
   },
   {
    "duration": 12,
    "start_time": "2023-02-24T13:41:06.717Z"
   },
   {
    "duration": 740,
    "start_time": "2023-02-24T13:41:07.272Z"
   },
   {
    "duration": 26,
    "start_time": "2023-02-24T13:41:58.424Z"
   },
   {
    "duration": 12,
    "start_time": "2023-02-24T13:42:42.735Z"
   },
   {
    "duration": 27,
    "start_time": "2023-02-24T13:42:47.758Z"
   },
   {
    "duration": 799,
    "start_time": "2023-02-24T13:42:53.052Z"
   },
   {
    "duration": 14,
    "start_time": "2023-02-24T13:43:02.848Z"
   },
   {
    "duration": 25,
    "start_time": "2023-02-24T13:44:22.406Z"
   },
   {
    "duration": 17,
    "start_time": "2023-02-24T13:45:08.488Z"
   },
   {
    "duration": 32,
    "start_time": "2023-02-24T13:45:37.736Z"
   },
   {
    "duration": 14,
    "start_time": "2023-02-24T13:45:55.227Z"
   },
   {
    "duration": 778,
    "start_time": "2023-02-24T13:46:06.974Z"
   },
   {
    "duration": 823,
    "start_time": "2023-02-24T13:46:24.565Z"
   },
   {
    "duration": 1162,
    "start_time": "2023-02-24T13:46:30.746Z"
   },
   {
    "duration": 730,
    "start_time": "2023-02-24T13:49:38.956Z"
   },
   {
    "duration": 28,
    "start_time": "2023-02-24T14:02:50.733Z"
   },
   {
    "duration": 29,
    "start_time": "2023-02-24T14:02:57.418Z"
   },
   {
    "duration": 4,
    "start_time": "2023-02-24T14:03:13.074Z"
   },
   {
    "duration": 96,
    "start_time": "2023-02-24T14:03:13.081Z"
   },
   {
    "duration": 19,
    "start_time": "2023-02-24T14:03:13.179Z"
   },
   {
    "duration": 47,
    "start_time": "2023-02-24T14:03:13.202Z"
   },
   {
    "duration": 16,
    "start_time": "2023-02-24T14:03:13.251Z"
   },
   {
    "duration": 34,
    "start_time": "2023-02-24T14:03:13.269Z"
   },
   {
    "duration": 890,
    "start_time": "2023-02-24T14:03:13.305Z"
   },
   {
    "duration": 6,
    "start_time": "2023-02-24T14:03:14.196Z"
   },
   {
    "duration": 33,
    "start_time": "2023-02-24T14:03:14.205Z"
   },
   {
    "duration": 7,
    "start_time": "2023-02-24T14:03:14.242Z"
   },
   {
    "duration": 13,
    "start_time": "2023-02-24T14:03:14.250Z"
   },
   {
    "duration": 6,
    "start_time": "2023-02-24T14:03:14.265Z"
   },
   {
    "duration": 5,
    "start_time": "2023-02-24T14:03:14.272Z"
   },
   {
    "duration": 30,
    "start_time": "2023-02-24T14:03:14.278Z"
   },
   {
    "duration": 18,
    "start_time": "2023-02-24T14:03:14.310Z"
   },
   {
    "duration": 30,
    "start_time": "2023-02-24T14:03:14.329Z"
   },
   {
    "duration": 34,
    "start_time": "2023-02-24T14:03:14.361Z"
   },
   {
    "duration": 11,
    "start_time": "2023-02-24T14:03:14.399Z"
   },
   {
    "duration": 16,
    "start_time": "2023-02-24T14:03:14.412Z"
   },
   {
    "duration": 6,
    "start_time": "2023-02-24T14:03:14.429Z"
   },
   {
    "duration": 20,
    "start_time": "2023-02-24T14:03:14.437Z"
   },
   {
    "duration": 5,
    "start_time": "2023-02-24T14:03:14.459Z"
   },
   {
    "duration": 264,
    "start_time": "2023-02-24T14:03:14.466Z"
   },
   {
    "duration": 28,
    "start_time": "2023-02-24T14:03:14.731Z"
   },
   {
    "duration": 12,
    "start_time": "2023-02-24T14:03:14.761Z"
   },
   {
    "duration": 2506,
    "start_time": "2023-02-24T14:03:14.774Z"
   },
   {
    "duration": 3,
    "start_time": "2023-02-24T14:04:18.354Z"
   },
   {
    "duration": 78,
    "start_time": "2023-02-24T14:04:18.360Z"
   },
   {
    "duration": 14,
    "start_time": "2023-02-24T14:04:18.440Z"
   },
   {
    "duration": 48,
    "start_time": "2023-02-24T14:04:18.457Z"
   },
   {
    "duration": 18,
    "start_time": "2023-02-24T14:04:18.507Z"
   },
   {
    "duration": 29,
    "start_time": "2023-02-24T14:04:18.527Z"
   },
   {
    "duration": 860,
    "start_time": "2023-02-24T14:04:18.558Z"
   },
   {
    "duration": 5,
    "start_time": "2023-02-24T14:04:19.420Z"
   },
   {
    "duration": 22,
    "start_time": "2023-02-24T14:04:19.427Z"
   },
   {
    "duration": 14,
    "start_time": "2023-02-24T14:04:19.451Z"
   },
   {
    "duration": 9,
    "start_time": "2023-02-24T14:04:19.467Z"
   },
   {
    "duration": 18,
    "start_time": "2023-02-24T14:04:19.493Z"
   },
   {
    "duration": 13,
    "start_time": "2023-02-24T14:04:19.513Z"
   },
   {
    "duration": 9,
    "start_time": "2023-02-24T14:04:19.528Z"
   },
   {
    "duration": 10,
    "start_time": "2023-02-24T14:04:19.540Z"
   },
   {
    "duration": 33,
    "start_time": "2023-02-24T14:04:19.552Z"
   },
   {
    "duration": 41,
    "start_time": "2023-02-24T14:04:19.587Z"
   },
   {
    "duration": 9,
    "start_time": "2023-02-24T14:04:19.630Z"
   },
   {
    "duration": 7,
    "start_time": "2023-02-24T14:04:19.641Z"
   },
   {
    "duration": 7,
    "start_time": "2023-02-24T14:04:19.649Z"
   },
   {
    "duration": 45,
    "start_time": "2023-02-24T14:04:19.658Z"
   },
   {
    "duration": 5,
    "start_time": "2023-02-24T14:04:19.705Z"
   },
   {
    "duration": 262,
    "start_time": "2023-02-24T14:04:19.712Z"
   },
   {
    "duration": 39,
    "start_time": "2023-02-24T14:04:19.975Z"
   },
   {
    "duration": 15,
    "start_time": "2023-02-24T14:04:20.016Z"
   },
   {
    "duration": 1540,
    "start_time": "2023-02-24T14:04:20.033Z"
   },
   {
    "duration": 4,
    "start_time": "2023-02-24T14:04:45.889Z"
   },
   {
    "duration": 88,
    "start_time": "2023-02-24T14:04:45.895Z"
   },
   {
    "duration": 15,
    "start_time": "2023-02-24T14:04:45.985Z"
   },
   {
    "duration": 39,
    "start_time": "2023-02-24T14:04:46.002Z"
   },
   {
    "duration": 16,
    "start_time": "2023-02-24T14:04:46.042Z"
   },
   {
    "duration": 43,
    "start_time": "2023-02-24T14:04:46.060Z"
   },
   {
    "duration": 940,
    "start_time": "2023-02-24T14:04:46.105Z"
   },
   {
    "duration": 5,
    "start_time": "2023-02-24T14:04:47.047Z"
   },
   {
    "duration": 20,
    "start_time": "2023-02-24T14:04:47.054Z"
   },
   {
    "duration": 20,
    "start_time": "2023-02-24T14:04:47.076Z"
   },
   {
    "duration": 21,
    "start_time": "2023-02-24T14:04:47.098Z"
   },
   {
    "duration": 6,
    "start_time": "2023-02-24T14:04:47.121Z"
   },
   {
    "duration": 6,
    "start_time": "2023-02-24T14:04:47.129Z"
   },
   {
    "duration": 9,
    "start_time": "2023-02-24T14:04:47.136Z"
   },
   {
    "duration": 7,
    "start_time": "2023-02-24T14:04:47.147Z"
   },
   {
    "duration": 45,
    "start_time": "2023-02-24T14:04:47.155Z"
   },
   {
    "duration": 38,
    "start_time": "2023-02-24T14:04:47.202Z"
   },
   {
    "duration": 8,
    "start_time": "2023-02-24T14:04:47.242Z"
   },
   {
    "duration": 13,
    "start_time": "2023-02-24T14:04:47.252Z"
   },
   {
    "duration": 12,
    "start_time": "2023-02-24T14:04:47.266Z"
   },
   {
    "duration": 39,
    "start_time": "2023-02-24T14:04:47.280Z"
   },
   {
    "duration": 4,
    "start_time": "2023-02-24T14:04:47.321Z"
   },
   {
    "duration": 240,
    "start_time": "2023-02-24T14:04:47.326Z"
   },
   {
    "duration": 4,
    "start_time": "2023-02-24T14:04:58.050Z"
   },
   {
    "duration": 64,
    "start_time": "2023-02-24T14:04:58.056Z"
   },
   {
    "duration": 11,
    "start_time": "2023-02-24T14:04:58.122Z"
   },
   {
    "duration": 20,
    "start_time": "2023-02-24T14:04:58.136Z"
   },
   {
    "duration": 35,
    "start_time": "2023-02-24T14:04:58.158Z"
   },
   {
    "duration": 28,
    "start_time": "2023-02-24T14:04:58.196Z"
   },
   {
    "duration": 787,
    "start_time": "2023-02-24T14:04:58.226Z"
   },
   {
    "duration": 5,
    "start_time": "2023-02-24T14:04:59.014Z"
   },
   {
    "duration": 19,
    "start_time": "2023-02-24T14:04:59.020Z"
   },
   {
    "duration": 6,
    "start_time": "2023-02-24T14:04:59.041Z"
   },
   {
    "duration": 11,
    "start_time": "2023-02-24T14:04:59.048Z"
   },
   {
    "duration": 31,
    "start_time": "2023-02-24T14:04:59.061Z"
   },
   {
    "duration": 4,
    "start_time": "2023-02-24T14:04:59.093Z"
   },
   {
    "duration": 18,
    "start_time": "2023-02-24T14:04:59.099Z"
   },
   {
    "duration": 6,
    "start_time": "2023-02-24T14:04:59.118Z"
   },
   {
    "duration": 32,
    "start_time": "2023-02-24T14:04:59.126Z"
   },
   {
    "duration": 37,
    "start_time": "2023-02-24T14:04:59.159Z"
   },
   {
    "duration": 11,
    "start_time": "2023-02-24T14:04:59.198Z"
   },
   {
    "duration": 10,
    "start_time": "2023-02-24T14:04:59.211Z"
   },
   {
    "duration": 7,
    "start_time": "2023-02-24T14:04:59.222Z"
   },
   {
    "duration": 18,
    "start_time": "2023-02-24T14:04:59.230Z"
   },
   {
    "duration": 4,
    "start_time": "2023-02-24T14:04:59.250Z"
   },
   {
    "duration": 261,
    "start_time": "2023-02-24T14:04:59.256Z"
   },
   {
    "duration": 29,
    "start_time": "2023-02-24T14:04:59.519Z"
   },
   {
    "duration": 15,
    "start_time": "2023-02-24T14:04:59.549Z"
   },
   {
    "duration": 1163,
    "start_time": "2023-02-24T14:04:59.566Z"
   },
   {
    "duration": 14,
    "start_time": "2023-02-24T14:06:16.482Z"
   },
   {
    "duration": 832,
    "start_time": "2023-02-24T14:07:05.605Z"
   },
   {
    "duration": 16,
    "start_time": "2023-02-24T14:10:06.429Z"
   },
   {
    "duration": 14,
    "start_time": "2023-02-24T14:10:12.942Z"
   },
   {
    "duration": 3,
    "start_time": "2023-02-24T14:10:40.963Z"
   },
   {
    "duration": 9,
    "start_time": "2023-02-24T14:11:03.954Z"
   },
   {
    "duration": 11,
    "start_time": "2023-02-24T14:11:12.220Z"
   },
   {
    "duration": 10,
    "start_time": "2023-02-24T14:14:01.963Z"
   },
   {
    "duration": 20,
    "start_time": "2023-02-24T14:14:09.899Z"
   },
   {
    "duration": 12,
    "start_time": "2023-02-24T14:14:17.442Z"
   },
   {
    "duration": 8,
    "start_time": "2023-02-24T14:14:26.444Z"
   },
   {
    "duration": 16,
    "start_time": "2023-02-24T14:14:43.402Z"
   },
   {
    "duration": 13,
    "start_time": "2023-02-24T14:14:50.810Z"
   },
   {
    "duration": 17,
    "start_time": "2023-02-24T14:17:13.785Z"
   },
   {
    "duration": 10,
    "start_time": "2023-02-24T14:18:15.745Z"
   },
   {
    "duration": 15,
    "start_time": "2023-02-24T14:18:36.313Z"
   },
   {
    "duration": 28,
    "start_time": "2023-02-24T14:18:45.879Z"
   },
   {
    "duration": 15,
    "start_time": "2023-02-24T14:19:08.112Z"
   },
   {
    "duration": 16,
    "start_time": "2023-02-24T14:20:45.670Z"
   },
   {
    "duration": 16,
    "start_time": "2023-02-24T14:25:10.210Z"
   },
   {
    "duration": 232,
    "start_time": "2023-02-24T14:31:10.623Z"
   },
   {
    "duration": 10,
    "start_time": "2023-02-24T15:50:33.550Z"
   },
   {
    "duration": 1535,
    "start_time": "2023-02-24T15:51:15.741Z"
   },
   {
    "duration": 30,
    "start_time": "2023-02-24T15:51:27.817Z"
   },
   {
    "duration": 20,
    "start_time": "2023-02-24T15:51:30.097Z"
   },
   {
    "duration": 1416,
    "start_time": "2023-02-24T15:51:39.178Z"
   },
   {
    "duration": 11,
    "start_time": "2023-02-24T15:51:46.158Z"
   },
   {
    "duration": 173,
    "start_time": "2023-02-24T15:51:54.842Z"
   },
   {
    "duration": 13,
    "start_time": "2023-02-24T15:52:23.573Z"
   },
   {
    "duration": 5,
    "start_time": "2023-02-24T15:52:34.418Z"
   },
   {
    "duration": 195,
    "start_time": "2023-02-24T15:53:27.360Z"
   },
   {
    "duration": 205,
    "start_time": "2023-02-24T15:53:43.441Z"
   },
   {
    "duration": 1374,
    "start_time": "2023-02-24T15:54:06.984Z"
   },
   {
    "duration": 205,
    "start_time": "2023-02-24T15:54:36.781Z"
   },
   {
    "duration": 184,
    "start_time": "2023-02-24T15:54:58.564Z"
   },
   {
    "duration": 208,
    "start_time": "2023-02-24T15:55:17.165Z"
   },
   {
    "duration": 173,
    "start_time": "2023-02-24T15:55:43.771Z"
   },
   {
    "duration": 233,
    "start_time": "2023-02-24T15:56:16.351Z"
   },
   {
    "duration": 191,
    "start_time": "2023-02-24T15:57:23.344Z"
   },
   {
    "duration": 193,
    "start_time": "2023-02-24T15:57:32.983Z"
   },
   {
    "duration": 196,
    "start_time": "2023-02-24T15:57:43.311Z"
   },
   {
    "duration": 226,
    "start_time": "2023-02-24T15:57:48.163Z"
   },
   {
    "duration": 13,
    "start_time": "2023-02-24T15:58:16.744Z"
   },
   {
    "duration": 9,
    "start_time": "2023-02-24T15:58:43.933Z"
   },
   {
    "duration": 8,
    "start_time": "2023-02-24T15:59:23.356Z"
   },
   {
    "duration": 7,
    "start_time": "2023-02-24T15:59:25.914Z"
   },
   {
    "duration": 155,
    "start_time": "2023-02-24T16:00:06.512Z"
   },
   {
    "duration": 16,
    "start_time": "2023-02-24T16:00:18.331Z"
   },
   {
    "duration": 87,
    "start_time": "2023-02-24T16:00:26.175Z"
   },
   {
    "duration": 33,
    "start_time": "2023-02-24T16:00:30.082Z"
   },
   {
    "duration": 3,
    "start_time": "2023-02-24T16:00:45.482Z"
   },
   {
    "duration": 3,
    "start_time": "2023-02-24T16:00:48.349Z"
   },
   {
    "duration": 4,
    "start_time": "2023-02-24T16:00:50.745Z"
   },
   {
    "duration": 3,
    "start_time": "2023-02-24T16:00:55.164Z"
   },
   {
    "duration": 6,
    "start_time": "2023-02-24T16:00:55.917Z"
   },
   {
    "duration": 15,
    "start_time": "2023-02-24T16:01:13.471Z"
   },
   {
    "duration": 154,
    "start_time": "2023-02-24T16:02:02.917Z"
   },
   {
    "duration": 162,
    "start_time": "2023-02-24T16:02:17.487Z"
   },
   {
    "duration": 165,
    "start_time": "2023-02-24T16:02:42.072Z"
   },
   {
    "duration": 11,
    "start_time": "2023-02-24T16:02:56.268Z"
   },
   {
    "duration": 4,
    "start_time": "2023-02-24T16:03:55.105Z"
   },
   {
    "duration": 69,
    "start_time": "2023-02-24T16:03:55.116Z"
   },
   {
    "duration": 29,
    "start_time": "2023-02-24T16:03:55.186Z"
   },
   {
    "duration": 32,
    "start_time": "2023-02-24T16:03:55.228Z"
   },
   {
    "duration": 18,
    "start_time": "2023-02-24T16:03:55.262Z"
   },
   {
    "duration": 42,
    "start_time": "2023-02-24T16:03:55.284Z"
   },
   {
    "duration": 927,
    "start_time": "2023-02-24T16:03:55.328Z"
   },
   {
    "duration": 6,
    "start_time": "2023-02-24T16:03:56.257Z"
   },
   {
    "duration": 39,
    "start_time": "2023-02-24T16:03:56.266Z"
   },
   {
    "duration": 31,
    "start_time": "2023-02-24T16:03:56.307Z"
   },
   {
    "duration": 12,
    "start_time": "2023-02-24T16:03:56.340Z"
   },
   {
    "duration": 13,
    "start_time": "2023-02-24T16:03:56.354Z"
   },
   {
    "duration": 6,
    "start_time": "2023-02-24T16:03:56.369Z"
   },
   {
    "duration": 8,
    "start_time": "2023-02-24T16:03:56.377Z"
   },
   {
    "duration": 16,
    "start_time": "2023-02-24T16:03:56.387Z"
   },
   {
    "duration": 44,
    "start_time": "2023-02-24T16:03:56.409Z"
   },
   {
    "duration": 33,
    "start_time": "2023-02-24T16:03:56.454Z"
   },
   {
    "duration": 15,
    "start_time": "2023-02-24T16:03:56.490Z"
   },
   {
    "duration": 31,
    "start_time": "2023-02-24T16:03:56.507Z"
   },
   {
    "duration": 8,
    "start_time": "2023-02-24T16:03:56.540Z"
   },
   {
    "duration": 25,
    "start_time": "2023-02-24T16:03:56.549Z"
   },
   {
    "duration": 6,
    "start_time": "2023-02-24T16:03:56.576Z"
   },
   {
    "duration": 260,
    "start_time": "2023-02-24T16:03:56.583Z"
   },
   {
    "duration": 10,
    "start_time": "2023-02-24T16:03:56.846Z"
   },
   {
    "duration": 14,
    "start_time": "2023-02-24T16:03:56.858Z"
   },
   {
    "duration": 1108,
    "start_time": "2023-02-24T16:03:56.874Z"
   },
   {
    "duration": 30,
    "start_time": "2023-02-24T16:03:57.984Z"
   },
   {
    "duration": 161,
    "start_time": "2023-02-24T16:03:58.019Z"
   },
   {
    "duration": 173,
    "start_time": "2023-02-24T16:04:15.113Z"
   },
   {
    "duration": 252,
    "start_time": "2023-02-24T16:06:35.631Z"
   },
   {
    "duration": 276,
    "start_time": "2023-02-24T16:06:50.474Z"
   },
   {
    "duration": 176,
    "start_time": "2023-02-24T16:07:17.087Z"
   },
   {
    "duration": 260,
    "start_time": "2023-02-24T16:07:25.271Z"
   },
   {
    "duration": 255,
    "start_time": "2023-02-24T16:08:06.917Z"
   },
   {
    "duration": 284,
    "start_time": "2023-02-24T16:08:53.022Z"
   },
   {
    "duration": 252,
    "start_time": "2023-02-24T16:09:09.773Z"
   },
   {
    "duration": 260,
    "start_time": "2023-02-24T16:09:12.986Z"
   },
   {
    "duration": 11,
    "start_time": "2023-02-24T16:10:00.828Z"
   },
   {
    "duration": 14,
    "start_time": "2023-02-24T16:10:06.663Z"
   },
   {
    "duration": 273,
    "start_time": "2023-02-24T16:10:12.493Z"
   },
   {
    "duration": 271,
    "start_time": "2023-02-24T16:11:29.352Z"
   },
   {
    "duration": 312,
    "start_time": "2023-02-24T16:11:38.027Z"
   },
   {
    "duration": 288,
    "start_time": "2023-02-24T16:11:43.317Z"
   },
   {
    "duration": 306,
    "start_time": "2023-02-24T16:11:51.835Z"
   },
   {
    "duration": 8,
    "start_time": "2023-02-24T16:17:10.942Z"
   },
   {
    "duration": 14,
    "start_time": "2023-02-24T16:17:24.224Z"
   },
   {
    "duration": 13,
    "start_time": "2023-02-24T16:17:53.318Z"
   },
   {
    "duration": 9,
    "start_time": "2023-02-24T16:18:24.032Z"
   },
   {
    "duration": 12,
    "start_time": "2023-02-24T16:18:29.490Z"
   },
   {
    "duration": 1433,
    "start_time": "2023-02-24T16:18:33.569Z"
   },
   {
    "duration": 169,
    "start_time": "2023-02-24T16:18:48.979Z"
   },
   {
    "duration": 11,
    "start_time": "2023-02-24T16:18:53.690Z"
   },
   {
    "duration": 8,
    "start_time": "2023-02-24T16:18:58.718Z"
   },
   {
    "duration": 162,
    "start_time": "2023-02-24T16:19:03.812Z"
   },
   {
    "duration": 12,
    "start_time": "2023-02-24T16:19:07.619Z"
   },
   {
    "duration": 12,
    "start_time": "2023-02-24T16:21:25.016Z"
   },
   {
    "duration": 5,
    "start_time": "2023-02-24T16:21:27.625Z"
   },
   {
    "duration": 5,
    "start_time": "2023-02-24T16:21:42.169Z"
   },
   {
    "duration": 17,
    "start_time": "2023-02-24T16:24:40.016Z"
   },
   {
    "duration": 37,
    "start_time": "2023-02-24T16:27:29.112Z"
   },
   {
    "duration": 24,
    "start_time": "2023-02-24T16:28:09.588Z"
   },
   {
    "duration": 45,
    "start_time": "2023-02-24T16:28:27.772Z"
   },
   {
    "duration": 8,
    "start_time": "2023-02-24T16:28:49.117Z"
   },
   {
    "duration": 42,
    "start_time": "2023-02-24T16:29:09.838Z"
   },
   {
    "duration": 19,
    "start_time": "2023-02-24T16:31:00.912Z"
   },
   {
    "duration": 12,
    "start_time": "2023-02-24T16:31:16.605Z"
   },
   {
    "duration": 12,
    "start_time": "2023-02-24T16:32:04.809Z"
   },
   {
    "duration": 10,
    "start_time": "2023-02-24T16:32:10.324Z"
   },
   {
    "duration": 4,
    "start_time": "2023-02-24T16:32:13.086Z"
   },
   {
    "duration": 12,
    "start_time": "2023-02-24T16:33:23.010Z"
   },
   {
    "duration": 3,
    "start_time": "2023-02-24T16:33:36.662Z"
   },
   {
    "duration": 8,
    "start_time": "2023-02-24T16:34:44.145Z"
   },
   {
    "duration": 10,
    "start_time": "2023-02-24T16:34:55.529Z"
   },
   {
    "duration": 15,
    "start_time": "2023-02-24T16:35:12.818Z"
   },
   {
    "duration": 16,
    "start_time": "2023-02-24T16:35:15.685Z"
   },
   {
    "duration": 4,
    "start_time": "2023-02-24T16:36:21.845Z"
   },
   {
    "duration": 20,
    "start_time": "2023-02-24T16:36:33.089Z"
   },
   {
    "duration": 14,
    "start_time": "2023-02-24T16:36:39.185Z"
   },
   {
    "duration": 4,
    "start_time": "2023-02-24T16:36:43.753Z"
   },
   {
    "duration": 8,
    "start_time": "2023-02-24T16:36:46.121Z"
   },
   {
    "duration": 7,
    "start_time": "2023-02-24T16:37:58.773Z"
   },
   {
    "duration": 12,
    "start_time": "2023-02-24T16:39:46.094Z"
   },
   {
    "duration": 7,
    "start_time": "2023-02-24T16:43:42.817Z"
   },
   {
    "duration": 5,
    "start_time": "2023-02-24T16:52:50.061Z"
   },
   {
    "duration": 4,
    "start_time": "2023-02-24T16:53:05.941Z"
   },
   {
    "duration": 40,
    "start_time": "2023-02-24T16:56:39.719Z"
   },
   {
    "duration": 84,
    "start_time": "2023-02-24T16:56:46.503Z"
   },
   {
    "duration": 48,
    "start_time": "2023-02-24T16:56:54.414Z"
   },
   {
    "duration": 21,
    "start_time": "2023-02-24T16:57:09.717Z"
   },
   {
    "duration": 18,
    "start_time": "2023-02-24T16:57:21.921Z"
   },
   {
    "duration": 11,
    "start_time": "2023-02-24T16:57:40.409Z"
   },
   {
    "duration": 6,
    "start_time": "2023-02-24T16:57:48.356Z"
   },
   {
    "duration": 7,
    "start_time": "2023-02-24T16:58:04.624Z"
   },
   {
    "duration": 6,
    "start_time": "2023-02-24T16:58:09.141Z"
   },
   {
    "duration": 8,
    "start_time": "2023-02-24T16:58:59.727Z"
   },
   {
    "duration": 6,
    "start_time": "2023-02-24T16:59:07.359Z"
   },
   {
    "duration": 5,
    "start_time": "2023-02-24T16:59:09.632Z"
   },
   {
    "duration": 15,
    "start_time": "2023-02-24T16:59:25.018Z"
   },
   {
    "duration": 9,
    "start_time": "2023-02-24T17:03:27.118Z"
   },
   {
    "duration": 5,
    "start_time": "2023-02-24T17:04:25.724Z"
   },
   {
    "duration": 11,
    "start_time": "2023-02-24T17:14:18.778Z"
   },
   {
    "duration": 19,
    "start_time": "2023-02-24T17:14:19.538Z"
   },
   {
    "duration": 2594,
    "start_time": "2023-02-24T17:14:19.988Z"
   },
   {
    "duration": 3,
    "start_time": "2023-02-24T17:14:38.573Z"
   },
   {
    "duration": 97,
    "start_time": "2023-02-24T17:14:38.578Z"
   },
   {
    "duration": 13,
    "start_time": "2023-02-24T17:14:38.676Z"
   },
   {
    "duration": 44,
    "start_time": "2023-02-24T17:14:38.690Z"
   },
   {
    "duration": 21,
    "start_time": "2023-02-24T17:14:38.737Z"
   },
   {
    "duration": 28,
    "start_time": "2023-02-24T17:14:38.760Z"
   },
   {
    "duration": 898,
    "start_time": "2023-02-24T17:14:38.790Z"
   },
   {
    "duration": 12,
    "start_time": "2023-02-24T17:14:39.694Z"
   },
   {
    "duration": 46,
    "start_time": "2023-02-24T17:14:39.711Z"
   },
   {
    "duration": 11,
    "start_time": "2023-02-24T17:14:39.759Z"
   },
   {
    "duration": 11,
    "start_time": "2023-02-24T17:14:39.772Z"
   },
   {
    "duration": 10,
    "start_time": "2023-02-24T17:14:39.785Z"
   },
   {
    "duration": 23,
    "start_time": "2023-02-24T17:14:39.806Z"
   },
   {
    "duration": 15,
    "start_time": "2023-02-24T17:14:39.832Z"
   },
   {
    "duration": 9,
    "start_time": "2023-02-24T17:14:39.848Z"
   },
   {
    "duration": 29,
    "start_time": "2023-02-24T17:14:39.858Z"
   },
   {
    "duration": 37,
    "start_time": "2023-02-24T17:14:39.888Z"
   },
   {
    "duration": 26,
    "start_time": "2023-02-24T17:14:39.927Z"
   },
   {
    "duration": 8,
    "start_time": "2023-02-24T17:14:39.955Z"
   },
   {
    "duration": 14,
    "start_time": "2023-02-24T17:14:39.964Z"
   },
   {
    "duration": 17,
    "start_time": "2023-02-24T17:14:39.980Z"
   },
   {
    "duration": 47,
    "start_time": "2023-02-24T17:14:40.000Z"
   },
   {
    "duration": 281,
    "start_time": "2023-02-24T17:14:40.048Z"
   },
   {
    "duration": 21,
    "start_time": "2023-02-24T17:14:40.331Z"
   },
   {
    "duration": 18,
    "start_time": "2023-02-24T17:14:40.354Z"
   },
   {
    "duration": 880,
    "start_time": "2023-02-24T17:14:40.374Z"
   },
   {
    "duration": 14,
    "start_time": "2023-02-24T17:14:41.256Z"
   },
   {
    "duration": 6,
    "start_time": "2023-02-24T17:14:41.272Z"
   },
   {
    "duration": 53,
    "start_time": "2023-02-24T17:14:41.280Z"
   },
   {
    "duration": 5,
    "start_time": "2023-02-24T17:14:41.338Z"
   },
   {
    "duration": 5,
    "start_time": "2023-02-24T17:14:41.345Z"
   },
   {
    "duration": 22,
    "start_time": "2023-02-24T17:15:06.309Z"
   },
   {
    "duration": 14,
    "start_time": "2023-02-24T17:16:05.619Z"
   },
   {
    "duration": 70,
    "start_time": "2023-02-24T17:17:07.018Z"
   },
   {
    "duration": 33,
    "start_time": "2023-02-24T17:17:36.244Z"
   },
   {
    "duration": 32,
    "start_time": "2023-02-24T17:19:22.114Z"
   },
   {
    "duration": 8,
    "start_time": "2023-02-24T17:30:51.590Z"
   },
   {
    "duration": 4,
    "start_time": "2023-02-24T17:30:57.192Z"
   },
   {
    "duration": 54949,
    "start_time": "2023-02-24T17:33:02.357Z"
   },
   {
    "duration": 16,
    "start_time": "2023-02-24T17:35:57.181Z"
   },
   {
    "duration": 12,
    "start_time": "2023-02-24T17:36:01.425Z"
   },
   {
    "duration": 29,
    "start_time": "2023-02-24T17:37:26.720Z"
   },
   {
    "duration": 289,
    "start_time": "2023-02-24T17:37:44.756Z"
   },
   {
    "duration": 278,
    "start_time": "2023-02-24T17:38:07.973Z"
   },
   {
    "duration": 22,
    "start_time": "2023-02-24T17:38:29.228Z"
   },
   {
    "duration": 402,
    "start_time": "2023-02-24T17:38:36.170Z"
   },
   {
    "duration": 358,
    "start_time": "2023-02-24T17:38:49.587Z"
   },
   {
    "duration": 334,
    "start_time": "2023-02-24T17:40:16.623Z"
   },
   {
    "duration": 341,
    "start_time": "2023-02-24T17:40:29.328Z"
   },
   {
    "duration": 348,
    "start_time": "2023-02-24T17:41:04.192Z"
   },
   {
    "duration": 333,
    "start_time": "2023-02-24T17:41:08.821Z"
   },
   {
    "duration": 353,
    "start_time": "2023-02-24T17:41:17.285Z"
   },
   {
    "duration": 341,
    "start_time": "2023-02-24T17:41:23.454Z"
   },
   {
    "duration": 370,
    "start_time": "2023-02-24T17:41:32.976Z"
   },
   {
    "duration": 349,
    "start_time": "2023-02-24T17:43:46.786Z"
   },
   {
    "duration": 5,
    "start_time": "2023-02-24T17:44:21.677Z"
   },
   {
    "duration": 358,
    "start_time": "2023-02-24T17:44:23.256Z"
   },
   {
    "duration": 385,
    "start_time": "2023-02-24T17:45:01.187Z"
   },
   {
    "duration": 385,
    "start_time": "2023-02-24T17:46:56.503Z"
   },
   {
    "duration": 353,
    "start_time": "2023-02-24T17:47:05.531Z"
   },
   {
    "duration": 7,
    "start_time": "2023-02-24T17:47:20.657Z"
   },
   {
    "duration": 353,
    "start_time": "2023-02-24T17:47:23.489Z"
   },
   {
    "duration": 362,
    "start_time": "2023-02-24T17:47:28.721Z"
   },
   {
    "duration": 5,
    "start_time": "2023-02-24T17:51:02.079Z"
   },
   {
    "duration": 352,
    "start_time": "2023-02-24T17:51:08.373Z"
   },
   {
    "duration": 12,
    "start_time": "2023-02-24T18:04:29.413Z"
   },
   {
    "duration": 4,
    "start_time": "2023-02-24T18:05:09.876Z"
   },
   {
    "duration": 23,
    "start_time": "2023-02-24T18:05:26.286Z"
   },
   {
    "duration": 8,
    "start_time": "2023-02-24T18:05:50.576Z"
   },
   {
    "duration": 11,
    "start_time": "2023-02-24T18:06:16.636Z"
   },
   {
    "duration": 361,
    "start_time": "2023-02-24T18:06:25.278Z"
   },
   {
    "duration": 3,
    "start_time": "2023-02-24T18:06:47.572Z"
   },
   {
    "duration": 99,
    "start_time": "2023-02-24T18:06:47.578Z"
   },
   {
    "duration": 20,
    "start_time": "2023-02-24T18:06:47.679Z"
   },
   {
    "duration": 43,
    "start_time": "2023-02-24T18:06:47.711Z"
   },
   {
    "duration": 13,
    "start_time": "2023-02-24T18:06:47.756Z"
   },
   {
    "duration": 41,
    "start_time": "2023-02-24T18:06:47.771Z"
   },
   {
    "duration": 843,
    "start_time": "2023-02-24T18:06:47.816Z"
   },
   {
    "duration": 5,
    "start_time": "2023-02-24T18:06:48.660Z"
   },
   {
    "duration": 32,
    "start_time": "2023-02-24T18:06:48.666Z"
   },
   {
    "duration": 8,
    "start_time": "2023-02-24T18:06:48.700Z"
   },
   {
    "duration": 14,
    "start_time": "2023-02-24T18:06:48.719Z"
   },
   {
    "duration": 6,
    "start_time": "2023-02-24T18:06:48.735Z"
   },
   {
    "duration": 12,
    "start_time": "2023-02-24T18:06:48.743Z"
   },
   {
    "duration": 10,
    "start_time": "2023-02-24T18:06:48.759Z"
   },
   {
    "duration": 50,
    "start_time": "2023-02-24T18:06:48.771Z"
   },
   {
    "duration": 31,
    "start_time": "2023-02-24T18:06:48.822Z"
   },
   {
    "duration": 28,
    "start_time": "2023-02-24T18:06:48.854Z"
   },
   {
    "duration": 7,
    "start_time": "2023-02-24T18:06:48.884Z"
   },
   {
    "duration": 31,
    "start_time": "2023-02-24T18:06:48.896Z"
   },
   {
    "duration": 6,
    "start_time": "2023-02-24T18:06:48.929Z"
   },
   {
    "duration": 15,
    "start_time": "2023-02-24T18:06:48.936Z"
   },
   {
    "duration": 4,
    "start_time": "2023-02-24T18:06:48.952Z"
   },
   {
    "duration": 246,
    "start_time": "2023-02-24T18:06:48.958Z"
   },
   {
    "duration": 14,
    "start_time": "2023-02-24T18:06:49.207Z"
   },
   {
    "duration": 16,
    "start_time": "2023-02-24T18:06:49.222Z"
   },
   {
    "duration": 802,
    "start_time": "2023-02-24T18:06:49.240Z"
   },
   {
    "duration": 16,
    "start_time": "2023-02-24T18:06:50.044Z"
   },
   {
    "duration": 7,
    "start_time": "2023-02-24T18:06:50.061Z"
   },
   {
    "duration": 37,
    "start_time": "2023-02-24T18:06:50.070Z"
   },
   {
    "duration": 32,
    "start_time": "2023-02-24T18:06:50.110Z"
   },
   {
    "duration": 17,
    "start_time": "2023-02-24T18:06:50.144Z"
   },
   {
    "duration": 12,
    "start_time": "2023-02-24T18:06:50.162Z"
   },
   {
    "duration": 374,
    "start_time": "2023-02-24T18:06:50.176Z"
   },
   {
    "duration": 5,
    "start_time": "2023-02-24T18:06:50.551Z"
   },
   {
    "duration": 365,
    "start_time": "2023-02-24T18:07:27.442Z"
   },
   {
    "duration": 364,
    "start_time": "2023-02-24T18:07:38.755Z"
   },
   {
    "duration": 375,
    "start_time": "2023-02-24T18:11:56.964Z"
   },
   {
    "duration": 1074,
    "start_time": "2023-02-24T18:12:32.370Z"
   },
   {
    "duration": 24,
    "start_time": "2023-02-24T18:12:53.220Z"
   },
   {
    "duration": 16,
    "start_time": "2023-02-24T18:13:19.841Z"
   },
   {
    "duration": 16,
    "start_time": "2023-02-24T18:13:30.622Z"
   },
   {
    "duration": 22,
    "start_time": "2023-02-24T18:13:53.169Z"
   },
   {
    "duration": 3,
    "start_time": "2023-02-24T18:15:00.973Z"
   },
   {
    "duration": 149,
    "start_time": "2023-02-24T18:15:00.978Z"
   },
   {
    "duration": 71,
    "start_time": "2023-02-24T18:15:01.129Z"
   },
   {
    "duration": 117,
    "start_time": "2023-02-24T18:15:01.206Z"
   },
   {
    "duration": 62,
    "start_time": "2023-02-24T18:15:01.334Z"
   },
   {
    "duration": 221,
    "start_time": "2023-02-24T18:15:01.398Z"
   },
   {
    "duration": 1054,
    "start_time": "2023-02-24T18:15:01.624Z"
   },
   {
    "duration": 30,
    "start_time": "2023-02-24T18:15:02.680Z"
   },
   {
    "duration": 51,
    "start_time": "2023-02-24T18:15:02.711Z"
   },
   {
    "duration": 31,
    "start_time": "2023-02-24T18:15:02.763Z"
   },
   {
    "duration": 49,
    "start_time": "2023-02-24T18:15:02.796Z"
   },
   {
    "duration": 7,
    "start_time": "2023-02-24T18:15:02.846Z"
   },
   {
    "duration": 19,
    "start_time": "2023-02-24T18:15:02.855Z"
   },
   {
    "duration": 61,
    "start_time": "2023-02-24T18:15:02.878Z"
   },
   {
    "duration": 20,
    "start_time": "2023-02-24T18:15:02.942Z"
   },
   {
    "duration": 105,
    "start_time": "2023-02-24T18:15:02.965Z"
   },
   {
    "duration": 47,
    "start_time": "2023-02-24T18:15:03.073Z"
   },
   {
    "duration": 45,
    "start_time": "2023-02-24T18:15:03.123Z"
   },
   {
    "duration": 82,
    "start_time": "2023-02-24T18:15:03.170Z"
   },
   {
    "duration": 22,
    "start_time": "2023-02-24T18:15:03.255Z"
   },
   {
    "duration": 38,
    "start_time": "2023-02-24T18:15:03.279Z"
   },
   {
    "duration": 41,
    "start_time": "2023-02-24T18:15:03.319Z"
   },
   {
    "duration": 309,
    "start_time": "2023-02-24T18:15:03.363Z"
   },
   {
    "duration": 24,
    "start_time": "2023-02-24T18:15:03.674Z"
   },
   {
    "duration": 21,
    "start_time": "2023-02-24T18:15:03.701Z"
   },
   {
    "duration": 997,
    "start_time": "2023-02-24T18:15:03.723Z"
   },
   {
    "duration": 19,
    "start_time": "2023-02-24T18:15:04.722Z"
   },
   {
    "duration": 23,
    "start_time": "2023-02-24T18:15:04.747Z"
   },
   {
    "duration": 61,
    "start_time": "2023-02-24T18:15:04.774Z"
   },
   {
    "duration": 117,
    "start_time": "2023-02-24T18:15:04.836Z"
   },
   {
    "duration": 8,
    "start_time": "2023-02-24T18:15:04.955Z"
   },
   {
    "duration": 7,
    "start_time": "2023-02-24T18:15:04.967Z"
   },
   {
    "duration": 3,
    "start_time": "2023-02-24T18:15:04.976Z"
   },
   {
    "duration": 60,
    "start_time": "2023-02-24T18:15:04.981Z"
   },
   {
    "duration": 352,
    "start_time": "2023-02-24T18:15:12.126Z"
   },
   {
    "duration": 11,
    "start_time": "2023-02-24T18:18:56.451Z"
   },
   {
    "duration": 334,
    "start_time": "2023-02-24T18:19:04.014Z"
   },
   {
    "duration": 353,
    "start_time": "2023-02-24T18:38:09.926Z"
   },
   {
    "duration": 220,
    "start_time": "2023-02-24T18:38:21.860Z"
   },
   {
    "duration": 338,
    "start_time": "2023-02-24T18:38:27.016Z"
   },
   {
    "duration": 51,
    "start_time": "2023-02-25T10:13:45.665Z"
   },
   {
    "duration": 1471,
    "start_time": "2023-02-25T10:13:50.028Z"
   },
   {
    "duration": 236,
    "start_time": "2023-02-25T10:13:51.502Z"
   },
   {
    "duration": 27,
    "start_time": "2023-02-25T10:13:51.741Z"
   },
   {
    "duration": 38,
    "start_time": "2023-02-25T10:13:51.772Z"
   },
   {
    "duration": 37,
    "start_time": "2023-02-25T10:13:51.812Z"
   },
   {
    "duration": 36,
    "start_time": "2023-02-25T10:13:51.851Z"
   },
   {
    "duration": 914,
    "start_time": "2023-02-25T10:13:51.888Z"
   },
   {
    "duration": 5,
    "start_time": "2023-02-25T10:13:52.805Z"
   },
   {
    "duration": 43,
    "start_time": "2023-02-25T10:13:52.812Z"
   },
   {
    "duration": 18,
    "start_time": "2023-02-25T10:13:52.858Z"
   },
   {
    "duration": 13,
    "start_time": "2023-02-25T10:13:52.878Z"
   },
   {
    "duration": 9,
    "start_time": "2023-02-25T10:13:52.894Z"
   },
   {
    "duration": 10,
    "start_time": "2023-02-25T10:13:52.905Z"
   },
   {
    "duration": 34,
    "start_time": "2023-02-25T10:13:52.918Z"
   },
   {
    "duration": 6,
    "start_time": "2023-02-25T10:13:52.954Z"
   },
   {
    "duration": 55,
    "start_time": "2023-02-25T10:13:52.962Z"
   },
   {
    "duration": 79,
    "start_time": "2023-02-25T10:13:53.020Z"
   },
   {
    "duration": 13,
    "start_time": "2023-02-25T10:13:53.101Z"
   },
   {
    "duration": 29,
    "start_time": "2023-02-25T10:13:53.116Z"
   },
   {
    "duration": 7,
    "start_time": "2023-02-25T10:13:53.147Z"
   },
   {
    "duration": 28,
    "start_time": "2023-02-25T10:13:53.156Z"
   },
   {
    "duration": 6,
    "start_time": "2023-02-25T10:13:53.188Z"
   },
   {
    "duration": 332,
    "start_time": "2023-02-25T10:13:53.197Z"
   },
   {
    "duration": 17,
    "start_time": "2023-02-25T10:13:53.531Z"
   },
   {
    "duration": 14,
    "start_time": "2023-02-25T10:13:53.550Z"
   },
   {
    "duration": 867,
    "start_time": "2023-02-25T10:13:53.565Z"
   },
   {
    "duration": 22,
    "start_time": "2023-02-25T10:13:54.434Z"
   },
   {
    "duration": 25,
    "start_time": "2023-02-25T10:13:54.459Z"
   },
   {
    "duration": 14,
    "start_time": "2023-02-25T10:13:54.486Z"
   },
   {
    "duration": 6,
    "start_time": "2023-02-25T10:13:54.503Z"
   },
   {
    "duration": 36,
    "start_time": "2023-02-25T10:13:54.511Z"
   },
   {
    "duration": 6,
    "start_time": "2023-02-25T10:13:54.548Z"
   },
   {
    "duration": 398,
    "start_time": "2023-02-25T10:13:54.555Z"
   },
   {
    "duration": 7,
    "start_time": "2023-02-25T10:13:54.955Z"
   },
   {
    "duration": 11,
    "start_time": "2023-02-25T10:14:16.470Z"
   },
   {
    "duration": 5,
    "start_time": "2023-02-25T10:14:42.937Z"
   },
   {
    "duration": 6,
    "start_time": "2023-02-25T10:14:48.528Z"
   },
   {
    "duration": 5,
    "start_time": "2023-02-25T10:14:57.124Z"
   },
   {
    "duration": 6,
    "start_time": "2023-02-25T10:15:02.137Z"
   },
   {
    "duration": 6,
    "start_time": "2023-02-25T10:15:14.033Z"
   },
   {
    "duration": 5,
    "start_time": "2023-02-25T10:15:30.974Z"
   },
   {
    "duration": 6,
    "start_time": "2023-02-25T10:15:50.271Z"
   },
   {
    "duration": 10,
    "start_time": "2023-02-25T10:16:01.416Z"
   },
   {
    "duration": 60,
    "start_time": "2023-02-25T10:17:07.332Z"
   },
   {
    "duration": 71,
    "start_time": "2023-02-25T10:17:29.962Z"
   },
   {
    "duration": 1700,
    "start_time": "2023-02-25T10:18:32.676Z"
   },
   {
    "duration": 72,
    "start_time": "2023-02-25T10:18:48.079Z"
   },
   {
    "duration": 15,
    "start_time": "2023-02-25T10:18:55.663Z"
   },
   {
    "duration": 77,
    "start_time": "2023-02-25T10:19:04.467Z"
   },
   {
    "duration": 28,
    "start_time": "2023-02-25T10:20:36.629Z"
   },
   {
    "duration": 27,
    "start_time": "2023-02-25T10:22:06.578Z"
   },
   {
    "duration": 23,
    "start_time": "2023-02-25T10:24:46.371Z"
   },
   {
    "duration": 23,
    "start_time": "2023-02-25T10:25:09.593Z"
   },
   {
    "duration": 38,
    "start_time": "2023-02-25T10:25:50.355Z"
   },
   {
    "duration": 48,
    "start_time": "2023-02-26T09:42:59.358Z"
   },
   {
    "duration": 1322,
    "start_time": "2023-02-26T09:43:02.860Z"
   },
   {
    "duration": 112,
    "start_time": "2023-02-26T09:43:04.184Z"
   },
   {
    "duration": 15,
    "start_time": "2023-02-26T09:43:04.298Z"
   },
   {
    "duration": 42,
    "start_time": "2023-02-26T09:43:04.315Z"
   },
   {
    "duration": 49,
    "start_time": "2023-02-26T09:43:04.359Z"
   },
   {
    "duration": 42,
    "start_time": "2023-02-26T09:43:04.410Z"
   },
   {
    "duration": 788,
    "start_time": "2023-02-26T09:43:04.454Z"
   },
   {
    "duration": 9,
    "start_time": "2023-02-26T09:43:05.244Z"
   },
   {
    "duration": 35,
    "start_time": "2023-02-26T09:43:05.255Z"
   },
   {
    "duration": 26,
    "start_time": "2023-02-26T09:43:05.293Z"
   },
   {
    "duration": 36,
    "start_time": "2023-02-26T09:43:05.321Z"
   },
   {
    "duration": 32,
    "start_time": "2023-02-26T09:43:05.359Z"
   },
   {
    "duration": 22,
    "start_time": "2023-02-26T09:43:05.393Z"
   },
   {
    "duration": 39,
    "start_time": "2023-02-26T09:43:05.417Z"
   },
   {
    "duration": 15,
    "start_time": "2023-02-26T09:43:05.458Z"
   },
   {
    "duration": 42,
    "start_time": "2023-02-26T09:43:05.475Z"
   },
   {
    "duration": 38,
    "start_time": "2023-02-26T09:43:05.519Z"
   },
   {
    "duration": 9,
    "start_time": "2023-02-26T09:43:05.560Z"
   },
   {
    "duration": 51,
    "start_time": "2023-02-26T09:43:05.571Z"
   },
   {
    "duration": 29,
    "start_time": "2023-02-26T09:43:05.624Z"
   },
   {
    "duration": 33,
    "start_time": "2023-02-26T09:43:05.655Z"
   },
   {
    "duration": 64,
    "start_time": "2023-02-26T09:43:05.691Z"
   },
   {
    "duration": 287,
    "start_time": "2023-02-26T09:43:05.757Z"
   },
   {
    "duration": 16,
    "start_time": "2023-02-26T09:43:06.047Z"
   },
   {
    "duration": 42,
    "start_time": "2023-02-26T09:43:06.065Z"
   },
   {
    "duration": 895,
    "start_time": "2023-02-26T09:43:06.110Z"
   },
   {
    "duration": 15,
    "start_time": "2023-02-26T09:43:07.006Z"
   },
   {
    "duration": 41,
    "start_time": "2023-02-26T09:43:07.025Z"
   },
   {
    "duration": 27,
    "start_time": "2023-02-26T09:43:07.068Z"
   },
   {
    "duration": 22,
    "start_time": "2023-02-26T09:43:07.097Z"
   },
   {
    "duration": 21,
    "start_time": "2023-02-26T09:43:07.121Z"
   },
   {
    "duration": 43,
    "start_time": "2023-02-26T09:43:07.144Z"
   },
   {
    "duration": 425,
    "start_time": "2023-02-26T09:43:07.189Z"
   },
   {
    "duration": 288,
    "start_time": "2023-02-26T09:43:07.617Z"
   },
   {
    "duration": 159,
    "start_time": "2023-02-26T09:43:21.548Z"
   },
   {
    "duration": 23,
    "start_time": "2023-02-26T09:43:33.219Z"
   },
   {
    "duration": 267,
    "start_time": "2023-02-26T09:44:04.815Z"
   },
   {
    "duration": 242,
    "start_time": "2023-02-26T09:46:06.762Z"
   },
   {
    "duration": 256,
    "start_time": "2023-02-26T09:46:56.497Z"
   },
   {
    "duration": 367,
    "start_time": "2023-02-26T09:47:20.386Z"
   },
   {
    "duration": 267,
    "start_time": "2023-02-26T09:47:28.222Z"
   },
   {
    "duration": 305,
    "start_time": "2023-02-26T09:47:32.207Z"
   },
   {
    "duration": 367,
    "start_time": "2023-02-26T09:57:46.617Z"
   },
   {
    "duration": 331,
    "start_time": "2023-02-26T09:57:55.458Z"
   },
   {
    "duration": 209,
    "start_time": "2023-02-26T09:58:25.477Z"
   },
   {
    "duration": 399,
    "start_time": "2023-02-26T09:58:34.279Z"
   },
   {
    "duration": 305,
    "start_time": "2023-02-26T09:59:48.359Z"
   },
   {
    "duration": 300,
    "start_time": "2023-02-26T10:00:17.673Z"
   },
   {
    "duration": 338,
    "start_time": "2023-02-26T10:00:32.452Z"
   },
   {
    "duration": 338,
    "start_time": "2023-02-26T10:01:56.482Z"
   },
   {
    "duration": 321,
    "start_time": "2023-02-26T10:03:10.661Z"
   },
   {
    "duration": 458,
    "start_time": "2023-02-26T10:03:26.915Z"
   },
   {
    "duration": 322,
    "start_time": "2023-02-26T10:04:42.231Z"
   },
   {
    "duration": 339,
    "start_time": "2023-02-26T10:05:00.361Z"
   },
   {
    "duration": 320,
    "start_time": "2023-02-26T10:05:30.859Z"
   },
   {
    "duration": 338,
    "start_time": "2023-02-26T10:07:48.864Z"
   },
   {
    "duration": 7,
    "start_time": "2023-02-26T10:15:14.038Z"
   },
   {
    "duration": 9,
    "start_time": "2023-02-26T10:15:57.356Z"
   },
   {
    "duration": 7,
    "start_time": "2023-02-26T10:16:18.650Z"
   },
   {
    "duration": 8,
    "start_time": "2023-02-26T10:16:26.087Z"
   },
   {
    "duration": 37,
    "start_time": "2023-02-26T10:17:05.360Z"
   },
   {
    "duration": 39,
    "start_time": "2023-02-26T10:17:51.110Z"
   },
   {
    "duration": 38,
    "start_time": "2023-02-26T10:18:02.564Z"
   },
   {
    "duration": 10,
    "start_time": "2023-02-26T10:24:04.977Z"
   },
   {
    "duration": 14,
    "start_time": "2023-02-26T10:24:49.221Z"
   },
   {
    "duration": 17,
    "start_time": "2023-02-26T10:25:31.327Z"
   },
   {
    "duration": 306,
    "start_time": "2023-02-26T10:44:14.689Z"
   },
   {
    "duration": 439,
    "start_time": "2023-02-26T10:48:42.052Z"
   },
   {
    "duration": 19,
    "start_time": "2023-02-26T10:57:22.257Z"
   },
   {
    "duration": 21,
    "start_time": "2023-02-26T10:57:29.181Z"
   },
   {
    "duration": 24,
    "start_time": "2023-02-26T10:57:42.860Z"
   },
   {
    "duration": 20,
    "start_time": "2023-02-26T10:57:47.869Z"
   },
   {
    "duration": 7,
    "start_time": "2023-02-26T10:59:01.846Z"
   },
   {
    "duration": 18,
    "start_time": "2023-02-26T10:59:06.978Z"
   },
   {
    "duration": 15,
    "start_time": "2023-02-26T10:59:17.134Z"
   },
   {
    "duration": 324,
    "start_time": "2023-02-26T10:59:33.436Z"
   },
   {
    "duration": 323,
    "start_time": "2023-02-26T10:59:43.132Z"
   },
   {
    "duration": 309,
    "start_time": "2023-02-26T10:59:49.421Z"
   },
   {
    "duration": 288,
    "start_time": "2023-02-26T11:00:36.286Z"
   },
   {
    "duration": 263,
    "start_time": "2023-02-26T11:00:51.270Z"
   },
   {
    "duration": 163,
    "start_time": "2023-02-26T11:03:22.283Z"
   },
   {
    "duration": 170,
    "start_time": "2023-02-26T11:03:33.768Z"
   },
   {
    "duration": 163,
    "start_time": "2023-02-26T11:03:48.665Z"
   },
   {
    "duration": 216,
    "start_time": "2023-02-26T11:05:19.387Z"
   },
   {
    "duration": 201,
    "start_time": "2023-02-26T11:05:35.195Z"
   },
   {
    "duration": 56,
    "start_time": "2023-02-26T11:14:44.261Z"
   },
   {
    "duration": 308,
    "start_time": "2023-02-26T11:14:55.257Z"
   },
   {
    "duration": 265,
    "start_time": "2023-02-26T11:15:18.847Z"
   },
   {
    "duration": 255,
    "start_time": "2023-02-26T11:15:41.164Z"
   },
   {
    "duration": 280,
    "start_time": "2023-02-26T11:15:52.905Z"
   },
   {
    "duration": 388,
    "start_time": "2023-02-26T11:16:06.475Z"
   },
   {
    "duration": 276,
    "start_time": "2023-02-26T11:20:19.636Z"
   },
   {
    "duration": 286,
    "start_time": "2023-02-26T11:20:57.616Z"
   },
   {
    "duration": 319,
    "start_time": "2023-02-26T11:22:49.734Z"
   },
   {
    "duration": 285,
    "start_time": "2023-02-26T11:23:06.248Z"
   },
   {
    "duration": 79,
    "start_time": "2023-02-26T11:24:09.668Z"
   },
   {
    "duration": 64,
    "start_time": "2023-02-26T11:24:43.206Z"
   },
   {
    "duration": 293,
    "start_time": "2023-02-26T11:27:05.432Z"
   },
   {
    "duration": 278,
    "start_time": "2023-02-26T11:27:29.907Z"
   },
   {
    "duration": 388,
    "start_time": "2023-02-26T11:27:36.586Z"
   },
   {
    "duration": 324,
    "start_time": "2023-02-26T11:27:44.455Z"
   },
   {
    "duration": 343,
    "start_time": "2023-02-26T11:28:40.879Z"
   },
   {
    "duration": 341,
    "start_time": "2023-02-26T11:28:55.107Z"
   },
   {
    "duration": 517,
    "start_time": "2023-02-26T11:30:06.607Z"
   },
   {
    "duration": 365,
    "start_time": "2023-02-26T11:30:14.257Z"
   },
   {
    "duration": 369,
    "start_time": "2023-02-26T11:31:09.640Z"
   },
   {
    "duration": 385,
    "start_time": "2023-02-26T11:31:13.331Z"
   },
   {
    "duration": 367,
    "start_time": "2023-02-26T11:31:16.896Z"
   },
   {
    "duration": 341,
    "start_time": "2023-02-26T11:31:23.793Z"
   },
   {
    "duration": 26,
    "start_time": "2023-02-26T11:33:01.404Z"
   },
   {
    "duration": 349,
    "start_time": "2023-02-26T11:36:53.664Z"
   },
   {
    "duration": 342,
    "start_time": "2023-02-26T11:36:59.786Z"
   },
   {
    "duration": 359,
    "start_time": "2023-02-26T11:37:04.919Z"
   },
   {
    "duration": 325,
    "start_time": "2023-02-26T11:37:09.171Z"
   },
   {
    "duration": 366,
    "start_time": "2023-02-26T11:37:17.002Z"
   },
   {
    "duration": 474,
    "start_time": "2023-02-26T11:37:21.395Z"
   },
   {
    "duration": 382,
    "start_time": "2023-02-26T11:37:29.211Z"
   },
   {
    "duration": 390,
    "start_time": "2023-02-26T11:37:39.397Z"
   },
   {
    "duration": 6,
    "start_time": "2023-02-26T12:24:24.536Z"
   },
   {
    "duration": 6,
    "start_time": "2023-02-26T12:24:33.471Z"
   },
   {
    "duration": 33,
    "start_time": "2023-02-26T13:07:41.716Z"
   },
   {
    "duration": 318,
    "start_time": "2023-02-26T13:07:49.465Z"
   },
   {
    "duration": 495,
    "start_time": "2023-02-26T13:10:49.431Z"
   },
   {
    "duration": 402,
    "start_time": "2023-02-26T13:11:06.719Z"
   },
   {
    "duration": 441,
    "start_time": "2023-02-26T13:11:21.334Z"
   },
   {
    "duration": 4,
    "start_time": "2023-02-26T13:13:02.765Z"
   },
   {
    "duration": 636,
    "start_time": "2023-02-26T13:13:50.460Z"
   },
   {
    "duration": 7,
    "start_time": "2023-02-26T13:14:04.884Z"
   },
   {
    "duration": 793,
    "start_time": "2023-02-26T13:14:25.928Z"
   },
   {
    "duration": 955,
    "start_time": "2023-02-26T13:15:07.244Z"
   },
   {
    "duration": 7,
    "start_time": "2023-02-26T13:34:11.625Z"
   },
   {
    "duration": 9,
    "start_time": "2023-02-26T13:34:34.670Z"
   },
   {
    "duration": 198,
    "start_time": "2023-02-26T13:35:51.980Z"
   },
   {
    "duration": 170,
    "start_time": "2023-02-26T13:36:14.648Z"
   },
   {
    "duration": 17,
    "start_time": "2023-02-26T13:36:19.846Z"
   },
   {
    "duration": 199,
    "start_time": "2023-02-26T13:36:31.225Z"
   },
   {
    "duration": 264,
    "start_time": "2023-02-26T13:36:45.631Z"
   },
   {
    "duration": 219,
    "start_time": "2023-02-26T13:36:50.072Z"
   },
   {
    "duration": 19,
    "start_time": "2023-02-26T13:37:56.497Z"
   },
   {
    "duration": 22,
    "start_time": "2023-02-26T13:38:01.844Z"
   },
   {
    "duration": 23,
    "start_time": "2023-02-26T13:38:14.702Z"
   },
   {
    "duration": 21,
    "start_time": "2023-02-26T13:39:58.566Z"
   },
   {
    "duration": 37,
    "start_time": "2023-02-26T13:40:29.609Z"
   },
   {
    "duration": 42,
    "start_time": "2023-02-26T13:42:23.253Z"
   },
   {
    "duration": 25,
    "start_time": "2023-02-26T13:44:06.405Z"
   },
   {
    "duration": 8,
    "start_time": "2023-02-26T13:45:39.036Z"
   },
   {
    "duration": 8,
    "start_time": "2023-02-26T13:46:01.226Z"
   },
   {
    "duration": 9,
    "start_time": "2023-02-26T13:46:08.794Z"
   },
   {
    "duration": 6,
    "start_time": "2023-02-26T13:46:12.878Z"
   },
   {
    "duration": 217,
    "start_time": "2023-02-26T13:47:09.409Z"
   },
   {
    "duration": 193,
    "start_time": "2023-02-26T13:48:00.289Z"
   },
   {
    "duration": 232,
    "start_time": "2023-02-26T13:48:15.225Z"
   },
   {
    "duration": 197,
    "start_time": "2023-02-26T13:48:55.533Z"
   },
   {
    "duration": 225,
    "start_time": "2023-02-26T13:48:57.642Z"
   },
   {
    "duration": 202,
    "start_time": "2023-02-26T13:50:42.800Z"
   },
   {
    "duration": 7,
    "start_time": "2023-02-26T13:54:09.578Z"
   },
   {
    "duration": 7,
    "start_time": "2023-02-26T13:54:34.598Z"
   },
   {
    "duration": 6,
    "start_time": "2023-02-26T13:55:35.559Z"
   },
   {
    "duration": 8,
    "start_time": "2023-02-26T13:55:45.409Z"
   },
   {
    "duration": 6,
    "start_time": "2023-02-26T13:56:35.115Z"
   },
   {
    "duration": 6,
    "start_time": "2023-02-26T13:56:42.174Z"
   },
   {
    "duration": 198,
    "start_time": "2023-02-26T13:57:07.295Z"
   },
   {
    "duration": 6,
    "start_time": "2023-02-26T14:05:57.390Z"
   },
   {
    "duration": 197,
    "start_time": "2023-02-26T14:06:32.291Z"
   },
   {
    "duration": 11,
    "start_time": "2023-02-26T14:06:38.980Z"
   },
   {
    "duration": 342,
    "start_time": "2023-02-26T14:06:42.540Z"
   },
   {
    "duration": 215,
    "start_time": "2023-02-26T14:08:23.200Z"
   },
   {
    "duration": 214,
    "start_time": "2023-02-26T14:09:03.468Z"
   },
   {
    "duration": 224,
    "start_time": "2023-02-26T14:09:14.622Z"
   },
   {
    "duration": 219,
    "start_time": "2023-02-26T14:09:38.774Z"
   },
   {
    "duration": 211,
    "start_time": "2023-02-26T14:10:33.575Z"
   },
   {
    "duration": 227,
    "start_time": "2023-02-26T14:11:06.488Z"
   },
   {
    "duration": 10,
    "start_time": "2023-02-26T14:33:21.173Z"
   },
   {
    "duration": 21,
    "start_time": "2023-02-26T14:33:32.564Z"
   },
   {
    "duration": 10,
    "start_time": "2023-02-26T14:35:00.828Z"
   },
   {
    "duration": 14,
    "start_time": "2023-02-26T14:35:07.618Z"
   },
   {
    "duration": 8,
    "start_time": "2023-02-26T14:35:21.030Z"
   },
   {
    "duration": 48,
    "start_time": "2023-02-26T14:35:59.074Z"
   },
   {
    "duration": 7,
    "start_time": "2023-02-26T14:36:11.747Z"
   },
   {
    "duration": 10,
    "start_time": "2023-02-26T14:36:27.527Z"
   },
   {
    "duration": 10,
    "start_time": "2023-02-26T14:36:56.594Z"
   },
   {
    "duration": 12,
    "start_time": "2023-02-26T14:38:54.566Z"
   },
   {
    "duration": 8,
    "start_time": "2023-02-26T14:39:01.920Z"
   },
   {
    "duration": 8,
    "start_time": "2023-02-26T14:39:03.726Z"
   },
   {
    "duration": 8,
    "start_time": "2023-02-26T14:39:11.598Z"
   },
   {
    "duration": 6,
    "start_time": "2023-02-26T14:41:37.252Z"
   },
   {
    "duration": 15,
    "start_time": "2023-02-26T14:41:59.827Z"
   },
   {
    "duration": 11,
    "start_time": "2023-02-26T14:42:31.292Z"
   },
   {
    "duration": 23,
    "start_time": "2023-02-26T14:43:14.677Z"
   },
   {
    "duration": 12,
    "start_time": "2023-02-26T14:46:33.906Z"
   },
   {
    "duration": 55,
    "start_time": "2023-02-26T14:52:08.776Z"
   },
   {
    "duration": 351,
    "start_time": "2023-02-26T14:52:18.777Z"
   },
   {
    "duration": 50,
    "start_time": "2023-02-26T14:53:33.865Z"
   },
   {
    "duration": 329,
    "start_time": "2023-02-26T14:54:07.768Z"
   },
   {
    "duration": 440,
    "start_time": "2023-02-26T14:56:47.378Z"
   },
   {
    "duration": 475,
    "start_time": "2023-02-26T14:57:11.234Z"
   },
   {
    "duration": 9,
    "start_time": "2023-02-26T15:00:10.744Z"
   },
   {
    "duration": 11,
    "start_time": "2023-02-26T15:00:19.997Z"
   },
   {
    "duration": 15,
    "start_time": "2023-02-26T15:00:27.410Z"
   },
   {
    "duration": 11,
    "start_time": "2023-02-26T15:00:33.415Z"
   },
   {
    "duration": 282,
    "start_time": "2023-02-26T15:00:40.851Z"
   },
   {
    "duration": 371,
    "start_time": "2023-02-26T15:01:20.556Z"
   },
   {
    "duration": 9,
    "start_time": "2023-02-26T15:01:52.289Z"
   },
   {
    "duration": 8,
    "start_time": "2023-02-26T15:01:58.566Z"
   },
   {
    "duration": 4,
    "start_time": "2023-02-26T15:02:03.679Z"
   },
   {
    "duration": 67,
    "start_time": "2023-02-26T15:02:03.685Z"
   },
   {
    "duration": 12,
    "start_time": "2023-02-26T15:02:03.754Z"
   },
   {
    "duration": 20,
    "start_time": "2023-02-26T15:02:03.768Z"
   },
   {
    "duration": 14,
    "start_time": "2023-02-26T15:02:03.790Z"
   },
   {
    "duration": 53,
    "start_time": "2023-02-26T15:02:03.806Z"
   },
   {
    "duration": 827,
    "start_time": "2023-02-26T15:02:03.861Z"
   },
   {
    "duration": 5,
    "start_time": "2023-02-26T15:02:04.690Z"
   },
   {
    "duration": 16,
    "start_time": "2023-02-26T15:02:04.696Z"
   },
   {
    "duration": 10,
    "start_time": "2023-02-26T15:02:04.715Z"
   },
   {
    "duration": 28,
    "start_time": "2023-02-26T15:02:04.726Z"
   },
   {
    "duration": 7,
    "start_time": "2023-02-26T15:02:04.756Z"
   },
   {
    "duration": 5,
    "start_time": "2023-02-26T15:02:04.765Z"
   },
   {
    "duration": 10,
    "start_time": "2023-02-26T15:02:04.772Z"
   },
   {
    "duration": 8,
    "start_time": "2023-02-26T15:02:04.784Z"
   },
   {
    "duration": 30,
    "start_time": "2023-02-26T15:02:04.794Z"
   },
   {
    "duration": 57,
    "start_time": "2023-02-26T15:02:04.826Z"
   },
   {
    "duration": 9,
    "start_time": "2023-02-26T15:02:04.884Z"
   },
   {
    "duration": 8,
    "start_time": "2023-02-26T15:02:04.894Z"
   },
   {
    "duration": 6,
    "start_time": "2023-02-26T15:02:04.903Z"
   },
   {
    "duration": 17,
    "start_time": "2023-02-26T15:02:04.911Z"
   },
   {
    "duration": 27,
    "start_time": "2023-02-26T15:02:04.929Z"
   },
   {
    "duration": 242,
    "start_time": "2023-02-26T15:02:04.957Z"
   },
   {
    "duration": 10,
    "start_time": "2023-02-26T15:02:05.200Z"
   },
   {
    "duration": 13,
    "start_time": "2023-02-26T15:02:05.211Z"
   },
   {
    "duration": 741,
    "start_time": "2023-02-26T15:02:05.225Z"
   },
   {
    "duration": 15,
    "start_time": "2023-02-26T15:02:05.968Z"
   },
   {
    "duration": 6,
    "start_time": "2023-02-26T15:02:05.987Z"
   },
   {
    "duration": 13,
    "start_time": "2023-02-26T15:02:05.995Z"
   },
   {
    "duration": 5,
    "start_time": "2023-02-26T15:02:06.010Z"
   },
   {
    "duration": 7,
    "start_time": "2023-02-26T15:02:06.052Z"
   },
   {
    "duration": 10,
    "start_time": "2023-02-26T15:02:06.061Z"
   },
   {
    "duration": 526,
    "start_time": "2023-02-26T15:02:06.073Z"
   },
   {
    "duration": 54,
    "start_time": "2023-02-26T15:02:06.600Z"
   },
   {
    "duration": 340,
    "start_time": "2023-02-26T15:02:06.656Z"
   },
   {
    "duration": 7,
    "start_time": "2023-02-26T15:02:06.998Z"
   },
   {
    "duration": 805,
    "start_time": "2023-02-26T15:02:07.007Z"
   },
   {
    "duration": 607,
    "start_time": "2023-02-26T15:02:07.814Z"
   },
   {
    "duration": 209,
    "start_time": "2023-02-26T15:02:08.423Z"
   },
   {
    "duration": 221,
    "start_time": "2023-02-26T15:02:08.634Z"
   },
   {
    "duration": 228,
    "start_time": "2023-02-26T15:02:08.856Z"
   },
   {
    "duration": 23,
    "start_time": "2023-02-26T15:02:09.086Z"
   },
   {
    "duration": 7,
    "start_time": "2023-02-26T15:02:09.111Z"
   },
   {
    "duration": 176,
    "start_time": "2023-02-26T15:02:09.120Z"
   },
   {
    "duration": 8,
    "start_time": "2023-02-26T15:02:09.298Z"
   },
   {
    "duration": 8,
    "start_time": "2023-02-26T15:02:36.202Z"
   },
   {
    "duration": 125,
    "start_time": "2023-02-26T15:02:52.969Z"
   },
   {
    "duration": 140,
    "start_time": "2023-02-26T15:03:18.091Z"
   },
   {
    "duration": 444,
    "start_time": "2023-02-26T15:07:46.096Z"
   },
   {
    "duration": 338,
    "start_time": "2023-02-26T15:08:06.804Z"
   },
   {
    "duration": 39,
    "start_time": "2023-02-26T15:08:36.593Z"
   },
   {
    "duration": 359,
    "start_time": "2023-02-26T15:08:48.840Z"
   },
   {
    "duration": 34,
    "start_time": "2023-02-26T15:09:42.062Z"
   },
   {
    "duration": 352,
    "start_time": "2023-02-26T15:09:50.947Z"
   },
   {
    "duration": 35,
    "start_time": "2023-02-26T15:10:04.751Z"
   },
   {
    "duration": 29,
    "start_time": "2023-02-26T15:10:16.271Z"
   },
   {
    "duration": 338,
    "start_time": "2023-02-26T15:11:04.966Z"
   },
   {
    "duration": 327,
    "start_time": "2023-02-26T15:11:31.616Z"
   },
   {
    "duration": 337,
    "start_time": "2023-02-26T15:11:40.154Z"
   },
   {
    "duration": 509,
    "start_time": "2023-02-26T15:11:51.899Z"
   },
   {
    "duration": 380,
    "start_time": "2023-02-26T15:12:04.041Z"
   },
   {
    "duration": 396,
    "start_time": "2023-02-26T15:12:14.971Z"
   },
   {
    "duration": 348,
    "start_time": "2023-02-26T15:12:22.919Z"
   },
   {
    "duration": 351,
    "start_time": "2023-02-26T15:13:08.640Z"
   },
   {
    "duration": 410,
    "start_time": "2023-02-26T15:14:02.036Z"
   },
   {
    "duration": 395,
    "start_time": "2023-02-26T15:14:58.185Z"
   },
   {
    "duration": 560,
    "start_time": "2023-02-26T15:15:06.266Z"
   },
   {
    "duration": 7,
    "start_time": "2023-02-26T15:15:59.813Z"
   },
   {
    "duration": 15,
    "start_time": "2023-02-26T15:16:52.249Z"
   },
   {
    "duration": 396,
    "start_time": "2023-02-26T15:17:03.290Z"
   },
   {
    "duration": 7,
    "start_time": "2023-02-26T15:17:56.066Z"
   },
   {
    "duration": 378,
    "start_time": "2023-02-26T15:17:57.685Z"
   },
   {
    "duration": 6,
    "start_time": "2023-02-26T15:18:55.710Z"
   },
   {
    "duration": 512,
    "start_time": "2023-02-26T15:18:57.473Z"
   },
   {
    "duration": 5,
    "start_time": "2023-02-26T15:19:15.586Z"
   },
   {
    "duration": 372,
    "start_time": "2023-02-26T15:19:16.912Z"
   },
   {
    "duration": 385,
    "start_time": "2023-02-26T15:23:02.581Z"
   },
   {
    "duration": 371,
    "start_time": "2023-02-26T15:23:53.927Z"
   },
   {
    "duration": 6,
    "start_time": "2023-02-26T15:31:33.520Z"
   },
   {
    "duration": 595,
    "start_time": "2023-02-26T15:31:35.024Z"
   },
   {
    "duration": 5,
    "start_time": "2023-02-26T15:33:14.488Z"
   },
   {
    "duration": 357,
    "start_time": "2023-02-26T15:33:15.626Z"
   },
   {
    "duration": 371,
    "start_time": "2023-02-26T15:38:22.612Z"
   },
   {
    "duration": 355,
    "start_time": "2023-02-26T15:39:18.549Z"
   },
   {
    "duration": 12,
    "start_time": "2023-02-26T15:41:41.710Z"
   },
   {
    "duration": 11,
    "start_time": "2023-02-26T15:41:44.988Z"
   },
   {
    "duration": 18,
    "start_time": "2023-02-26T15:42:15.342Z"
   },
   {
    "duration": 17,
    "start_time": "2023-02-26T15:42:48.551Z"
   },
   {
    "duration": 68,
    "start_time": "2023-02-26T16:02:30.136Z"
   },
   {
    "duration": 38,
    "start_time": "2023-02-26T16:02:38.466Z"
   },
   {
    "duration": 33,
    "start_time": "2023-02-26T16:02:50.806Z"
   },
   {
    "duration": 12,
    "start_time": "2023-02-26T16:02:59.180Z"
   },
   {
    "duration": 36,
    "start_time": "2023-02-26T16:03:05.763Z"
   },
   {
    "duration": 22,
    "start_time": "2023-02-26T16:03:08.265Z"
   },
   {
    "duration": 17,
    "start_time": "2023-02-26T16:05:18.482Z"
   },
   {
    "duration": 19,
    "start_time": "2023-02-26T16:05:32.732Z"
   },
   {
    "duration": 18,
    "start_time": "2023-02-26T16:06:11.736Z"
   },
   {
    "duration": 21,
    "start_time": "2023-02-26T16:07:43.106Z"
   },
   {
    "duration": 19,
    "start_time": "2023-02-26T16:08:11.976Z"
   },
   {
    "duration": 22,
    "start_time": "2023-02-26T16:08:46.889Z"
   },
   {
    "duration": 21,
    "start_time": "2023-02-26T16:09:18.388Z"
   },
   {
    "duration": 21,
    "start_time": "2023-02-26T16:09:29.390Z"
   },
   {
    "duration": 26,
    "start_time": "2023-02-26T16:10:05.558Z"
   },
   {
    "duration": 30,
    "start_time": "2023-02-26T16:10:07.700Z"
   },
   {
    "duration": 10,
    "start_time": "2023-02-26T16:10:20.320Z"
   },
   {
    "duration": 21,
    "start_time": "2023-02-26T16:10:26.134Z"
   },
   {
    "duration": 18,
    "start_time": "2023-02-26T16:11:51.395Z"
   },
   {
    "duration": 19,
    "start_time": "2023-02-26T16:13:21.068Z"
   },
   {
    "duration": 18,
    "start_time": "2023-02-26T16:13:44.668Z"
   },
   {
    "duration": 3,
    "start_time": "2023-02-26T16:39:26.594Z"
   },
   {
    "duration": 63,
    "start_time": "2023-02-26T16:39:26.599Z"
   },
   {
    "duration": 17,
    "start_time": "2023-02-26T16:39:26.664Z"
   },
   {
    "duration": 30,
    "start_time": "2023-02-26T16:39:26.684Z"
   },
   {
    "duration": 38,
    "start_time": "2023-02-26T16:39:26.716Z"
   },
   {
    "duration": 29,
    "start_time": "2023-02-26T16:39:26.757Z"
   },
   {
    "duration": 823,
    "start_time": "2023-02-26T16:39:26.788Z"
   },
   {
    "duration": 7,
    "start_time": "2023-02-26T16:39:27.613Z"
   },
   {
    "duration": 34,
    "start_time": "2023-02-26T16:39:27.622Z"
   },
   {
    "duration": 17,
    "start_time": "2023-02-26T16:39:27.659Z"
   },
   {
    "duration": 18,
    "start_time": "2023-02-26T16:39:27.679Z"
   },
   {
    "duration": 9,
    "start_time": "2023-02-26T16:39:27.699Z"
   },
   {
    "duration": 12,
    "start_time": "2023-02-26T16:39:27.710Z"
   },
   {
    "duration": 17,
    "start_time": "2023-02-26T16:39:27.724Z"
   },
   {
    "duration": 18,
    "start_time": "2023-02-26T16:39:27.743Z"
   },
   {
    "duration": 38,
    "start_time": "2023-02-26T16:39:27.763Z"
   },
   {
    "duration": 52,
    "start_time": "2023-02-26T16:39:27.803Z"
   },
   {
    "duration": 9,
    "start_time": "2023-02-26T16:39:27.857Z"
   },
   {
    "duration": 13,
    "start_time": "2023-02-26T16:39:27.867Z"
   },
   {
    "duration": 9,
    "start_time": "2023-02-26T16:39:27.882Z"
   },
   {
    "duration": 24,
    "start_time": "2023-02-26T16:39:27.893Z"
   },
   {
    "duration": 4,
    "start_time": "2023-02-26T16:39:27.918Z"
   },
   {
    "duration": 246,
    "start_time": "2023-02-26T16:39:27.923Z"
   },
   {
    "duration": 9,
    "start_time": "2023-02-26T16:39:28.171Z"
   },
   {
    "duration": 15,
    "start_time": "2023-02-26T16:39:28.182Z"
   },
   {
    "duration": 818,
    "start_time": "2023-02-26T16:39:28.198Z"
   },
   {
    "duration": 12,
    "start_time": "2023-02-26T16:39:29.018Z"
   },
   {
    "duration": 22,
    "start_time": "2023-02-26T16:39:29.033Z"
   },
   {
    "duration": 24,
    "start_time": "2023-02-26T16:39:29.056Z"
   },
   {
    "duration": 4,
    "start_time": "2023-02-26T16:39:29.081Z"
   },
   {
    "duration": 5,
    "start_time": "2023-02-26T16:39:29.087Z"
   },
   {
    "duration": 6,
    "start_time": "2023-02-26T16:39:29.094Z"
   },
   {
    "duration": 332,
    "start_time": "2023-02-26T16:39:29.102Z"
   },
   {
    "duration": 47,
    "start_time": "2023-02-26T16:39:29.436Z"
   },
   {
    "duration": 332,
    "start_time": "2023-02-26T16:39:29.485Z"
   },
   {
    "duration": 9,
    "start_time": "2023-02-26T16:39:29.819Z"
   },
   {
    "duration": 654,
    "start_time": "2023-02-26T16:39:29.829Z"
   },
   {
    "duration": 560,
    "start_time": "2023-02-26T16:39:30.485Z"
   },
   {
    "duration": 228,
    "start_time": "2023-02-26T16:39:31.053Z"
   },
   {
    "duration": 217,
    "start_time": "2023-02-26T16:39:31.283Z"
   },
   {
    "duration": 371,
    "start_time": "2023-02-26T16:39:31.502Z"
   },
   {
    "duration": 4,
    "start_time": "2023-02-26T16:39:31.875Z"
   },
   {
    "duration": 377,
    "start_time": "2023-02-26T16:39:31.880Z"
   },
   {
    "duration": 374,
    "start_time": "2023-02-26T16:39:32.259Z"
   },
   {
    "duration": 341,
    "start_time": "2023-02-26T16:39:32.635Z"
   },
   {
    "duration": 12,
    "start_time": "2023-02-26T16:43:47.961Z"
   },
   {
    "duration": 15,
    "start_time": "2023-02-26T16:43:52.329Z"
   },
   {
    "duration": 10,
    "start_time": "2023-02-26T16:43:59.428Z"
   },
   {
    "duration": 25,
    "start_time": "2023-02-26T16:44:10.110Z"
   },
   {
    "duration": 8,
    "start_time": "2023-02-26T16:44:33.701Z"
   },
   {
    "duration": 7,
    "start_time": "2023-02-26T16:44:43.360Z"
   },
   {
    "duration": 7,
    "start_time": "2023-02-26T16:45:07.674Z"
   },
   {
    "duration": 9,
    "start_time": "2023-02-26T16:45:16.313Z"
   },
   {
    "duration": 9,
    "start_time": "2023-02-26T16:47:51.430Z"
   },
   {
    "duration": 10,
    "start_time": "2023-02-26T16:47:57.605Z"
   },
   {
    "duration": 4,
    "start_time": "2023-02-26T16:48:41.215Z"
   },
   {
    "duration": 7,
    "start_time": "2023-02-26T16:49:35.790Z"
   },
   {
    "duration": 6,
    "start_time": "2023-02-26T16:49:36.272Z"
   },
   {
    "duration": 5,
    "start_time": "2023-02-26T16:49:49.095Z"
   },
   {
    "duration": 7,
    "start_time": "2023-02-26T16:50:06.820Z"
   },
   {
    "duration": 7,
    "start_time": "2023-02-26T16:54:12.861Z"
   },
   {
    "duration": 5,
    "start_time": "2023-02-26T16:54:14.279Z"
   },
   {
    "duration": 6,
    "start_time": "2023-02-26T16:54:14.752Z"
   },
   {
    "duration": 5,
    "start_time": "2023-02-26T16:54:15.141Z"
   },
   {
    "duration": 5,
    "start_time": "2023-02-26T16:58:12.546Z"
   },
   {
    "duration": 8,
    "start_time": "2023-02-26T16:59:12.226Z"
   },
   {
    "duration": 6,
    "start_time": "2023-02-26T16:59:12.629Z"
   },
   {
    "duration": 5,
    "start_time": "2023-02-26T17:08:57.509Z"
   },
   {
    "duration": 5,
    "start_time": "2023-02-26T17:09:14.334Z"
   },
   {
    "duration": 55,
    "start_time": "2023-02-26T17:13:44.013Z"
   },
   {
    "duration": 67,
    "start_time": "2023-02-26T17:13:50.244Z"
   },
   {
    "duration": 8,
    "start_time": "2023-02-26T17:13:56.264Z"
   },
   {
    "duration": 7,
    "start_time": "2023-02-26T17:14:44.459Z"
   },
   {
    "duration": 7,
    "start_time": "2023-02-26T17:19:05.972Z"
   },
   {
    "duration": 10,
    "start_time": "2023-02-26T17:19:23.351Z"
   },
   {
    "duration": 8,
    "start_time": "2023-02-26T17:19:23.762Z"
   },
   {
    "duration": 24,
    "start_time": "2023-02-26T17:20:08.341Z"
   },
   {
    "duration": 11,
    "start_time": "2023-02-26T17:20:11.379Z"
   },
   {
    "duration": 11,
    "start_time": "2023-02-26T17:20:11.783Z"
   },
   {
    "duration": 14,
    "start_time": "2023-02-26T17:20:13.124Z"
   },
   {
    "duration": 12,
    "start_time": "2023-02-26T17:20:18.272Z"
   },
   {
    "duration": 11,
    "start_time": "2023-02-26T17:20:39.491Z"
   },
   {
    "duration": 6,
    "start_time": "2023-02-26T17:25:14.037Z"
   },
   {
    "duration": 12,
    "start_time": "2023-02-26T17:25:30.460Z"
   },
   {
    "duration": 19,
    "start_time": "2023-02-26T17:27:22.756Z"
   },
   {
    "duration": 11,
    "start_time": "2023-02-26T17:27:31.611Z"
   },
   {
    "duration": 10,
    "start_time": "2023-02-26T17:27:40.095Z"
   },
   {
    "duration": 22,
    "start_time": "2023-02-26T17:27:43.245Z"
   },
   {
    "duration": 11,
    "start_time": "2023-02-26T17:27:52.237Z"
   },
   {
    "duration": 8,
    "start_time": "2023-02-26T17:28:13.618Z"
   },
   {
    "duration": 4,
    "start_time": "2023-02-26T17:28:21.897Z"
   },
   {
    "duration": 101,
    "start_time": "2023-02-26T17:28:21.903Z"
   },
   {
    "duration": 21,
    "start_time": "2023-02-26T17:28:22.010Z"
   },
   {
    "duration": 52,
    "start_time": "2023-02-26T17:28:22.034Z"
   },
   {
    "duration": 30,
    "start_time": "2023-02-26T17:28:22.087Z"
   },
   {
    "duration": 43,
    "start_time": "2023-02-26T17:28:22.118Z"
   },
   {
    "duration": 843,
    "start_time": "2023-02-26T17:28:22.165Z"
   },
   {
    "duration": 6,
    "start_time": "2023-02-26T17:28:23.010Z"
   },
   {
    "duration": 17,
    "start_time": "2023-02-26T17:28:23.018Z"
   },
   {
    "duration": 45,
    "start_time": "2023-02-26T17:28:23.053Z"
   },
   {
    "duration": 16,
    "start_time": "2023-02-26T17:28:23.100Z"
   },
   {
    "duration": 7,
    "start_time": "2023-02-26T17:28:23.118Z"
   },
   {
    "duration": 4,
    "start_time": "2023-02-26T17:28:23.127Z"
   },
   {
    "duration": 8,
    "start_time": "2023-02-26T17:28:23.133Z"
   },
   {
    "duration": 8,
    "start_time": "2023-02-26T17:28:23.143Z"
   },
   {
    "duration": 66,
    "start_time": "2023-02-26T17:28:23.156Z"
   },
   {
    "duration": 53,
    "start_time": "2023-02-26T17:28:23.223Z"
   },
   {
    "duration": 10,
    "start_time": "2023-02-26T17:28:23.278Z"
   },
   {
    "duration": 14,
    "start_time": "2023-02-26T17:28:23.290Z"
   },
   {
    "duration": 8,
    "start_time": "2023-02-26T17:28:23.306Z"
   },
   {
    "duration": 21,
    "start_time": "2023-02-26T17:28:23.316Z"
   },
   {
    "duration": 5,
    "start_time": "2023-02-26T17:28:23.339Z"
   },
   {
    "duration": 272,
    "start_time": "2023-02-26T17:28:23.345Z"
   },
   {
    "duration": 11,
    "start_time": "2023-02-26T17:28:23.619Z"
   },
   {
    "duration": 38,
    "start_time": "2023-02-26T17:28:23.632Z"
   },
   {
    "duration": 1064,
    "start_time": "2023-02-26T17:28:23.671Z"
   },
   {
    "duration": 37,
    "start_time": "2023-02-26T17:28:24.737Z"
   },
   {
    "duration": 42,
    "start_time": "2023-02-26T17:28:24.778Z"
   },
   {
    "duration": 19,
    "start_time": "2023-02-26T17:28:24.822Z"
   },
   {
    "duration": 5,
    "start_time": "2023-02-26T17:28:24.843Z"
   },
   {
    "duration": 39,
    "start_time": "2023-02-26T17:28:24.850Z"
   },
   {
    "duration": 15,
    "start_time": "2023-02-26T17:28:24.894Z"
   },
   {
    "duration": 518,
    "start_time": "2023-02-26T17:28:24.911Z"
   },
   {
    "duration": 90,
    "start_time": "2023-02-26T17:28:25.431Z"
   },
   {
    "duration": 428,
    "start_time": "2023-02-26T17:28:25.524Z"
   },
   {
    "duration": 9,
    "start_time": "2023-02-26T17:28:25.954Z"
   },
   {
    "duration": 873,
    "start_time": "2023-02-26T17:28:25.966Z"
   },
   {
    "duration": 682,
    "start_time": "2023-02-26T17:28:26.840Z"
   },
   {
    "duration": 321,
    "start_time": "2023-02-26T17:28:27.525Z"
   },
   {
    "duration": 287,
    "start_time": "2023-02-26T17:28:27.857Z"
   },
   {
    "duration": 446,
    "start_time": "2023-02-26T17:28:28.155Z"
   },
   {
    "duration": 7,
    "start_time": "2023-02-26T17:28:28.603Z"
   },
   {
    "duration": 418,
    "start_time": "2023-02-26T17:28:28.612Z"
   },
   {
    "duration": 420,
    "start_time": "2023-02-26T17:28:29.032Z"
   },
   {
    "duration": 446,
    "start_time": "2023-02-26T17:28:29.453Z"
   },
   {
    "duration": 18,
    "start_time": "2023-02-26T17:28:29.904Z"
   },
   {
    "duration": 31,
    "start_time": "2023-02-26T17:28:29.925Z"
   },
   {
    "duration": 77,
    "start_time": "2023-02-26T17:28:29.958Z"
   },
   {
    "duration": 69,
    "start_time": "2023-02-26T17:28:30.037Z"
   },
   {
    "duration": 16,
    "start_time": "2023-02-26T17:28:30.108Z"
   },
   {
    "duration": 10,
    "start_time": "2023-02-26T17:28:48.606Z"
   },
   {
    "duration": 16,
    "start_time": "2023-02-26T17:28:51.071Z"
   },
   {
    "duration": 7,
    "start_time": "2023-02-26T17:32:19.385Z"
   },
   {
    "duration": 7,
    "start_time": "2023-02-26T17:32:58.548Z"
   },
   {
    "duration": 8,
    "start_time": "2023-02-26T17:33:48.222Z"
   },
   {
    "duration": 6,
    "start_time": "2023-02-26T17:34:00.982Z"
   },
   {
    "duration": 3,
    "start_time": "2023-02-26T17:35:37.382Z"
   },
   {
    "duration": 113,
    "start_time": "2023-02-26T17:35:37.387Z"
   },
   {
    "duration": 22,
    "start_time": "2023-02-26T17:35:37.504Z"
   },
   {
    "duration": 39,
    "start_time": "2023-02-26T17:35:37.528Z"
   },
   {
    "duration": 44,
    "start_time": "2023-02-26T17:35:37.570Z"
   },
   {
    "duration": 42,
    "start_time": "2023-02-26T17:35:37.616Z"
   },
   {
    "duration": 914,
    "start_time": "2023-02-26T17:35:37.669Z"
   },
   {
    "duration": 5,
    "start_time": "2023-02-26T17:35:38.589Z"
   },
   {
    "duration": 15,
    "start_time": "2023-02-26T17:35:38.595Z"
   },
   {
    "duration": 10,
    "start_time": "2023-02-26T17:35:38.612Z"
   },
   {
    "duration": 10,
    "start_time": "2023-02-26T17:35:38.624Z"
   },
   {
    "duration": 29,
    "start_time": "2023-02-26T17:35:38.636Z"
   },
   {
    "duration": 22,
    "start_time": "2023-02-26T17:35:38.666Z"
   },
   {
    "duration": 5,
    "start_time": "2023-02-26T17:35:38.692Z"
   },
   {
    "duration": 6,
    "start_time": "2023-02-26T17:35:38.699Z"
   },
   {
    "duration": 31,
    "start_time": "2023-02-26T17:35:38.707Z"
   },
   {
    "duration": 54,
    "start_time": "2023-02-26T17:35:38.740Z"
   },
   {
    "duration": 8,
    "start_time": "2023-02-26T17:35:38.796Z"
   },
   {
    "duration": 10,
    "start_time": "2023-02-26T17:35:38.806Z"
   },
   {
    "duration": 7,
    "start_time": "2023-02-26T17:35:38.818Z"
   },
   {
    "duration": 17,
    "start_time": "2023-02-26T17:35:38.826Z"
   },
   {
    "duration": 22,
    "start_time": "2023-02-26T17:35:38.845Z"
   },
   {
    "duration": 299,
    "start_time": "2023-02-26T17:35:38.869Z"
   },
   {
    "duration": 13,
    "start_time": "2023-02-26T17:35:39.174Z"
   },
   {
    "duration": 17,
    "start_time": "2023-02-26T17:35:39.189Z"
   },
   {
    "duration": 965,
    "start_time": "2023-02-26T17:35:39.208Z"
   },
   {
    "duration": 17,
    "start_time": "2023-02-26T17:35:40.178Z"
   },
   {
    "duration": 8,
    "start_time": "2023-02-26T17:35:40.197Z"
   },
   {
    "duration": 11,
    "start_time": "2023-02-26T17:35:40.207Z"
   },
   {
    "duration": 5,
    "start_time": "2023-02-26T17:35:40.220Z"
   },
   {
    "duration": 6,
    "start_time": "2023-02-26T17:35:40.257Z"
   },
   {
    "duration": 34,
    "start_time": "2023-02-26T17:35:40.265Z"
   },
   {
    "duration": 377,
    "start_time": "2023-02-26T17:35:40.301Z"
   },
   {
    "duration": 44,
    "start_time": "2023-02-26T17:35:40.685Z"
   },
   {
    "duration": 361,
    "start_time": "2023-02-26T17:35:40.731Z"
   },
   {
    "duration": 8,
    "start_time": "2023-02-26T17:35:41.094Z"
   },
   {
    "duration": 735,
    "start_time": "2023-02-26T17:35:41.105Z"
   },
   {
    "duration": 624,
    "start_time": "2023-02-26T17:35:41.842Z"
   },
   {
    "duration": 237,
    "start_time": "2023-02-26T17:35:42.470Z"
   },
   {
    "duration": 249,
    "start_time": "2023-02-26T17:35:42.709Z"
   },
   {
    "duration": 458,
    "start_time": "2023-02-26T17:35:42.963Z"
   },
   {
    "duration": 5,
    "start_time": "2023-02-26T17:35:43.423Z"
   },
   {
    "duration": 481,
    "start_time": "2023-02-26T17:35:43.430Z"
   },
   {
    "duration": 522,
    "start_time": "2023-02-26T17:35:43.914Z"
   },
   {
    "duration": 401,
    "start_time": "2023-02-26T17:35:44.437Z"
   },
   {
    "duration": 26,
    "start_time": "2023-02-26T17:35:44.839Z"
   },
   {
    "duration": 20,
    "start_time": "2023-02-26T17:35:44.872Z"
   },
   {
    "duration": 9,
    "start_time": "2023-02-26T17:35:44.894Z"
   },
   {
    "duration": 11,
    "start_time": "2023-02-26T17:35:44.904Z"
   },
   {
    "duration": 9,
    "start_time": "2023-02-26T17:35:44.917Z"
   },
   {
    "duration": 10,
    "start_time": "2023-02-26T17:35:44.928Z"
   },
   {
    "duration": 49,
    "start_time": "2023-02-27T09:35:24.973Z"
   },
   {
    "duration": 1294,
    "start_time": "2023-02-27T09:35:26.928Z"
   },
   {
    "duration": 202,
    "start_time": "2023-02-27T09:35:28.224Z"
   },
   {
    "duration": 15,
    "start_time": "2023-02-27T09:35:28.428Z"
   },
   {
    "duration": 25,
    "start_time": "2023-02-27T09:35:28.444Z"
   },
   {
    "duration": 15,
    "start_time": "2023-02-27T09:35:28.471Z"
   },
   {
    "duration": 43,
    "start_time": "2023-02-27T09:35:28.488Z"
   },
   {
    "duration": 780,
    "start_time": "2023-02-27T09:35:28.533Z"
   },
   {
    "duration": 4,
    "start_time": "2023-02-27T09:35:29.315Z"
   },
   {
    "duration": 24,
    "start_time": "2023-02-27T09:35:29.320Z"
   },
   {
    "duration": 14,
    "start_time": "2023-02-27T09:35:29.345Z"
   },
   {
    "duration": 8,
    "start_time": "2023-02-27T09:35:29.360Z"
   },
   {
    "duration": 8,
    "start_time": "2023-02-27T09:35:29.370Z"
   },
   {
    "duration": 3,
    "start_time": "2023-02-27T09:35:29.380Z"
   },
   {
    "duration": 5,
    "start_time": "2023-02-27T09:35:29.403Z"
   },
   {
    "duration": 8,
    "start_time": "2023-02-27T09:35:29.410Z"
   },
   {
    "duration": 28,
    "start_time": "2023-02-27T09:35:29.419Z"
   },
   {
    "duration": 28,
    "start_time": "2023-02-27T09:35:29.449Z"
   },
   {
    "duration": 28,
    "start_time": "2023-02-27T09:35:29.478Z"
   },
   {
    "duration": 12,
    "start_time": "2023-02-27T09:35:29.508Z"
   },
   {
    "duration": 8,
    "start_time": "2023-02-27T09:35:29.522Z"
   },
   {
    "duration": 15,
    "start_time": "2023-02-27T09:35:29.531Z"
   },
   {
    "duration": 4,
    "start_time": "2023-02-27T09:35:29.547Z"
   },
   {
    "duration": 240,
    "start_time": "2023-02-27T09:35:29.552Z"
   },
   {
    "duration": 15,
    "start_time": "2023-02-27T09:35:29.794Z"
   },
   {
    "duration": 12,
    "start_time": "2023-02-27T09:35:29.810Z"
   },
   {
    "duration": 802,
    "start_time": "2023-02-27T09:35:29.823Z"
   },
   {
    "duration": 13,
    "start_time": "2023-02-27T09:35:30.626Z"
   },
   {
    "duration": 28,
    "start_time": "2023-02-27T09:35:30.640Z"
   },
   {
    "duration": 33,
    "start_time": "2023-02-27T09:35:30.670Z"
   },
   {
    "duration": 22,
    "start_time": "2023-02-27T09:35:30.704Z"
   },
   {
    "duration": 23,
    "start_time": "2023-02-27T09:35:30.728Z"
   },
   {
    "duration": 51,
    "start_time": "2023-02-27T09:35:30.752Z"
   },
   {
    "duration": 364,
    "start_time": "2023-02-27T09:35:30.804Z"
   },
   {
    "duration": 42,
    "start_time": "2023-02-27T09:35:31.170Z"
   },
   {
    "duration": 316,
    "start_time": "2023-02-27T09:35:31.214Z"
   },
   {
    "duration": 7,
    "start_time": "2023-02-27T09:35:31.532Z"
   },
   {
    "duration": 724,
    "start_time": "2023-02-27T09:35:31.540Z"
   },
   {
    "duration": 586,
    "start_time": "2023-02-27T09:35:32.266Z"
   },
   {
    "duration": 211,
    "start_time": "2023-02-27T09:35:32.853Z"
   },
   {
    "duration": 216,
    "start_time": "2023-02-27T09:35:33.065Z"
   },
   {
    "duration": 539,
    "start_time": "2023-02-27T09:35:33.285Z"
   },
   {
    "duration": 5,
    "start_time": "2023-02-27T09:35:33.825Z"
   },
   {
    "duration": 978,
    "start_time": "2023-02-27T09:35:33.832Z"
   },
   {
    "duration": 483,
    "start_time": "2023-02-27T09:35:34.812Z"
   },
   {
    "duration": 348,
    "start_time": "2023-02-27T09:35:35.297Z"
   },
   {
    "duration": 7,
    "start_time": "2023-02-27T09:35:35.646Z"
   },
   {
    "duration": 9,
    "start_time": "2023-02-27T09:35:35.655Z"
   },
   {
    "duration": 10,
    "start_time": "2023-02-27T09:35:35.665Z"
   },
   {
    "duration": 16,
    "start_time": "2023-02-27T09:35:35.676Z"
   },
   {
    "duration": 27,
    "start_time": "2023-02-27T09:35:35.693Z"
   },
   {
    "duration": 16,
    "start_time": "2023-02-27T09:35:35.722Z"
   },
   {
    "duration": 99,
    "start_time": "2023-02-28T09:05:36.203Z"
   },
   {
    "duration": 47,
    "start_time": "2023-02-28T12:56:48.880Z"
   },
   {
    "duration": 1403,
    "start_time": "2023-02-28T12:56:59.675Z"
   },
   {
    "duration": 128,
    "start_time": "2023-02-28T12:57:01.081Z"
   },
   {
    "duration": 14,
    "start_time": "2023-02-28T12:57:01.211Z"
   },
   {
    "duration": 36,
    "start_time": "2023-02-28T12:57:01.227Z"
   },
   {
    "duration": 15,
    "start_time": "2023-02-28T12:57:01.267Z"
   },
   {
    "duration": 76,
    "start_time": "2023-02-28T12:57:01.283Z"
   },
   {
    "duration": 777,
    "start_time": "2023-02-28T12:57:01.361Z"
   },
   {
    "duration": 5,
    "start_time": "2023-02-28T12:57:02.139Z"
   },
   {
    "duration": 20,
    "start_time": "2023-02-28T12:57:02.146Z"
   },
   {
    "duration": 16,
    "start_time": "2023-02-28T12:57:02.168Z"
   },
   {
    "duration": 18,
    "start_time": "2023-02-28T12:57:02.186Z"
   },
   {
    "duration": 8,
    "start_time": "2023-02-28T12:57:02.206Z"
   },
   {
    "duration": 7,
    "start_time": "2023-02-28T12:57:02.226Z"
   },
   {
    "duration": 10,
    "start_time": "2023-02-28T12:57:02.237Z"
   },
   {
    "duration": 8,
    "start_time": "2023-02-28T12:57:02.248Z"
   },
   {
    "duration": 41,
    "start_time": "2023-02-28T12:57:02.258Z"
   },
   {
    "duration": 47,
    "start_time": "2023-02-28T12:57:02.301Z"
   },
   {
    "duration": 7,
    "start_time": "2023-02-28T12:57:02.350Z"
   },
   {
    "duration": 9,
    "start_time": "2023-02-28T12:57:02.358Z"
   },
   {
    "duration": 11,
    "start_time": "2023-02-28T12:57:02.369Z"
   },
   {
    "duration": 29,
    "start_time": "2023-02-28T12:57:02.381Z"
   },
   {
    "duration": 16,
    "start_time": "2023-02-28T12:57:02.412Z"
   },
   {
    "duration": 242,
    "start_time": "2023-02-28T12:57:02.429Z"
   },
   {
    "duration": 10,
    "start_time": "2023-02-28T12:57:02.672Z"
   },
   {
    "duration": 14,
    "start_time": "2023-02-28T12:57:02.683Z"
   },
   {
    "duration": 848,
    "start_time": "2023-02-28T12:57:02.698Z"
   },
   {
    "duration": 13,
    "start_time": "2023-02-28T12:57:03.548Z"
   },
   {
    "duration": 5,
    "start_time": "2023-02-28T12:57:03.563Z"
   },
   {
    "duration": 9,
    "start_time": "2023-02-28T12:57:03.569Z"
   },
   {
    "duration": 5,
    "start_time": "2023-02-28T12:57:03.580Z"
   },
   {
    "duration": 49,
    "start_time": "2023-02-28T12:57:03.586Z"
   },
   {
    "duration": 5,
    "start_time": "2023-02-28T12:57:03.637Z"
   },
   {
    "duration": 380,
    "start_time": "2023-02-28T12:57:03.643Z"
   },
   {
    "duration": 38,
    "start_time": "2023-02-28T12:57:04.025Z"
   },
   {
    "duration": 310,
    "start_time": "2023-02-28T12:57:04.065Z"
   },
   {
    "duration": 7,
    "start_time": "2023-02-28T12:57:04.377Z"
   },
   {
    "duration": 682,
    "start_time": "2023-02-28T12:57:04.385Z"
   },
   {
    "duration": 561,
    "start_time": "2023-02-28T12:57:05.068Z"
   },
   {
    "duration": 211,
    "start_time": "2023-02-28T12:57:05.631Z"
   },
   {
    "duration": 202,
    "start_time": "2023-02-28T12:57:05.844Z"
   },
   {
    "duration": 231,
    "start_time": "2023-02-28T12:57:06.050Z"
   },
   {
    "duration": 4,
    "start_time": "2023-02-28T12:57:06.283Z"
   },
   {
    "duration": 424,
    "start_time": "2023-02-28T12:57:06.289Z"
   },
   {
    "duration": 379,
    "start_time": "2023-02-28T12:57:06.714Z"
   },
   {
    "duration": 435,
    "start_time": "2023-02-28T12:57:07.095Z"
   },
   {
    "duration": 8,
    "start_time": "2023-02-28T12:57:07.532Z"
   },
   {
    "duration": 8,
    "start_time": "2023-02-28T12:57:07.541Z"
   },
   {
    "duration": 6,
    "start_time": "2023-02-28T12:57:07.550Z"
   },
   {
    "duration": 8,
    "start_time": "2023-02-28T12:57:07.558Z"
   },
   {
    "duration": 10,
    "start_time": "2023-02-28T12:57:07.568Z"
   },
   {
    "duration": 8,
    "start_time": "2023-02-28T12:57:07.579Z"
   },
   {
    "duration": 25,
    "start_time": "2023-02-28T12:57:53.109Z"
   },
   {
    "duration": 3,
    "start_time": "2023-02-28T12:58:05.499Z"
   },
   {
    "duration": 75,
    "start_time": "2023-02-28T12:58:05.504Z"
   },
   {
    "duration": 13,
    "start_time": "2023-02-28T12:58:05.581Z"
   },
   {
    "duration": 31,
    "start_time": "2023-02-28T12:58:05.597Z"
   },
   {
    "duration": 15,
    "start_time": "2023-02-28T12:58:05.630Z"
   },
   {
    "duration": 62,
    "start_time": "2023-02-28T12:58:05.647Z"
   },
   {
    "duration": 752,
    "start_time": "2023-02-28T12:58:05.710Z"
   },
   {
    "duration": 4,
    "start_time": "2023-02-28T12:58:06.464Z"
   },
   {
    "duration": 38,
    "start_time": "2023-02-28T12:58:06.470Z"
   },
   {
    "duration": 11,
    "start_time": "2023-02-28T12:58:06.510Z"
   },
   {
    "duration": 10,
    "start_time": "2023-02-28T12:58:06.522Z"
   },
   {
    "duration": 6,
    "start_time": "2023-02-28T12:58:06.534Z"
   },
   {
    "duration": 4,
    "start_time": "2023-02-28T12:58:06.541Z"
   },
   {
    "duration": 6,
    "start_time": "2023-02-28T12:58:06.546Z"
   },
   {
    "duration": 6,
    "start_time": "2023-02-28T12:58:06.554Z"
   },
   {
    "duration": 28,
    "start_time": "2023-02-28T12:58:06.562Z"
   },
   {
    "duration": 55,
    "start_time": "2023-02-28T12:58:06.592Z"
   },
   {
    "duration": 7,
    "start_time": "2023-02-28T12:58:06.648Z"
   },
   {
    "duration": 8,
    "start_time": "2023-02-28T12:58:06.657Z"
   },
   {
    "duration": 5,
    "start_time": "2023-02-28T12:58:06.667Z"
   },
   {
    "duration": 17,
    "start_time": "2023-02-28T12:58:06.674Z"
   },
   {
    "duration": 4,
    "start_time": "2023-02-28T12:58:06.693Z"
   },
   {
    "duration": 262,
    "start_time": "2023-02-28T12:58:06.699Z"
   },
   {
    "duration": 10,
    "start_time": "2023-02-28T12:58:06.963Z"
   },
   {
    "duration": 13,
    "start_time": "2023-02-28T12:58:06.976Z"
   },
   {
    "duration": 826,
    "start_time": "2023-02-28T12:58:06.991Z"
   },
   {
    "duration": 18,
    "start_time": "2023-02-28T12:58:07.818Z"
   },
   {
    "duration": 5,
    "start_time": "2023-02-28T12:58:07.839Z"
   },
   {
    "duration": 18,
    "start_time": "2023-02-28T12:58:07.846Z"
   },
   {
    "duration": 4,
    "start_time": "2023-02-28T12:58:07.866Z"
   },
   {
    "duration": 5,
    "start_time": "2023-02-28T12:58:07.872Z"
   },
   {
    "duration": 6,
    "start_time": "2023-02-28T12:58:07.879Z"
   },
   {
    "duration": 347,
    "start_time": "2023-02-28T12:58:07.887Z"
   },
   {
    "duration": 37,
    "start_time": "2023-02-28T12:58:08.235Z"
   },
   {
    "duration": 311,
    "start_time": "2023-02-28T12:58:08.274Z"
   },
   {
    "duration": 6,
    "start_time": "2023-02-28T12:58:08.587Z"
   },
   {
    "duration": 621,
    "start_time": "2023-02-28T12:58:08.595Z"
   },
   {
    "duration": 569,
    "start_time": "2023-02-28T12:58:09.218Z"
   },
   {
    "duration": 222,
    "start_time": "2023-02-28T12:58:09.789Z"
   },
   {
    "duration": 312,
    "start_time": "2023-02-28T12:58:10.013Z"
   },
   {
    "duration": 282,
    "start_time": "2023-02-28T12:58:10.327Z"
   },
   {
    "duration": 5,
    "start_time": "2023-02-28T12:58:10.610Z"
   },
   {
    "duration": 346,
    "start_time": "2023-02-28T12:58:10.626Z"
   },
   {
    "duration": 370,
    "start_time": "2023-02-28T12:58:10.974Z"
   },
   {
    "duration": 367,
    "start_time": "2023-02-28T12:58:11.345Z"
   },
   {
    "duration": 18,
    "start_time": "2023-02-28T12:58:11.714Z"
   },
   {
    "duration": 10,
    "start_time": "2023-02-28T12:58:11.733Z"
   },
   {
    "duration": 6,
    "start_time": "2023-02-28T12:58:11.745Z"
   },
   {
    "duration": 18,
    "start_time": "2023-02-28T12:58:11.753Z"
   },
   {
    "duration": 13,
    "start_time": "2023-02-28T12:58:11.772Z"
   },
   {
    "duration": 14,
    "start_time": "2023-02-28T12:58:11.786Z"
   },
   {
    "duration": 26,
    "start_time": "2023-02-28T12:59:34.033Z"
   },
   {
    "duration": 3,
    "start_time": "2023-02-28T12:59:38.710Z"
   },
   {
    "duration": 62,
    "start_time": "2023-02-28T12:59:38.715Z"
   },
   {
    "duration": 17,
    "start_time": "2023-02-28T12:59:38.779Z"
   },
   {
    "duration": 40,
    "start_time": "2023-02-28T12:59:38.798Z"
   },
   {
    "duration": 16,
    "start_time": "2023-02-28T12:59:38.841Z"
   },
   {
    "duration": 36,
    "start_time": "2023-02-28T12:59:38.859Z"
   },
   {
    "duration": 750,
    "start_time": "2023-02-28T12:59:38.897Z"
   },
   {
    "duration": 6,
    "start_time": "2023-02-28T12:59:39.649Z"
   },
   {
    "duration": 18,
    "start_time": "2023-02-28T12:59:39.657Z"
   },
   {
    "duration": 10,
    "start_time": "2023-02-28T12:59:39.677Z"
   },
   {
    "duration": 9,
    "start_time": "2023-02-28T12:59:39.688Z"
   },
   {
    "duration": 29,
    "start_time": "2023-02-28T12:59:39.698Z"
   },
   {
    "duration": 4,
    "start_time": "2023-02-28T12:59:39.730Z"
   },
   {
    "duration": 7,
    "start_time": "2023-02-28T12:59:39.739Z"
   },
   {
    "duration": 7,
    "start_time": "2023-02-28T12:59:39.748Z"
   },
   {
    "duration": 129,
    "start_time": "2023-02-28T12:59:39.756Z"
   },
   {
    "duration": 29,
    "start_time": "2023-02-28T12:59:39.886Z"
   },
   {
    "duration": 10,
    "start_time": "2023-02-28T12:59:39.927Z"
   },
   {
    "duration": 7,
    "start_time": "2023-02-28T12:59:39.938Z"
   },
   {
    "duration": 8,
    "start_time": "2023-02-28T12:59:39.947Z"
   },
   {
    "duration": 16,
    "start_time": "2023-02-28T12:59:39.956Z"
   },
   {
    "duration": 5,
    "start_time": "2023-02-28T12:59:39.973Z"
   },
   {
    "duration": 264,
    "start_time": "2023-02-28T12:59:39.980Z"
   },
   {
    "duration": 10,
    "start_time": "2023-02-28T12:59:40.246Z"
   },
   {
    "duration": 32,
    "start_time": "2023-02-28T12:59:40.258Z"
   },
   {
    "duration": 737,
    "start_time": "2023-02-28T12:59:40.293Z"
   },
   {
    "duration": 14,
    "start_time": "2023-02-28T12:59:41.033Z"
   },
   {
    "duration": 8,
    "start_time": "2023-02-28T12:59:41.049Z"
   },
   {
    "duration": 12,
    "start_time": "2023-02-28T12:59:41.058Z"
   },
   {
    "duration": 7,
    "start_time": "2023-02-28T12:59:41.072Z"
   },
   {
    "duration": 5,
    "start_time": "2023-02-28T12:59:41.081Z"
   },
   {
    "duration": 5,
    "start_time": "2023-02-28T12:59:41.088Z"
   },
   {
    "duration": 332,
    "start_time": "2023-02-28T12:59:41.127Z"
   },
   {
    "duration": 39,
    "start_time": "2023-02-28T12:59:41.460Z"
   },
   {
    "duration": 324,
    "start_time": "2023-02-28T12:59:41.500Z"
   },
   {
    "duration": 7,
    "start_time": "2023-02-28T12:59:41.825Z"
   },
   {
    "duration": 597,
    "start_time": "2023-02-28T12:59:41.833Z"
   },
   {
    "duration": 650,
    "start_time": "2023-02-28T12:59:42.432Z"
   },
   {
    "duration": 213,
    "start_time": "2023-02-28T12:59:43.083Z"
   },
   {
    "duration": 211,
    "start_time": "2023-02-28T12:59:43.297Z"
   },
   {
    "duration": 226,
    "start_time": "2023-02-28T12:59:43.512Z"
   },
   {
    "duration": 5,
    "start_time": "2023-02-28T12:59:43.740Z"
   },
   {
    "duration": 347,
    "start_time": "2023-02-28T12:59:43.747Z"
   },
   {
    "duration": 360,
    "start_time": "2023-02-28T12:59:44.096Z"
   },
   {
    "duration": 333,
    "start_time": "2023-02-28T12:59:44.458Z"
   },
   {
    "duration": 7,
    "start_time": "2023-02-28T12:59:44.793Z"
   },
   {
    "duration": 8,
    "start_time": "2023-02-28T12:59:44.801Z"
   },
   {
    "duration": 17,
    "start_time": "2023-02-28T12:59:44.811Z"
   },
   {
    "duration": 7,
    "start_time": "2023-02-28T12:59:44.830Z"
   },
   {
    "duration": 9,
    "start_time": "2023-02-28T12:59:44.838Z"
   },
   {
    "duration": 11,
    "start_time": "2023-02-28T12:59:44.848Z"
   },
   {
    "duration": 52,
    "start_time": "2023-02-28T13:02:20.289Z"
   },
   {
    "duration": 8,
    "start_time": "2023-02-28T13:02:39.876Z"
   },
   {
    "duration": 31,
    "start_time": "2023-02-28T13:02:50.477Z"
   },
   {
    "duration": 7,
    "start_time": "2023-02-28T13:02:56.456Z"
   },
   {
    "duration": 4,
    "start_time": "2023-02-28T13:03:18.825Z"
   },
   {
    "duration": 4,
    "start_time": "2023-02-28T13:05:12.712Z"
   },
   {
    "duration": 4,
    "start_time": "2023-02-28T13:05:26.288Z"
   },
   {
    "duration": 94,
    "start_time": "2023-02-28T13:08:56.401Z"
   },
   {
    "duration": 4,
    "start_time": "2023-02-28T13:09:11.463Z"
   },
   {
    "duration": 5,
    "start_time": "2023-02-28T13:09:13.600Z"
   },
   {
    "duration": 5,
    "start_time": "2023-02-28T13:09:19.148Z"
   },
   {
    "duration": 4,
    "start_time": "2023-02-28T13:09:22.818Z"
   },
   {
    "duration": 5,
    "start_time": "2023-02-28T13:09:24.766Z"
   },
   {
    "duration": 9,
    "start_time": "2023-02-28T13:13:52.068Z"
   },
   {
    "duration": 6,
    "start_time": "2023-02-28T13:13:57.928Z"
   },
   {
    "duration": 5,
    "start_time": "2023-02-28T13:13:58.701Z"
   },
   {
    "duration": 8,
    "start_time": "2023-02-28T13:14:08.164Z"
   },
   {
    "duration": 14,
    "start_time": "2023-02-28T13:14:19.668Z"
   },
   {
    "duration": 3,
    "start_time": "2023-02-28T13:14:49.812Z"
   },
   {
    "duration": 71,
    "start_time": "2023-02-28T13:14:49.817Z"
   },
   {
    "duration": 14,
    "start_time": "2023-02-28T13:14:49.890Z"
   },
   {
    "duration": 37,
    "start_time": "2023-02-28T13:14:49.906Z"
   },
   {
    "duration": 20,
    "start_time": "2023-02-28T13:14:49.944Z"
   },
   {
    "duration": 31,
    "start_time": "2023-02-28T13:14:49.966Z"
   },
   {
    "duration": 978,
    "start_time": "2023-02-28T13:14:49.999Z"
   },
   {
    "duration": 6,
    "start_time": "2023-02-28T13:14:50.979Z"
   },
   {
    "duration": 20,
    "start_time": "2023-02-28T13:14:50.987Z"
   },
   {
    "duration": 39,
    "start_time": "2023-02-28T13:14:51.008Z"
   },
   {
    "duration": 30,
    "start_time": "2023-02-28T13:14:51.049Z"
   },
   {
    "duration": 10,
    "start_time": "2023-02-28T13:14:51.080Z"
   },
   {
    "duration": 51,
    "start_time": "2023-02-28T13:14:51.092Z"
   },
   {
    "duration": 15,
    "start_time": "2023-02-28T13:14:51.145Z"
   },
   {
    "duration": 18,
    "start_time": "2023-02-28T13:14:51.161Z"
   },
   {
    "duration": 15,
    "start_time": "2023-02-28T13:14:51.181Z"
   },
   {
    "duration": 8,
    "start_time": "2023-02-28T13:14:51.198Z"
   },
   {
    "duration": 43,
    "start_time": "2023-02-28T13:14:51.207Z"
   },
   {
    "duration": 33,
    "start_time": "2023-02-28T13:14:51.251Z"
   },
   {
    "duration": 8,
    "start_time": "2023-02-28T13:14:51.286Z"
   },
   {
    "duration": 8,
    "start_time": "2023-02-28T13:14:51.295Z"
   },
   {
    "duration": 8,
    "start_time": "2023-02-28T13:14:51.305Z"
   },
   {
    "duration": 8,
    "start_time": "2023-02-28T13:15:13.076Z"
   },
   {
    "duration": 3,
    "start_time": "2023-02-28T13:16:31.478Z"
   },
   {
    "duration": 90,
    "start_time": "2023-02-28T13:16:31.483Z"
   },
   {
    "duration": 14,
    "start_time": "2023-02-28T13:16:31.575Z"
   },
   {
    "duration": 37,
    "start_time": "2023-02-28T13:16:31.591Z"
   },
   {
    "duration": 25,
    "start_time": "2023-02-28T13:16:31.630Z"
   },
   {
    "duration": 44,
    "start_time": "2023-02-28T13:16:31.657Z"
   },
   {
    "duration": 759,
    "start_time": "2023-02-28T13:16:31.703Z"
   },
   {
    "duration": 5,
    "start_time": "2023-02-28T13:16:32.464Z"
   },
   {
    "duration": 35,
    "start_time": "2023-02-28T13:16:32.470Z"
   },
   {
    "duration": 44,
    "start_time": "2023-02-28T13:16:32.507Z"
   },
   {
    "duration": 27,
    "start_time": "2023-02-28T13:16:32.553Z"
   },
   {
    "duration": 21,
    "start_time": "2023-02-28T13:16:32.582Z"
   },
   {
    "duration": 38,
    "start_time": "2023-02-28T13:16:32.604Z"
   },
   {
    "duration": 28,
    "start_time": "2023-02-28T13:16:32.644Z"
   },
   {
    "duration": 4,
    "start_time": "2023-02-28T13:18:13.673Z"
   },
   {
    "duration": 96,
    "start_time": "2023-02-28T13:18:13.679Z"
   },
   {
    "duration": 13,
    "start_time": "2023-02-28T13:18:13.777Z"
   },
   {
    "duration": 38,
    "start_time": "2023-02-28T13:18:13.791Z"
   },
   {
    "duration": 31,
    "start_time": "2023-02-28T13:18:13.831Z"
   },
   {
    "duration": 57,
    "start_time": "2023-02-28T13:18:13.863Z"
   },
   {
    "duration": 729,
    "start_time": "2023-02-28T13:18:13.921Z"
   },
   {
    "duration": 4,
    "start_time": "2023-02-28T13:18:14.652Z"
   },
   {
    "duration": 34,
    "start_time": "2023-02-28T13:18:14.658Z"
   },
   {
    "duration": 38,
    "start_time": "2023-02-28T13:18:14.693Z"
   },
   {
    "duration": 27,
    "start_time": "2023-02-28T13:18:14.733Z"
   },
   {
    "duration": 36,
    "start_time": "2023-02-28T13:18:14.762Z"
   },
   {
    "duration": 20,
    "start_time": "2023-02-28T13:18:14.799Z"
   },
   {
    "duration": 34,
    "start_time": "2023-02-28T13:18:14.822Z"
   },
   {
    "duration": 23,
    "start_time": "2023-02-28T13:18:14.857Z"
   },
   {
    "duration": 6,
    "start_time": "2023-02-28T13:18:26.988Z"
   },
   {
    "duration": 6,
    "start_time": "2023-02-28T13:18:37.005Z"
   },
   {
    "duration": 8,
    "start_time": "2023-02-28T13:18:37.490Z"
   },
   {
    "duration": 3,
    "start_time": "2023-02-28T13:19:45.079Z"
   },
   {
    "duration": 67,
    "start_time": "2023-02-28T13:19:45.084Z"
   },
   {
    "duration": 13,
    "start_time": "2023-02-28T13:19:45.153Z"
   },
   {
    "duration": 22,
    "start_time": "2023-02-28T13:19:45.169Z"
   },
   {
    "duration": 13,
    "start_time": "2023-02-28T13:19:45.193Z"
   },
   {
    "duration": 42,
    "start_time": "2023-02-28T13:19:45.208Z"
   },
   {
    "duration": 740,
    "start_time": "2023-02-28T13:19:45.252Z"
   },
   {
    "duration": 6,
    "start_time": "2023-02-28T13:19:45.993Z"
   },
   {
    "duration": 27,
    "start_time": "2023-02-28T13:19:46.001Z"
   },
   {
    "duration": 9,
    "start_time": "2023-02-28T13:19:46.031Z"
   },
   {
    "duration": 14,
    "start_time": "2023-02-28T13:19:46.042Z"
   },
   {
    "duration": 13,
    "start_time": "2023-02-28T13:19:46.058Z"
   },
   {
    "duration": 27,
    "start_time": "2023-02-28T13:19:46.073Z"
   },
   {
    "duration": 9,
    "start_time": "2023-02-28T13:19:46.102Z"
   },
   {
    "duration": 6,
    "start_time": "2023-02-28T13:19:46.113Z"
   },
   {
    "duration": 16,
    "start_time": "2023-02-28T13:19:46.121Z"
   },
   {
    "duration": 133,
    "start_time": "2023-02-28T13:19:46.139Z"
   },
   {
    "duration": 32,
    "start_time": "2023-02-28T13:19:46.273Z"
   },
   {
    "duration": 7,
    "start_time": "2023-02-28T13:19:46.306Z"
   },
   {
    "duration": 15,
    "start_time": "2023-02-28T13:19:46.315Z"
   },
   {
    "duration": 6,
    "start_time": "2023-02-28T13:19:46.331Z"
   },
   {
    "duration": 13,
    "start_time": "2023-02-28T13:19:46.339Z"
   },
   {
    "duration": 20,
    "start_time": "2023-02-28T13:21:00.927Z"
   },
   {
    "duration": 4,
    "start_time": "2023-02-28T13:21:03.951Z"
   },
   {
    "duration": 3,
    "start_time": "2023-02-28T13:22:30.341Z"
   },
   {
    "duration": 95,
    "start_time": "2023-02-28T13:22:30.346Z"
   },
   {
    "duration": 14,
    "start_time": "2023-02-28T13:22:30.443Z"
   },
   {
    "duration": 56,
    "start_time": "2023-02-28T13:22:30.460Z"
   },
   {
    "duration": 31,
    "start_time": "2023-02-28T13:22:30.517Z"
   },
   {
    "duration": 56,
    "start_time": "2023-02-28T13:22:30.549Z"
   },
   {
    "duration": 826,
    "start_time": "2023-02-28T13:22:30.607Z"
   },
   {
    "duration": 5,
    "start_time": "2023-02-28T13:22:31.435Z"
   },
   {
    "duration": 15,
    "start_time": "2023-02-28T13:22:31.442Z"
   },
   {
    "duration": 17,
    "start_time": "2023-02-28T13:22:31.459Z"
   },
   {
    "duration": 9,
    "start_time": "2023-02-28T13:22:31.478Z"
   },
   {
    "duration": 12,
    "start_time": "2023-02-28T13:22:31.488Z"
   },
   {
    "duration": 13,
    "start_time": "2023-02-28T13:22:31.502Z"
   },
   {
    "duration": 15,
    "start_time": "2023-02-28T13:22:31.517Z"
   },
   {
    "duration": 15,
    "start_time": "2023-02-28T13:22:31.534Z"
   },
   {
    "duration": 8,
    "start_time": "2023-02-28T13:22:31.551Z"
   },
   {
    "duration": 32,
    "start_time": "2023-02-28T13:22:31.561Z"
   },
   {
    "duration": 33,
    "start_time": "2023-02-28T13:22:31.595Z"
   },
   {
    "duration": 7,
    "start_time": "2023-02-28T13:22:31.630Z"
   },
   {
    "duration": 12,
    "start_time": "2023-02-28T13:22:31.639Z"
   },
   {
    "duration": 8,
    "start_time": "2023-02-28T13:22:31.652Z"
   },
   {
    "duration": 17,
    "start_time": "2023-02-28T13:22:31.662Z"
   },
   {
    "duration": 3,
    "start_time": "2023-02-28T13:22:31.680Z"
   },
   {
    "duration": 14,
    "start_time": "2023-02-28T13:22:41.421Z"
   },
   {
    "duration": 9,
    "start_time": "2023-02-28T13:23:22.907Z"
   },
   {
    "duration": 6,
    "start_time": "2023-02-28T13:23:32.138Z"
   },
   {
    "duration": 15,
    "start_time": "2023-02-28T13:23:32.842Z"
   },
   {
    "duration": 4,
    "start_time": "2023-02-28T13:29:28.566Z"
   },
   {
    "duration": 16,
    "start_time": "2023-02-28T13:30:27.396Z"
   },
   {
    "duration": 26,
    "start_time": "2023-02-28T13:30:29.668Z"
   },
   {
    "duration": 5,
    "start_time": "2023-02-28T13:37:39.297Z"
   },
   {
    "duration": 13,
    "start_time": "2023-02-28T13:38:49.637Z"
   },
   {
    "duration": 14,
    "start_time": "2023-02-28T13:39:01.767Z"
   },
   {
    "duration": 177,
    "start_time": "2023-02-28T13:39:22.703Z"
   },
   {
    "duration": 11,
    "start_time": "2023-02-28T13:39:49.770Z"
   },
   {
    "duration": 175,
    "start_time": "2023-02-28T13:39:52.219Z"
   },
   {
    "duration": 3,
    "start_time": "2023-02-28T13:40:02.983Z"
   },
   {
    "duration": 92,
    "start_time": "2023-02-28T13:40:02.988Z"
   },
   {
    "duration": 16,
    "start_time": "2023-02-28T13:40:03.082Z"
   },
   {
    "duration": 42,
    "start_time": "2023-02-28T13:40:03.100Z"
   },
   {
    "duration": 24,
    "start_time": "2023-02-28T13:40:03.144Z"
   },
   {
    "duration": 30,
    "start_time": "2023-02-28T13:40:03.170Z"
   },
   {
    "duration": 803,
    "start_time": "2023-02-28T13:40:03.203Z"
   },
   {
    "duration": 5,
    "start_time": "2023-02-28T13:40:04.008Z"
   },
   {
    "duration": 20,
    "start_time": "2023-02-28T13:40:04.015Z"
   },
   {
    "duration": 11,
    "start_time": "2023-02-28T13:40:04.037Z"
   },
   {
    "duration": 15,
    "start_time": "2023-02-28T13:40:04.051Z"
   },
   {
    "duration": 8,
    "start_time": "2023-02-28T13:40:04.068Z"
   },
   {
    "duration": 55,
    "start_time": "2023-02-28T13:40:04.077Z"
   },
   {
    "duration": 19,
    "start_time": "2023-02-28T13:40:04.133Z"
   },
   {
    "duration": 39,
    "start_time": "2023-02-28T13:40:04.154Z"
   },
   {
    "duration": 9,
    "start_time": "2023-02-28T13:40:04.194Z"
   },
   {
    "duration": 43,
    "start_time": "2023-02-28T13:40:04.205Z"
   },
   {
    "duration": 42,
    "start_time": "2023-02-28T13:40:04.250Z"
   },
   {
    "duration": 8,
    "start_time": "2023-02-28T13:40:04.294Z"
   },
   {
    "duration": 14,
    "start_time": "2023-02-28T13:40:04.303Z"
   },
   {
    "duration": 5,
    "start_time": "2023-02-28T13:40:04.327Z"
   },
   {
    "duration": 23,
    "start_time": "2023-02-28T13:40:04.334Z"
   },
   {
    "duration": 7,
    "start_time": "2023-02-28T13:40:04.360Z"
   },
   {
    "duration": 28,
    "start_time": "2023-02-28T13:40:04.369Z"
   },
   {
    "duration": 266,
    "start_time": "2023-02-28T13:40:04.399Z"
   },
   {
    "duration": 10,
    "start_time": "2023-02-28T13:40:04.666Z"
   },
   {
    "duration": 219,
    "start_time": "2023-02-28T13:40:04.678Z"
   },
   {
    "duration": 13,
    "start_time": "2023-02-28T13:40:04.898Z"
   },
   {
    "duration": 9,
    "start_time": "2023-02-28T13:40:21.090Z"
   },
   {
    "duration": 175,
    "start_time": "2023-02-28T13:40:21.571Z"
   },
   {
    "duration": 265,
    "start_time": "2023-02-28T13:40:43.677Z"
   },
   {
    "duration": 165,
    "start_time": "2023-02-28T13:40:49.822Z"
   },
   {
    "duration": 210,
    "start_time": "2023-02-28T13:41:32.735Z"
   },
   {
    "duration": 152,
    "start_time": "2023-02-28T13:41:50.831Z"
   },
   {
    "duration": 175,
    "start_time": "2023-02-28T13:41:59.876Z"
   },
   {
    "duration": 175,
    "start_time": "2023-02-28T13:42:46.539Z"
   },
   {
    "duration": 195,
    "start_time": "2023-02-28T13:43:26.842Z"
   },
   {
    "duration": 185,
    "start_time": "2023-02-28T13:43:32.084Z"
   },
   {
    "duration": 63,
    "start_time": "2023-02-28T13:43:53.377Z"
   },
   {
    "duration": 46,
    "start_time": "2023-02-28T13:44:02.777Z"
   },
   {
    "duration": 199,
    "start_time": "2023-02-28T13:44:06.611Z"
   },
   {
    "duration": 183,
    "start_time": "2023-02-28T13:44:14.738Z"
   },
   {
    "duration": 177,
    "start_time": "2023-02-28T13:44:22.670Z"
   },
   {
    "duration": 245,
    "start_time": "2023-02-28T13:45:51.075Z"
   },
   {
    "duration": 255,
    "start_time": "2023-02-28T13:46:00.400Z"
   },
   {
    "duration": 297,
    "start_time": "2023-02-28T13:46:05.410Z"
   },
   {
    "duration": 195,
    "start_time": "2023-02-28T13:46:25.966Z"
   },
   {
    "duration": 294,
    "start_time": "2023-02-28T13:46:30.433Z"
   },
   {
    "duration": 5,
    "start_time": "2023-02-28T13:53:37.046Z"
   },
   {
    "duration": 196,
    "start_time": "2023-02-28T13:54:16.060Z"
   },
   {
    "duration": 10,
    "start_time": "2023-02-28T14:06:32.484Z"
   },
   {
    "duration": 11,
    "start_time": "2023-02-28T14:07:56.567Z"
   },
   {
    "duration": 12,
    "start_time": "2023-02-28T14:08:27.568Z"
   },
   {
    "duration": 10,
    "start_time": "2023-02-28T14:09:59.792Z"
   },
   {
    "duration": 7,
    "start_time": "2023-02-28T14:11:56.572Z"
   },
   {
    "duration": 4,
    "start_time": "2023-02-28T14:31:46.523Z"
   },
   {
    "duration": 113,
    "start_time": "2023-02-28T14:31:46.529Z"
   },
   {
    "duration": 14,
    "start_time": "2023-02-28T14:31:46.644Z"
   },
   {
    "duration": 24,
    "start_time": "2023-02-28T14:31:46.660Z"
   },
   {
    "duration": 13,
    "start_time": "2023-02-28T14:31:46.686Z"
   },
   {
    "duration": 49,
    "start_time": "2023-02-28T14:31:46.701Z"
   },
   {
    "duration": 793,
    "start_time": "2023-02-28T14:31:46.752Z"
   },
   {
    "duration": 6,
    "start_time": "2023-02-28T14:31:47.547Z"
   },
   {
    "duration": 18,
    "start_time": "2023-02-28T14:31:47.555Z"
   },
   {
    "duration": 24,
    "start_time": "2023-02-28T14:31:47.576Z"
   },
   {
    "duration": 12,
    "start_time": "2023-02-28T14:31:47.602Z"
   },
   {
    "duration": 11,
    "start_time": "2023-02-28T14:31:47.616Z"
   },
   {
    "duration": 5,
    "start_time": "2023-02-28T14:31:47.629Z"
   },
   {
    "duration": 13,
    "start_time": "2023-02-28T14:31:47.636Z"
   },
   {
    "duration": 7,
    "start_time": "2023-02-28T14:31:47.651Z"
   },
   {
    "duration": 11,
    "start_time": "2023-02-28T14:31:47.660Z"
   },
   {
    "duration": 30,
    "start_time": "2023-02-28T14:31:47.673Z"
   },
   {
    "duration": 48,
    "start_time": "2023-02-28T14:31:47.727Z"
   },
   {
    "duration": 12,
    "start_time": "2023-02-28T14:31:47.777Z"
   },
   {
    "duration": 7,
    "start_time": "2023-02-28T14:31:47.791Z"
   },
   {
    "duration": 29,
    "start_time": "2023-02-28T14:31:47.799Z"
   },
   {
    "duration": 14,
    "start_time": "2023-02-28T14:31:47.830Z"
   },
   {
    "duration": 3,
    "start_time": "2023-02-28T14:31:47.845Z"
   },
   {
    "duration": 10,
    "start_time": "2023-02-28T14:31:47.849Z"
   },
   {
    "duration": 252,
    "start_time": "2023-02-28T14:31:47.860Z"
   },
   {
    "duration": 18,
    "start_time": "2023-02-28T14:31:48.115Z"
   },
   {
    "duration": 226,
    "start_time": "2023-02-28T14:31:48.136Z"
   },
   {
    "duration": 14,
    "start_time": "2023-02-28T14:31:48.367Z"
   },
   {
    "duration": 10,
    "start_time": "2023-02-28T14:31:48.383Z"
   },
   {
    "duration": 0,
    "start_time": "2023-02-28T14:31:48.395Z"
   },
   {
    "duration": 0,
    "start_time": "2023-02-28T14:31:48.396Z"
   },
   {
    "duration": 0,
    "start_time": "2023-02-28T14:31:48.397Z"
   },
   {
    "duration": 0,
    "start_time": "2023-02-28T14:31:48.399Z"
   },
   {
    "duration": 0,
    "start_time": "2023-02-28T14:31:48.400Z"
   },
   {
    "duration": 0,
    "start_time": "2023-02-28T14:31:48.401Z"
   },
   {
    "duration": 0,
    "start_time": "2023-02-28T14:31:48.428Z"
   },
   {
    "duration": 4,
    "start_time": "2023-02-28T14:31:48.676Z"
   },
   {
    "duration": 79,
    "start_time": "2023-02-28T14:31:48.682Z"
   },
   {
    "duration": 13,
    "start_time": "2023-02-28T14:31:48.763Z"
   },
   {
    "duration": 22,
    "start_time": "2023-02-28T14:31:48.778Z"
   },
   {
    "duration": 18,
    "start_time": "2023-02-28T14:31:48.831Z"
   },
   {
    "duration": 39,
    "start_time": "2023-02-28T14:31:48.851Z"
   },
   {
    "duration": 931,
    "start_time": "2023-02-28T14:31:48.892Z"
   },
   {
    "duration": 5,
    "start_time": "2023-02-28T14:31:49.827Z"
   },
   {
    "duration": 17,
    "start_time": "2023-02-28T14:31:49.833Z"
   },
   {
    "duration": 11,
    "start_time": "2023-02-28T14:31:49.851Z"
   },
   {
    "duration": 13,
    "start_time": "2023-02-28T14:31:49.864Z"
   },
   {
    "duration": 7,
    "start_time": "2023-02-28T14:31:49.878Z"
   },
   {
    "duration": 5,
    "start_time": "2023-02-28T14:31:49.886Z"
   },
   {
    "duration": 35,
    "start_time": "2023-02-28T14:31:49.894Z"
   },
   {
    "duration": 13,
    "start_time": "2023-02-28T14:31:49.931Z"
   },
   {
    "duration": 8,
    "start_time": "2023-02-28T14:31:49.945Z"
   },
   {
    "duration": 32,
    "start_time": "2023-02-28T14:31:49.955Z"
   },
   {
    "duration": 57,
    "start_time": "2023-02-28T14:31:49.988Z"
   },
   {
    "duration": 9,
    "start_time": "2023-02-28T14:31:50.047Z"
   },
   {
    "duration": 14,
    "start_time": "2023-02-28T14:31:50.059Z"
   },
   {
    "duration": 11,
    "start_time": "2023-02-28T14:31:50.075Z"
   },
   {
    "duration": 19,
    "start_time": "2023-02-28T14:31:50.087Z"
   },
   {
    "duration": 3,
    "start_time": "2023-02-28T14:31:50.108Z"
   },
   {
    "duration": 19,
    "start_time": "2023-02-28T14:31:50.113Z"
   },
   {
    "duration": 250,
    "start_time": "2023-02-28T14:31:50.134Z"
   },
   {
    "duration": 11,
    "start_time": "2023-02-28T14:31:50.386Z"
   },
   {
    "duration": 225,
    "start_time": "2023-02-28T14:31:50.399Z"
   },
   {
    "duration": 17,
    "start_time": "2023-02-28T14:31:50.630Z"
   },
   {
    "duration": 20,
    "start_time": "2023-02-28T14:31:50.651Z"
   },
   {
    "duration": 0,
    "start_time": "2023-02-28T14:31:50.673Z"
   },
   {
    "duration": 0,
    "start_time": "2023-02-28T14:31:50.676Z"
   },
   {
    "duration": 1,
    "start_time": "2023-02-28T14:31:50.677Z"
   },
   {
    "duration": 0,
    "start_time": "2023-02-28T14:31:50.680Z"
   },
   {
    "duration": 0,
    "start_time": "2023-02-28T14:31:50.681Z"
   },
   {
    "duration": 0,
    "start_time": "2023-02-28T14:31:50.682Z"
   },
   {
    "duration": 0,
    "start_time": "2023-02-28T14:31:50.684Z"
   },
   {
    "duration": 0,
    "start_time": "2023-02-28T14:31:50.686Z"
   },
   {
    "duration": 0,
    "start_time": "2023-02-28T14:31:50.687Z"
   },
   {
    "duration": 0,
    "start_time": "2023-02-28T14:31:50.689Z"
   },
   {
    "duration": 0,
    "start_time": "2023-02-28T14:31:50.691Z"
   },
   {
    "duration": 0,
    "start_time": "2023-02-28T14:31:50.728Z"
   },
   {
    "duration": 0,
    "start_time": "2023-02-28T14:31:50.729Z"
   },
   {
    "duration": 0,
    "start_time": "2023-02-28T14:31:50.731Z"
   },
   {
    "duration": 0,
    "start_time": "2023-02-28T14:31:50.733Z"
   },
   {
    "duration": 0,
    "start_time": "2023-02-28T14:31:50.735Z"
   },
   {
    "duration": 0,
    "start_time": "2023-02-28T14:31:50.736Z"
   },
   {
    "duration": 0,
    "start_time": "2023-02-28T14:31:50.738Z"
   },
   {
    "duration": 0,
    "start_time": "2023-02-28T14:31:50.739Z"
   },
   {
    "duration": 0,
    "start_time": "2023-02-28T14:31:50.741Z"
   },
   {
    "duration": 0,
    "start_time": "2023-02-28T14:31:50.743Z"
   },
   {
    "duration": 0,
    "start_time": "2023-02-28T14:31:50.744Z"
   },
   {
    "duration": 0,
    "start_time": "2023-02-28T14:31:50.745Z"
   },
   {
    "duration": 0,
    "start_time": "2023-02-28T14:31:50.747Z"
   },
   {
    "duration": 0,
    "start_time": "2023-02-28T14:31:50.749Z"
   },
   {
    "duration": 0,
    "start_time": "2023-02-28T14:31:50.750Z"
   },
   {
    "duration": 0,
    "start_time": "2023-02-28T14:31:50.753Z"
   },
   {
    "duration": 708,
    "start_time": "2023-02-28T14:33:13.515Z"
   },
   {
    "duration": 9,
    "start_time": "2023-02-28T14:33:49.900Z"
   },
   {
    "duration": 4,
    "start_time": "2023-02-28T14:33:53.020Z"
   },
   {
    "duration": 68,
    "start_time": "2023-02-28T14:33:53.026Z"
   },
   {
    "duration": 14,
    "start_time": "2023-02-28T14:33:53.096Z"
   },
   {
    "duration": 34,
    "start_time": "2023-02-28T14:33:53.113Z"
   },
   {
    "duration": 16,
    "start_time": "2023-02-28T14:33:53.149Z"
   },
   {
    "duration": 62,
    "start_time": "2023-02-28T14:33:53.167Z"
   },
   {
    "duration": 779,
    "start_time": "2023-02-28T14:33:53.231Z"
   },
   {
    "duration": 5,
    "start_time": "2023-02-28T14:33:54.012Z"
   },
   {
    "duration": 15,
    "start_time": "2023-02-28T14:33:54.028Z"
   },
   {
    "duration": 10,
    "start_time": "2023-02-28T14:33:54.045Z"
   },
   {
    "duration": 10,
    "start_time": "2023-02-28T14:33:54.056Z"
   },
   {
    "duration": 10,
    "start_time": "2023-02-28T14:33:54.067Z"
   },
   {
    "duration": 11,
    "start_time": "2023-02-28T14:33:54.079Z"
   },
   {
    "duration": 13,
    "start_time": "2023-02-28T14:33:54.091Z"
   },
   {
    "duration": 5,
    "start_time": "2023-02-28T14:33:54.106Z"
   },
   {
    "duration": 17,
    "start_time": "2023-02-28T14:33:54.112Z"
   },
   {
    "duration": 150,
    "start_time": "2023-02-28T14:33:54.131Z"
   },
   {
    "duration": 34,
    "start_time": "2023-02-28T14:33:54.282Z"
   },
   {
    "duration": 8,
    "start_time": "2023-02-28T14:33:54.327Z"
   },
   {
    "duration": 9,
    "start_time": "2023-02-28T14:33:54.337Z"
   },
   {
    "duration": 8,
    "start_time": "2023-02-28T14:33:54.348Z"
   },
   {
    "duration": 21,
    "start_time": "2023-02-28T14:33:54.358Z"
   },
   {
    "duration": 3,
    "start_time": "2023-02-28T14:33:54.381Z"
   },
   {
    "duration": 7,
    "start_time": "2023-02-28T14:33:54.389Z"
   },
   {
    "duration": 261,
    "start_time": "2023-02-28T14:33:54.397Z"
   },
   {
    "duration": 10,
    "start_time": "2023-02-28T14:33:54.660Z"
   },
   {
    "duration": 203,
    "start_time": "2023-02-28T14:33:54.671Z"
   },
   {
    "duration": 13,
    "start_time": "2023-02-28T14:33:54.876Z"
   },
   {
    "duration": 707,
    "start_time": "2023-02-28T14:33:54.890Z"
   },
   {
    "duration": 13,
    "start_time": "2023-02-28T14:33:55.599Z"
   },
   {
    "duration": 14,
    "start_time": "2023-02-28T14:33:55.614Z"
   },
   {
    "duration": 10,
    "start_time": "2023-02-28T14:33:55.630Z"
   },
   {
    "duration": 10,
    "start_time": "2023-02-28T14:33:55.641Z"
   },
   {
    "duration": 11,
    "start_time": "2023-02-28T14:33:55.652Z"
   },
   {
    "duration": 14,
    "start_time": "2023-02-28T14:33:55.665Z"
   },
   {
    "duration": 9,
    "start_time": "2023-02-28T14:33:55.680Z"
   },
   {
    "duration": 8,
    "start_time": "2023-02-28T14:33:55.691Z"
   },
   {
    "duration": 315,
    "start_time": "2023-02-28T14:33:55.700Z"
   },
   {
    "duration": 37,
    "start_time": "2023-02-28T14:33:56.017Z"
   },
   {
    "duration": 306,
    "start_time": "2023-02-28T14:33:56.056Z"
   },
   {
    "duration": 7,
    "start_time": "2023-02-28T14:33:56.364Z"
   },
   {
    "duration": 620,
    "start_time": "2023-02-28T14:33:56.373Z"
   },
   {
    "duration": 0,
    "start_time": "2023-02-28T14:33:56.995Z"
   },
   {
    "duration": 0,
    "start_time": "2023-02-28T14:33:56.996Z"
   },
   {
    "duration": 0,
    "start_time": "2023-02-28T14:33:56.997Z"
   },
   {
    "duration": 0,
    "start_time": "2023-02-28T14:33:56.998Z"
   },
   {
    "duration": 0,
    "start_time": "2023-02-28T14:33:57.000Z"
   },
   {
    "duration": 0,
    "start_time": "2023-02-28T14:33:57.001Z"
   },
   {
    "duration": 0,
    "start_time": "2023-02-28T14:33:57.002Z"
   },
   {
    "duration": 0,
    "start_time": "2023-02-28T14:33:57.003Z"
   },
   {
    "duration": 0,
    "start_time": "2023-02-28T14:33:57.004Z"
   },
   {
    "duration": 0,
    "start_time": "2023-02-28T14:33:57.005Z"
   },
   {
    "duration": 0,
    "start_time": "2023-02-28T14:33:57.026Z"
   },
   {
    "duration": 0,
    "start_time": "2023-02-28T14:33:57.028Z"
   },
   {
    "duration": 0,
    "start_time": "2023-02-28T14:33:57.029Z"
   },
   {
    "duration": 0,
    "start_time": "2023-02-28T14:33:57.031Z"
   },
   {
    "duration": 410,
    "start_time": "2023-02-28T14:58:32.779Z"
   },
   {
    "duration": 322,
    "start_time": "2023-02-28T14:59:28.886Z"
   },
   {
    "duration": 314,
    "start_time": "2023-02-28T14:59:32.361Z"
   },
   {
    "duration": 40,
    "start_time": "2023-02-28T15:05:35.581Z"
   },
   {
    "duration": 4,
    "start_time": "2023-02-28T15:07:01.329Z"
   },
   {
    "duration": 95,
    "start_time": "2023-02-28T15:07:01.336Z"
   },
   {
    "duration": 21,
    "start_time": "2023-02-28T15:07:01.434Z"
   },
   {
    "duration": 49,
    "start_time": "2023-02-28T15:07:01.457Z"
   },
   {
    "duration": 33,
    "start_time": "2023-02-28T15:07:01.508Z"
   },
   {
    "duration": 56,
    "start_time": "2023-02-28T15:07:01.543Z"
   },
   {
    "duration": 792,
    "start_time": "2023-02-28T15:07:01.601Z"
   },
   {
    "duration": 6,
    "start_time": "2023-02-28T15:07:02.395Z"
   },
   {
    "duration": 28,
    "start_time": "2023-02-28T15:07:02.403Z"
   },
   {
    "duration": 15,
    "start_time": "2023-02-28T15:07:02.434Z"
   },
   {
    "duration": 21,
    "start_time": "2023-02-28T15:07:02.451Z"
   },
   {
    "duration": 7,
    "start_time": "2023-02-28T15:07:02.474Z"
   },
   {
    "duration": 8,
    "start_time": "2023-02-28T15:07:02.483Z"
   },
   {
    "duration": 12,
    "start_time": "2023-02-28T15:07:02.493Z"
   },
   {
    "duration": 24,
    "start_time": "2023-02-28T15:07:02.506Z"
   },
   {
    "duration": 11,
    "start_time": "2023-02-28T15:07:02.532Z"
   },
   {
    "duration": 36,
    "start_time": "2023-02-28T15:07:02.545Z"
   },
   {
    "duration": 46,
    "start_time": "2023-02-28T15:07:02.583Z"
   },
   {
    "duration": 8,
    "start_time": "2023-02-28T15:07:02.631Z"
   },
   {
    "duration": 11,
    "start_time": "2023-02-28T15:07:02.642Z"
   },
   {
    "duration": 10,
    "start_time": "2023-02-28T15:07:02.656Z"
   },
   {
    "duration": 14,
    "start_time": "2023-02-28T15:07:02.668Z"
   },
   {
    "duration": 2,
    "start_time": "2023-02-28T15:07:02.686Z"
   },
   {
    "duration": 40,
    "start_time": "2023-02-28T15:07:02.690Z"
   },
   {
    "duration": 268,
    "start_time": "2023-02-28T15:07:02.733Z"
   },
   {
    "duration": 23,
    "start_time": "2023-02-28T15:07:03.003Z"
   },
   {
    "duration": 228,
    "start_time": "2023-02-28T15:07:03.029Z"
   },
   {
    "duration": 12,
    "start_time": "2023-02-28T15:07:03.261Z"
   },
   {
    "duration": 866,
    "start_time": "2023-02-28T15:07:03.275Z"
   },
   {
    "duration": 16,
    "start_time": "2023-02-28T15:07:04.143Z"
   },
   {
    "duration": 13,
    "start_time": "2023-02-28T15:07:04.160Z"
   },
   {
    "duration": 18,
    "start_time": "2023-02-28T15:07:04.175Z"
   },
   {
    "duration": 29,
    "start_time": "2023-02-28T15:07:04.195Z"
   },
   {
    "duration": 69,
    "start_time": "2023-02-28T15:07:04.226Z"
   },
   {
    "duration": 11,
    "start_time": "2023-02-28T15:07:04.297Z"
   },
   {
    "duration": 18,
    "start_time": "2023-02-28T15:07:04.310Z"
   },
   {
    "duration": 12,
    "start_time": "2023-02-28T15:07:04.329Z"
   },
   {
    "duration": 330,
    "start_time": "2023-02-28T15:07:04.342Z"
   },
   {
    "duration": 91,
    "start_time": "2023-02-28T15:07:04.673Z"
   },
   {
    "duration": 764,
    "start_time": "2023-02-28T15:07:04.766Z"
   },
   {
    "duration": 9,
    "start_time": "2023-02-28T15:07:05.532Z"
   },
   {
    "duration": 1313,
    "start_time": "2023-02-28T15:07:05.544Z"
   },
   {
    "duration": 0,
    "start_time": "2023-02-28T15:07:06.859Z"
   },
   {
    "duration": 0,
    "start_time": "2023-02-28T15:07:06.861Z"
   },
   {
    "duration": 0,
    "start_time": "2023-02-28T15:07:06.862Z"
   },
   {
    "duration": 0,
    "start_time": "2023-02-28T15:07:06.863Z"
   },
   {
    "duration": 0,
    "start_time": "2023-02-28T15:07:06.865Z"
   },
   {
    "duration": 0,
    "start_time": "2023-02-28T15:07:06.866Z"
   },
   {
    "duration": 0,
    "start_time": "2023-02-28T15:07:06.867Z"
   },
   {
    "duration": 0,
    "start_time": "2023-02-28T15:07:06.868Z"
   },
   {
    "duration": 0,
    "start_time": "2023-02-28T15:07:06.869Z"
   },
   {
    "duration": 0,
    "start_time": "2023-02-28T15:07:06.870Z"
   },
   {
    "duration": 0,
    "start_time": "2023-02-28T15:07:06.871Z"
   },
   {
    "duration": 0,
    "start_time": "2023-02-28T15:07:06.927Z"
   },
   {
    "duration": 0,
    "start_time": "2023-02-28T15:07:06.928Z"
   },
   {
    "duration": 0,
    "start_time": "2023-02-28T15:07:06.928Z"
   },
   {
    "duration": 47,
    "start_time": "2023-02-28T15:08:02.957Z"
   },
   {
    "duration": 35,
    "start_time": "2023-02-28T15:10:22.871Z"
   },
   {
    "duration": 14,
    "start_time": "2023-02-28T15:14:06.600Z"
   },
   {
    "duration": 27,
    "start_time": "2023-02-28T15:14:14.520Z"
   },
   {
    "duration": 26,
    "start_time": "2023-02-28T15:14:28.324Z"
   },
   {
    "duration": 242,
    "start_time": "2023-02-28T15:18:20.554Z"
   },
   {
    "duration": 334,
    "start_time": "2023-02-28T15:18:48.759Z"
   },
   {
    "duration": 325,
    "start_time": "2023-02-28T15:18:58.665Z"
   },
   {
    "duration": 452,
    "start_time": "2023-02-28T15:19:27.150Z"
   },
   {
    "duration": 317,
    "start_time": "2023-02-28T15:19:39.467Z"
   },
   {
    "duration": 333,
    "start_time": "2023-02-28T15:19:51.452Z"
   },
   {
    "duration": 351,
    "start_time": "2023-02-28T15:19:57.064Z"
   },
   {
    "duration": 322,
    "start_time": "2023-02-28T15:19:59.501Z"
   },
   {
    "duration": 64,
    "start_time": "2023-02-28T15:20:22.324Z"
   },
   {
    "duration": 421,
    "start_time": "2023-02-28T15:21:17.562Z"
   },
   {
    "duration": 321,
    "start_time": "2023-02-28T15:22:58.649Z"
   },
   {
    "duration": 14,
    "start_time": "2023-02-28T15:24:11.017Z"
   },
   {
    "duration": 195,
    "start_time": "2023-02-28T15:24:13.514Z"
   },
   {
    "duration": 199,
    "start_time": "2023-02-28T15:25:43.305Z"
   },
   {
    "duration": 50,
    "start_time": "2023-02-28T15:25:51.643Z"
   },
   {
    "duration": 68,
    "start_time": "2023-02-28T15:25:54.123Z"
   },
   {
    "duration": 313,
    "start_time": "2023-02-28T15:25:57.981Z"
   },
   {
    "duration": 338,
    "start_time": "2023-02-28T15:26:46.912Z"
   },
   {
    "duration": 330,
    "start_time": "2023-02-28T15:29:13.247Z"
   },
   {
    "duration": 417,
    "start_time": "2023-02-28T15:29:21.814Z"
   },
   {
    "duration": 318,
    "start_time": "2023-02-28T15:29:25.989Z"
   },
   {
    "duration": 323,
    "start_time": "2023-02-28T15:29:35.614Z"
   },
   {
    "duration": 292,
    "start_time": "2023-02-28T15:29:50.002Z"
   },
   {
    "duration": 310,
    "start_time": "2023-02-28T15:29:56.872Z"
   },
   {
    "duration": 291,
    "start_time": "2023-02-28T15:30:04.877Z"
   },
   {
    "duration": 408,
    "start_time": "2023-02-28T15:30:15.361Z"
   },
   {
    "duration": 303,
    "start_time": "2023-02-28T15:32:26.844Z"
   },
   {
    "duration": 294,
    "start_time": "2023-02-28T15:32:32.340Z"
   },
   {
    "duration": 296,
    "start_time": "2023-02-28T15:32:34.579Z"
   },
   {
    "duration": 289,
    "start_time": "2023-02-28T15:37:58.578Z"
   },
   {
    "duration": 3,
    "start_time": "2023-02-28T15:40:18.981Z"
   },
   {
    "duration": 72,
    "start_time": "2023-02-28T15:40:18.986Z"
   },
   {
    "duration": 16,
    "start_time": "2023-02-28T15:40:19.060Z"
   },
   {
    "duration": 23,
    "start_time": "2023-02-28T15:40:19.078Z"
   },
   {
    "duration": 20,
    "start_time": "2023-02-28T15:40:19.128Z"
   },
   {
    "duration": 28,
    "start_time": "2023-02-28T15:40:19.150Z"
   },
   {
    "duration": 941,
    "start_time": "2023-02-28T15:40:19.180Z"
   },
   {
    "duration": 9,
    "start_time": "2023-02-28T15:40:20.126Z"
   },
   {
    "duration": 16,
    "start_time": "2023-02-28T15:40:20.136Z"
   },
   {
    "duration": 10,
    "start_time": "2023-02-28T15:40:20.156Z"
   },
   {
    "duration": 15,
    "start_time": "2023-02-28T15:40:20.167Z"
   },
   {
    "duration": 8,
    "start_time": "2023-02-28T15:40:20.184Z"
   },
   {
    "duration": 4,
    "start_time": "2023-02-28T15:40:20.194Z"
   },
   {
    "duration": 36,
    "start_time": "2023-02-28T15:40:20.199Z"
   },
   {
    "duration": 17,
    "start_time": "2023-02-28T15:40:20.239Z"
   },
   {
    "duration": 12,
    "start_time": "2023-02-28T15:40:20.258Z"
   },
   {
    "duration": 71,
    "start_time": "2023-02-28T15:40:20.272Z"
   },
   {
    "duration": 36,
    "start_time": "2023-02-28T15:40:20.345Z"
   },
   {
    "duration": 10,
    "start_time": "2023-02-28T15:40:20.383Z"
   },
   {
    "duration": 9,
    "start_time": "2023-02-28T15:40:20.394Z"
   },
   {
    "duration": 15,
    "start_time": "2023-02-28T15:40:20.405Z"
   },
   {
    "duration": 23,
    "start_time": "2023-02-28T15:40:20.421Z"
   },
   {
    "duration": 6,
    "start_time": "2023-02-28T15:40:20.446Z"
   },
   {
    "duration": 12,
    "start_time": "2023-02-28T15:40:20.454Z"
   },
   {
    "duration": 280,
    "start_time": "2023-02-28T15:40:20.468Z"
   },
   {
    "duration": 12,
    "start_time": "2023-02-28T15:40:20.750Z"
   },
   {
    "duration": 296,
    "start_time": "2023-02-28T15:40:20.765Z"
   },
   {
    "duration": 17,
    "start_time": "2023-02-28T15:40:21.066Z"
   },
   {
    "duration": 803,
    "start_time": "2023-02-28T15:40:21.085Z"
   },
   {
    "duration": 14,
    "start_time": "2023-02-28T15:40:21.890Z"
   },
   {
    "duration": 6,
    "start_time": "2023-02-28T15:40:21.906Z"
   },
   {
    "duration": 13,
    "start_time": "2023-02-28T15:40:21.930Z"
   },
   {
    "duration": 11,
    "start_time": "2023-02-28T15:40:21.947Z"
   },
   {
    "duration": 12,
    "start_time": "2023-02-28T15:40:21.959Z"
   },
   {
    "duration": 5,
    "start_time": "2023-02-28T15:40:21.973Z"
   },
   {
    "duration": 8,
    "start_time": "2023-02-28T15:40:21.980Z"
   },
   {
    "duration": 42,
    "start_time": "2023-02-28T15:40:21.990Z"
   },
   {
    "duration": 307,
    "start_time": "2023-02-28T15:40:22.039Z"
   },
   {
    "duration": 321,
    "start_time": "2023-02-28T15:40:22.348Z"
   },
   {
    "duration": 36,
    "start_time": "2023-02-28T15:40:22.671Z"
   },
   {
    "duration": 460,
    "start_time": "2023-02-28T15:40:22.709Z"
   },
   {
    "duration": 329,
    "start_time": "2023-02-28T15:41:00.015Z"
   },
   {
    "duration": 3,
    "start_time": "2023-02-28T15:41:14.169Z"
   },
   {
    "duration": 69,
    "start_time": "2023-02-28T15:41:14.175Z"
   },
   {
    "duration": 14,
    "start_time": "2023-02-28T15:41:14.246Z"
   },
   {
    "duration": 42,
    "start_time": "2023-02-28T15:41:14.262Z"
   },
   {
    "duration": 33,
    "start_time": "2023-02-28T15:41:14.306Z"
   },
   {
    "duration": 30,
    "start_time": "2023-02-28T15:41:14.341Z"
   },
   {
    "duration": 837,
    "start_time": "2023-02-28T15:41:14.372Z"
   },
   {
    "duration": 7,
    "start_time": "2023-02-28T15:41:15.211Z"
   },
   {
    "duration": 24,
    "start_time": "2023-02-28T15:41:15.230Z"
   },
   {
    "duration": 9,
    "start_time": "2023-02-28T15:41:15.256Z"
   },
   {
    "duration": 13,
    "start_time": "2023-02-28T15:41:15.266Z"
   },
   {
    "duration": 15,
    "start_time": "2023-02-28T15:41:15.281Z"
   },
   {
    "duration": 6,
    "start_time": "2023-02-28T15:41:15.298Z"
   },
   {
    "duration": 30,
    "start_time": "2023-02-28T15:41:15.306Z"
   },
   {
    "duration": 5,
    "start_time": "2023-02-28T15:41:15.340Z"
   },
   {
    "duration": 7,
    "start_time": "2023-02-28T15:41:15.347Z"
   },
   {
    "duration": 38,
    "start_time": "2023-02-28T15:41:15.356Z"
   },
   {
    "duration": 51,
    "start_time": "2023-02-28T15:41:15.396Z"
   },
   {
    "duration": 9,
    "start_time": "2023-02-28T15:41:15.449Z"
   },
   {
    "duration": 6,
    "start_time": "2023-02-28T15:41:15.460Z"
   },
   {
    "duration": 15,
    "start_time": "2023-02-28T15:41:15.468Z"
   },
   {
    "duration": 22,
    "start_time": "2023-02-28T15:41:15.485Z"
   },
   {
    "duration": 22,
    "start_time": "2023-02-28T15:41:15.509Z"
   },
   {
    "duration": 8,
    "start_time": "2023-02-28T15:41:15.536Z"
   },
   {
    "duration": 272,
    "start_time": "2023-02-28T15:41:15.546Z"
   },
   {
    "duration": 24,
    "start_time": "2023-02-28T15:41:15.820Z"
   },
   {
    "duration": 226,
    "start_time": "2023-02-28T15:41:15.846Z"
   },
   {
    "duration": 20,
    "start_time": "2023-02-28T15:41:16.074Z"
   },
   {
    "duration": 890,
    "start_time": "2023-02-28T15:41:16.096Z"
   },
   {
    "duration": 15,
    "start_time": "2023-02-28T15:41:16.988Z"
   },
   {
    "duration": 6,
    "start_time": "2023-02-28T15:41:17.004Z"
   },
   {
    "duration": 14,
    "start_time": "2023-02-28T15:41:17.033Z"
   },
   {
    "duration": 11,
    "start_time": "2023-02-28T15:41:17.049Z"
   },
   {
    "duration": 11,
    "start_time": "2023-02-28T15:41:17.061Z"
   },
   {
    "duration": 5,
    "start_time": "2023-02-28T15:41:17.074Z"
   },
   {
    "duration": 10,
    "start_time": "2023-02-28T15:41:17.081Z"
   },
   {
    "duration": 26,
    "start_time": "2023-02-28T15:41:17.092Z"
   },
   {
    "duration": 310,
    "start_time": "2023-02-28T15:41:17.135Z"
   },
   {
    "duration": 336,
    "start_time": "2023-02-28T15:41:17.447Z"
   },
   {
    "duration": 61,
    "start_time": "2023-02-28T15:41:17.784Z"
   },
   {
    "duration": 301,
    "start_time": "2023-02-28T15:41:17.847Z"
   },
   {
    "duration": 0,
    "start_time": "2023-02-28T15:41:18.149Z"
   },
   {
    "duration": 0,
    "start_time": "2023-02-28T15:41:18.150Z"
   },
   {
    "duration": 0,
    "start_time": "2023-02-28T15:41:18.152Z"
   },
   {
    "duration": 0,
    "start_time": "2023-02-28T15:41:18.153Z"
   },
   {
    "duration": 0,
    "start_time": "2023-02-28T15:41:18.154Z"
   },
   {
    "duration": 0,
    "start_time": "2023-02-28T15:41:18.156Z"
   },
   {
    "duration": 0,
    "start_time": "2023-02-28T15:41:18.157Z"
   },
   {
    "duration": 0,
    "start_time": "2023-02-28T15:41:18.158Z"
   },
   {
    "duration": 0,
    "start_time": "2023-02-28T15:41:18.159Z"
   },
   {
    "duration": 0,
    "start_time": "2023-02-28T15:41:18.160Z"
   },
   {
    "duration": 0,
    "start_time": "2023-02-28T15:41:18.161Z"
   },
   {
    "duration": 0,
    "start_time": "2023-02-28T15:41:18.162Z"
   },
   {
    "duration": 0,
    "start_time": "2023-02-28T15:41:18.163Z"
   },
   {
    "duration": 0,
    "start_time": "2023-02-28T15:41:18.165Z"
   },
   {
    "duration": 0,
    "start_time": "2023-02-28T15:41:18.166Z"
   },
   {
    "duration": 0,
    "start_time": "2023-02-28T15:41:18.167Z"
   },
   {
    "duration": 9,
    "start_time": "2023-02-28T15:43:35.140Z"
   },
   {
    "duration": 11,
    "start_time": "2023-02-28T15:44:00.762Z"
   },
   {
    "duration": 225,
    "start_time": "2023-02-28T15:45:34.271Z"
   },
   {
    "duration": 16,
    "start_time": "2023-02-28T15:45:40.727Z"
   },
   {
    "duration": 57,
    "start_time": "2023-02-28T15:46:59.255Z"
   },
   {
    "duration": 172,
    "start_time": "2023-02-28T15:47:16.314Z"
   },
   {
    "duration": 302,
    "start_time": "2023-02-28T15:47:23.076Z"
   },
   {
    "duration": 10,
    "start_time": "2023-02-28T15:50:11.405Z"
   },
   {
    "duration": 242,
    "start_time": "2023-02-28T15:50:25.287Z"
   },
   {
    "duration": 164,
    "start_time": "2023-02-28T15:50:38.444Z"
   },
   {
    "duration": 150,
    "start_time": "2023-02-28T15:50:50.771Z"
   },
   {
    "duration": 171,
    "start_time": "2023-02-28T15:55:50.496Z"
   },
   {
    "duration": 126,
    "start_time": "2023-02-28T15:56:07.926Z"
   },
   {
    "duration": 160,
    "start_time": "2023-02-28T16:05:59.592Z"
   },
   {
    "duration": 1395,
    "start_time": "2023-02-28T16:07:10.300Z"
   },
   {
    "duration": 80,
    "start_time": "2023-02-28T16:07:11.698Z"
   },
   {
    "duration": 16,
    "start_time": "2023-02-28T16:07:11.779Z"
   },
   {
    "duration": 34,
    "start_time": "2023-02-28T16:07:11.798Z"
   },
   {
    "duration": 22,
    "start_time": "2023-02-28T16:07:11.834Z"
   },
   {
    "duration": 36,
    "start_time": "2023-02-28T16:07:11.858Z"
   },
   {
    "duration": 835,
    "start_time": "2023-02-28T16:07:11.895Z"
   },
   {
    "duration": 5,
    "start_time": "2023-02-28T16:07:12.733Z"
   },
   {
    "duration": 52,
    "start_time": "2023-02-28T16:07:12.740Z"
   },
   {
    "duration": 22,
    "start_time": "2023-02-28T16:07:12.794Z"
   },
   {
    "duration": 16,
    "start_time": "2023-02-28T16:07:12.818Z"
   },
   {
    "duration": 29,
    "start_time": "2023-02-28T16:07:12.835Z"
   },
   {
    "duration": 6,
    "start_time": "2023-02-28T16:07:12.867Z"
   },
   {
    "duration": 7,
    "start_time": "2023-02-28T16:07:12.875Z"
   },
   {
    "duration": 5,
    "start_time": "2023-02-28T16:07:12.884Z"
   },
   {
    "duration": 10,
    "start_time": "2023-02-28T16:07:12.891Z"
   },
   {
    "duration": 40,
    "start_time": "2023-02-28T16:07:12.903Z"
   },
   {
    "duration": 40,
    "start_time": "2023-02-28T16:07:12.945Z"
   },
   {
    "duration": 11,
    "start_time": "2023-02-28T16:07:12.987Z"
   },
   {
    "duration": 8,
    "start_time": "2023-02-28T16:07:13.000Z"
   },
   {
    "duration": 26,
    "start_time": "2023-02-28T16:07:13.009Z"
   },
   {
    "duration": 41,
    "start_time": "2023-02-28T16:07:13.036Z"
   },
   {
    "duration": 3,
    "start_time": "2023-02-28T16:07:13.078Z"
   },
   {
    "duration": 17,
    "start_time": "2023-02-28T16:07:13.083Z"
   },
   {
    "duration": 270,
    "start_time": "2023-02-28T16:07:13.102Z"
   },
   {
    "duration": 10,
    "start_time": "2023-02-28T16:07:13.374Z"
   },
   {
    "duration": 256,
    "start_time": "2023-02-28T16:07:13.386Z"
   },
   {
    "duration": 25,
    "start_time": "2023-02-28T16:07:13.646Z"
   },
   {
    "duration": 881,
    "start_time": "2023-02-28T16:07:13.673Z"
   },
   {
    "duration": 17,
    "start_time": "2023-02-28T16:07:14.556Z"
   },
   {
    "duration": 6,
    "start_time": "2023-02-28T16:07:14.575Z"
   },
   {
    "duration": 13,
    "start_time": "2023-02-28T16:07:14.583Z"
   },
   {
    "duration": 7,
    "start_time": "2023-02-28T16:07:14.598Z"
   },
   {
    "duration": 22,
    "start_time": "2023-02-28T16:07:14.629Z"
   },
   {
    "duration": 7,
    "start_time": "2023-02-28T16:07:14.653Z"
   },
   {
    "duration": 7,
    "start_time": "2023-02-28T16:07:14.661Z"
   },
   {
    "duration": 8,
    "start_time": "2023-02-28T16:07:14.670Z"
   },
   {
    "duration": 328,
    "start_time": "2023-02-28T16:07:14.679Z"
   },
   {
    "duration": 327,
    "start_time": "2023-02-28T16:07:15.009Z"
   },
   {
    "duration": 43,
    "start_time": "2023-02-28T16:07:15.337Z"
   },
   {
    "duration": 132,
    "start_time": "2023-02-28T16:07:15.382Z"
   },
   {
    "duration": 333,
    "start_time": "2023-02-28T16:07:15.516Z"
   },
   {
    "duration": 7,
    "start_time": "2023-02-28T16:07:15.851Z"
   },
   {
    "duration": 785,
    "start_time": "2023-02-28T16:07:15.860Z"
   },
   {
    "duration": 0,
    "start_time": "2023-02-28T16:07:16.647Z"
   },
   {
    "duration": 0,
    "start_time": "2023-02-28T16:07:16.652Z"
   },
   {
    "duration": 0,
    "start_time": "2023-02-28T16:07:16.653Z"
   },
   {
    "duration": 1,
    "start_time": "2023-02-28T16:07:16.654Z"
   },
   {
    "duration": 0,
    "start_time": "2023-02-28T16:07:16.656Z"
   },
   {
    "duration": 0,
    "start_time": "2023-02-28T16:07:16.658Z"
   },
   {
    "duration": 0,
    "start_time": "2023-02-28T16:07:16.659Z"
   },
   {
    "duration": 0,
    "start_time": "2023-02-28T16:07:16.660Z"
   },
   {
    "duration": 0,
    "start_time": "2023-02-28T16:07:16.662Z"
   },
   {
    "duration": 0,
    "start_time": "2023-02-28T16:07:16.663Z"
   },
   {
    "duration": 0,
    "start_time": "2023-02-28T16:07:16.665Z"
   },
   {
    "duration": 0,
    "start_time": "2023-02-28T16:07:16.666Z"
   },
   {
    "duration": 0,
    "start_time": "2023-02-28T16:07:16.667Z"
   },
   {
    "duration": 1,
    "start_time": "2023-02-28T16:07:16.668Z"
   },
   {
    "duration": 426,
    "start_time": "2023-02-28T16:08:11.995Z"
   },
   {
    "duration": 367,
    "start_time": "2023-02-28T16:08:17.256Z"
   },
   {
    "duration": 381,
    "start_time": "2023-02-28T16:08:20.300Z"
   },
   {
    "duration": 290,
    "start_time": "2023-02-28T16:08:24.093Z"
   },
   {
    "duration": 372,
    "start_time": "2023-02-28T16:08:30.208Z"
   },
   {
    "duration": 323,
    "start_time": "2023-02-28T16:08:41.217Z"
   },
   {
    "duration": 493,
    "start_time": "2023-02-28T16:08:50.594Z"
   },
   {
    "duration": 326,
    "start_time": "2023-02-28T16:09:36.344Z"
   },
   {
    "duration": 302,
    "start_time": "2023-02-28T16:09:58.720Z"
   },
   {
    "duration": 3,
    "start_time": "2023-03-01T12:57:42.683Z"
   },
   {
    "duration": 64,
    "start_time": "2023-03-01T12:57:42.688Z"
   },
   {
    "duration": 14,
    "start_time": "2023-03-01T12:57:42.753Z"
   },
   {
    "duration": 23,
    "start_time": "2023-03-01T12:57:42.769Z"
   },
   {
    "duration": 45,
    "start_time": "2023-03-01T12:57:42.794Z"
   },
   {
    "duration": 28,
    "start_time": "2023-03-01T12:57:42.841Z"
   },
   {
    "duration": 759,
    "start_time": "2023-03-01T12:57:42.870Z"
   },
   {
    "duration": 5,
    "start_time": "2023-03-01T12:57:43.632Z"
   },
   {
    "duration": 23,
    "start_time": "2023-03-01T12:57:43.639Z"
   },
   {
    "duration": 10,
    "start_time": "2023-03-01T12:57:43.665Z"
   },
   {
    "duration": 11,
    "start_time": "2023-03-01T12:57:43.678Z"
   },
   {
    "duration": 7,
    "start_time": "2023-03-01T12:57:43.691Z"
   },
   {
    "duration": 29,
    "start_time": "2023-03-01T12:57:43.700Z"
   },
   {
    "duration": 5,
    "start_time": "2023-03-01T12:57:43.731Z"
   },
   {
    "duration": 5,
    "start_time": "2023-03-01T12:57:43.738Z"
   },
   {
    "duration": 6,
    "start_time": "2023-03-01T12:57:43.745Z"
   },
   {
    "duration": 29,
    "start_time": "2023-03-01T12:57:43.752Z"
   },
   {
    "duration": 66,
    "start_time": "2023-03-01T12:57:43.782Z"
   },
   {
    "duration": 10,
    "start_time": "2023-03-01T12:57:43.850Z"
   },
   {
    "duration": 14,
    "start_time": "2023-03-01T12:57:43.862Z"
   },
   {
    "duration": 11,
    "start_time": "2023-03-01T12:57:43.877Z"
   },
   {
    "duration": 19,
    "start_time": "2023-03-01T12:57:43.889Z"
   },
   {
    "duration": 2,
    "start_time": "2023-03-01T12:57:43.909Z"
   },
   {
    "duration": 10,
    "start_time": "2023-03-01T12:57:43.912Z"
   },
   {
    "duration": 225,
    "start_time": "2023-03-01T12:57:43.923Z"
   },
   {
    "duration": 11,
    "start_time": "2023-03-01T12:57:44.149Z"
   },
   {
    "duration": 213,
    "start_time": "2023-03-01T12:57:44.162Z"
   },
   {
    "duration": 14,
    "start_time": "2023-03-01T12:57:44.377Z"
   },
   {
    "duration": 851,
    "start_time": "2023-03-01T12:57:44.394Z"
   },
   {
    "duration": 15,
    "start_time": "2023-03-01T12:57:45.247Z"
   },
   {
    "duration": 5,
    "start_time": "2023-03-01T12:57:45.264Z"
   },
   {
    "duration": 9,
    "start_time": "2023-03-01T12:57:45.270Z"
   },
   {
    "duration": 9,
    "start_time": "2023-03-01T12:57:45.281Z"
   },
   {
    "duration": 39,
    "start_time": "2023-03-01T12:57:45.291Z"
   },
   {
    "duration": 10,
    "start_time": "2023-03-01T12:57:45.331Z"
   },
   {
    "duration": 9,
    "start_time": "2023-03-01T12:57:45.343Z"
   },
   {
    "duration": 8,
    "start_time": "2023-03-01T12:57:45.354Z"
   },
   {
    "duration": 278,
    "start_time": "2023-03-01T12:57:45.364Z"
   },
   {
    "duration": 288,
    "start_time": "2023-03-01T12:57:45.643Z"
   },
   {
    "duration": 34,
    "start_time": "2023-03-01T12:57:45.933Z"
   },
   {
    "duration": 290,
    "start_time": "2023-03-01T12:57:45.968Z"
   },
   {
    "duration": 6,
    "start_time": "2023-03-01T12:57:46.260Z"
   },
   {
    "duration": 579,
    "start_time": "2023-03-01T12:57:46.268Z"
   },
   {
    "duration": 0,
    "start_time": "2023-03-01T12:57:46.848Z"
   },
   {
    "duration": 0,
    "start_time": "2023-03-01T12:57:46.850Z"
   },
   {
    "duration": 0,
    "start_time": "2023-03-01T12:57:46.851Z"
   },
   {
    "duration": 0,
    "start_time": "2023-03-01T12:57:46.852Z"
   },
   {
    "duration": 0,
    "start_time": "2023-03-01T12:57:46.853Z"
   },
   {
    "duration": 0,
    "start_time": "2023-03-01T12:57:46.854Z"
   },
   {
    "duration": 0,
    "start_time": "2023-03-01T12:57:46.855Z"
   },
   {
    "duration": 0,
    "start_time": "2023-03-01T12:57:46.856Z"
   },
   {
    "duration": 0,
    "start_time": "2023-03-01T12:57:46.857Z"
   },
   {
    "duration": 0,
    "start_time": "2023-03-01T12:57:46.858Z"
   },
   {
    "duration": 0,
    "start_time": "2023-03-01T12:57:46.859Z"
   },
   {
    "duration": 0,
    "start_time": "2023-03-01T12:57:46.860Z"
   },
   {
    "duration": 0,
    "start_time": "2023-03-01T12:57:46.861Z"
   },
   {
    "duration": 0,
    "start_time": "2023-03-01T12:57:46.862Z"
   },
   {
    "duration": 25,
    "start_time": "2023-03-01T13:04:57.744Z"
   },
   {
    "duration": 3,
    "start_time": "2023-03-01T13:05:08.066Z"
   },
   {
    "duration": 75,
    "start_time": "2023-03-01T13:05:08.071Z"
   },
   {
    "duration": 14,
    "start_time": "2023-03-01T13:05:08.147Z"
   },
   {
    "duration": 150,
    "start_time": "2023-03-01T13:05:08.163Z"
   },
   {
    "duration": 22,
    "start_time": "2023-03-01T13:05:08.315Z"
   },
   {
    "duration": 47,
    "start_time": "2023-03-01T13:05:08.339Z"
   },
   {
    "duration": 829,
    "start_time": "2023-03-01T13:05:08.388Z"
   },
   {
    "duration": 9,
    "start_time": "2023-03-01T13:05:09.219Z"
   },
   {
    "duration": 24,
    "start_time": "2023-03-01T13:05:09.232Z"
   },
   {
    "duration": 23,
    "start_time": "2023-03-01T13:05:09.258Z"
   },
   {
    "duration": 21,
    "start_time": "2023-03-01T13:05:09.283Z"
   },
   {
    "duration": 8,
    "start_time": "2023-03-01T13:05:09.306Z"
   },
   {
    "duration": 8,
    "start_time": "2023-03-01T13:05:09.316Z"
   },
   {
    "duration": 12,
    "start_time": "2023-03-01T13:05:09.326Z"
   },
   {
    "duration": 16,
    "start_time": "2023-03-01T13:05:09.340Z"
   },
   {
    "duration": 0,
    "start_time": "2023-03-01T13:05:09.359Z"
   },
   {
    "duration": 0,
    "start_time": "2023-03-01T13:05:09.360Z"
   },
   {
    "duration": 0,
    "start_time": "2023-03-01T13:05:09.361Z"
   },
   {
    "duration": 0,
    "start_time": "2023-03-01T13:05:09.363Z"
   },
   {
    "duration": 0,
    "start_time": "2023-03-01T13:05:09.364Z"
   },
   {
    "duration": 0,
    "start_time": "2023-03-01T13:05:09.365Z"
   },
   {
    "duration": 0,
    "start_time": "2023-03-01T13:05:09.367Z"
   },
   {
    "duration": 0,
    "start_time": "2023-03-01T13:05:09.368Z"
   },
   {
    "duration": 0,
    "start_time": "2023-03-01T13:05:09.369Z"
   },
   {
    "duration": 0,
    "start_time": "2023-03-01T13:05:09.370Z"
   },
   {
    "duration": 0,
    "start_time": "2023-03-01T13:05:09.371Z"
   },
   {
    "duration": 0,
    "start_time": "2023-03-01T13:05:09.372Z"
   },
   {
    "duration": 0,
    "start_time": "2023-03-01T13:05:09.373Z"
   },
   {
    "duration": 0,
    "start_time": "2023-03-01T13:05:09.374Z"
   },
   {
    "duration": 0,
    "start_time": "2023-03-01T13:05:09.375Z"
   },
   {
    "duration": 0,
    "start_time": "2023-03-01T13:05:09.376Z"
   },
   {
    "duration": 0,
    "start_time": "2023-03-01T13:05:09.378Z"
   },
   {
    "duration": 0,
    "start_time": "2023-03-01T13:05:09.379Z"
   },
   {
    "duration": 0,
    "start_time": "2023-03-01T13:05:09.380Z"
   },
   {
    "duration": 0,
    "start_time": "2023-03-01T13:05:09.382Z"
   },
   {
    "duration": 0,
    "start_time": "2023-03-01T13:05:09.382Z"
   },
   {
    "duration": 0,
    "start_time": "2023-03-01T13:05:09.383Z"
   },
   {
    "duration": 0,
    "start_time": "2023-03-01T13:05:09.385Z"
   },
   {
    "duration": 0,
    "start_time": "2023-03-01T13:05:09.386Z"
   },
   {
    "duration": 0,
    "start_time": "2023-03-01T13:05:09.427Z"
   },
   {
    "duration": 1,
    "start_time": "2023-03-01T13:05:09.428Z"
   },
   {
    "duration": 0,
    "start_time": "2023-03-01T13:05:09.430Z"
   },
   {
    "duration": 0,
    "start_time": "2023-03-01T13:05:09.431Z"
   },
   {
    "duration": 0,
    "start_time": "2023-03-01T13:05:09.432Z"
   },
   {
    "duration": 0,
    "start_time": "2023-03-01T13:05:09.432Z"
   },
   {
    "duration": 0,
    "start_time": "2023-03-01T13:05:09.434Z"
   },
   {
    "duration": 0,
    "start_time": "2023-03-01T13:05:09.435Z"
   },
   {
    "duration": 0,
    "start_time": "2023-03-01T13:05:09.436Z"
   },
   {
    "duration": 0,
    "start_time": "2023-03-01T13:05:09.437Z"
   },
   {
    "duration": 0,
    "start_time": "2023-03-01T13:05:09.438Z"
   },
   {
    "duration": 0,
    "start_time": "2023-03-01T13:05:09.439Z"
   },
   {
    "duration": 0,
    "start_time": "2023-03-01T13:05:09.440Z"
   },
   {
    "duration": 0,
    "start_time": "2023-03-01T13:05:09.441Z"
   },
   {
    "duration": 0,
    "start_time": "2023-03-01T13:05:09.442Z"
   },
   {
    "duration": 0,
    "start_time": "2023-03-01T13:05:09.443Z"
   },
   {
    "duration": 0,
    "start_time": "2023-03-01T13:05:09.444Z"
   },
   {
    "duration": 0,
    "start_time": "2023-03-01T13:05:09.445Z"
   },
   {
    "duration": 3,
    "start_time": "2023-03-01T13:05:34.796Z"
   },
   {
    "duration": 5,
    "start_time": "2023-03-01T13:05:43.814Z"
   },
   {
    "duration": 57,
    "start_time": "2023-03-01T13:07:31.846Z"
   },
   {
    "duration": 5,
    "start_time": "2023-03-01T13:08:59.508Z"
   },
   {
    "duration": 5,
    "start_time": "2023-03-01T13:09:02.798Z"
   },
   {
    "duration": 4,
    "start_time": "2023-03-01T13:10:23.918Z"
   },
   {
    "duration": 4,
    "start_time": "2023-03-01T13:10:24.594Z"
   },
   {
    "duration": 4,
    "start_time": "2023-03-01T13:10:30.365Z"
   },
   {
    "duration": 112,
    "start_time": "2023-03-01T13:10:30.372Z"
   },
   {
    "duration": 21,
    "start_time": "2023-03-01T13:10:30.487Z"
   },
   {
    "duration": 54,
    "start_time": "2023-03-01T13:10:30.510Z"
   },
   {
    "duration": 21,
    "start_time": "2023-03-01T13:10:30.566Z"
   },
   {
    "duration": 37,
    "start_time": "2023-03-01T13:10:30.589Z"
   },
   {
    "duration": 773,
    "start_time": "2023-03-01T13:10:30.628Z"
   },
   {
    "duration": 5,
    "start_time": "2023-03-01T13:10:31.403Z"
   },
   {
    "duration": 41,
    "start_time": "2023-03-01T13:10:31.410Z"
   },
   {
    "duration": 16,
    "start_time": "2023-03-01T13:10:31.452Z"
   },
   {
    "duration": 19,
    "start_time": "2023-03-01T13:10:31.471Z"
   },
   {
    "duration": 12,
    "start_time": "2023-03-01T13:10:31.492Z"
   },
   {
    "duration": 9,
    "start_time": "2023-03-01T13:10:31.505Z"
   },
   {
    "duration": 47,
    "start_time": "2023-03-01T13:10:31.516Z"
   },
   {
    "duration": 12,
    "start_time": "2023-03-01T13:10:31.564Z"
   },
   {
    "duration": 6,
    "start_time": "2023-03-01T13:10:41.755Z"
   },
   {
    "duration": 5,
    "start_time": "2023-03-01T13:10:44.125Z"
   },
   {
    "duration": 6,
    "start_time": "2023-03-01T13:10:45.554Z"
   },
   {
    "duration": 6,
    "start_time": "2023-03-01T13:10:45.978Z"
   },
   {
    "duration": 6,
    "start_time": "2023-03-01T13:11:14.333Z"
   },
   {
    "duration": 6,
    "start_time": "2023-03-01T13:11:14.790Z"
   },
   {
    "duration": 4,
    "start_time": "2023-03-01T13:11:45.594Z"
   },
   {
    "duration": 6,
    "start_time": "2023-03-01T13:11:59.224Z"
   },
   {
    "duration": 5,
    "start_time": "2023-03-01T13:12:06.794Z"
   },
   {
    "duration": 4,
    "start_time": "2023-03-01T13:17:27.985Z"
   },
   {
    "duration": 5,
    "start_time": "2023-03-01T13:17:29.400Z"
   },
   {
    "duration": 10,
    "start_time": "2023-03-01T13:19:36.837Z"
   },
   {
    "duration": 6,
    "start_time": "2023-03-01T13:20:40.455Z"
   },
   {
    "duration": 6,
    "start_time": "2023-03-01T13:20:41.356Z"
   },
   {
    "duration": 4,
    "start_time": "2023-03-01T13:20:48.878Z"
   },
   {
    "duration": 4,
    "start_time": "2023-03-01T13:20:57.362Z"
   },
   {
    "duration": 93,
    "start_time": "2023-03-01T13:20:57.369Z"
   },
   {
    "duration": 15,
    "start_time": "2023-03-01T13:20:57.465Z"
   },
   {
    "duration": 24,
    "start_time": "2023-03-01T13:20:57.483Z"
   },
   {
    "duration": 20,
    "start_time": "2023-03-01T13:20:57.509Z"
   },
   {
    "duration": 30,
    "start_time": "2023-03-01T13:20:57.531Z"
   },
   {
    "duration": 798,
    "start_time": "2023-03-01T13:20:57.562Z"
   },
   {
    "duration": 6,
    "start_time": "2023-03-01T13:20:58.362Z"
   },
   {
    "duration": 22,
    "start_time": "2023-03-01T13:20:58.369Z"
   },
   {
    "duration": 9,
    "start_time": "2023-03-01T13:20:58.394Z"
   },
   {
    "duration": 27,
    "start_time": "2023-03-01T13:20:58.405Z"
   },
   {
    "duration": 7,
    "start_time": "2023-03-01T13:20:58.434Z"
   },
   {
    "duration": 6,
    "start_time": "2023-03-01T13:20:58.443Z"
   },
   {
    "duration": 27,
    "start_time": "2023-03-01T13:20:58.451Z"
   },
   {
    "duration": 6,
    "start_time": "2023-03-01T13:20:58.480Z"
   },
   {
    "duration": 10,
    "start_time": "2023-03-01T13:20:58.487Z"
   },
   {
    "duration": 5,
    "start_time": "2023-03-01T13:21:15.425Z"
   },
   {
    "duration": 7,
    "start_time": "2023-03-01T13:21:16.143Z"
   },
   {
    "duration": 6,
    "start_time": "2023-03-01T13:21:17.325Z"
   },
   {
    "duration": 4,
    "start_time": "2023-03-01T13:22:36.633Z"
   },
   {
    "duration": 77,
    "start_time": "2023-03-01T13:22:36.639Z"
   },
   {
    "duration": 15,
    "start_time": "2023-03-01T13:22:36.718Z"
   },
   {
    "duration": 27,
    "start_time": "2023-03-01T13:22:36.735Z"
   },
   {
    "duration": 18,
    "start_time": "2023-03-01T13:22:36.765Z"
   },
   {
    "duration": 72,
    "start_time": "2023-03-01T13:22:36.785Z"
   },
   {
    "duration": 1024,
    "start_time": "2023-03-01T13:22:36.859Z"
   },
   {
    "duration": 6,
    "start_time": "2023-03-01T13:22:37.885Z"
   },
   {
    "duration": 20,
    "start_time": "2023-03-01T13:22:37.892Z"
   },
   {
    "duration": 11,
    "start_time": "2023-03-01T13:22:37.927Z"
   },
   {
    "duration": 18,
    "start_time": "2023-03-01T13:22:37.944Z"
   },
   {
    "duration": 12,
    "start_time": "2023-03-01T13:22:37.964Z"
   },
   {
    "duration": 15,
    "start_time": "2023-03-01T13:22:37.979Z"
   },
   {
    "duration": 10,
    "start_time": "2023-03-01T13:22:37.997Z"
   },
   {
    "duration": 18,
    "start_time": "2023-03-01T13:22:38.010Z"
   },
   {
    "duration": 34,
    "start_time": "2023-03-01T13:22:38.030Z"
   },
   {
    "duration": 32,
    "start_time": "2023-03-01T13:22:38.066Z"
   },
   {
    "duration": 30,
    "start_time": "2023-03-01T13:22:38.100Z"
   },
   {
    "duration": 13,
    "start_time": "2023-03-01T13:22:38.133Z"
   },
   {
    "duration": 10,
    "start_time": "2023-03-01T13:22:38.148Z"
   },
   {
    "duration": 22,
    "start_time": "2023-03-01T13:22:38.160Z"
   },
   {
    "duration": 3,
    "start_time": "2023-03-01T13:22:38.184Z"
   },
   {
    "duration": 9,
    "start_time": "2023-03-01T13:22:38.189Z"
   },
   {
    "duration": 279,
    "start_time": "2023-03-01T13:22:38.200Z"
   },
   {
    "duration": 12,
    "start_time": "2023-03-01T13:22:38.481Z"
   },
   {
    "duration": 213,
    "start_time": "2023-03-01T13:22:38.495Z"
   },
   {
    "duration": 29,
    "start_time": "2023-03-01T13:22:38.710Z"
   },
   {
    "duration": 747,
    "start_time": "2023-03-01T13:22:38.741Z"
   },
   {
    "duration": 14,
    "start_time": "2023-03-01T13:22:39.493Z"
   },
   {
    "duration": 20,
    "start_time": "2023-03-01T13:22:39.509Z"
   },
   {
    "duration": 14,
    "start_time": "2023-03-01T13:22:39.531Z"
   },
   {
    "duration": 7,
    "start_time": "2023-03-01T13:22:39.547Z"
   },
   {
    "duration": 11,
    "start_time": "2023-03-01T13:22:39.556Z"
   },
   {
    "duration": 7,
    "start_time": "2023-03-01T13:22:39.568Z"
   },
   {
    "duration": 9,
    "start_time": "2023-03-01T13:22:39.577Z"
   },
   {
    "duration": 39,
    "start_time": "2023-03-01T13:22:39.588Z"
   },
   {
    "duration": 297,
    "start_time": "2023-03-01T13:22:39.629Z"
   },
   {
    "duration": 287,
    "start_time": "2023-03-01T13:22:39.928Z"
   },
   {
    "duration": 45,
    "start_time": "2023-03-01T13:22:40.217Z"
   },
   {
    "duration": 409,
    "start_time": "2023-03-01T13:22:40.264Z"
   },
   {
    "duration": 7,
    "start_time": "2023-03-01T13:22:40.675Z"
   },
   {
    "duration": 688,
    "start_time": "2023-03-01T13:22:40.684Z"
   },
   {
    "duration": 644,
    "start_time": "2023-03-01T13:22:41.374Z"
   },
   {
    "duration": 231,
    "start_time": "2023-03-01T13:22:42.020Z"
   },
   {
    "duration": 231,
    "start_time": "2023-03-01T13:22:42.253Z"
   },
   {
    "duration": 228,
    "start_time": "2023-03-01T13:22:42.486Z"
   },
   {
    "duration": 11,
    "start_time": "2023-03-01T13:22:42.717Z"
   },
   {
    "duration": 371,
    "start_time": "2023-03-01T13:22:42.729Z"
   },
   {
    "duration": 475,
    "start_time": "2023-03-01T13:22:43.101Z"
   },
   {
    "duration": 364,
    "start_time": "2023-03-01T13:22:43.577Z"
   },
   {
    "duration": 8,
    "start_time": "2023-03-01T13:22:43.943Z"
   },
   {
    "duration": 16,
    "start_time": "2023-03-01T13:22:43.952Z"
   },
   {
    "duration": 10,
    "start_time": "2023-03-01T13:22:43.970Z"
   },
   {
    "duration": 10,
    "start_time": "2023-03-01T13:22:43.982Z"
   },
   {
    "duration": 13,
    "start_time": "2023-03-01T13:22:43.994Z"
   },
   {
    "duration": 24,
    "start_time": "2023-03-01T13:22:44.008Z"
   },
   {
    "duration": 659,
    "start_time": "2023-03-01T13:32:41.078Z"
   },
   {
    "duration": 665,
    "start_time": "2023-03-01T13:36:01.978Z"
   },
   {
    "duration": 7,
    "start_time": "2023-03-01T13:46:06.861Z"
   },
   {
    "duration": 5,
    "start_time": "2023-03-01T13:46:23.153Z"
   },
   {
    "duration": 25,
    "start_time": "2023-03-01T13:49:12.207Z"
   },
   {
    "duration": 26,
    "start_time": "2023-03-01T13:49:27.508Z"
   },
   {
    "duration": 345,
    "start_time": "2023-03-01T13:50:14.943Z"
   },
   {
    "duration": 228,
    "start_time": "2023-03-01T13:50:25.966Z"
   },
   {
    "duration": 268,
    "start_time": "2023-03-01T13:51:07.159Z"
   },
   {
    "duration": 7,
    "start_time": "2023-03-01T13:54:14.707Z"
   },
   {
    "duration": 149,
    "start_time": "2023-03-01T13:54:15.713Z"
   },
   {
    "duration": 8,
    "start_time": "2023-03-01T13:54:22.601Z"
   },
   {
    "duration": 543,
    "start_time": "2023-03-01T13:54:24.187Z"
   },
   {
    "duration": 8,
    "start_time": "2023-03-01T13:55:08.085Z"
   },
   {
    "duration": 463,
    "start_time": "2023-03-01T13:55:08.096Z"
   },
   {
    "duration": 627,
    "start_time": "2023-03-01T13:55:08.561Z"
   },
   {
    "duration": 440,
    "start_time": "2023-03-01T13:55:09.190Z"
   },
   {
    "duration": 12,
    "start_time": "2023-03-01T13:55:09.633Z"
   },
   {
    "duration": 18,
    "start_time": "2023-03-01T13:55:09.647Z"
   },
   {
    "duration": 19,
    "start_time": "2023-03-01T13:55:09.667Z"
   },
   {
    "duration": 37,
    "start_time": "2023-03-01T13:55:09.729Z"
   },
   {
    "duration": 15,
    "start_time": "2023-03-01T13:55:09.768Z"
   },
   {
    "duration": 13,
    "start_time": "2023-03-01T13:55:09.785Z"
   },
   {
    "duration": 18,
    "start_time": "2023-03-01T14:02:56.551Z"
   },
   {
    "duration": 22,
    "start_time": "2023-03-01T14:03:23.920Z"
   },
   {
    "duration": 21,
    "start_time": "2023-03-01T14:03:55.865Z"
   },
   {
    "duration": 12,
    "start_time": "2023-03-01T14:05:13.462Z"
   },
   {
    "duration": 17,
    "start_time": "2023-03-01T14:05:18.659Z"
   },
   {
    "duration": 50,
    "start_time": "2023-03-01T14:05:26.628Z"
   },
   {
    "duration": 17,
    "start_time": "2023-03-01T14:05:31.608Z"
   },
   {
    "duration": 354,
    "start_time": "2023-03-01T14:06:21.847Z"
   },
   {
    "duration": 7,
    "start_time": "2023-03-01T14:11:18.628Z"
   },
   {
    "duration": 25,
    "start_time": "2023-03-01T14:36:12.241Z"
   },
   {
    "duration": 26,
    "start_time": "2023-03-01T14:37:17.746Z"
   },
   {
    "duration": 4,
    "start_time": "2023-03-01T14:49:57.441Z"
   },
   {
    "duration": 64,
    "start_time": "2023-03-01T14:49:57.448Z"
   },
   {
    "duration": 14,
    "start_time": "2023-03-01T14:49:57.513Z"
   },
   {
    "duration": 24,
    "start_time": "2023-03-01T14:49:57.529Z"
   },
   {
    "duration": 24,
    "start_time": "2023-03-01T14:49:57.555Z"
   },
   {
    "duration": 74,
    "start_time": "2023-03-01T14:49:57.581Z"
   },
   {
    "duration": 886,
    "start_time": "2023-03-01T14:49:57.657Z"
   },
   {
    "duration": 5,
    "start_time": "2023-03-01T14:49:58.544Z"
   },
   {
    "duration": 16,
    "start_time": "2023-03-01T14:49:58.551Z"
   },
   {
    "duration": 9,
    "start_time": "2023-03-01T14:49:58.569Z"
   },
   {
    "duration": 27,
    "start_time": "2023-03-01T14:49:58.580Z"
   },
   {
    "duration": 18,
    "start_time": "2023-03-01T14:49:58.609Z"
   },
   {
    "duration": 4,
    "start_time": "2023-03-01T14:49:58.629Z"
   },
   {
    "duration": 7,
    "start_time": "2023-03-01T14:49:58.635Z"
   },
   {
    "duration": 8,
    "start_time": "2023-03-01T14:49:58.643Z"
   },
   {
    "duration": 30,
    "start_time": "2023-03-01T14:49:58.652Z"
   },
   {
    "duration": 51,
    "start_time": "2023-03-01T14:49:58.684Z"
   },
   {
    "duration": 8,
    "start_time": "2023-03-01T14:49:58.737Z"
   },
   {
    "duration": 9,
    "start_time": "2023-03-01T14:49:58.746Z"
   },
   {
    "duration": 5,
    "start_time": "2023-03-01T14:49:58.757Z"
   },
   {
    "duration": 17,
    "start_time": "2023-03-01T14:49:58.764Z"
   },
   {
    "duration": 2,
    "start_time": "2023-03-01T14:49:58.783Z"
   },
   {
    "duration": 9,
    "start_time": "2023-03-01T14:49:58.787Z"
   },
   {
    "duration": 254,
    "start_time": "2023-03-01T14:49:58.798Z"
   },
   {
    "duration": 15,
    "start_time": "2023-03-01T14:49:59.054Z"
   },
   {
    "duration": 222,
    "start_time": "2023-03-01T14:49:59.071Z"
   },
   {
    "duration": 14,
    "start_time": "2023-03-01T14:49:59.294Z"
   },
   {
    "duration": 721,
    "start_time": "2023-03-01T14:49:59.311Z"
   },
   {
    "duration": 13,
    "start_time": "2023-03-01T14:50:00.034Z"
   },
   {
    "duration": 21,
    "start_time": "2023-03-01T14:50:00.049Z"
   },
   {
    "duration": 24,
    "start_time": "2023-03-01T14:50:00.072Z"
   },
   {
    "duration": 22,
    "start_time": "2023-03-01T14:50:00.098Z"
   },
   {
    "duration": 17,
    "start_time": "2023-03-01T14:50:00.122Z"
   },
   {
    "duration": 7,
    "start_time": "2023-03-01T14:50:00.140Z"
   },
   {
    "duration": 28,
    "start_time": "2023-03-01T14:50:00.148Z"
   },
   {
    "duration": 6,
    "start_time": "2023-03-01T14:50:00.178Z"
   },
   {
    "duration": 278,
    "start_time": "2023-03-01T14:50:00.186Z"
   },
   {
    "duration": 305,
    "start_time": "2023-03-01T14:50:00.466Z"
   },
   {
    "duration": 36,
    "start_time": "2023-03-01T14:50:00.772Z"
   },
   {
    "duration": 483,
    "start_time": "2023-03-01T14:50:00.810Z"
   },
   {
    "duration": 7,
    "start_time": "2023-03-01T14:50:01.295Z"
   },
   {
    "duration": 647,
    "start_time": "2023-03-01T14:50:01.304Z"
   },
   {
    "duration": 590,
    "start_time": "2023-03-01T14:50:01.954Z"
   },
   {
    "duration": 638,
    "start_time": "2023-03-01T14:50:02.547Z"
   },
   {
    "duration": 694,
    "start_time": "2023-03-01T14:50:03.187Z"
   },
   {
    "duration": 247,
    "start_time": "2023-03-01T14:50:03.884Z"
   },
   {
    "duration": 325,
    "start_time": "2023-03-01T14:50:04.132Z"
   },
   {
    "duration": 235,
    "start_time": "2023-03-01T14:50:04.459Z"
   },
   {
    "duration": 5,
    "start_time": "2023-03-01T14:50:04.695Z"
   },
   {
    "duration": 418,
    "start_time": "2023-03-01T14:50:04.702Z"
   },
   {
    "duration": 410,
    "start_time": "2023-03-01T14:50:05.122Z"
   },
   {
    "duration": 401,
    "start_time": "2023-03-01T14:50:05.534Z"
   },
   {
    "duration": 7,
    "start_time": "2023-03-01T14:50:05.937Z"
   },
   {
    "duration": 44,
    "start_time": "2023-03-01T14:50:05.946Z"
   },
   {
    "duration": 52,
    "start_time": "2023-03-01T14:50:05.991Z"
   },
   {
    "duration": 33,
    "start_time": "2023-03-01T14:50:06.045Z"
   },
   {
    "duration": 20,
    "start_time": "2023-03-01T14:50:06.080Z"
   },
   {
    "duration": 10,
    "start_time": "2023-03-01T14:50:06.103Z"
   },
   {
    "duration": 4,
    "start_time": "2023-03-01T15:06:19.944Z"
   },
   {
    "duration": 67,
    "start_time": "2023-03-01T15:06:19.950Z"
   },
   {
    "duration": 31,
    "start_time": "2023-03-01T15:06:20.019Z"
   },
   {
    "duration": 31,
    "start_time": "2023-03-01T15:06:20.056Z"
   },
   {
    "duration": 16,
    "start_time": "2023-03-01T15:06:20.088Z"
   },
   {
    "duration": 48,
    "start_time": "2023-03-01T15:06:20.106Z"
   },
   {
    "duration": 907,
    "start_time": "2023-03-01T15:06:20.155Z"
   },
   {
    "duration": 7,
    "start_time": "2023-03-01T15:06:21.064Z"
   },
   {
    "duration": 32,
    "start_time": "2023-03-01T15:06:21.073Z"
   },
   {
    "duration": 21,
    "start_time": "2023-03-01T15:06:21.109Z"
   },
   {
    "duration": 11,
    "start_time": "2023-03-01T15:06:21.136Z"
   },
   {
    "duration": 7,
    "start_time": "2023-03-01T15:06:21.148Z"
   },
   {
    "duration": 5,
    "start_time": "2023-03-01T15:06:21.157Z"
   },
   {
    "duration": 7,
    "start_time": "2023-03-01T15:06:21.163Z"
   },
   {
    "duration": 6,
    "start_time": "2023-03-01T15:06:21.172Z"
   },
   {
    "duration": 164,
    "start_time": "2023-03-01T15:06:21.179Z"
   },
   {
    "duration": 38,
    "start_time": "2023-03-01T15:06:21.346Z"
   },
   {
    "duration": 8,
    "start_time": "2023-03-01T15:06:21.386Z"
   },
   {
    "duration": 13,
    "start_time": "2023-03-01T15:06:21.396Z"
   },
   {
    "duration": 8,
    "start_time": "2023-03-01T15:06:21.427Z"
   },
   {
    "duration": 31,
    "start_time": "2023-03-01T15:06:21.437Z"
   },
   {
    "duration": 2,
    "start_time": "2023-03-01T15:06:21.470Z"
   },
   {
    "duration": 10,
    "start_time": "2023-03-01T15:06:21.474Z"
   },
   {
    "duration": 275,
    "start_time": "2023-03-01T15:06:21.486Z"
   },
   {
    "duration": 11,
    "start_time": "2023-03-01T15:06:21.763Z"
   },
   {
    "duration": 236,
    "start_time": "2023-03-01T15:06:21.776Z"
   },
   {
    "duration": 29,
    "start_time": "2023-03-01T15:06:22.013Z"
   },
   {
    "duration": 753,
    "start_time": "2023-03-01T15:06:22.049Z"
   },
   {
    "duration": 34,
    "start_time": "2023-03-01T15:06:22.804Z"
   },
   {
    "duration": 7,
    "start_time": "2023-03-01T15:06:22.842Z"
   },
   {
    "duration": 27,
    "start_time": "2023-03-01T15:06:22.851Z"
   },
   {
    "duration": 7,
    "start_time": "2023-03-01T15:06:22.879Z"
   },
   {
    "duration": 13,
    "start_time": "2023-03-01T15:06:22.888Z"
   },
   {
    "duration": 5,
    "start_time": "2023-03-01T15:06:22.903Z"
   },
   {
    "duration": 7,
    "start_time": "2023-03-01T15:06:22.910Z"
   },
   {
    "duration": 25,
    "start_time": "2023-03-01T15:06:22.926Z"
   },
   {
    "duration": 302,
    "start_time": "2023-03-01T15:06:22.952Z"
   },
   {
    "duration": 314,
    "start_time": "2023-03-01T15:06:23.256Z"
   },
   {
    "duration": 36,
    "start_time": "2023-03-01T15:06:23.571Z"
   },
   {
    "duration": 312,
    "start_time": "2023-03-01T15:06:23.608Z"
   },
   {
    "duration": 15,
    "start_time": "2023-03-01T15:06:23.922Z"
   },
   {
    "duration": 807,
    "start_time": "2023-03-01T15:06:23.943Z"
   },
   {
    "duration": 619,
    "start_time": "2023-03-01T15:06:24.752Z"
   },
   {
    "duration": 648,
    "start_time": "2023-03-01T15:06:25.373Z"
   },
   {
    "duration": 652,
    "start_time": "2023-03-01T15:06:26.030Z"
   },
   {
    "duration": 230,
    "start_time": "2023-03-01T15:06:26.684Z"
   },
   {
    "duration": 241,
    "start_time": "2023-03-01T15:06:26.915Z"
   },
   {
    "duration": 282,
    "start_time": "2023-03-01T15:06:27.158Z"
   },
   {
    "duration": 10,
    "start_time": "2023-03-01T15:06:27.441Z"
   },
   {
    "duration": 535,
    "start_time": "2023-03-01T15:06:27.454Z"
   },
   {
    "duration": 402,
    "start_time": "2023-03-01T15:06:27.991Z"
   },
   {
    "duration": 369,
    "start_time": "2023-03-01T15:06:28.395Z"
   },
   {
    "duration": 7,
    "start_time": "2023-03-01T15:06:28.766Z"
   },
   {
    "duration": 8,
    "start_time": "2023-03-01T15:06:28.775Z"
   },
   {
    "duration": 7,
    "start_time": "2023-03-01T15:06:28.785Z"
   },
   {
    "duration": 11,
    "start_time": "2023-03-01T15:06:28.793Z"
   },
   {
    "duration": 21,
    "start_time": "2023-03-01T15:06:28.826Z"
   },
   {
    "duration": 6,
    "start_time": "2023-03-01T15:06:28.849Z"
   },
   {
    "duration": 1574,
    "start_time": "2023-07-25T10:02:13.227Z"
   },
   {
    "duration": 139,
    "start_time": "2023-07-25T10:02:14.803Z"
   },
   {
    "duration": 23,
    "start_time": "2023-07-25T10:02:14.945Z"
   },
   {
    "duration": 36,
    "start_time": "2023-07-25T10:02:14.971Z"
   },
   {
    "duration": 42,
    "start_time": "2023-07-25T10:02:15.010Z"
   },
   {
    "duration": 39,
    "start_time": "2023-07-25T10:02:15.054Z"
   },
   {
    "duration": 905,
    "start_time": "2023-07-25T10:02:15.095Z"
   },
   {
    "duration": 6,
    "start_time": "2023-07-25T10:02:16.002Z"
   },
   {
    "duration": 197,
    "start_time": "2023-07-25T10:02:16.010Z"
   },
   {
    "duration": 354,
    "start_time": "2023-07-25T10:02:16.210Z"
   },
   {
    "duration": 21,
    "start_time": "2023-07-25T10:02:16.567Z"
   },
   {
    "duration": 107,
    "start_time": "2023-07-25T10:02:16.590Z"
   },
   {
    "duration": 4,
    "start_time": "2023-07-25T10:02:16.699Z"
   },
   {
    "duration": 35,
    "start_time": "2023-07-25T10:02:16.707Z"
   },
   {
    "duration": 31,
    "start_time": "2023-07-25T10:02:16.743Z"
   },
   {
    "duration": 62,
    "start_time": "2023-07-25T10:02:16.776Z"
   },
   {
    "duration": 36,
    "start_time": "2023-07-25T10:02:16.840Z"
   },
   {
    "duration": 40,
    "start_time": "2023-07-25T10:02:16.878Z"
   },
   {
    "duration": 29,
    "start_time": "2023-07-25T10:02:16.919Z"
   },
   {
    "duration": 31,
    "start_time": "2023-07-25T10:02:16.950Z"
   },
   {
    "duration": 27,
    "start_time": "2023-07-25T10:02:16.983Z"
   },
   {
    "duration": 9,
    "start_time": "2023-07-25T10:02:17.012Z"
   },
   {
    "duration": 39,
    "start_time": "2023-07-25T10:02:17.023Z"
   },
   {
    "duration": 350,
    "start_time": "2023-07-25T10:02:17.064Z"
   },
   {
    "duration": 11,
    "start_time": "2023-07-25T10:02:17.416Z"
   },
   {
    "duration": 226,
    "start_time": "2023-07-25T10:02:17.430Z"
   },
   {
    "duration": 15,
    "start_time": "2023-07-25T10:02:17.658Z"
   },
   {
    "duration": 1082,
    "start_time": "2023-07-25T10:02:17.675Z"
   },
   {
    "duration": 20,
    "start_time": "2023-07-25T10:02:18.759Z"
   },
   {
    "duration": 7,
    "start_time": "2023-07-25T10:02:18.782Z"
   },
   {
    "duration": 41,
    "start_time": "2023-07-25T10:02:18.791Z"
   },
   {
    "duration": 57,
    "start_time": "2023-07-25T10:02:18.835Z"
   },
   {
    "duration": 29,
    "start_time": "2023-07-25T10:02:18.894Z"
   },
   {
    "duration": 24,
    "start_time": "2023-07-25T10:02:18.925Z"
   },
   {
    "duration": 15,
    "start_time": "2023-07-25T10:02:18.952Z"
   },
   {
    "duration": 17,
    "start_time": "2023-07-25T10:02:18.969Z"
   },
   {
    "duration": 309,
    "start_time": "2023-07-25T10:02:18.989Z"
   },
   {
    "duration": 331,
    "start_time": "2023-07-25T10:02:19.301Z"
   },
   {
    "duration": 51,
    "start_time": "2023-07-25T10:02:19.634Z"
   },
   {
    "duration": 480,
    "start_time": "2023-07-25T10:02:19.688Z"
   },
   {
    "duration": 8,
    "start_time": "2023-07-25T10:02:20.174Z"
   },
   {
    "duration": 761,
    "start_time": "2023-07-25T10:02:20.184Z"
   },
   {
    "duration": 666,
    "start_time": "2023-07-25T10:02:20.947Z"
   },
   {
    "duration": 872,
    "start_time": "2023-07-25T10:02:21.615Z"
   },
   {
    "duration": 778,
    "start_time": "2023-07-25T10:02:22.489Z"
   },
   {
    "duration": 258,
    "start_time": "2023-07-25T10:02:23.270Z"
   },
   {
    "duration": 269,
    "start_time": "2023-07-25T10:02:23.531Z"
   },
   {
    "duration": 267,
    "start_time": "2023-07-25T10:02:23.802Z"
   },
   {
    "duration": 6,
    "start_time": "2023-07-25T10:02:24.071Z"
   },
   {
    "duration": 455,
    "start_time": "2023-07-25T10:02:24.079Z"
   },
   {
    "duration": 400,
    "start_time": "2023-07-25T10:02:24.536Z"
   },
   {
    "duration": 527,
    "start_time": "2023-07-25T10:02:24.938Z"
   },
   {
    "duration": 8,
    "start_time": "2023-07-25T10:02:25.467Z"
   },
   {
    "duration": 27,
    "start_time": "2023-07-25T10:02:25.477Z"
   },
   {
    "duration": 17,
    "start_time": "2023-07-25T10:02:25.506Z"
   },
   {
    "duration": 14,
    "start_time": "2023-07-25T10:02:25.525Z"
   },
   {
    "duration": 7,
    "start_time": "2023-07-25T10:02:25.554Z"
   },
   {
    "duration": 25,
    "start_time": "2023-07-25T10:02:25.563Z"
   },
   {
    "duration": 4,
    "start_time": "2023-07-25T10:19:13.399Z"
   },
   {
    "duration": 79,
    "start_time": "2023-07-25T10:19:13.405Z"
   },
   {
    "duration": 20,
    "start_time": "2023-07-25T10:19:13.486Z"
   },
   {
    "duration": 58,
    "start_time": "2023-07-25T10:19:13.508Z"
   },
   {
    "duration": 24,
    "start_time": "2023-07-25T10:19:13.569Z"
   },
   {
    "duration": 31,
    "start_time": "2023-07-25T10:19:13.595Z"
   },
   {
    "duration": 864,
    "start_time": "2023-07-25T10:19:13.628Z"
   },
   {
    "duration": 7,
    "start_time": "2023-07-25T10:19:14.494Z"
   },
   {
    "duration": 25,
    "start_time": "2023-07-25T10:19:14.503Z"
   },
   {
    "duration": 22,
    "start_time": "2023-07-25T10:19:14.530Z"
   },
   {
    "duration": 13,
    "start_time": "2023-07-25T10:19:14.554Z"
   },
   {
    "duration": 12,
    "start_time": "2023-07-25T10:19:14.568Z"
   },
   {
    "duration": 6,
    "start_time": "2023-07-25T10:19:14.583Z"
   },
   {
    "duration": 24,
    "start_time": "2023-07-25T10:19:14.591Z"
   },
   {
    "duration": 20,
    "start_time": "2023-07-25T10:19:14.617Z"
   },
   {
    "duration": 40,
    "start_time": "2023-07-25T10:19:14.639Z"
   },
   {
    "duration": 33,
    "start_time": "2023-07-25T10:19:14.681Z"
   },
   {
    "duration": 8,
    "start_time": "2023-07-25T10:19:14.716Z"
   },
   {
    "duration": 30,
    "start_time": "2023-07-25T10:19:14.726Z"
   },
   {
    "duration": 10,
    "start_time": "2023-07-25T10:19:14.758Z"
   },
   {
    "duration": 19,
    "start_time": "2023-07-25T10:19:14.770Z"
   },
   {
    "duration": 5,
    "start_time": "2023-07-25T10:19:14.791Z"
   },
   {
    "duration": 267,
    "start_time": "2023-07-25T10:19:14.798Z"
   },
   {
    "duration": 11,
    "start_time": "2023-07-25T10:19:15.067Z"
   },
   {
    "duration": 272,
    "start_time": "2023-07-25T10:19:15.080Z"
   },
   {
    "duration": 16,
    "start_time": "2023-07-25T10:19:15.355Z"
   },
   {
    "duration": 871,
    "start_time": "2023-07-25T10:19:15.374Z"
   },
   {
    "duration": 17,
    "start_time": "2023-07-25T10:19:16.247Z"
   },
   {
    "duration": 27,
    "start_time": "2023-07-25T10:19:16.266Z"
   },
   {
    "duration": 29,
    "start_time": "2023-07-25T10:19:16.295Z"
   },
   {
    "duration": 50,
    "start_time": "2023-07-25T10:19:16.326Z"
   },
   {
    "duration": 31,
    "start_time": "2023-07-25T10:19:16.378Z"
   },
   {
    "duration": 14,
    "start_time": "2023-07-25T10:19:16.411Z"
   },
   {
    "duration": 21,
    "start_time": "2023-07-25T10:19:16.426Z"
   },
   {
    "duration": 15,
    "start_time": "2023-07-25T10:19:16.449Z"
   },
   {
    "duration": 409,
    "start_time": "2023-07-25T10:19:16.466Z"
   },
   {
    "duration": 310,
    "start_time": "2023-07-25T10:19:16.880Z"
   },
   {
    "duration": 42,
    "start_time": "2023-07-25T10:19:17.193Z"
   },
   {
    "duration": 340,
    "start_time": "2023-07-25T10:19:17.256Z"
   },
   {
    "duration": 8,
    "start_time": "2023-07-25T10:19:17.598Z"
   },
   {
    "duration": 719,
    "start_time": "2023-07-25T10:19:17.607Z"
   },
   {
    "duration": 713,
    "start_time": "2023-07-25T10:19:18.328Z"
   },
   {
    "duration": 695,
    "start_time": "2023-07-25T10:19:19.042Z"
   },
   {
    "duration": 810,
    "start_time": "2023-07-25T10:19:19.739Z"
   },
   {
    "duration": 245,
    "start_time": "2023-07-25T10:19:20.552Z"
   },
   {
    "duration": 241,
    "start_time": "2023-07-25T10:19:20.798Z"
   },
   {
    "duration": 301,
    "start_time": "2023-07-25T10:19:21.041Z"
   },
   {
    "duration": 8,
    "start_time": "2023-07-25T10:19:21.346Z"
   },
   {
    "duration": 440,
    "start_time": "2023-07-25T10:19:21.356Z"
   },
   {
    "duration": 403,
    "start_time": "2023-07-25T10:19:21.798Z"
   },
   {
    "duration": 385,
    "start_time": "2023-07-25T10:19:22.203Z"
   },
   {
    "duration": 8,
    "start_time": "2023-07-25T10:19:22.590Z"
   },
   {
    "duration": 21,
    "start_time": "2023-07-25T10:19:22.599Z"
   },
   {
    "duration": 8,
    "start_time": "2023-07-25T10:19:22.622Z"
   },
   {
    "duration": 43,
    "start_time": "2023-07-25T10:19:22.632Z"
   },
   {
    "duration": 26,
    "start_time": "2023-07-25T10:19:22.677Z"
   },
   {
    "duration": 29,
    "start_time": "2023-07-25T10:19:22.705Z"
   }
  ],
  "kernelspec": {
   "display_name": "Python 3 (ipykernel)",
   "language": "python",
   "name": "python3"
  },
  "language_info": {
   "codemirror_mode": {
    "name": "ipython",
    "version": 3
   },
   "file_extension": ".py",
   "mimetype": "text/x-python",
   "name": "python",
   "nbconvert_exporter": "python",
   "pygments_lexer": "ipython3",
   "version": "3.9.13"
  },
  "toc": {
   "base_numbering": 1,
   "nav_menu": {},
   "number_sections": true,
   "sideBar": true,
   "skip_h1_title": true,
   "title_cell": "Table of Contents",
   "title_sidebar": "Contents",
   "toc_cell": false,
   "toc_position": {
    "height": "calc(100% - 180px)",
    "left": "10px",
    "top": "150px",
    "width": "451.583px"
   },
   "toc_section_display": true,
   "toc_window_display": true
  }
 },
 "nbformat": 4,
 "nbformat_minor": 2
}
