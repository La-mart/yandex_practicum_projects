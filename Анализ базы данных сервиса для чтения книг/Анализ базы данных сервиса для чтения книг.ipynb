{
 "cells": [
  {
   "cell_type": "markdown",
   "id": "75d9a488",
   "metadata": {},
   "source": [
    "**Цель исследования:**  \n",
    "\n",
    "\n",
    "Проанализировать базу данных крупного сервиса для чтения книг по подписке.   \n",
    "\n",
    "База содержит информацию о книгах, издательствах, авторах, а также пользовательские обзоры книг.  \n",
    "Эти данные помогут сформулировать ценностное предложение для нового продукта.\n",
    "\n",
    "---"
   ]
  },
  {
   "cell_type": "code",
   "execution_count": 13,
   "id": "481c25b2",
   "metadata": {
    "scrolled": true
   },
   "outputs": [],
   "source": [
    "# импортируем библиотеки\n",
    "import pandas as pd\n",
    "from sqlalchemy import text, create_engine\n",
    "# устанавливаем параметры\n",
    "db_config = {'user': 'praktikum_student', # имя пользователя\n",
    "'pwd': 'Sdf4$2;d-d30pp', # пароль\n",
    "'host': 'rc1b-wcoijxj3yxfsf3fs.mdb.yandexcloud.net',\n",
    "'port': 6432, # порт подключения\n",
    "'db': 'data-analyst-final-project-db'} # название базы данных\n",
    "connection_string = 'postgresql://{user}:{pwd}@{host}:{port}/{db}'.format(**db_config)\n",
    "# сохраняем коннектор\n",
    "engine = create_engine(connection_string, connect_args={'sslmode':'require'})"
   ]
  },
  {
   "cell_type": "markdown",
   "id": "facf6e9c",
   "metadata": {},
   "source": [
    "**Таблица `books` :**"
   ]
  },
  {
   "cell_type": "code",
   "execution_count": 14,
   "id": "642572a7",
   "metadata": {
    "scrolled": true
   },
   "outputs": [
    {
     "data": {
      "text/html": [
       "<div>\n",
       "<style scoped>\n",
       "    .dataframe tbody tr th:only-of-type {\n",
       "        vertical-align: middle;\n",
       "    }\n",
       "\n",
       "    .dataframe tbody tr th {\n",
       "        vertical-align: top;\n",
       "    }\n",
       "\n",
       "    .dataframe thead th {\n",
       "        text-align: right;\n",
       "    }\n",
       "</style>\n",
       "<table border=\"1\" class=\"dataframe\">\n",
       "  <thead>\n",
       "    <tr style=\"text-align: right;\">\n",
       "      <th></th>\n",
       "      <th>book_id</th>\n",
       "      <th>author_id</th>\n",
       "      <th>title</th>\n",
       "      <th>num_pages</th>\n",
       "      <th>publication_date</th>\n",
       "      <th>publisher_id</th>\n",
       "    </tr>\n",
       "  </thead>\n",
       "  <tbody>\n",
       "    <tr>\n",
       "      <th>0</th>\n",
       "      <td>1</td>\n",
       "      <td>546</td>\n",
       "      <td>'Salem's Lot</td>\n",
       "      <td>594</td>\n",
       "      <td>2005-11-01</td>\n",
       "      <td>93</td>\n",
       "    </tr>\n",
       "    <tr>\n",
       "      <th>1</th>\n",
       "      <td>2</td>\n",
       "      <td>465</td>\n",
       "      <td>1 000 Places to See Before You Die</td>\n",
       "      <td>992</td>\n",
       "      <td>2003-05-22</td>\n",
       "      <td>336</td>\n",
       "    </tr>\n",
       "    <tr>\n",
       "      <th>2</th>\n",
       "      <td>3</td>\n",
       "      <td>407</td>\n",
       "      <td>13 Little Blue Envelopes (Little Blue Envelope...</td>\n",
       "      <td>322</td>\n",
       "      <td>2010-12-21</td>\n",
       "      <td>135</td>\n",
       "    </tr>\n",
       "    <tr>\n",
       "      <th>3</th>\n",
       "      <td>4</td>\n",
       "      <td>82</td>\n",
       "      <td>1491: New Revelations of the Americas Before C...</td>\n",
       "      <td>541</td>\n",
       "      <td>2006-10-10</td>\n",
       "      <td>309</td>\n",
       "    </tr>\n",
       "    <tr>\n",
       "      <th>4</th>\n",
       "      <td>5</td>\n",
       "      <td>125</td>\n",
       "      <td>1776</td>\n",
       "      <td>386</td>\n",
       "      <td>2006-07-04</td>\n",
       "      <td>268</td>\n",
       "    </tr>\n",
       "  </tbody>\n",
       "</table>\n",
       "</div>"
      ],
      "text/plain": [
       "   book_id  author_id                                              title  \\\n",
       "0        1        546                                       'Salem's Lot   \n",
       "1        2        465                 1 000 Places to See Before You Die   \n",
       "2        3        407  13 Little Blue Envelopes (Little Blue Envelope...   \n",
       "3        4         82  1491: New Revelations of the Americas Before C...   \n",
       "4        5        125                                               1776   \n",
       "\n",
       "   num_pages publication_date  publisher_id  \n",
       "0        594       2005-11-01            93  \n",
       "1        992       2003-05-22           336  \n",
       "2        322       2010-12-21           135  \n",
       "3        541       2006-10-10           309  \n",
       "4        386       2006-07-04           268  "
      ]
     },
     "execution_count": 14,
     "metadata": {},
     "output_type": "execute_result"
    }
   ],
   "source": [
    "# функия для вывода результата запроса SQL\n",
    "def sql_output(query):\n",
    "    con=engine.connect()\n",
    "    return pd.io.sql.read_sql(sql=text(query), con = con)\n",
    "\n",
    "# текст SQL запроса\n",
    "query_books = '''SELECT * FROM books LIMIT 5'''\n",
    "\n",
    "sql_output(query_books)"
   ]
  },
  {
   "cell_type": "markdown",
   "id": "9a9987eb",
   "metadata": {},
   "source": [
    "**Таблица `authors` :**"
   ]
  },
  {
   "cell_type": "code",
   "execution_count": 15,
   "id": "cf528961",
   "metadata": {
    "scrolled": true
   },
   "outputs": [
    {
     "data": {
      "text/html": [
       "<div>\n",
       "<style scoped>\n",
       "    .dataframe tbody tr th:only-of-type {\n",
       "        vertical-align: middle;\n",
       "    }\n",
       "\n",
       "    .dataframe tbody tr th {\n",
       "        vertical-align: top;\n",
       "    }\n",
       "\n",
       "    .dataframe thead th {\n",
       "        text-align: right;\n",
       "    }\n",
       "</style>\n",
       "<table border=\"1\" class=\"dataframe\">\n",
       "  <thead>\n",
       "    <tr style=\"text-align: right;\">\n",
       "      <th></th>\n",
       "      <th>author_id</th>\n",
       "      <th>author</th>\n",
       "    </tr>\n",
       "  </thead>\n",
       "  <tbody>\n",
       "    <tr>\n",
       "      <th>0</th>\n",
       "      <td>1</td>\n",
       "      <td>A.S. Byatt</td>\n",
       "    </tr>\n",
       "    <tr>\n",
       "      <th>1</th>\n",
       "      <td>2</td>\n",
       "      <td>Aesop/Laura Harris/Laura Gibbs</td>\n",
       "    </tr>\n",
       "    <tr>\n",
       "      <th>2</th>\n",
       "      <td>3</td>\n",
       "      <td>Agatha Christie</td>\n",
       "    </tr>\n",
       "    <tr>\n",
       "      <th>3</th>\n",
       "      <td>4</td>\n",
       "      <td>Alan Brennert</td>\n",
       "    </tr>\n",
       "    <tr>\n",
       "      <th>4</th>\n",
       "      <td>5</td>\n",
       "      <td>Alan Moore/David   Lloyd</td>\n",
       "    </tr>\n",
       "  </tbody>\n",
       "</table>\n",
       "</div>"
      ],
      "text/plain": [
       "   author_id                          author\n",
       "0          1                      A.S. Byatt\n",
       "1          2  Aesop/Laura Harris/Laura Gibbs\n",
       "2          3                 Agatha Christie\n",
       "3          4                   Alan Brennert\n",
       "4          5        Alan Moore/David   Lloyd"
      ]
     },
     "execution_count": 15,
     "metadata": {},
     "output_type": "execute_result"
    }
   ],
   "source": [
    "query_authors = '''SELECT * FROM authors LIMIT 5'''\n",
    "sql_output(query_authors)"
   ]
  },
  {
   "cell_type": "markdown",
   "id": "71232be5",
   "metadata": {},
   "source": [
    "**Таблица `publishers` :**"
   ]
  },
  {
   "cell_type": "code",
   "execution_count": 16,
   "id": "c1196c20",
   "metadata": {},
   "outputs": [
    {
     "data": {
      "text/html": [
       "<div>\n",
       "<style scoped>\n",
       "    .dataframe tbody tr th:only-of-type {\n",
       "        vertical-align: middle;\n",
       "    }\n",
       "\n",
       "    .dataframe tbody tr th {\n",
       "        vertical-align: top;\n",
       "    }\n",
       "\n",
       "    .dataframe thead th {\n",
       "        text-align: right;\n",
       "    }\n",
       "</style>\n",
       "<table border=\"1\" class=\"dataframe\">\n",
       "  <thead>\n",
       "    <tr style=\"text-align: right;\">\n",
       "      <th></th>\n",
       "      <th>publisher_id</th>\n",
       "      <th>publisher</th>\n",
       "    </tr>\n",
       "  </thead>\n",
       "  <tbody>\n",
       "    <tr>\n",
       "      <th>0</th>\n",
       "      <td>1</td>\n",
       "      <td>Ace</td>\n",
       "    </tr>\n",
       "    <tr>\n",
       "      <th>1</th>\n",
       "      <td>2</td>\n",
       "      <td>Ace Book</td>\n",
       "    </tr>\n",
       "    <tr>\n",
       "      <th>2</th>\n",
       "      <td>3</td>\n",
       "      <td>Ace Books</td>\n",
       "    </tr>\n",
       "    <tr>\n",
       "      <th>3</th>\n",
       "      <td>4</td>\n",
       "      <td>Ace Hardcover</td>\n",
       "    </tr>\n",
       "    <tr>\n",
       "      <th>4</th>\n",
       "      <td>5</td>\n",
       "      <td>Addison Wesley Publishing Company</td>\n",
       "    </tr>\n",
       "  </tbody>\n",
       "</table>\n",
       "</div>"
      ],
      "text/plain": [
       "   publisher_id                          publisher\n",
       "0             1                                Ace\n",
       "1             2                           Ace Book\n",
       "2             3                          Ace Books\n",
       "3             4                      Ace Hardcover\n",
       "4             5  Addison Wesley Publishing Company"
      ]
     },
     "execution_count": 16,
     "metadata": {},
     "output_type": "execute_result"
    }
   ],
   "source": [
    "query_publishers = '''SELECT * FROM publishers LIMIT 5'''\n",
    "sql_output(query_publishers)"
   ]
  },
  {
   "cell_type": "markdown",
   "id": "373077e0",
   "metadata": {},
   "source": [
    "**Таблица `ratings` :**"
   ]
  },
  {
   "cell_type": "code",
   "execution_count": 17,
   "id": "95135cda",
   "metadata": {},
   "outputs": [
    {
     "data": {
      "text/html": [
       "<div>\n",
       "<style scoped>\n",
       "    .dataframe tbody tr th:only-of-type {\n",
       "        vertical-align: middle;\n",
       "    }\n",
       "\n",
       "    .dataframe tbody tr th {\n",
       "        vertical-align: top;\n",
       "    }\n",
       "\n",
       "    .dataframe thead th {\n",
       "        text-align: right;\n",
       "    }\n",
       "</style>\n",
       "<table border=\"1\" class=\"dataframe\">\n",
       "  <thead>\n",
       "    <tr style=\"text-align: right;\">\n",
       "      <th></th>\n",
       "      <th>rating_id</th>\n",
       "      <th>book_id</th>\n",
       "      <th>username</th>\n",
       "      <th>rating</th>\n",
       "    </tr>\n",
       "  </thead>\n",
       "  <tbody>\n",
       "    <tr>\n",
       "      <th>0</th>\n",
       "      <td>1</td>\n",
       "      <td>1</td>\n",
       "      <td>ryanfranco</td>\n",
       "      <td>4</td>\n",
       "    </tr>\n",
       "    <tr>\n",
       "      <th>1</th>\n",
       "      <td>2</td>\n",
       "      <td>1</td>\n",
       "      <td>grantpatricia</td>\n",
       "      <td>2</td>\n",
       "    </tr>\n",
       "    <tr>\n",
       "      <th>2</th>\n",
       "      <td>3</td>\n",
       "      <td>1</td>\n",
       "      <td>brandtandrea</td>\n",
       "      <td>5</td>\n",
       "    </tr>\n",
       "    <tr>\n",
       "      <th>3</th>\n",
       "      <td>4</td>\n",
       "      <td>2</td>\n",
       "      <td>lorichen</td>\n",
       "      <td>3</td>\n",
       "    </tr>\n",
       "    <tr>\n",
       "      <th>4</th>\n",
       "      <td>5</td>\n",
       "      <td>2</td>\n",
       "      <td>mariokeller</td>\n",
       "      <td>2</td>\n",
       "    </tr>\n",
       "  </tbody>\n",
       "</table>\n",
       "</div>"
      ],
      "text/plain": [
       "   rating_id  book_id       username  rating\n",
       "0          1        1     ryanfranco       4\n",
       "1          2        1  grantpatricia       2\n",
       "2          3        1   brandtandrea       5\n",
       "3          4        2       lorichen       3\n",
       "4          5        2    mariokeller       2"
      ]
     },
     "execution_count": 17,
     "metadata": {},
     "output_type": "execute_result"
    }
   ],
   "source": [
    "query_ratings = '''SELECT * FROM ratings LIMIT 5'''\n",
    "sql_output(query_ratings)"
   ]
  },
  {
   "cell_type": "markdown",
   "id": "5dec0c33",
   "metadata": {},
   "source": [
    "**Таблица `reviews` :**"
   ]
  },
  {
   "cell_type": "code",
   "execution_count": 18,
   "id": "df324a93",
   "metadata": {},
   "outputs": [
    {
     "data": {
      "text/html": [
       "<div>\n",
       "<style scoped>\n",
       "    .dataframe tbody tr th:only-of-type {\n",
       "        vertical-align: middle;\n",
       "    }\n",
       "\n",
       "    .dataframe tbody tr th {\n",
       "        vertical-align: top;\n",
       "    }\n",
       "\n",
       "    .dataframe thead th {\n",
       "        text-align: right;\n",
       "    }\n",
       "</style>\n",
       "<table border=\"1\" class=\"dataframe\">\n",
       "  <thead>\n",
       "    <tr style=\"text-align: right;\">\n",
       "      <th></th>\n",
       "      <th>review_id</th>\n",
       "      <th>book_id</th>\n",
       "      <th>username</th>\n",
       "      <th>text</th>\n",
       "    </tr>\n",
       "  </thead>\n",
       "  <tbody>\n",
       "    <tr>\n",
       "      <th>0</th>\n",
       "      <td>1</td>\n",
       "      <td>1</td>\n",
       "      <td>brandtandrea</td>\n",
       "      <td>Mention society tell send professor analysis. ...</td>\n",
       "    </tr>\n",
       "    <tr>\n",
       "      <th>1</th>\n",
       "      <td>2</td>\n",
       "      <td>1</td>\n",
       "      <td>ryanfranco</td>\n",
       "      <td>Foot glass pretty audience hit themselves. Amo...</td>\n",
       "    </tr>\n",
       "    <tr>\n",
       "      <th>2</th>\n",
       "      <td>3</td>\n",
       "      <td>2</td>\n",
       "      <td>lorichen</td>\n",
       "      <td>Listen treat keep worry. Miss husband tax but ...</td>\n",
       "    </tr>\n",
       "    <tr>\n",
       "      <th>3</th>\n",
       "      <td>4</td>\n",
       "      <td>3</td>\n",
       "      <td>johnsonamanda</td>\n",
       "      <td>Finally month interesting blue could nature cu...</td>\n",
       "    </tr>\n",
       "    <tr>\n",
       "      <th>4</th>\n",
       "      <td>5</td>\n",
       "      <td>3</td>\n",
       "      <td>scotttamara</td>\n",
       "      <td>Nation purpose heavy give wait song will. List...</td>\n",
       "    </tr>\n",
       "  </tbody>\n",
       "</table>\n",
       "</div>"
      ],
      "text/plain": [
       "   review_id  book_id       username  \\\n",
       "0          1        1   brandtandrea   \n",
       "1          2        1     ryanfranco   \n",
       "2          3        2       lorichen   \n",
       "3          4        3  johnsonamanda   \n",
       "4          5        3    scotttamara   \n",
       "\n",
       "                                                text  \n",
       "0  Mention society tell send professor analysis. ...  \n",
       "1  Foot glass pretty audience hit themselves. Amo...  \n",
       "2  Listen treat keep worry. Miss husband tax but ...  \n",
       "3  Finally month interesting blue could nature cu...  \n",
       "4  Nation purpose heavy give wait song will. List...  "
      ]
     },
     "execution_count": 18,
     "metadata": {},
     "output_type": "execute_result"
    }
   ],
   "source": [
    "query_reviews = '''SELECT * FROM reviews LIMIT 5'''\n",
    "sql_output(query_reviews)"
   ]
  },
  {
   "cell_type": "markdown",
   "id": "0e48bf92",
   "metadata": {},
   "source": [
    "### Количество книг вышедших после 1 января 2000 года"
   ]
  },
  {
   "cell_type": "code",
   "execution_count": 19,
   "id": "4662ae1c",
   "metadata": {},
   "outputs": [
    {
     "data": {
      "text/html": [
       "<div>\n",
       "<style scoped>\n",
       "    .dataframe tbody tr th:only-of-type {\n",
       "        vertical-align: middle;\n",
       "    }\n",
       "\n",
       "    .dataframe tbody tr th {\n",
       "        vertical-align: top;\n",
       "    }\n",
       "\n",
       "    .dataframe thead th {\n",
       "        text-align: right;\n",
       "    }\n",
       "</style>\n",
       "<table border=\"1\" class=\"dataframe\">\n",
       "  <thead>\n",
       "    <tr style=\"text-align: right;\">\n",
       "      <th></th>\n",
       "      <th>count</th>\n",
       "    </tr>\n",
       "  </thead>\n",
       "  <tbody>\n",
       "    <tr>\n",
       "      <th>0</th>\n",
       "      <td>819</td>\n",
       "    </tr>\n",
       "  </tbody>\n",
       "</table>\n",
       "</div>"
      ],
      "text/plain": [
       "   count\n",
       "0    819"
      ]
     },
     "execution_count": 19,
     "metadata": {},
     "output_type": "execute_result"
    }
   ],
   "source": [
    "query_1 = \\\n",
    "    ''' \n",
    "    SELECT COUNT(*)\n",
    "    FROM books\n",
    "    WHERE publication_date > '2000-01-01'\n",
    "    '''\n",
    "sql_output(query_1)"
   ]
  },
  {
   "cell_type": "markdown",
   "id": "74e76aa7",
   "metadata": {},
   "source": [
    "Всего в базе данных 1000 книг из них **819 книг** было опубликовано с 2000 года.\n",
    "\n",
    "---"
   ]
  },
  {
   "cell_type": "markdown",
   "id": "af7f51cb",
   "metadata": {},
   "source": [
    "### Количество обзоров и средняя оценка для каждой книги"
   ]
  },
  {
   "cell_type": "code",
   "execution_count": 24,
   "id": "a0accd99",
   "metadata": {
    "scrolled": true
   },
   "outputs": [
    {
     "data": {
      "text/html": [
       "<div>\n",
       "<style scoped>\n",
       "    .dataframe tbody tr th:only-of-type {\n",
       "        vertical-align: middle;\n",
       "    }\n",
       "\n",
       "    .dataframe tbody tr th {\n",
       "        vertical-align: top;\n",
       "    }\n",
       "\n",
       "    .dataframe thead th {\n",
       "        text-align: right;\n",
       "    }\n",
       "</style>\n",
       "<table border=\"1\" class=\"dataframe\">\n",
       "  <thead>\n",
       "    <tr style=\"text-align: right;\">\n",
       "      <th></th>\n",
       "      <th>title</th>\n",
       "      <th>book_avg_rating</th>\n",
       "      <th>book_reviews_count</th>\n",
       "    </tr>\n",
       "  </thead>\n",
       "  <tbody>\n",
       "    <tr>\n",
       "      <th>0</th>\n",
       "      <td>The Body in the Library (Miss Marple  #3)</td>\n",
       "      <td>4.50</td>\n",
       "      <td>2.0</td>\n",
       "    </tr>\n",
       "    <tr>\n",
       "      <th>1</th>\n",
       "      <td>Galápagos</td>\n",
       "      <td>4.50</td>\n",
       "      <td>2.0</td>\n",
       "    </tr>\n",
       "    <tr>\n",
       "      <th>2</th>\n",
       "      <td>A Tree Grows in Brooklyn</td>\n",
       "      <td>4.25</td>\n",
       "      <td>5.0</td>\n",
       "    </tr>\n",
       "    <tr>\n",
       "      <th>3</th>\n",
       "      <td>Undaunted Courage: The Pioneering First Missio...</td>\n",
       "      <td>4.00</td>\n",
       "      <td>2.0</td>\n",
       "    </tr>\n",
       "    <tr>\n",
       "      <th>4</th>\n",
       "      <td>The Prophet</td>\n",
       "      <td>4.29</td>\n",
       "      <td>4.0</td>\n",
       "    </tr>\n",
       "    <tr>\n",
       "      <th>...</th>\n",
       "      <td>...</td>\n",
       "      <td>...</td>\n",
       "      <td>...</td>\n",
       "    </tr>\n",
       "    <tr>\n",
       "      <th>995</th>\n",
       "      <td>The Cat in the Hat and Other Dr. Seuss Favorites</td>\n",
       "      <td>5.00</td>\n",
       "      <td>NaN</td>\n",
       "    </tr>\n",
       "    <tr>\n",
       "      <th>996</th>\n",
       "      <td>Anne Rice's The Vampire Lestat: A Graphic Novel</td>\n",
       "      <td>3.67</td>\n",
       "      <td>NaN</td>\n",
       "    </tr>\n",
       "    <tr>\n",
       "      <th>997</th>\n",
       "      <td>Essential Tales and Poems</td>\n",
       "      <td>4.00</td>\n",
       "      <td>NaN</td>\n",
       "    </tr>\n",
       "    <tr>\n",
       "      <th>998</th>\n",
       "      <td>Leonardo's Notebooks</td>\n",
       "      <td>4.00</td>\n",
       "      <td>NaN</td>\n",
       "    </tr>\n",
       "    <tr>\n",
       "      <th>999</th>\n",
       "      <td>The Natural Way to Draw</td>\n",
       "      <td>3.00</td>\n",
       "      <td>NaN</td>\n",
       "    </tr>\n",
       "  </tbody>\n",
       "</table>\n",
       "<p>1000 rows × 3 columns</p>\n",
       "</div>"
      ],
      "text/plain": [
       "                                                 title  book_avg_rating  \\\n",
       "0            The Body in the Library (Miss Marple  #3)             4.50   \n",
       "1                                            Galápagos             4.50   \n",
       "2                             A Tree Grows in Brooklyn             4.25   \n",
       "3    Undaunted Courage: The Pioneering First Missio...             4.00   \n",
       "4                                          The Prophet             4.29   \n",
       "..                                                 ...              ...   \n",
       "995   The Cat in the Hat and Other Dr. Seuss Favorites             5.00   \n",
       "996    Anne Rice's The Vampire Lestat: A Graphic Novel             3.67   \n",
       "997                          Essential Tales and Poems             4.00   \n",
       "998                               Leonardo's Notebooks             4.00   \n",
       "999                            The Natural Way to Draw             3.00   \n",
       "\n",
       "     book_reviews_count  \n",
       "0                   2.0  \n",
       "1                   2.0  \n",
       "2                   5.0  \n",
       "3                   2.0  \n",
       "4                   4.0  \n",
       "..                  ...  \n",
       "995                 NaN  \n",
       "996                 NaN  \n",
       "997                 NaN  \n",
       "998                 NaN  \n",
       "999                 NaN  \n",
       "\n",
       "[1000 rows x 3 columns]"
      ]
     },
     "execution_count": 24,
     "metadata": {},
     "output_type": "execute_result"
    }
   ],
   "source": [
    "query_2 = \\\n",
    "    ''' \n",
    "    WITH avg_rating AS \n",
    "    (SELECT book_id,\n",
    "           ROUND(AVG(rating), 2) as book_avg_rating\n",
    "    FROM ratings\n",
    "    GROUP BY book_id),\n",
    "    \n",
    "    reviews_count AS \n",
    "    (SELECT book_id,\n",
    "           COUNT(reviews) as book_reviews_count\n",
    "    FROM reviews\n",
    "    GROUP BY book_id)\n",
    "    \n",
    "    \n",
    "    \n",
    "    \n",
    "    SELECT title,\n",
    "           book_avg_rating,\n",
    "           book_reviews_count\n",
    "    FROM books \n",
    "    LEFT JOIN avg_rating ON books.book_id = avg_rating.book_id\n",
    "    LEFT JOIN reviews_count ON books.book_id = reviews_count.book_id\n",
    "    '''\n",
    "sql_output(query_2)"
   ]
  },
  {
   "cell_type": "markdown",
   "id": "ea4602c8",
   "metadata": {},
   "source": [
    "У всех книг есть средняя оценка, но у 6 книг из 1000 отсутствуют обзоры.\n",
    "\n",
    "---"
   ]
  },
  {
   "cell_type": "markdown",
   "id": "9afa99d1",
   "metadata": {},
   "source": [
    "### Издательства-лидеры по количеству выпущенных книг толще 50 страниц "
   ]
  },
  {
   "cell_type": "code",
   "execution_count": 21,
   "id": "4c585b80",
   "metadata": {},
   "outputs": [
    {
     "data": {
      "text/html": [
       "<div>\n",
       "<style scoped>\n",
       "    .dataframe tbody tr th:only-of-type {\n",
       "        vertical-align: middle;\n",
       "    }\n",
       "\n",
       "    .dataframe tbody tr th {\n",
       "        vertical-align: top;\n",
       "    }\n",
       "\n",
       "    .dataframe thead th {\n",
       "        text-align: right;\n",
       "    }\n",
       "</style>\n",
       "<table border=\"1\" class=\"dataframe\">\n",
       "  <thead>\n",
       "    <tr style=\"text-align: right;\">\n",
       "      <th></th>\n",
       "      <th>publisher</th>\n",
       "      <th>book_published</th>\n",
       "    </tr>\n",
       "  </thead>\n",
       "  <tbody>\n",
       "    <tr>\n",
       "      <th>0</th>\n",
       "      <td>Penguin Books</td>\n",
       "      <td>42</td>\n",
       "    </tr>\n",
       "    <tr>\n",
       "      <th>1</th>\n",
       "      <td>Vintage</td>\n",
       "      <td>31</td>\n",
       "    </tr>\n",
       "    <tr>\n",
       "      <th>2</th>\n",
       "      <td>Grand Central Publishing</td>\n",
       "      <td>25</td>\n",
       "    </tr>\n",
       "    <tr>\n",
       "      <th>3</th>\n",
       "      <td>Penguin Classics</td>\n",
       "      <td>24</td>\n",
       "    </tr>\n",
       "    <tr>\n",
       "      <th>4</th>\n",
       "      <td>Bantam</td>\n",
       "      <td>19</td>\n",
       "    </tr>\n",
       "  </tbody>\n",
       "</table>\n",
       "</div>"
      ],
      "text/plain": [
       "                  publisher  book_published\n",
       "0             Penguin Books              42\n",
       "1                   Vintage              31\n",
       "2  Grand Central Publishing              25\n",
       "3          Penguin Classics              24\n",
       "4                    Bantam              19"
      ]
     },
     "execution_count": 21,
     "metadata": {},
     "output_type": "execute_result"
    }
   ],
   "source": [
    "query_3 = \\\n",
    "    ''' \n",
    "    SELECT publisher,\n",
    "           COUNT(book_id) book_published\n",
    "    FROM books \n",
    "    JOIN publishers ON publishers.publisher_id = books.publisher_id\n",
    "    WHERE num_pages > 50\n",
    "    GROUP BY publisher\n",
    "    ORDER BY book_published DESC\n",
    "    LIMIT 5\n",
    "    '''\n",
    "sql_output(query_3)"
   ]
  },
  {
   "cell_type": "markdown",
   "id": "b0bf7f8f",
   "metadata": {},
   "source": [
    "Наибольшее количество книг выпустило издательство **Penguin Books** - 42 книги.\t\n",
    "\n",
    "---"
   ]
  },
  {
   "cell_type": "markdown",
   "id": "a3c8e532",
   "metadata": {},
   "source": [
    "### Авторы с самой высокой средней оценкой книг (книги с 50 и более оценками)"
   ]
  },
  {
   "cell_type": "code",
   "execution_count": 22,
   "id": "2ef73f57",
   "metadata": {},
   "outputs": [
    {
     "data": {
      "text/html": [
       "<div>\n",
       "<style scoped>\n",
       "    .dataframe tbody tr th:only-of-type {\n",
       "        vertical-align: middle;\n",
       "    }\n",
       "\n",
       "    .dataframe tbody tr th {\n",
       "        vertical-align: top;\n",
       "    }\n",
       "\n",
       "    .dataframe thead th {\n",
       "        text-align: right;\n",
       "    }\n",
       "</style>\n",
       "<table border=\"1\" class=\"dataframe\">\n",
       "  <thead>\n",
       "    <tr style=\"text-align: right;\">\n",
       "      <th></th>\n",
       "      <th>author</th>\n",
       "      <th>author_avg_rating</th>\n",
       "    </tr>\n",
       "  </thead>\n",
       "  <tbody>\n",
       "    <tr>\n",
       "      <th>0</th>\n",
       "      <td>J.K. Rowling/Mary GrandPré</td>\n",
       "      <td>4.28</td>\n",
       "    </tr>\n",
       "    <tr>\n",
       "      <th>1</th>\n",
       "      <td>Markus Zusak/Cao Xuân Việt Khương</td>\n",
       "      <td>4.26</td>\n",
       "    </tr>\n",
       "    <tr>\n",
       "      <th>2</th>\n",
       "      <td>J.R.R. Tolkien</td>\n",
       "      <td>4.26</td>\n",
       "    </tr>\n",
       "    <tr>\n",
       "      <th>3</th>\n",
       "      <td>Louisa May Alcott</td>\n",
       "      <td>4.19</td>\n",
       "    </tr>\n",
       "    <tr>\n",
       "      <th>4</th>\n",
       "      <td>Rick Riordan</td>\n",
       "      <td>4.08</td>\n",
       "    </tr>\n",
       "    <tr>\n",
       "      <th>5</th>\n",
       "      <td>William Golding</td>\n",
       "      <td>3.90</td>\n",
       "    </tr>\n",
       "    <tr>\n",
       "      <th>6</th>\n",
       "      <td>J.D. Salinger</td>\n",
       "      <td>3.83</td>\n",
       "    </tr>\n",
       "    <tr>\n",
       "      <th>7</th>\n",
       "      <td>William Shakespeare/Paul Werstine/Barbara A. M...</td>\n",
       "      <td>3.79</td>\n",
       "    </tr>\n",
       "    <tr>\n",
       "      <th>8</th>\n",
       "      <td>Paulo Coelho/Alan R. Clarke/Özdemir İnce</td>\n",
       "      <td>3.79</td>\n",
       "    </tr>\n",
       "    <tr>\n",
       "      <th>9</th>\n",
       "      <td>Lois Lowry</td>\n",
       "      <td>3.75</td>\n",
       "    </tr>\n",
       "  </tbody>\n",
       "</table>\n",
       "</div>"
      ],
      "text/plain": [
       "                                              author  author_avg_rating\n",
       "0                         J.K. Rowling/Mary GrandPré               4.28\n",
       "1                  Markus Zusak/Cao Xuân Việt Khương               4.26\n",
       "2                                     J.R.R. Tolkien               4.26\n",
       "3                                  Louisa May Alcott               4.19\n",
       "4                                       Rick Riordan               4.08\n",
       "5                                    William Golding               3.90\n",
       "6                                      J.D. Salinger               3.83\n",
       "7  William Shakespeare/Paul Werstine/Barbara A. M...               3.79\n",
       "8           Paulo Coelho/Alan R. Clarke/Özdemir İnce               3.79\n",
       "9                                         Lois Lowry               3.75"
      ]
     },
     "execution_count": 22,
     "metadata": {},
     "output_type": "execute_result"
    }
   ],
   "source": [
    " query_4 = \\\n",
    "    ''' \n",
    "    WITH r AS \n",
    "    (SELECT book_id,\n",
    "            COUNT(rating) rating_count,\n",
    "            AVG(rating) avg_rating\n",
    "    FROM ratings\n",
    "    GROUP BY book_id),\n",
    "    \n",
    "      \n",
    "    ar AS\n",
    "    (SELECT title,\n",
    "           author,\n",
    "           rating_count,\n",
    "           avg_rating\n",
    "    FROM books as b\n",
    "    JOIN r ON b.book_id = r.book_id\n",
    "    JOIN authors as a ON a.author_id = b.author_id\n",
    "    )\n",
    "    \n",
    "    SELECT author,\n",
    "           ROUND(AVG(avg_rating), 2) author_avg_rating\n",
    "    FROM ar\n",
    "    WHERE rating_count >= 50\n",
    "    GROUP BY author\n",
    "    ORDER BY author_avg_rating DESC\n",
    "    LIMIT 10\n",
    "    '''\n",
    "sql_output(query_4)"
   ]
  },
  {
   "cell_type": "markdown",
   "id": "544ef68c",
   "metadata": {},
   "source": [
    "Самый высокий средний рейтинг у **Дж.К. Роулинг** / Мэри Гранпрэ (иллюстратор книг)\n",
    "\n",
    "---\n"
   ]
  },
  {
   "cell_type": "markdown",
   "id": "b3f03abd",
   "metadata": {},
   "source": [
    "### Активные пользователи: среднее количество обзоров от пользователей, которые поставили больше 48 оценок"
   ]
  },
  {
   "cell_type": "code",
   "execution_count": 23,
   "id": "cc42bd45",
   "metadata": {
    "scrolled": true
   },
   "outputs": [
    {
     "data": {
      "text/html": [
       "<div>\n",
       "<style scoped>\n",
       "    .dataframe tbody tr th:only-of-type {\n",
       "        vertical-align: middle;\n",
       "    }\n",
       "\n",
       "    .dataframe tbody tr th {\n",
       "        vertical-align: top;\n",
       "    }\n",
       "\n",
       "    .dataframe thead th {\n",
       "        text-align: right;\n",
       "    }\n",
       "</style>\n",
       "<table border=\"1\" class=\"dataframe\">\n",
       "  <thead>\n",
       "    <tr style=\"text-align: right;\">\n",
       "      <th></th>\n",
       "      <th>?column?</th>\n",
       "    </tr>\n",
       "  </thead>\n",
       "  <tbody>\n",
       "    <tr>\n",
       "      <th>0</th>\n",
       "      <td>24</td>\n",
       "    </tr>\n",
       "  </tbody>\n",
       "</table>\n",
       "</div>"
      ],
      "text/plain": [
       "   ?column?\n",
       "0        24"
      ]
     },
     "execution_count": 23,
     "metadata": {},
     "output_type": "execute_result"
    }
   ],
   "source": [
    "query_5 = \\\n",
    "    '''\n",
    "    SELECT COUNT(review_id) / COUNT(DISTINCT username)\n",
    "    FROM reviews\n",
    "    WHERE username IN\n",
    "    (SELECT username\n",
    "    FROM ratings\n",
    "    GROUP BY username\n",
    "    HAVING  COUNT(rating) > 48)\n",
    "    '''\n",
    "sql_output(query_5)"
   ]
  },
  {
   "cell_type": "markdown",
   "id": "432ddf94",
   "metadata": {},
   "source": [
    "Из всех пользователей только 13 поставили более 48 оценок книгам. На этих активных пользователей приходится 312 обзоров, т.е. в **среднем 24 обзора на пользователя** или другими словами - **активный пользователь на каждые две поставленные оценки делает один обзор**.\n",
    "\n",
    "---"
   ]
  },
  {
   "cell_type": "markdown",
   "id": "78cc687c",
   "metadata": {},
   "source": [
    "### Итоговый вывод:\n",
    "\n",
    "- Всего в базе данных 1000 книг из них 819 книг было опубликовано с 2000 года.\n",
    "\n",
    "\n",
    "- Наибольшее количество книг выпустило издательство Penguin Books - 42 книги.\n",
    "\n",
    "\n",
    "- Самый высокий средний рейтинг из авторов у Дж.К. Роулинг / Мэри Гранпрэ (иллюстратор книг) - 4.28 (мах - 5).\n",
    "\n",
    "\n",
    "- Из всех пользователей только 13 поставили более 48 оценок книгам. На этих активных пользователей приходится 312 обзоров, т.е. в среднем 24 обзора на пользователя или другими словами - активный пользователь на каждые две поставленные оценки делает один обзор."
   ]
  }
 ],
 "metadata": {
  "ExecuteTimeLog": [
   {
    "duration": 4,
    "start_time": "2023-07-08T03:25:21.827Z"
   },
   {
    "duration": 219,
    "start_time": "2023-07-08T03:25:21.833Z"
   },
   {
    "duration": 48,
    "start_time": "2023-07-08T03:25:22.054Z"
   },
   {
    "duration": 50,
    "start_time": "2023-07-08T03:25:22.104Z"
   },
   {
    "duration": 50,
    "start_time": "2023-07-08T03:25:22.155Z"
   },
   {
    "duration": 50,
    "start_time": "2023-07-08T03:25:22.207Z"
   },
   {
    "duration": 50,
    "start_time": "2023-07-08T03:25:22.259Z"
   },
   {
    "duration": 55,
    "start_time": "2023-07-08T03:25:22.310Z"
   },
   {
    "duration": 51,
    "start_time": "2023-07-08T03:25:22.367Z"
   },
   {
    "duration": 55,
    "start_time": "2023-07-08T03:25:22.420Z"
   },
   {
    "duration": 52,
    "start_time": "2023-07-08T03:25:22.477Z"
   },
   {
    "duration": 9575,
    "start_time": "2023-07-08T03:30:03.799Z"
   },
   {
    "duration": 232,
    "start_time": "2023-07-08T03:30:13.376Z"
   },
   {
    "duration": 50,
    "start_time": "2023-07-08T03:30:13.609Z"
   },
   {
    "duration": 52,
    "start_time": "2023-07-08T03:30:13.661Z"
   },
   {
    "duration": 52,
    "start_time": "2023-07-08T03:30:13.714Z"
   },
   {
    "duration": 56,
    "start_time": "2023-07-08T03:30:13.768Z"
   },
   {
    "duration": 52,
    "start_time": "2023-07-08T03:30:13.826Z"
   },
   {
    "duration": 55,
    "start_time": "2023-07-08T03:30:13.880Z"
   },
   {
    "duration": 50,
    "start_time": "2023-07-08T03:30:13.937Z"
   },
   {
    "duration": 54,
    "start_time": "2023-07-08T03:30:13.990Z"
   },
   {
    "duration": 51,
    "start_time": "2023-07-08T03:30:14.046Z"
   },
   {
    "duration": 80,
    "start_time": "2023-07-08T03:44:22.918Z"
   },
   {
    "duration": 77,
    "start_time": "2023-07-08T08:26:42.341Z"
   },
   {
    "duration": 7,
    "start_time": "2023-07-08T08:27:23.770Z"
   },
   {
    "duration": 312,
    "start_time": "2023-07-08T08:27:23.778Z"
   },
   {
    "duration": 67,
    "start_time": "2023-07-08T08:27:24.094Z"
   },
   {
    "duration": 69,
    "start_time": "2023-07-08T08:27:24.163Z"
   },
   {
    "duration": 79,
    "start_time": "2023-07-08T08:27:24.234Z"
   },
   {
    "duration": 84,
    "start_time": "2023-07-08T08:27:24.315Z"
   },
   {
    "duration": 56,
    "start_time": "2023-07-08T08:27:24.401Z"
   },
   {
    "duration": 73,
    "start_time": "2023-07-08T08:27:24.459Z"
   },
   {
    "duration": 73,
    "start_time": "2023-07-08T08:27:24.535Z"
   },
   {
    "duration": 83,
    "start_time": "2023-07-08T08:27:24.612Z"
   },
   {
    "duration": 83,
    "start_time": "2023-07-08T08:27:24.698Z"
   },
   {
    "duration": 178,
    "start_time": "2023-07-08T08:27:44.874Z"
   }
  ],
  "kernelspec": {
   "display_name": "Python 3 (ipykernel)",
   "language": "python",
   "name": "python3"
  },
  "language_info": {
   "codemirror_mode": {
    "name": "ipython",
    "version": 3
   },
   "file_extension": ".py",
   "mimetype": "text/x-python",
   "name": "python",
   "nbconvert_exporter": "python",
   "pygments_lexer": "ipython3",
   "version": "3.9.5"
  },
  "toc": {
   "base_numbering": 1,
   "nav_menu": {},
   "number_sections": true,
   "sideBar": true,
   "skip_h1_title": false,
   "title_cell": "Table of Contents",
   "title_sidebar": "Contents",
   "toc_cell": false,
   "toc_position": {},
   "toc_section_display": true,
   "toc_window_display": true
  }
 },
 "nbformat": 4,
 "nbformat_minor": 5
}
